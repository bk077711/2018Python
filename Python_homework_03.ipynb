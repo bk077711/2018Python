{
 "cells": [
  {
   "cell_type": "markdown",
   "metadata": {},
   "source": [
    "### 문제1) L=[1, 2, 3, 4, 5]일 때 다음 각 문장을 수행한 후의 결과를 보고 납득할 만한 이유를 설명하시오."
   ]
  },
  {
   "cell_type": "code",
   "execution_count": 1,
   "metadata": {
    "scrolled": true
   },
   "outputs": [
    {
     "name": "stdout",
     "output_type": "stream",
     "text": [
      "[1, 100, 4, 5]\n"
     ]
    }
   ],
   "source": [
    "#1)\n",
    "L=[1, 2, 3, 4, 5]\n",
    "L[1:3] = [100]\n",
    "print(L)"
   ]
  },
  {
   "cell_type": "markdown",
   "metadata": {},
   "source": [
    "***\n",
    "L의 1이상 3미만의 인덱스는 1번 2번 인덱스다, 해당 인덱스를 삭제하고 리스트 [100] 을 대입하면 1,100,4,5 가 된다.\n",
    "***"
   ]
  },
  {
   "cell_type": "code",
   "execution_count": 2,
   "metadata": {
    "scrolled": true
   },
   "outputs": [
    {
     "name": "stdout",
     "output_type": "stream",
     "text": [
      "[1, 100, 4, 5]\n"
     ]
    }
   ],
   "source": [
    "#2)\n",
    "L=[1, 2, 3, 4, 5]\n",
    "L[1:3] = [(100)]\n",
    "print(L)"
   ]
  },
  {
   "cell_type": "markdown",
   "metadata": {},
   "source": [
    "***\n",
    "1이상 3미만은 1,2이기에 1번2번 인덱스를 삭제하고 리스트 [(100)]를 대입한다. 그러면 리스트 L의 원소들은 1, 100, 4, 5가 된다.\n",
    "(100) = 100이기에 int형이 원소로 있는 리스트이다.\n",
    "***"
   ]
  },
  {
   "cell_type": "code",
   "execution_count": 3,
   "metadata": {},
   "outputs": [
    {
     "ename": "TypeError",
     "evalue": "can only assign an iterable",
     "output_type": "error",
     "traceback": [
      "\u001b[1;31m---------------------------------------------------------------------------\u001b[0m",
      "\u001b[1;31mTypeError\u001b[0m                                 Traceback (most recent call last)",
      "\u001b[1;32m<ipython-input-3-2c57ad0f4456>\u001b[0m in \u001b[0;36m<module>\u001b[1;34m()\u001b[0m\n\u001b[0;32m      1\u001b[0m \u001b[1;31m#3)\u001b[0m\u001b[1;33m\u001b[0m\u001b[1;33m\u001b[0m\u001b[0m\n\u001b[0;32m      2\u001b[0m \u001b[0mL\u001b[0m\u001b[1;33m=\u001b[0m\u001b[1;33m[\u001b[0m\u001b[1;36m1\u001b[0m\u001b[1;33m,\u001b[0m \u001b[1;36m2\u001b[0m\u001b[1;33m,\u001b[0m \u001b[1;36m3\u001b[0m\u001b[1;33m,\u001b[0m \u001b[1;36m4\u001b[0m\u001b[1;33m,\u001b[0m \u001b[1;36m5\u001b[0m\u001b[1;33m]\u001b[0m\u001b[1;33m\u001b[0m\u001b[0m\n\u001b[1;32m----> 3\u001b[1;33m \u001b[0mL\u001b[0m\u001b[1;33m[\u001b[0m\u001b[1;36m1\u001b[0m\u001b[1;33m:\u001b[0m\u001b[1;36m3\u001b[0m\u001b[1;33m]\u001b[0m \u001b[1;33m=\u001b[0m \u001b[1;36m100\u001b[0m\u001b[1;33m\u001b[0m\u001b[0m\n\u001b[0m\u001b[0;32m      4\u001b[0m \u001b[0mprint\u001b[0m\u001b[1;33m(\u001b[0m\u001b[0mL\u001b[0m\u001b[1;33m)\u001b[0m\u001b[1;33m\u001b[0m\u001b[0m\n",
      "\u001b[1;31mTypeError\u001b[0m: can only assign an iterable"
     ]
    }
   ],
   "source": [
    "#3)\n",
    "L=[1, 2, 3, 4, 5]\n",
    "L[1:3] = 100\n",
    "print(L)"
   ]
  },
  {
   "cell_type": "markdown",
   "metadata": {},
   "source": [
    "***\n",
    "리스트 범위 [1:3]을 int형 100으로 바꾸는건 불가능하기에 [100]이나 [(100)]을 써서 연속된 범위는 리스트형으로 바꿔야한다.\n",
    "***"
   ]
  },
  {
   "cell_type": "code",
   "execution_count": 4,
   "metadata": {
    "scrolled": true
   },
   "outputs": [
    {
     "ename": "TypeError",
     "evalue": "can only assign an iterable",
     "output_type": "error",
     "traceback": [
      "\u001b[1;31m---------------------------------------------------------------------------\u001b[0m",
      "\u001b[1;31mTypeError\u001b[0m                                 Traceback (most recent call last)",
      "\u001b[1;32m<ipython-input-4-e5304715397e>\u001b[0m in \u001b[0;36m<module>\u001b[1;34m()\u001b[0m\n\u001b[0;32m      1\u001b[0m \u001b[1;31m#4)\u001b[0m\u001b[1;33m\u001b[0m\u001b[1;33m\u001b[0m\u001b[0m\n\u001b[0;32m      2\u001b[0m \u001b[0mL\u001b[0m\u001b[1;33m=\u001b[0m\u001b[1;33m[\u001b[0m\u001b[1;36m1\u001b[0m\u001b[1;33m,\u001b[0m \u001b[1;36m2\u001b[0m\u001b[1;33m,\u001b[0m \u001b[1;36m3\u001b[0m\u001b[1;33m,\u001b[0m \u001b[1;36m4\u001b[0m\u001b[1;33m,\u001b[0m \u001b[1;36m5\u001b[0m\u001b[1;33m]\u001b[0m\u001b[1;33m\u001b[0m\u001b[0m\n\u001b[1;32m----> 3\u001b[1;33m \u001b[0mL\u001b[0m\u001b[1;33m[\u001b[0m\u001b[1;36m1\u001b[0m\u001b[1;33m:\u001b[0m\u001b[1;36m3\u001b[0m\u001b[1;33m]\u001b[0m \u001b[1;33m=\u001b[0m \u001b[1;33m(\u001b[0m\u001b[1;36m100\u001b[0m\u001b[1;33m)\u001b[0m\u001b[1;33m\u001b[0m\u001b[0m\n\u001b[0m\u001b[0;32m      4\u001b[0m \u001b[0mprint\u001b[0m\u001b[1;33m(\u001b[0m\u001b[0mL\u001b[0m\u001b[1;33m)\u001b[0m\u001b[1;33m\u001b[0m\u001b[0m\n",
      "\u001b[1;31mTypeError\u001b[0m: can only assign an iterable"
     ]
    }
   ],
   "source": [
    "#4)\n",
    "L=[1, 2, 3, 4, 5]\n",
    "L[1:3] = (100)\n",
    "print(L)"
   ]
  },
  {
   "cell_type": "markdown",
   "metadata": {},
   "source": [
    "***\n",
    "(100) 은 100과 동일하다. 연속된 리스트 범위는 리스트형으로 바꿔야하기에 int형인 (100)으로는 바꿀 수 없다.\n",
    "***"
   ]
  },
  {
   "cell_type": "code",
   "execution_count": 5,
   "metadata": {},
   "outputs": [
    {
     "name": "stdout",
     "output_type": "stream",
     "text": [
      "[1, 100, 101, 102, 4, 5]\n"
     ]
    }
   ],
   "source": [
    "#5)\n",
    "L=[1, 2, 3, 4, 5]\n",
    "L[1:3] = (100, 101, 102)\n",
    "print(L)"
   ]
  },
  {
   "cell_type": "markdown",
   "metadata": {},
   "source": [
    "***\n",
    "(100, 101, 102)는 튜플형식이기에 연속된 리스트 범위에 대입할 수 있다.\n",
    "\n",
    "그렇기에 L[1:3] 은 1,2번 인덱스이므로 그것들을 (100, 101, 102)으로 바꾸면 [1, 100, 101, 102, 4, 5]가 된다.\n",
    "***"
   ]
  },
  {
   "cell_type": "code",
   "execution_count": 6,
   "metadata": {},
   "outputs": [
    {
     "name": "stdout",
     "output_type": "stream",
     "text": [
      "[1, 100, 101, 102, 4, 5]\n"
     ]
    }
   ],
   "source": [
    "#6)\n",
    "L=[1, 2, 3, 4, 5]\n",
    "L[1:3] = [100, 101, 102]\n",
    "print(L)\n"
   ]
  },
  {
   "cell_type": "markdown",
   "metadata": {},
   "source": [
    "***\n",
    "(100, 101, 102)는 리스트형식이기에 연속된 리스트 범위에 대입할 수 있다.\n",
    "\n",
    "그렇기에 L[1:3] 은 1,2번 인덱스이므로 그것들을 (100, 101, 102)으로 바꾸면 [1, 100, 101, 102, 4, 5]가 된다.\n",
    "***"
   ]
  },
  {
   "cell_type": "code",
   "execution_count": 7,
   "metadata": {},
   "outputs": [
    {
     "name": "stdout",
     "output_type": "stream",
     "text": [
      "[1, (100, 101, 102), 4, 5]\n"
     ]
    }
   ],
   "source": [
    "#7)\n",
    "L=[1, 2, 3, 4, 5]\n",
    "L[1:3] = [(100, 101, 102)]\n",
    "print(L)"
   ]
  },
  {
   "cell_type": "markdown",
   "metadata": {},
   "source": [
    "***\n",
    "리스트는 원소로 튜플 형식을 가질 수 있기에 튜플형인 [(100, 101, 102)]을 해당하는 대입하면\n",
    "\n",
    "튜플형 원소를 가진 리스트 [1, (100, 101, 102), 4, 5]가 된다.\n",
    "***"
   ]
  },
  {
   "cell_type": "code",
   "execution_count": 8,
   "metadata": {},
   "outputs": [
    {
     "name": "stdout",
     "output_type": "stream",
     "text": [
      "[1, [100, 101, 102], 4, 5]\n"
     ]
    }
   ],
   "source": [
    "#8)\n",
    "L=[1, 2, 3, 4, 5]\n",
    "L[1:3] = [[100, 101, 102]]\n",
    "print(L)"
   ]
  },
  {
   "cell_type": "markdown",
   "metadata": {},
   "source": [
    "***\n",
    "리스트는 원소로 리스트 형식을 가질 수 있기에 리스트 [[100, 101, 102]]을 해당하는 대입하면\n",
    "\n",
    "리스트형 원소를 가진 리스트 [1, [100, 101, 102], 4, 5]가 된다.\n",
    "***"
   ]
  },
  {
   "cell_type": "markdown",
   "metadata": {},
   "source": [
    "### 문제2) 문자열 S = 'Hello World and Python'에 대해 다음 요구사항에 대한 Python 코드를 제시하시오.\n",
    "#### 1) 단어의 순서가 역순으로 되어진 문자열 ('Python and World Hello')을 만들고\n",
    "#### 2) 1)의 결과 문자열에 대해 메소드 split과 join을 이용하여 공백을 모두 없엔 문자열 'PythonandWorldHello'을 만드시오."
   ]
  },
  {
   "cell_type": "code",
   "execution_count": 9,
   "metadata": {},
   "outputs": [
    {
     "name": "stdout",
     "output_type": "stream",
     "text": [
      "Python and World Hello\n",
      "PythonandWorldHello\n"
     ]
    }
   ],
   "source": [
    "s = 'Hello World and Python'\n",
    "L = s.split()\n",
    "L = L[::-1]\n",
    "s = \" \".join(L)\n",
    "print(s)\n",
    "print(\"\".join(L))"
   ]
  },
  {
   "cell_type": "markdown",
   "metadata": {},
   "source": [
    "***\n",
    "우선 문자열 s를 s.split를 사용해서 공백 기준으로 나눈뒤 리스트 L에 저장한다.\n",
    "\n",
    "그리고 L = L[::-1]을 해서 역순으로 저장하면 리스트 L은 문자열 s를 역순으로 단어별로 저장한 것이 된다.\n",
    "\n",
    "이것에서 s = \" \".join(L)을 해서 리스트에 띄어쓰기를 해서 문자열로 저장해서 출력하면 1)에서 요구한 답이 나오고\n",
    "\n",
    "print(\"\".join(L))에서 \"\".join(L)은 L의 원소드를 띄어쓰기 없이 문자열로 저장하는 것이므로 2)에서 요구한 답이 나온다.\n",
    "***"
   ]
  },
  {
   "cell_type": "markdown",
   "metadata": {},
   "source": [
    "### 문제3) 다음 코드를 보고 물음에 답하시오.\n",
    "\n",
    "#### a = [1, 2, 3]\n",
    "#### b = a * 3\n",
    "#### c = [a] * 3\n",
    "#### print(b)\n",
    "#### print(c)\n",
    ">#### 1) 위 코드를 수행한 이후 다음 코드를 수행한 후 b와 c의 내용을 확인하시오.\n",
    ">#### a[0]=0\n",
    ">#### 2) b와 c 객체의 차이는 무엇인가?"
   ]
  },
  {
   "cell_type": "code",
   "execution_count": 10,
   "metadata": {},
   "outputs": [
    {
     "name": "stdout",
     "output_type": "stream",
     "text": [
      "[1, 2, 3, 1, 2, 3, 1, 2, 3]\n",
      "[[1, 2, 3], [1, 2, 3], [1, 2, 3]]\n",
      "\n",
      "a[0] = 0 실행 후\n",
      "[1, 2, 3, 1, 2, 3, 1, 2, 3]\n",
      "[[0, 2, 3], [0, 2, 3], [0, 2, 3]]\n"
     ]
    }
   ],
   "source": [
    "a = [1, 2, 3]\n",
    "b = a * 3\n",
    "c = [a] * 3\n",
    "print(b)\n",
    "print(c)\n",
    "\n",
    "a[0]=0\n",
    "print(\"\\na[0] = 0 실행 후\")\n",
    "print(b)\n",
    "print(c)"
   ]
  },
  {
   "cell_type": "markdown",
   "metadata": {},
   "source": [
    "***\n",
    "1) a[0] = 0 코드를 수행했더니 b는 변하지 않았고 c는 저장된 리스트들의 첫번째 인덱스가 0으로 바뀌었다.\n",
    "\n",
    "2)\n",
    ">b의 경우는 a의 값을 int형으로 저장하였다.그렇기에  모든 원소가 int형인 [1,2,3,1,2,3,1,2,3]이 나왔고 후에 a의 값이 바뀌어도 문제가 없다.c의 경우는\n",
    "\n",
    ">c의 경우는 a를 shallow copy로 복사했기에 c는 상위리스트 [a]의 값을 3개 가지고 a = [4, 5, 6]식으로 상위리스트가 바뀔 경우 바뀌지 않지만\n",
    "하위 리스트인 a[0] = 0 식으로 바뀔경우 하위 리스트의 값을 참조하기에 값이 변하게 된다.\n",
    "***"
   ]
  },
  {
   "cell_type": "markdown",
   "metadata": {},
   "source": [
    "### 문제4) 다음 문자열을 ':'을 기준으로 분리하여 리스트로 만들고 각 문자열의 좌우 공백을 제거하시오 (즉, 문자열 S에서 l을 만들어라)\n",
    "s = '  first star   :   second star   :    third star  '\n",
    "\n",
    "l = ['first star', 'second star', 'third star']\n",
    "> 1) for ~ in 문을 이용한 코드를 작성하시오.\n",
    "\n",
    "> 2) 리스트 내포(list comprehension)를 이용한 코드를 작성하시오."
   ]
  },
  {
   "cell_type": "code",
   "execution_count": 11,
   "metadata": {},
   "outputs": [
    {
     "name": "stdout",
     "output_type": "stream",
     "text": [
      "['first star', 'second star', 'third star']\n"
     ]
    }
   ],
   "source": [
    "#1) for ~ in 문을 이용한 코드를 작성하시오.\n",
    "s = ' first star : second star : third star '\n",
    "l = []\n",
    "a = ''\n",
    "\n",
    "for i in s:\n",
    "    if i != ':' :\n",
    "        a += i\n",
    "    if (i == ':'):\n",
    "        l.append(a)\n",
    "        a = ''\n",
    "        \n",
    "if (a != ''):\n",
    "    l.append(a)\n",
    "    \n",
    "for i in range(len(l)) :\n",
    "    l[i] = l[i][1:-1]\n",
    "    \n",
    "print(l)"
   ]
  },
  {
   "cell_type": "markdown",
   "metadata": {},
   "source": [
    "***\n",
    "우선 for i in s를 해서 i가 ':'문자가 아닐 경우에 문자열 a에 저장한다.\n",
    "\n",
    "그러다가 ':'문자를 만나면 리스트 l에 a를 원소로 삽입하고 a를 초기화한다.\n",
    "\n",
    "그리고 문자열이 끝나서 for문 밖으로 나와서 a가 빈 문자열이 아니면 l에 삽입한다.\n",
    "\n",
    "그리고 for i in range(len(l)): 으로 리스트 l의 모든 문자열 원소들의 \n",
    "\n",
    "양끝이 공백이므로 l[i] = l[i][1:-1]으로 슬라이싱을 해서 각 문자열의 공백을 삭제한다.\n",
    "\n",
    "(split함수는 일부러 안썼습니다)\n",
    "***"
   ]
  },
  {
   "cell_type": "code",
   "execution_count": 12,
   "metadata": {},
   "outputs": [
    {
     "name": "stdout",
     "output_type": "stream",
     "text": [
      "['first star', 'second star', 'third star']\n"
     ]
    }
   ],
   "source": [
    "#2) 리스트 내포(list comprehension)를 이용한 코드를 작성하시오.\n",
    "s = ' first star : second star : third star '\n",
    "l = [i[1:-1] for i in s.split(':') ]\n",
    "print(l)"
   ]
  },
  {
   "cell_type": "markdown",
   "metadata": {},
   "source": [
    "***\n",
    "우선 리스트 내포로 만든 식을 보면 l = [i[1:-1] for i in s.split(':') ] 이다\n",
    "\n",
    "여기에서 하나씩 분해 해보면 for i in s.split(':') 는\n",
    "\n",
    "i는 문자열 s를 s.split(':'), 즉 : 기준으로 나눈 문자열들을 하나씩 리스트로 저장한다.\n",
    "\n",
    "그리고 i[1:-1]는 for문 뒤에 식으로 나온 원소 i를 슬라이싱으로 맨앞과 맨뒤의 문자를 삭제하고 리스트에 저장하는 것이다.\n",
    "\n",
    "그렇기에 i = ' first star ',' second star ',' third star '을 원소로 한번씩 가지게 되고\n",
    "\n",
    "그것을 슬라이싱해서 리스트 l에 저장하면 리스트 l은 앞뒤 공백이 제거된 ['first star', 'second star', 'third star']이 된다.\n",
    "***"
   ]
  },
  {
   "cell_type": "markdown",
   "metadata": {},
   "source": [
    "### 문제5) 다음과 같이 0보다 큰 정수 리스트 변수 list를 인자로\n",
    "### 받는 함수 addall(list)와 addallodd(list)를\n",
    "### for ~ in 리터널과 리스트 내포 방식으로 각각 제시하시오.\n",
    "1) addall(list) 함수 (리스트 내의 모든 정수를 더하는 함수로서 해답으로는 for ~ in 리터럴과 리스트 내포 방식으로 각각 제시하시오.)\n",
    "> addall([1])\n",
    ">> 1\n",
    "\n",
    "> addall([1, 2, 3, 4, 5, 6, 7, 8, 9])\n",
    ">>45\n",
    "\n",
    "2) addallodd(list) 함수 (리스트내의 모든 홀수를 더하는 함수로서 해답으로는 for ~ in 리터럴과 리스트 내포 방식으로 각각 제시하시오.)\n",
    "> addallodd([1])\n",
    ">> 1\n",
    "\n",
    "> addallodd([1, 2, 3, 4, 5, 6, 7, 8, 9])\n",
    ">> 25\n",
    "\n",
    "#### [참고 1]: 리스트 내포 방식으로 addall() 및 addallodd()함수를 만들 때엔 리스트 내포에 의해 생성된 리스트 결과에 대해\n",
    "#### 내장 함수를 사용하는 방식을 고려해보시오 (주의: 리스트 내포 방식의 addall() 및 addallodd() 함수의 몸체는 단 1줄로 작성되어야 한다.)\n",
    "#### [참고 2]: sum() 등의 내장함수 사용 가능함"
   ]
  },
  {
   "cell_type": "code",
   "execution_count": 13,
   "metadata": {},
   "outputs": [
    {
     "name": "stdout",
     "output_type": "stream",
     "text": [
      "1\n",
      "45\n"
     ]
    }
   ],
   "source": [
    "#1)-1 for ~in 리터럴\n",
    "def addall(list):\n",
    "    result = 0\n",
    "    for i in list:\n",
    "        if int(i) == i:\n",
    "            result += i\n",
    "    return result\n",
    "print(addall([1]))\n",
    "print(addall([1, 2, 3, 4, 5, 6, 7, 8, 9]))"
   ]
  },
  {
   "cell_type": "markdown",
   "metadata": {},
   "source": [
    "***\n",
    "addall함수는 리스트를 매개변수로 받는다.\n",
    "\n",
    "그리고 정수의 합을 저장할 result 변수를 만든다.\n",
    "\n",
    "그리고 for in list:를 하고 \n",
    "\n",
    "int(i) = i인  경우만 정수이므로 해당하는 경우에만 result에 더한다.\n",
    "\n",
    "그리고 for문이 끝나면 출력한다.\n",
    "***"
   ]
  },
  {
   "cell_type": "code",
   "execution_count": 14,
   "metadata": {},
   "outputs": [
    {
     "name": "stdout",
     "output_type": "stream",
     "text": [
      "1\n",
      "45\n"
     ]
    }
   ],
   "source": [
    "#1)-2 리스트 내포\n",
    "def addall(list):\n",
    "    return sum([ i for i in list if int(i) == i])\n",
    "print(addall([1]))\n",
    "print(addall([1, 2, 3, 4, 5, 6, 7, 8, 9]))"
   ]
  },
  {
   "cell_type": "markdown",
   "metadata": {},
   "source": [
    "***\n",
    "addall 함수를 리스트 내포로 구현할 경우 함수 몸체가 1줄이어야하므로 바로 return을 한다.\n",
    "\n",
    "return 하는 내용은 sum([ i for i in list if int(i) == i]) 으로 리스트의 모든 함수를 더하는 함수이다.\n",
    "\n",
    "리스트 내포 부분을 보면  i for i in list if int(i) == i 에서 리스트의 원소  i가 int(i)와 i가 같은 경우, 즉 정수인 경우에만\n",
    "\n",
    "리스트에 저장한다. 그렇게 만들어진 리스트의 합을 내장함수 sum으로 더한 뒤 반환한다.\n",
    "***"
   ]
  },
  {
   "cell_type": "code",
   "execution_count": 15,
   "metadata": {},
   "outputs": [
    {
     "name": "stdout",
     "output_type": "stream",
     "text": [
      "1\n",
      "25\n"
     ]
    }
   ],
   "source": [
    "#2)-1 for ~in 리터럴\n",
    "def addallodd(list):\n",
    "    result = 0\n",
    "    for i in list:\n",
    "        if int(i) == i and i%2 :\n",
    "            result += i\n",
    "    return result\n",
    "print(addallodd([1]))\n",
    "print(addallodd([1, 2, 3, 4, 5, 6, 7, 8, 9]))"
   ]
  },
  {
   "cell_type": "code",
   "execution_count": 16,
   "metadata": {
    "scrolled": true
   },
   "outputs": [
    {
     "name": "stdout",
     "output_type": "stream",
     "text": [
      "1\n",
      "25\n"
     ]
    }
   ],
   "source": [
    "#2)-2 리스트 내포\n",
    "def addallodd(list):\n",
    "    return sum([ i for i in list if int(i) == i and i%2])\n",
    "print(addallodd([1]))\n",
    "print(addallodd([1, 2, 3, 4, 5, 6, 7, 8, 9]))"
   ]
  },
  {
   "cell_type": "markdown",
   "metadata": {},
   "source": [
    "***\n",
    ">2)-1 과 2)-2의 주석은 같음\n",
    "\n",
    "위의 addall 함수에서 if문의 조건을 if int(i) == i and i%2로 수정했다. 이렇게 수정하게 되면\n",
    "\n",
    "i%2 값은 0과 1만 나오고 짝수일때 0으로 False, 홀수일때 1로 True가 나와서 홀수만 더하게 된다.\n",
    "***"
   ]
  },
  {
   "cell_type": "markdown",
   "metadata": {},
   "source": [
    "### 문제6) 다음 코드를 보고 물음에 답하시오.\n",
    "\n",
    "L1 = [1, 2, 3]\n",
    "\n",
    "L2 = [4, 5, 6]\n",
    "\n",
    "d = {'low':L1, 'high':L2}\n",
    "\n",
    "e = d\n",
    "\n",
    "f = d.copy()\n",
    "\n",
    "print(d)\n",
    "\n",
    "print(e)\n",
    "\n",
    "print(f)\n",
    "\n",
    "print()\n",
    "\n",
    "d['low'] = [10, 20, 30]\n",
    "\n",
    "d['high'][1] = 500\n",
    "\n",
    "print(d)\n",
    "\n",
    "print(e)\n",
    "\n",
    "print(f)\n",
    "\n",
    "> 1) 위 코드의 수행 결과 d와 e는 항상 같은 결과를 출력한다. 그 이유는 무엇인가?\n",
    "\n",
    "> 2) 위 코드의 수행 결과 마지막 f의 내용은 다음과 같다. 이 때 'high' 키의 값 내용 중 500이 출력된 이유와\n",
    "\n",
    ">'low' 키의 값 내용 중 [1, 2, 3]이 출력된 이유를 설명하시오 ([hint]: shallow copy 관점에서 설명하시오.)\n",
    "\n",
    ">{'high': [4, 500, 6], 'low': [1, 2, 3]}"
   ]
  },
  {
   "cell_type": "code",
   "execution_count": 17,
   "metadata": {},
   "outputs": [
    {
     "name": "stdout",
     "output_type": "stream",
     "text": [
      "{'low': [1, 2, 3], 'high': [4, 5, 6]}\n",
      "{'low': [1, 2, 3], 'high': [4, 5, 6]}\n",
      "{'low': [1, 2, 3], 'high': [4, 5, 6]}\n",
      "\n",
      "{'low': [10, 20, 30], 'high': [4, 500, 6]}\n",
      "{'low': [10, 20, 30], 'high': [4, 500, 6]}\n",
      "{'low': [1, 2, 3], 'high': [4, 500, 6]}\n"
     ]
    }
   ],
   "source": [
    "L1 = [1, 2, 3]\n",
    "L2 = [4, 5, 6]\n",
    "\n",
    "d = {'low':L1, 'high':L2}\n",
    "e = d\n",
    "f = d.copy()\n",
    "\n",
    "print(d)\n",
    "print(e)\n",
    "print(f)\n",
    "print()\n",
    "\n",
    "d['low'] = [10, 20, 30]\n",
    "d['high'][1] = 500\n",
    "\n",
    "print(d)\n",
    "print(e)\n",
    "print(f)"
   ]
  },
  {
   "cell_type": "markdown",
   "metadata": {},
   "source": [
    "***\n",
    "1) 위 코드의 수행 결과 d와 e는 항상 같은 결과를 출력한다. 그 이유는 무엇인가?\n",
    "> 코드를 보면 e = d라고 되었는데 이는 레퍼런스 복사로서 d의 별명을 e로 한것이다. 그렇기에 둘 중 하나의 값만 바뀌더라고 id가 같기에 나머지 하나의 값도 바뀐다. 그렇기에 d와 e는 항상 같은 결과를 출력한다.\n",
    "\n",
    "2) 위 코드의 수행 결과 마지막 f의 내용은 다음과 같다. 이 때 'high' 키의 값 내용 중 500이 출력된 이유와 'low' 키의 값 내용 중 [1, 2, 3]이 출력된 이유를 설명하시오 ([hint]: shallow copy 관점에서 설명하시오.)\n",
    "> f의 경우는 d의 값들을 .copy() 함수로 shallow copy한 것으로 상위 리스트의 값만 새로 생성하고 하위 리스트값의 경우는 참조를 한다.\n",
    "그렇기에 'low'의 키값의 상위 리스트가 바뀌었을때는 변화가 없었지만, 'high' 키 값의 하위리스트가 바뀌었을때는 참조를 하기에 값이 바뀐다.\n",
    "***"
   ]
  },
  {
   "cell_type": "markdown",
   "metadata": {},
   "source": [
    "### 문제7) 사전 d = {'one':1, 'two':2, 'three':3, 'four':4, 'five':5}가 주어졌을 때 다음 요구사항에 맞는 코드를 제시하시오\n",
    "### [참고]: d.keys(), d.values()를 통해 리스트를 얻어낸 후 리스트가 지니고 있는 sort(cmp=None, key=None, reverse=False)함수를 활용하시오.\n",
    "1) 키의 알파벳 오름차순 순서대로 튜플 (키, 값)을 차례대로 출력하시오.\n",
    "\n",
    "2) 키의 알파벳 내림차순 순서대로 튜플 (키, 값)을 차례대로 출력하시오.\n",
    "\n",
    "3) 값의 오름차순 순서대로 튜플 (키, 값)을 차례대로 출력하시오.\n",
    "\n",
    "4) 값의 내림차순 순서대로 튜플 (키, 값)을 차례대로 출력하시오."
   ]
  },
  {
   "cell_type": "code",
   "execution_count": 18,
   "metadata": {},
   "outputs": [
    {
     "name": "stdout",
     "output_type": "stream",
     "text": [
      "[('five', 5), ('four', 4), ('one', 1), ('three', 3), ('two', 2)]\n"
     ]
    }
   ],
   "source": [
    "#1) 키의 알파벳 오름차순 순서대로 튜플 (키, 값)을 차례대로 출력하시오.\n",
    "d = {'one':1, 'two':2, 'three':3, 'four':4, 'five':5}\n",
    "items = list(d.items())\n",
    "items.sort(reverse=False)\n",
    "print(items)"
   ]
  },
  {
   "cell_type": "markdown",
   "metadata": {},
   "source": [
    "***\n",
    "sort() 함수는 기본적으로 key와 value 값 중 key값을 이용하기에 (reverse=False) 조건만 주게되면 key을 기준으로 튜플을 오름차순으로 정렬하게 된다.\n",
    "***"
   ]
  },
  {
   "cell_type": "code",
   "execution_count": 19,
   "metadata": {},
   "outputs": [
    {
     "name": "stdout",
     "output_type": "stream",
     "text": [
      "[('two', 2), ('three', 3), ('one', 1), ('four', 4), ('five', 5)]\n"
     ]
    }
   ],
   "source": [
    "#2) 키의 알파벳 내림차순 순서대로 튜플 (키, 값)을 차례대로 출력하시오.\n",
    "d = {'one':1, 'two':2, 'three':3, 'four':4, 'five':5}\n",
    "items = list(d.items())\n",
    "items.sort(reverse=True)\n",
    "print(items)"
   ]
  },
  {
   "cell_type": "markdown",
   "metadata": {},
   "source": [
    "***\n",
    "(#1)과의 차이점은 (reverse=True)라는 것인데 reverse가 True가 되면 튜플을 내림차순으로 정렬하게 된다.\n",
    "***"
   ]
  },
  {
   "cell_type": "code",
   "execution_count": 20,
   "metadata": {},
   "outputs": [
    {
     "name": "stdout",
     "output_type": "stream",
     "text": [
      "('two', 2)\n",
      "[('one', 1), ('two', 2), ('three', 3), ('four', 4), ('five', 5)]\n"
     ]
    }
   ],
   "source": [
    "#3) 값의 오름차순 순서대로 튜플 (키, 값)을 차례대로 출력하시오.\n",
    "items = list(d.items())\n",
    "items.sort(key=lambda x: x[1])\n",
    "print(items[1])\n",
    "print(items)"
   ]
  },
  {
   "cell_type": "markdown",
   "metadata": {},
   "source": [
    "***\n",
    "lambda 함수는 한줄만으로 함수를 만드는 함수인데\n",
    "\n",
    "lambda x: x[1]는 튜플을 구성하는 (key, value) 중에서 1번 인덱스인 valuse를 기준으로 정렬한다.\n",
    "\n",
    "sort(key=lambda x: x[1])를 하면 value 값을 기준으로 정렬하고 reverse값이 없기에 디폴트로 오름차순으로 정렬한다.\n",
    "***"
   ]
  },
  {
   "cell_type": "code",
   "execution_count": 21,
   "metadata": {},
   "outputs": [
    {
     "name": "stdout",
     "output_type": "stream",
     "text": [
      "[('five', 5), ('four', 4), ('three', 3), ('two', 2), ('one', 1)]\n"
     ]
    }
   ],
   "source": [
    "#4) 값의 내림차순 순서대로 튜플 (키, 값)을 차례대로 출력하시오.\n",
    "items = list(d.items())\n",
    "items.sort(key=lambda x: x[1],reverse = True)\n",
    "print(items)"
   ]
  },
  {
   "cell_type": "markdown",
   "metadata": {},
   "source": [
    "***\n",
    "items.sort(key=lambda x: x[1],reverse = True)에서는\n",
    "\n",
    "기존에 #3에 다가 내림차순으로 정렬하는 reverse=True를 추가해서 value를 기준으로 내림차순으로 정렬한다.\n",
    "***"
   ]
  },
  {
   "cell_type": "markdown",
   "metadata": {},
   "source": [
    "### 문제8) ACM-ICPC 문제 1673번] 치킨 쿠폰"
   ]
  },
  {
   "cell_type": "code",
   "execution_count": 22,
   "metadata": {},
   "outputs": [
    {
     "name": "stdout",
     "output_type": "stream",
     "text": [
      "4 3\n",
      "5\n",
      "10 4\n",
      "13\n",
      "\n"
     ]
    },
    {
     "ename": "ValueError",
     "evalue": "not enough values to unpack (expected 2, got 0)",
     "output_type": "error",
     "traceback": [
      "\u001b[1;31m---------------------------------------------------------------------------\u001b[0m",
      "\u001b[1;31mValueError\u001b[0m                                Traceback (most recent call last)",
      "\u001b[1;32m<ipython-input-22-3624439cdbf4>\u001b[0m in \u001b[0;36m<module>\u001b[1;34m()\u001b[0m\n\u001b[0;32m      1\u001b[0m \u001b[1;32mwhile\u001b[0m \u001b[1;32mTrue\u001b[0m \u001b[1;33m:\u001b[0m\u001b[1;33m\u001b[0m\u001b[0m\n\u001b[0;32m      2\u001b[0m     \u001b[1;32mtry\u001b[0m \u001b[1;33m:\u001b[0m\u001b[1;33m\u001b[0m\u001b[0m\n\u001b[1;32m----> 3\u001b[1;33m         \u001b[0mn\u001b[0m\u001b[1;33m,\u001b[0m \u001b[0mk\u001b[0m \u001b[1;33m=\u001b[0m \u001b[0minput\u001b[0m\u001b[1;33m(\u001b[0m\u001b[1;33m)\u001b[0m\u001b[1;33m.\u001b[0m\u001b[0msplit\u001b[0m\u001b[1;33m(\u001b[0m\u001b[1;33m)\u001b[0m\u001b[1;33m\u001b[0m\u001b[0m\n\u001b[0m\u001b[0;32m      4\u001b[0m         \u001b[0mn\u001b[0m \u001b[1;33m=\u001b[0m \u001b[0mint\u001b[0m\u001b[1;33m(\u001b[0m\u001b[0mn\u001b[0m\u001b[1;33m)\u001b[0m\u001b[1;33m\u001b[0m\u001b[0m\n\u001b[0;32m      5\u001b[0m         \u001b[0mk\u001b[0m \u001b[1;33m=\u001b[0m \u001b[0mint\u001b[0m\u001b[1;33m(\u001b[0m\u001b[0mk\u001b[0m\u001b[1;33m)\u001b[0m\u001b[1;33m\u001b[0m\u001b[0m\n",
      "\u001b[1;31mValueError\u001b[0m: not enough values to unpack (expected 2, got 0)"
     ]
    }
   ],
   "source": [
    "while True :\n",
    "    try :\n",
    "        n, k = input().split()\n",
    "        n = int(n)\n",
    "        k = int(k)\n",
    "        chicken = 0\n",
    "        stamp = 0\n",
    "        while n > 0 :\n",
    "            chicken += n\n",
    "            chicken = int(chicken)\n",
    "            stamp += n\n",
    "            n = int(stamp/k)\n",
    "            stamp = stamp%k\n",
    "        print(chicken)\n",
    "    except EOFError:\n",
    "        break"
   ]
  },
  {
   "cell_type": "markdown",
   "metadata": {},
   "source": [
    "***\n",
    "우선 가지고 있는 쿠폰의 수 n과 도장 몇개를 쿠폰 1장으로 바꿀 수 있는지 나타내는 k를 input().split()으로 동시에 두 개의 정수를 입력받는다.\n",
    "\n",
    "그리고 int로 형변환을 해주고 치킨 마리수를 표시할 chicken와 현재 도장 수를 표시할 stamp를 선언하고 0으로 초기화한다.\n",
    "\n",
    "그리고 while문에 들어가는데 치킨 마리수와 도장 수에 n만큼 더하고 n은 stamp/k (현재 도장 수 / 필요 도장 수)가 되고\n",
    "\n",
    "stamp 는 치킨쿠폰으로 바꾸고 남은 값을 가져야하므로 (stmap % k)가 된다. 이렇게 while문이 반복되다보면\n",
    "\n",
    "n의 값이 0이 되는 순간이 있는데 그때까지의 chicken에 더해진 n의 값이 최대로 시킬 수 있는 치킨의 수이다.\n",
    "\n",
    "여기에서 테스트 케이스를 모르지만 n,k가 마지막으로 입력되고 chicken 값이 구해지고 파일이 끝나므로 EOFError(파일 종료 에러)가 뜨면\n",
    "\n",
    "while문을 멈추고 프로그램을 종료한다.\n",
    "\n",
    "![](https://t1.daumcdn.net/cfile/tistory/99EE663A5BD6C5110A)\n",
    "***"
   ]
  },
  {
   "cell_type": "markdown",
   "metadata": {},
   "source": [
    "### 문제9)[Incremental Project] 이전 Assignment 2의 마지막 문제는 웹 URL로 지정된 웹페이지를 문자열로 가져와 모든 HTML 태그를 제외한 순수 텍스트를 얻어내고 그 안에 존재하는 단어를 추출하고 단어들의 총 개수를 출력하는 프로그램을 작성하는 것이었다. 이번에는 그 마지막 숙제를 그대로 확장하여 웹 URL로 지정된 웹페이지 내 순수 텍스트 안에 존재하는 각 단어들에 대해 다음 요구사항 대로 출력하는 프로그램을 작성하시오.\n",
    "\n",
    "요구사항 1. CSS와 Javascript 내용도 모두 제거하시오 (이전 숙제에서 이미 제외하였다면 본 요구사항 무시)\n",
    "\n",
    "즉, 아래와 같은 코드는 <style\\> 및 <script\\>태그 뿐만 아니라 그 안의 내용 전체를 모두 제거\n",
    "\n",
    " <style\\>    \n",
    "  h1 {  \n",
    "  color: blue;  \n",
    "}   \n",
    "</style\\>  \n",
    "<script\\>  \n",
    "int a = 10;  \n",
    "...  \n",
    "</script\\>\n",
    "\n",
    "요구사항 2. 순수 텍스트 안에 존재하는 단어들에 대해 string 모듈을 활용하여 모든 punctuation (구두문자)를 완벽히 제거하시오.\n",
    "예: ['world!', ':', '+hello+', '~python$$$', '=', 'world'] ---> ['world', 'hello', 'python', 'world']\n",
    "모든 punctuation을 확인하는 방법은 아래와 같다.\n",
    "import string\n",
    "print(string.punctuation\n",
    "\n",
    "요구사항 3. 만약 punctuation (구두문자)를 제거한 이후 공백으로 판명되는 단어들은 해당 단어 리스트에서 제거하시오.\n",
    "예: ['컴퓨터공학부!', '---?', '%지향~', '...'] ---> ['컴퓨터공학부', '', '지향', ''] ---> ['컴퓨터공학부', '지향'] \n",
    "\n",
    "요구사항 4. 각 단어들의 출현빈도를 사전형태로 저장하여 출력하시오.\n",
    "예: ['world', 'hello', 'python', 'world', '컴퓨터공학부', '지향'] ---> {'world': 2, 'hello': 1, 'python': 1, '컴퓨터공학부': 1, '지향': 1} \n",
    "\n",
    "요구사항 5. 다음 5개의 사이트에 대한 단어 출현빈도 결과를 출력하시오.  \n",
    "http://cse.koreatech.ac.kr  \n",
    "https://www.koreatech.ac.kr  \n",
    "http://www.naver.com  \n",
    "http://www.daum.net  \n",
    "http://www.nytimes.com  "
   ]
  },
  {
   "cell_type": "code",
   "execution_count": 23,
   "metadata": {},
   "outputs": [],
   "source": [
    "import requests\n",
    "\n",
    "req = requests.get('http://cse.koreatech.ac.kr')\n",
    "source1 = req.text\n",
    "req = requests.get('https://www.koreatech.ac.kr')\n",
    "source2 = req.text\n",
    "req = requests.get('http://www.naver.com')\n",
    "source3 = req.text\n",
    "req = requests.get('http://www.daum.net')\n",
    "source4 = req.text\n",
    "req = requests.get('http://www.nytimes.com')\n",
    "source5 = req.text"
   ]
  },
  {
   "cell_type": "code",
   "execution_count": 24,
   "metadata": {},
   "outputs": [
    {
     "name": "stdout",
     "output_type": "stream",
     "text": [
      "{'한국기술교육대학교': 3, '홈페이지': 3, '주요메뉴': 1, '바로가기': 3, '본문': 1, '하단메뉴': 1, '현재': 1, '스크립트가': 1, '꺼져': 1, '있는': 1, '상태입니다': 1, '스크립트를': 1, '사용하지': 1, '않으시면': 1, '이용에': 1, '불편사항이': 1, '있습니다': 1, '스크립트': 1, '사용을': 1, '권장합니다': 1, 'KOREATECH': 21, '탑': 2, '유틸메뉴': 2, '오류신고': 1, 'HOME': 1, 'LOGIN': 3, 'WEBMAIL': 2, 'SITEMAP': 1, 'ENGLISH': 2, 'CHINESE': 2, '통합검색': 1, '입력폼': 1, 'facebookdaumnaveryoutube': 2, '대학소개': 4, '대한민국': 1, '기술리더': 1, '세계를': 1, '품다': 1, 'KOREATECH소개': 2, '총장실': 2, '대학현황': 2, 'VISION2020': 2, 'KOREATECH20년': 2, '대학조직': 2, '국제교류': 2, '코리아텍발전기금': 2, 'KOREATECH부패방지': 2, '입학안내': 6, '학생이': 5, '행복한': 1, '대학': 11, '학생중심': 1, '교육중심': 2, '대학원': 4, '대학대학원': 6, '기업이': 1, '신뢰하는': 1, '1위': 3, '일학습병행대학': 3, '대학생활': 4, '대한민국의': 1, '미래를': 1, '선도하는': 1, '행복대학': 1, '학사안내': 2, '해외연수': 4, '장학제도': 4, '캠퍼스생활': 2, '병사안내': 2, '커뮤니티': 4, '도전': 1, '열정': 1, '창의': 1, '재학생': 5, '만족도': 1, '취업률': 1, '공지사항': 2, '참여게시판': 2, '자료실': 2, '휴먼아카데미명사특강': 2, '취업역량강화동영상': 2, '교수·학습역량강화특강': 2, '학부모님': 2, '의견란': 2, '고객의': 2, '소리제안': 2, '대학홍보': 4, '대학민국': 1, 'NO1': 1, '교육중심대학': 2, 'NEWS': 3, '홍보영상물': 4, '홍보대사': 2, '언론보도모음집': 2, '대학소식지': 2, '사이버투어': 2, '홍보브로셔': 2, '코리아텍학부모초청의날': 2, '정보공개': 6, '투명한': 1, '학교운영': 1, '공공데이터개방': 2, '행정공시': 2, '지방대특성화': 2, '사업': 2, '사업실명제': 2, '이전': 3, '다음': 4, '팝업닫기': 1, '팝업열기': 1, '코리아텍': 5, '언론보도': 1, '예비대학생': 4, '교직원': 4, '일반인': 4, '자세히보기': 1, '온라인교육지원': 5, '생활관': 7, '교내인증': 4, 'SW': 4, '무선랜신청': 4, '원격지원': 4, '오늘의': 4, '식단': 4, '시설보수신청': 4, '학사종합서비스': 5, '인터넷증명발급': 6, '시설물신청': 2, '동아리안내': 2, 'IPP센터': 5, '학부소개': 4, '언론기사': 4, '국제교육센터': 3, '전화번호찾기': 4, '캠퍼스투어': 4, '찾아오시는길': 4, '캠퍼스사진': 2, '아우누리': 2, '전자출결RFID': 2, '학교차량신청': 2, '교육장비검색': 2, '코리아텍소개': 2, 'VISION': 2, '2020': 2, '대학원소개': 2, '고용노동연수원': 3, '능력개발교육원': 3, '직업능력심사평가원': 3, '온라인평생교육원': 3, 'BUS': 2, '닫기': 3, 'Foreigner': 1, '만족하는': 4, '사실에': 4, '근거하여': 4, '진리를': 4, '탐구하는': 4, '현장중심과': 4, '실험실습을': 4, '강조하는': 4, '1': 4, '2': 5, '4': 3, '3': 2, '재생': 2, '정지': 3, '데스크탑': 1, '태블릿': 1, '비주얼': 2, '모바일': 1, '일반공지': 1, '접수': 2, '중『상담·진로개발센터』': 1, '20182': 1, '집단': 1, '1차는': 1, '마감': 1, '2차는': 1, '중『상담·진로개발센': 1, '【교수학습센터】단기근로장학생': 1, '모집': 1, '1030일화': 1, '끌어올림온라인평생교육원': 1, '평생능력개발과정13차': 1, '그룹인터뷰': 2, '학업적': 1, '어려움에': 1, '대한': 1, '참여자를': 1, '네트워크': 3, '긴급': 3, '패치': 3, '작업으로': 3, '인한': 3, '서비스안내': 3, '제3기': 1, 'KOTRA': 1, 'IPP': 3, '설명회': 2, '안내': 6, '2014학년도': 2, '상반기': 2, '신청': 5, '안내IPP센터': 1, '인문향연': 1, '인디밴드': 1, '콘서트': 1, 'THE': 1, '현장실습': 2, '동계': 2, '인턴': 1, '및': 2, 'HRD': 1, '개최': 1, '우리말': 1, '뽐내기': 1, '준비를': 1, '위한': 1, '글쓰기': 1, '특강': 1, '더보기': 7, '장학공지': 1, '20182학기': 1, '중소기업': 1, '취업연계': 1, '장학사업희망사다리장': 1, '2018년': 2, '제18기': 1, '대학생': 1, '재능봉사': 1, '국가장학생': 1, '캠': 1, '교내장학': 2, '2018학년도': 5, '2학기': 3, '2차': 1, '신문고': 1, '장학': 2, '신': 1, '나∙우리': 1, '입학생': 1, '입학금감축대응지원': 1, '장학금': 1, '4차': 1, '취업공지': 1, '학사공지': 1, '제2차': 1, '교직적성': 1, '인성검사': 1, '결과': 1, '알림': 1, '강의': 1, '중간': 1, '설문조사': 1, '실시': 1, '자격증': 1, '준비': 1, '수험자': 1, '필독': 1, '국가기술자격검정': 1, '제도': 1, '개선': 1, '2019학년도': 1, '학교현장실습': 1, '중등교직이수': 1, '중등교직과정': 1, '이수예정자': 1, '추가': 1, '선발': 1, '“자신의': 1, '북극성을': 1, '찾으세요”': 1, '충청남도청과': 1, '＇제3회': 1, '수소에너지': 1, '국제포럼＇': 1, '개': 1, '독립기념관과': 1, '청렴업무': 1, '강화': 1, 'MOU체결': 1, '메카트로닉스공학부': 2, '학생': 1, '수원정보과학축제': 1, '대상': 1, '‘2018': 1, '산학협력': 3, '페스티벌’': 1, '성료': 1, '팝업존': 1, '123': 1, '플레이': 1, 'UNIVERSITY': 1, 'OF': 1, 'Cyber': 1, 'Tour': 1, '자주찾는': 3, '서비스': 3, '온라인교육': 2, '학사일정': 2, '발전기금': 2, '학과안내': 2, '사이버감사실': 2, 'LINC': 1, '관련사이트': 1, '기계공학부': 1, '전기전자통신공학부': 1, '컴퓨터공학부': 1, '디자인공학전공': 1, '건축공학전공': 1, '에너지신소재화학공학부': 1, '산업경영학부': 1, '교양학부': 1, '일반대학원': 1, '테크노인력개발전문대학원': 1, 'IT융합과학경영대학원': 1, '최고경영자과정': 1, '주요사이트': 2, '공식카페': 1, '네이버': 1, '공식블로그': 1, '웹갤러리': 1, '동문홈페이지': 1, '웹메일': 1, '고용부': 2, '잡영': 1, '워크넷': 1, '잡코리아': 1, '사람인': 1, '인크루트': 1, '교내주요기관': 2, '다산정보관': 1, '대학교육개발단': 1, '산학협력단': 1, 'LINC사업단': 1, '생활협동조합': 1, '공학교육혁신센터': 2, 'PSM사업단': 1, '반도체장비교육센터': 1, '개도국기술이전연구소': 1, 'HRD센터': 1, '상담진로개발센터': 1, 'IPP포털': 2, '사회봉사센터': 1, 'CIGMA': 1, 'CENTER': 1, '다담창의센터': 1, 'IPP·UniTech허브사업단': 1, '창업지원센터': 1, '듀얼공동훈련센터허브사업단': 1, 'ACE사업단': 1, '학생자치단체': 2, '총학생회': 1, '총여학생회': 1, '총동아리연합회': 1, '코리아텍방송국': 1, '코리아텍신문사': 1, '교지편집위원회': 1, '생활관자치회': 1, '전국대학생하이브리드자동차경진대회': 1, '졸준위08': 1, '졸준위07': 1, '대외유관기관': 2, '고용노동부': 1, '산업통상자원부': 1, '기획재정부': 1, '한국산업인력공단': 1, '한국폴리텍대학': 1, '한국교육개발원': 1, '한국노동연구원': 1, '근로복지공단': 1, '한국산업안전보건공단': 1, '한국고용정보원': 1, '한국직업능력개발원': 1, '장애인고용공단': 1, '충청남도청': 1, '천안시청': 1, '국민권익위원회': 1, '교과부': 1, 'NTIS': 1, '원격훈련심사센터': 1, 'Footer': 2, 'link': 2, '개인정보처리방침': 2, '이메일무단수집거부': 2, '윤리헌장': 2, '행정서비스헌장': 2, '알리오': 2, '대학알리미': 1, '대학정보공시': 2, '공학교육인증안내': 1, '도로명주소안내': 2, '31253': 1, '충청남도': 1, '천안시': 1, '동남구': 1, '병천면': 1, '충절로': 1, '1600': 1, '가전리': 1, '한국기술교육대학교nbspnbspnbspTel': 1, '0415601114': 1, 'Copyrightⓒ2014': 1, 'All': 1, 'rights': 1, 'reserved': 1}\n"
     ]
    }
   ],
   "source": [
    "import string\n",
    "\n",
    "def puresource(source): # 순수문자열 반환\n",
    "    word  = \"\"\n",
    "    start = 0\n",
    "    end = 0\n",
    "    for i in source:\n",
    "        if i == '<' and start == 0:\n",
    "            start = 1\n",
    "            end = 0\n",
    "        elif i == '>' and start == 1:\n",
    "            end = 1\n",
    "            start = 0\n",
    "        elif end == 1 and start == 0:\n",
    "            word += i          \n",
    "    return word\n",
    "def extractTag(source): # script나 style 태그 사이에 있는 문자열 추출\n",
    "    word  = \"\"\n",
    "    start = 0\n",
    "    end = 0\n",
    "    \n",
    "    scr = source.find('<script')\n",
    "    sty = source.find('<style')\n",
    "    while (scr > 0) or (sty > 0):\n",
    "        if scr > 0 and (scr > sty or sty < 0):\n",
    "            start = scr\n",
    "            end = source.find('</script>')\n",
    "            word += source[start:end+len('</script>')]\n",
    "            source = source[end+len('</script>'):]\n",
    "        elif sty > 0 and (sty > scr or scr < 0):\n",
    "            start = sty\n",
    "            end = source.find('</style>')\n",
    "            word += source[start:end+len('</style>')]\n",
    "            source = source[end+len('</style>'):]\n",
    "        elif source.find('<noscript>') > 0: \n",
    "            start = source.find('<noscript')\n",
    "            end = source.find('</noscript>')\n",
    "            word += source[start:end+len('</noscript>')]\n",
    "            source = source[end+len('</noscript>')]\n",
    "        scr = source.find('<script')\n",
    "        sty = source.find('<style')\n",
    "    return puresource(word)\n",
    "def removeTag(word, tag): # word에서 <style>과 <script> 사이에 있는 문자열 삭제\n",
    "    L = [ i for i in tag.split() if i != '']\n",
    "    tmp = [ i for i in word.split() if i not in L ]\n",
    "    return tmp\n",
    "def removePunctuation(word): # 구두문자 삭제\n",
    "    tmp = \"\"\n",
    "    for letter in word :\n",
    "        for i in letter:\n",
    "            if i not in string.punctuation:\n",
    "                tmp += i\n",
    "        tmp += \" \"\n",
    "    return tmp.split()\n",
    "def makeDictionaries(word): # 딕셔너리 생성\n",
    "    dic = {}\n",
    "    for i in word:\n",
    "        dic[i] = word.count(i)\n",
    "    return dic\n",
    "word = puresource(source2)\n",
    "tag = extractTag(source2)\n",
    "word = removeTag(word, tag)\n",
    "word = removePunctuation(word)\n",
    "dic = makeDictionaries(word)\n",
    "print(dic)"
   ]
  },
  {
   "cell_type": "markdown",
   "metadata": {},
   "source": [
    "***\n",
    "#### 요구사항 1) CSS와 Javascript 내용도 모두 제거하시오.\n",
    "\n",
    "요구사항1은 저번 과제에서 만든 puresource(source)함수와 새롭게 extractTag(source)와 removeTag(word, tag)함수를 만들어서서 해결했다.\n",
    "\n",
    ">먼저 puresource(source)함수는 입력받은 문자열에서 괄호< > 사이에 있는 글자들을 무시하고 문자열로 저장하는 함수이다.  \n",
    "\n",
    ">두번째 extractTag(source)함수는 입력받은 문자열에서 <script\\>와 <style\\>이 시작하고 끝나는 부분 사이에 있는 문자열을 골라내서 저장한다.\n",
    "   \n",
    "       scr = source.find('<script')\n",
    "        while (scr > 0) or (sty > 0):  \n",
    "        if scr > 0 and scr > sty and sty < 0:  \n",
    "            start = scr  \n",
    "            end = source.find('</script>')  \n",
    "        elif sty > 0 and sty > scr and scr < 0:  \n",
    "            start = sty  \n",
    "            end = i.find('</style>')\n",
    "            \n",
    "> extract함수의 일부를 보면 while (scr > 0) or (sty > 0) <script\\> 태그나 <style\\>태그가 존재할 경우 while문이 반복된다.  \n",
    "scr은 <script\\> 태그의 시작부분의 위치를 저장한다. 그리고 end에 해당하는 짝이 존재하는 인덱스를 찾아서 저장한다,  \n",
    "그리고 문자열 word 태그의 시작부분부터 태그의 끝부분까지의 문자열을 저장하고 source 값을 태그의 끝 바로다음 인덱스부터 시작하게 슬라이싱해서 저장한다.   ( end + len('</태그>')\n",
    "태그가 존재하지 않을때까지 while문을 돌리면 반환값으로 puresource(word)를 반환하는데 이는 스크립트 태그 등의  사이에 존재하는 순수문자열을  출력하기 위해서이다.  \n",
    "\n",
    "> 마지막으로 removeTag(word, tag)함수에서는 리스트 L과 tmp를 선언하고  \n",
    "리스트 L은 extract함수의 반환값 tag을 리스트 내포를 통해서 원소로 갖는다.  \n",
    "L = [ i for i in tag.split() if i != ''] 에서 tag.split(0을 통해서 공백과 개행문자를 기준으로 리스트로 만들고  \n",
    "리스트이 원소 중 빈 원소를 제외한 값들을 L이 원소로 갖게된다.  \n",
    " tmp = [ i for i in word.split() if i not in L ] 에서는 방금 만든 리스트 L과 word를 split()함수를 써서 리스트로 만들어서  \n",
    " tmp의 원소들을 저장한다. word.split()한 리스트의 원소들 중 L과 겹치는 원소를 제외한 원소들을 tmp에 저장한다.  \n",
    " 그리고 tmp를 반환하게 되면 요구사항1대로 CSS와 Javascript 내용을 모두 제거한다."
   ]
  },
  {
   "cell_type": "markdown",
   "metadata": {},
   "source": [
    "#### 요구사항 2. 순수 텍스트 안에 존재하는 단어들에 대해 string 모듈을 활용하여 모든 punctuation (구두문자)를 완벽히 제거하시오.  \n",
    "> removePunctuation(word) 함수는 매개변수로 리스트를 받는다. 리스트 word에서\n",
    "\n",
    "    for letter in word :\n",
    "        for i in letter:\n",
    "            if i not in string.punctuation:\n",
    "                tmp += i\n",
    "        tmp += \" \"\n",
    "> 이중 포문을 사용해서 리스트 word의 원소는 문자열이고, 이 문자열들을 중에서 구두문자를 제외한 값들을 tmp에 저장한다.  \n",
    "그리고 하나의 문자열이 끝나면 띄어쓰기를 tmp에 삽입해서 구분을 해준다. for문이 끝난 뒤에 문자열 tmp를  \n",
    "tmp.split()으로 반환하면 리스트 word에서 구두문자들이 모두 삭제된다. 그러면 요구사항 2가 충족된다.\n",
    "\n",
    "#### 요구사항 3. 만약 punctuation (구두문자)를 제거한 이후 공백으로 판명되는 단어들은 해당 단어 리스트에서 제거하시오.\n",
    "> 요구사항 2에서 tmp.split()함수로 문자열을 리스트로 변경했기에 공백인 단어들은 없다. 그렇기에 요구사항3도 충족되었다."
   ]
  },
  {
   "cell_type": "markdown",
   "metadata": {},
   "source": [
    "#### 요구사항 4. 각 단어들의 출현빈도를 사전형태로 저장하여 출력하시오. 예: ['world', 'hello', 'python', 'world', '컴퓨터공학부', '지향'] ---> {'world': 2, 'hello': 1, 'python': 1, '컴퓨터공학부': 1, '지향': 1}\n",
    "> 요구사항 3까지 마친 리스트 word는 구두문자와 공백이 존재하지 않고, CSS와 Javascript의 내용도 들어 있지 않은 단어들이다.\n",
    "그러한 리스트 word를 매개변수로 makeDictionaries(word)함수를 선언하면 \n",
    "\n",
    "    def makeDictionaries(word): # 딕셔너리 생성\n",
    "    dic = {}\n",
    "    for i in word:\n",
    "        dic[i] = word.count(i)\n",
    "    return dic\n",
    "> 가 된다. 해당 함수를 분석하면 for in 리터럴을 사용해서 리스트 안에 존재하는 문자열들을 하나씩 꺼내서 key값으로 사용하고  \n",
    "value 값으로는 그 단어가 몇번 쓰였는지를 알기 위해서 word.count(i)를 사용했다. 이렇게 사전 자료형의 원소를 추가하는  \n",
    "dic[key] = value 식을 사용해서 각 단어들을 사전형태로 저장했다. 그리고 사전 자료형 dic을 반환해서 출력하게 되면  \n",
    "key값으로 단어, value값으로 출현빈도가 나오게된다. 이러면 요구사항4도 만족된다.\n"
   ]
  },
  {
   "cell_type": "markdown",
   "metadata": {},
   "source": [
    "#### 요구사항 5. 다음 5개의 사이트에 대한 단어 출현빈도 결과를 출력하시오."
   ]
  },
  {
   "cell_type": "code",
   "execution_count": 35,
   "metadata": {},
   "outputs": [],
   "source": [
    "word1 = puresource(source1)\n",
    "tag1 = extractTag(source1)\n",
    "word1 = removeTag(word1, tag1)\n",
    "word1 = removePunctuation(word1)\n",
    "\n",
    "word2 = puresource(source2)\n",
    "tag2 = extractTag(source2)\n",
    "word2 = removeTag(word2, tag2)\n",
    "word2 = removePunctuation(word2)\n",
    "\n",
    "word3 = puresource(source3)\n",
    "tag3 = extractTag(source3)\n",
    "word3 = removeTag(word3, tag3)\n",
    "word3 = removePunctuation(word3)\n",
    "\n",
    "word4 = puresource(source4)\n",
    "tag4 = extractTag(source4)\n",
    "word4 = removeTag(word4, tag4)\n",
    "word4 = removePunctuation(word4)\n",
    "\n",
    "word5 = puresource(source5)\n",
    "tag5 = extractTag(source5)\n",
    "word5 = removeTag(word5, tag5)\n",
    "word5 = removePunctuation(word5)\n",
    "\n",
    "dic1 = makeDictionaries(word1)\n",
    "dic2 = makeDictionaries(word2)\n",
    "dic3 = makeDictionaries(word3)\n",
    "dic4 = makeDictionaries(word4)\n",
    "dic5 = makeDictionaries(word5)\n",
    "\n",
    "totalWord = word1 + word2 + word3 + word4 + word5\n",
    "totalDic = makeDictionaries(totalWord)"
   ]
  },
  {
   "cell_type": "code",
   "execution_count": 30,
   "metadata": {},
   "outputs": [
    {
     "name": "stdout",
     "output_type": "stream",
     "text": [
      "{'컴퓨터공학부': 8, 'Schoolfun': 1, 'Study': 1, 'and': 2, 'Fun': 1, '로그인': 4, '아이디': 1, '비밀번호': 1, '유지': 2, '브라우저를': 1, '닫더라도': 1, '로그인이': 1, '계속': 1, '유지될': 1, '수': 2, '있습니다': 1, '기능을': 1, '사용할': 1, '경우': 1, '다음': 1, '접속부터는': 1, '로그인할': 1, '필요가': 1, '없습니다': 1, '단': 1, '게임방': 1, '학교': 1, '등': 1, '공공장소에서': 1, '이용': 1, '시': 1, '개인정보가': 1, '유출될': 1, '있으니': 1, '꼭': 1, '로그아웃을': 1, '해주세요': 1, '회원가입': 1, 'IDPW': 1, '찾기': 1, 'IT': 5, '교육의': 2, '글로벌': 4, '메카한국기술교육대학교': 1, 'Close': 1, '소개': 1, '구성원소개': 1, '학사안내': 1, '입학': 1, '학부': 1, '대학원': 2, '학부광장': 1, '자료실': 2, '공학교육인증': 1, '학부서비스': 1, 'Registration': 1, 'School': 1, 'of': 1, 'Computer': 1, 'Science': 1, 'Engineering': 1, '융합소프트웨어': 3, '인력양성사업': 3, 'CK': 1, 'Creative': 1, 'KoreaI': 1, '교육역량강화사업': 3, '온라인': 3, '컨텐츠': 2, 'Online': 1, 'Contents': 1, 'for': 3, 'Education': 1, 'Capability': 1, 'Empowerment': 1, '메카': 1, '한국기술교육대학교': 5, '홈페이지에': 1, '오신': 1, '것을환영합니다': 1, '수준의': 1, 'IT전문인력': 1, '양성': 1, 'IT융합분야에': 1, '대한': 1, '국제적인': 1, '경쟁력': 1, '고취': 1, '바로가기': 2, '컨텐츠를': 1, '소개합니다': 1, '공지사항': 1, 'ARVR분야': 1, 'Capston': 1, 'Design': 1, '지원': 2, '계획': 1, '20181130금': 1, '20181029': 17, '1630': 2, '특성화': 3, '2018학년도': 1, '2학기': 1, '운영': 1, '강좌': 1, '안내': 1, '1056': 2, '2018': 5, 'IT융합': 2, '아이디어': 1, '경진대회': 1, '안내2학기': 1, '20181025': 2, '1501': 2, 'AR': 1, 'CoBot': 1, 'Intensive': 1, '캠프': 1, '모집': 1, '20181022': 1, '1530': 2, '졸업작품': 2, '산업체': 1, '평가회': 1, '결과에': 1, '따른': 1, '20181019': 2, '1409': 2, '자유게시판': 1, '★문화의날': 1, '행사': 1, '공지★': 1, '2031': 2, '졸업작품전시회': 1, '기간': 1, '헤어메이크업': 1, '20181007': 1, '1448': 2, '※모의토익비': 1, '공지※': 1, '20180928': 1, '0937': 2, 'ACMICPC': 1, '예선': 1, '신청기간이': 1, '얼마': 1, '안': 1, '남았습니다': 1, '20180913': 1, '1136': 2, '문화행사': 1, '취소': 1, '공지': 1, '20180910': 1, '1917': 2, '취업게시판': 1, '㈜비즈테크파트너스': 1, 'LG': 1, 'CNS자회사': 1, '신입': 1, '개발직': 1, '1629': 2, '국가보안기술연구소': 1, '정규직': 1, '채용': 1, '20181004': 1, '1418': 2, '한글과컴퓨터그룹': 1, '2018년': 1, '하반기': 1, '신입경력': 1, '공채': 1, '1010': 1, '20180927': 1, '1313': 2, '구인천안': 1, '충무병원': 1, '전산실': 1, '20180918': 1, '1525': 2, '정부교육': 1, 'KShield': 1, '주니어': 1, '교육생': 1, '모집정보보호': 1, '95': 1, '20180903': 1, '0753': 2, 'Platum': 1, '표철민': 1, '대표': 1, '“블록체인': 1, '생태계': 1, '조성위해': 1, '불법만': 1, '아니면': 1, '1550': 2, '아산나눔재단': 1, '‘아산': 1, '기업가정신': 1, '교육': 1, '포럼’': 1, '개최': 1, '0943': 2, '10월': 1, '29일': 1, '스타트업': 3, '비즈니스': 1, '동향': 1, '메쉬코리아': 1, '위드': 1, '0936': 2, '블록체인': 1, '기반': 1, '기업용': 1, '솔루션': 1, '개발': 1, '‘블록오': 1, '0837': 2, '더팀스': 1, '커리어피드': 1, '취업의': 1, '고수가': 1, '되는': 1, '방법': 1, '0836': 2, '전자신문': 1, '국정감사화웨이': 1, '5G': 2, '장비': 1, '보안': 1, '검증': 1, '수용': 1, '1841': 2, '이슈분석역차별': 1, '해소': 2, '동향은': 1, '1700': 8, 'SK텔레콤': 1, '중소기업과': 1, '모세혈관': 1, '고도화': 1, '나선다': 1, 'SK브로드밴드': 1, '세계': 1, '3번째': 1, '프로그래매틱': 1, '광고': 1, '도입': 1, '이슈분석글로벌ICT기업': 1, '역차별': 1, '5대': 1, '분야': 1, 'TechCrunch': 1, 'AmazonSmile': 1, 'has': 1, 'raised': 1, '100': 1, 'million': 1, 'charity': 1, '2307': 2, 'Atlassian': 1, 'sells': 1, 'Jitsi': 1, 'an': 1, 'opensource': 1, 'videocon': 1, '2241': 2, 'Here': 1, 'are': 1, 'the': 2, '20': 1, 'games': 1, 'shipping': 1, 'with': 2, 'PlaySt': 1, '2208': 2, 'DJI': 1, 'releases': 1, 'a': 2, 'modified': 1, 'Mavic': 1, '2': 1, 'drone': 1, 'aimed': 1, 'at': 1, '2200': 2, 'Blue': 1, 'Apron': 1, 'gets': 1, 'muchneeded': 1, 'boost': 1, 'Jetc': 1, '2157': 2, 'Back': 1, 'to': 1, 'Top': 1, 'Leading': 1, 'Together': 1, 'Brighter': 1, 'Future': 1, 'Quick': 1, 'Navigation': 1, '홈페이지': 1, 'WEBMAIL': 1, '평생교육원': 1, '교직원': 1, '업무': 1, '포트폴리오': 1, 'Campus': 1, 'Location': 1, 'Contact': 1, 'CSE': 1, '충청남도': 2, '천안시': 2, '동남구': 2, '병천면': 2, '충절로': 2, '1600한국기술교육대학교': 1, '학과사무실': 1, 'TEL': 1, '041': 2, '560': 2, '1460': 1, '1461': 1, 'FAX': 1, '1462': 1, 'Facebook': 1, 'Twitter': 1, 'Google': 1, 'Plus': 1, 'Linkedin': 1, '31253': 1, '1600': 1, '가전리': 1, 'Copyright': 1, '©': 1, '2015': 1, 'All': 1, 'rights': 1, 'reserved': 1}\n"
     ]
    }
   ],
   "source": [
    "print(dic1)"
   ]
  },
  {
   "cell_type": "code",
   "execution_count": 31,
   "metadata": {},
   "outputs": [
    {
     "name": "stdout",
     "output_type": "stream",
     "text": [
      "{'한국기술교육대학교': 3, '홈페이지': 3, '주요메뉴': 1, '바로가기': 3, '본문': 1, '하단메뉴': 1, '현재': 1, '스크립트가': 1, '꺼져': 1, '있는': 1, '상태입니다': 1, '스크립트를': 1, '사용하지': 1, '않으시면': 1, '이용에': 1, '불편사항이': 1, '있습니다': 1, '스크립트': 1, '사용을': 1, '권장합니다': 1, 'KOREATECH': 21, '탑': 2, '유틸메뉴': 2, '오류신고': 1, 'HOME': 1, 'LOGIN': 3, 'WEBMAIL': 2, 'SITEMAP': 1, 'ENGLISH': 2, 'CHINESE': 2, '통합검색': 1, '입력폼': 1, 'facebookdaumnaveryoutube': 2, '대학소개': 4, '대한민국': 1, '기술리더': 1, '세계를': 1, '품다': 1, 'KOREATECH소개': 2, '총장실': 2, '대학현황': 2, 'VISION2020': 2, 'KOREATECH20년': 2, '대학조직': 2, '국제교류': 2, '코리아텍발전기금': 2, 'KOREATECH부패방지': 2, '입학안내': 6, '학생이': 5, '행복한': 1, '대학': 11, '학생중심': 1, '교육중심': 2, '대학원': 4, '대학대학원': 6, '기업이': 1, '신뢰하는': 1, '1위': 3, '일학습병행대학': 3, '대학생활': 4, '대한민국의': 1, '미래를': 1, '선도하는': 1, '행복대학': 1, '학사안내': 2, '해외연수': 4, '장학제도': 4, '캠퍼스생활': 2, '병사안내': 2, '커뮤니티': 4, '도전': 1, '열정': 1, '창의': 1, '재학생': 5, '만족도': 1, '취업률': 1, '공지사항': 2, '참여게시판': 2, '자료실': 2, '휴먼아카데미명사특강': 2, '취업역량강화동영상': 2, '교수·학습역량강화특강': 2, '학부모님': 2, '의견란': 2, '고객의': 2, '소리제안': 2, '대학홍보': 4, '대학민국': 1, 'NO1': 1, '교육중심대학': 2, 'NEWS': 3, '홍보영상물': 4, '홍보대사': 2, '언론보도모음집': 2, '대학소식지': 2, '사이버투어': 2, '홍보브로셔': 2, '코리아텍학부모초청의날': 2, '정보공개': 6, '투명한': 1, '학교운영': 1, '공공데이터개방': 2, '행정공시': 2, '지방대특성화': 2, '사업': 2, '사업실명제': 2, '이전': 3, '다음': 4, '팝업닫기': 1, '팝업열기': 1, '코리아텍': 5, '언론보도': 1, '예비대학생': 4, '교직원': 4, '일반인': 4, '자세히보기': 1, '온라인교육지원': 5, '생활관': 7, '교내인증': 4, 'SW': 4, '무선랜신청': 4, '원격지원': 4, '오늘의': 4, '식단': 4, '시설보수신청': 4, '학사종합서비스': 5, '인터넷증명발급': 6, '시설물신청': 2, '동아리안내': 2, 'IPP센터': 5, '학부소개': 4, '언론기사': 4, '국제교육센터': 3, '전화번호찾기': 4, '캠퍼스투어': 4, '찾아오시는길': 4, '캠퍼스사진': 2, '아우누리': 2, '전자출결RFID': 2, '학교차량신청': 2, '교육장비검색': 2, '코리아텍소개': 2, 'VISION': 2, '2020': 2, '대학원소개': 2, '고용노동연수원': 3, '능력개발교육원': 3, '직업능력심사평가원': 3, '온라인평생교육원': 3, 'BUS': 2, '닫기': 3, 'Foreigner': 1, '만족하는': 4, '사실에': 4, '근거하여': 4, '진리를': 4, '탐구하는': 4, '현장중심과': 4, '실험실습을': 4, '강조하는': 4, '1': 4, '2': 5, '4': 3, '3': 2, '재생': 2, '정지': 3, '데스크탑': 1, '태블릿': 1, '비주얼': 2, '모바일': 1, '일반공지': 1, '접수': 2, '중『상담·진로개발센터』': 1, '20182': 1, '집단': 1, '1차는': 1, '마감': 1, '2차는': 1, '중『상담·진로개발센': 1, '【교수학습센터】단기근로장학생': 1, '모집': 1, '1030일화': 1, '끌어올림온라인평생교육원': 1, '평생능력개발과정13차': 1, '그룹인터뷰': 2, '학업적': 1, '어려움에': 1, '대한': 1, '참여자를': 1, '네트워크': 3, '긴급': 3, '패치': 3, '작업으로': 3, '인한': 3, '서비스안내': 3, '제3기': 1, 'KOTRA': 1, 'IPP': 3, '설명회': 2, '안내': 6, '2014학년도': 2, '상반기': 2, '신청': 5, '안내IPP센터': 1, '인문향연': 1, '인디밴드': 1, '콘서트': 1, 'THE': 1, '현장실습': 2, '동계': 2, '인턴': 1, '및': 2, 'HRD': 1, '개최': 1, '우리말': 1, '뽐내기': 1, '준비를': 1, '위한': 1, '글쓰기': 1, '특강': 1, '더보기': 7, '장학공지': 1, '20182학기': 1, '중소기업': 1, '취업연계': 1, '장학사업희망사다리장': 1, '2018년': 2, '제18기': 1, '대학생': 1, '재능봉사': 1, '국가장학생': 1, '캠': 1, '교내장학': 2, '2018학년도': 5, '2학기': 3, '2차': 1, '신문고': 1, '장학': 2, '신': 1, '나∙우리': 1, '입학생': 1, '입학금감축대응지원': 1, '장학금': 1, '4차': 1, '취업공지': 1, '학사공지': 1, '제2차': 1, '교직적성': 1, '인성검사': 1, '결과': 1, '알림': 1, '강의': 1, '중간': 1, '설문조사': 1, '실시': 1, '자격증': 1, '준비': 1, '수험자': 1, '필독': 1, '국가기술자격검정': 1, '제도': 1, '개선': 1, '2019학년도': 1, '학교현장실습': 1, '중등교직이수': 1, '중등교직과정': 1, '이수예정자': 1, '추가': 1, '선발': 1, '“자신의': 1, '북극성을': 1, '찾으세요”': 1, '충청남도청과': 1, '＇제3회': 1, '수소에너지': 1, '국제포럼＇': 1, '개': 1, '독립기념관과': 1, '청렴업무': 1, '강화': 1, 'MOU체결': 1, '메카트로닉스공학부': 2, '학생': 1, '수원정보과학축제': 1, '대상': 1, '‘2018': 1, '산학협력': 3, '페스티벌’': 1, '성료': 1, '팝업존': 1, '123': 1, '플레이': 1, 'UNIVERSITY': 1, 'OF': 1, 'Cyber': 1, 'Tour': 1, '자주찾는': 3, '서비스': 3, '온라인교육': 2, '학사일정': 2, '발전기금': 2, '학과안내': 2, '사이버감사실': 2, 'LINC': 1, '관련사이트': 1, '기계공학부': 1, '전기전자통신공학부': 1, '컴퓨터공학부': 1, '디자인공학전공': 1, '건축공학전공': 1, '에너지신소재화학공학부': 1, '산업경영학부': 1, '교양학부': 1, '일반대학원': 1, '테크노인력개발전문대학원': 1, 'IT융합과학경영대학원': 1, '최고경영자과정': 1, '주요사이트': 2, '공식카페': 1, '네이버': 1, '공식블로그': 1, '웹갤러리': 1, '동문홈페이지': 1, '웹메일': 1, '고용부': 2, '잡영': 1, '워크넷': 1, '잡코리아': 1, '사람인': 1, '인크루트': 1, '교내주요기관': 2, '다산정보관': 1, '대학교육개발단': 1, '산학협력단': 1, 'LINC사업단': 1, '생활협동조합': 1, '공학교육혁신센터': 2, 'PSM사업단': 1, '반도체장비교육센터': 1, '개도국기술이전연구소': 1, 'HRD센터': 1, '상담진로개발센터': 1, 'IPP포털': 2, '사회봉사센터': 1, 'CIGMA': 1, 'CENTER': 1, '다담창의센터': 1, 'IPP·UniTech허브사업단': 1, '창업지원센터': 1, '듀얼공동훈련센터허브사업단': 1, 'ACE사업단': 1, '학생자치단체': 2, '총학생회': 1, '총여학생회': 1, '총동아리연합회': 1, '코리아텍방송국': 1, '코리아텍신문사': 1, '교지편집위원회': 1, '생활관자치회': 1, '전국대학생하이브리드자동차경진대회': 1, '졸준위08': 1, '졸준위07': 1, '대외유관기관': 2, '고용노동부': 1, '산업통상자원부': 1, '기획재정부': 1, '한국산업인력공단': 1, '한국폴리텍대학': 1, '한국교육개발원': 1, '한국노동연구원': 1, '근로복지공단': 1, '한국산업안전보건공단': 1, '한국고용정보원': 1, '한국직업능력개발원': 1, '장애인고용공단': 1, '충청남도청': 1, '천안시청': 1, '국민권익위원회': 1, '교과부': 1, 'NTIS': 1, '원격훈련심사센터': 1, 'Footer': 2, 'link': 2, '개인정보처리방침': 2, '이메일무단수집거부': 2, '윤리헌장': 2, '행정서비스헌장': 2, '알리오': 2, '대학알리미': 1, '대학정보공시': 2, '공학교육인증안내': 1, '도로명주소안내': 2, '31253': 1, '충청남도': 1, '천안시': 1, '동남구': 1, '병천면': 1, '충절로': 1, '1600': 1, '가전리': 1, '한국기술교육대학교nbspnbspnbspTel': 1, '0415601114': 1, 'Copyrightⓒ2014': 1, 'All': 1, 'rights': 1, 'reserved': 1}\n"
     ]
    }
   ],
   "source": [
    "print(dic2)"
   ]
  },
  {
   "cell_type": "code",
   "execution_count": 32,
   "metadata": {},
   "outputs": [
    {
     "name": "stdout",
     "output_type": "stream",
     "text": [
      "{'nsc': 1, 'navertopv3': 1, 'documentdomain': 1, 'navercom': 1, 'jindoAll': 1, 'windowconsole': 1, 'windowconsolewindowconsolelogfunction': 1, 'isLogin': 1, 'false': 1, 'refreshLcsetc': 1, 'etc': 4, 'ifdocumentcookieindexOfnrefreshx1': 1, '1': 3, 'etcmrf1': 1, 'else': 1, 'etcpansclreturn': 1, 'lcsdorefreshLcs': 1, 'NAVER': 3, '뉴스스탠드': 2, '바로가기': 6, '주제별캐스트': 1, '타임스퀘어': 2, '쇼핑캐스트': 2, '로그인': 2, '네이버': 10, '네이버를': 1, '시작페이지로': 1, '쥬니어네이버': 1, '해피빈': 2, '검색': 2, '통합검색블로그카페': 1, '카페명': 1, '카페글지식iN뉴스사이트': 1, '카테고리': 1, '사이트영화웹문서사전': 1, '백과사전': 1, '영어사전': 1, '영영사전': 1, '국어사전': 1, '일본어사전': 1, '한자사전': 1, '용어사전책음악전문자료쇼핑지역동영상이미지내PC영화자동차게임건강인물긍정부정검색': 1, '자동완성': 11, '펼치기': 1, '한글': 1, '입력기': 1, '생각한대로': 1, '검색해': 1, '보세요': 2, 'Beta': 1, 'txttxt': 1, '시간대와': 1, '관심사에': 1, '맞춘': 1, '컨텍스트': 3, '도움말': 2, '보기': 21, 'ON선택됨': 1, 'OFF': 1, '동일한': 1, '시간대연령남녀별': 1, '사용자': 1, '그룹의관심사에': 1, '맞춰': 1, '자동완성을': 1, '제공합니다': 1, '자세히': 2, 'ONOFF설정은해당': 1, '기기브라우저에': 1, '저장됩니다': 1, '레이어': 1, '닫기': 3, '도움말신고검색어저장': 4, '켜기자동완성': 4, '끄기': 5, '기능을': 5, '다시': 4, '켤': 4, '때는': 4, '펼치기을': 4, '클릭하세요': 4, '현재': 1, '사용하고': 1, '계십니다': 1, '기능이': 4, '활성화되었습니다': 1, '꺼져': 3, '있습니다': 4, '켜기': 1, '최근검색어내': 1, '검색어': 10, '내': 8, '등록txtdate삭제intxt': 1, '최근검색어': 1, '내역이': 1, '없습니다': 1, '저장': 2, '해제txt': 1, '설정된': 1, '검색어가': 1, '없습니다최근검색어에서': 1, '등록를': 1, '선택하여': 1, '자주': 1, '찾는': 1, '검색어를내': 1, '검색어로': 1, '저장해': 1, '알림공용': 1, 'PC에서는': 1, '개인정보': 1, '보호를': 1, '위하여': 1, '반드시': 1, '로그아웃을': 1, '해': 1, '주세요': 1, '기록': 3, '삭제검색어저장': 2, '끄기자동완성': 2, '전체': 5, '삭제완료': 1, '검색어는': 1, '최대': 1, '10개': 1, '까지': 1, '저장할': 1, '수': 3, '있습니다추가하시려면': 1, '기존': 1, '검색어를': 1, '지워주세요': 1, '613': 1, '지방선거·국회의원선거': 1, '투표종료시까지': 1, '후보자명에': 1, '대한': 1, '자동완성검색어': 1, '노출이': 1, '중단됩니다': 1, '자세히보기': 1, '메일': 1, '카페': 1, '블로그': 1, '지식인': 1, '쇼핑': 1, '네이버페이': 1, '네이버TV': 1, '사전': 1, '뉴스': 2, '증권금융': 1, '부동산': 1, '지도': 1, '영화': 2, '뮤직': 2, '책': 2, '만화': 1, '웹툰': 2, '더보기': 1, '급상승': 3, '강한나': 2, '2': 2, '몬스터': 2, '콜': 2, '3': 3, '일단': 2, '뜨겁게': 2, '청소하라': 2, '4': 2, '하춘화나이': 2, '5': 3, '메리골드': 2, '6': 2, '여우각시별': 2, '이제훈': 2, '정체': 2, '7': 2, '백일의': 2, '낭군님': 2, '몇부작': 4, '8': 2, '라비앙로즈': 2, '9': 2, '이선호': 2, '10': 3, '문우진': 2, '11': 2, '한소희': 2, '12': 2, '이래나': 2, '13': 2, '콩': 2, '스컬': 2, '아일랜드': 2, '14': 2, '뷰티인사이드': 2, '15': 2, '이다희': 2, '아나운서': 2, '16': 2, '배드파더스': 2, '17': 2, '아인': 2, '18': 2, '김유정': 2, '19': 2, '채수빈': 2, '20': 2, '가요무대': 2, 'DataLab급상승': 1, '트래킹': 1, '110위': 2, '1120위': 1, '데이터랩': 20, '그래프': 20, '20181029': 1, '232400': 1, '기준': 1, '연합뉴스': 1, '강경화': 1, '폼페이오와': 1, '통화…비핵화·남북관계': 1, '선순환': 1, '필요성': 1, '강조': 1, '북미고위급회담': 1, '11·6중간선거': 1, '직후': 1, '美서': 1, '열릴듯…대화': 1, '본격재개': 1, '드루킹': 1, '측근': 1, '김경수에': 1, '댓글조작': 1, '시연…김경수': 1, '신빙성': 1, '부족': 1, '김동연': 1, '증시패닉': 1, '아냐…변동성': 1, '확대시': 1, '컨틴전시': 1, '플랜': 1, '조명균': 1, '철도연결': 1, '지연에': 1, '美와': 1, '약간': 1, '생각': 1, '다른': 1, '부분': 1, '있어': 1, '이재명': 1, '10시간': 1, '조사받고': 1, '귀가…강제입원은': 1, '형수가': 1, '한': 1, '일': 1, '박용진': 1, '유치원': 1, '감사·지도점검': 1, '적발': 1, '내역': 1, '추가공개': 1, '화요일': 1, '아침': 1, '곳곳': 1, '영하권…올가을': 1, '들어': 1, '가장': 2, '추워': 1, '숙명여고': 1, '쌍둥이': 1, '휴대전화서': 1, '정답': 1, '메모…혐의는': 1, '부인': 1, '사이판': 1, '고립': 1, '한국인': 1, '대부분': 1, '귀국…남은': 1, '국민': 1, '있는지': 1, '중': 1, '네이버뉴스': 1, '연예': 1, '스포츠': 2, '경제': 1, '언론사': 4, 'MY': 1, '이미지형': 1, '리스트형': 1, '설정': 3, '이전': 2, '페이지': 2, '다음': 2, '목록': 3, '구독': 19, '해지': 18, '기사보기': 18, '종합경제': 1, '방송통신': 1, 'IT': 1, '영자지': 1, '스포츠연예': 1, '매거진전문지': 1, '지역': 1, '언론사가': 1, '없습니다언론사': 1, '설정에서': 1, 'MY언론사를': 1, '추가하면설정한': 1, '언론사의': 1, '기사들을': 1, '홈에서': 1, '보실': 1, '추가': 1, 'Sign': 3, 'in': 3, 'Connect': 1, 'with': 1, 'people': 1, 'up': 1, 'Forgot': 1, 'Username': 1, 'or': 1, 'Password': 1, '1029월': 1, '영어회화': 1, '앞의': 1, '목록으로': 2, '뒤의': 1, '법원에': 1, '출두해야': 1, '하나요': 1, 'Do': 1, 'I': 1, 'have': 1, 'to': 1, 'appear': 1, 'court': 1, '두': 2, '아이': 1, '햅': 1, '투': 1, '어피어': 1, '인': 1, '코트': 1, '주제형': 1, '캐스트': 1, '관심': 4, '주제': 8, '선택': 1, '리빙': 1, '푸드': 1, '자동차': 1, '패션뷰티': 1, '부모i': 1, '건강': 1, '게임': 1, 'TV연예': 1, '책문화': 1, '함께N': 1, '여행': 1, '디자인': 1, '경제M': 1, 'JOB': 1, '과학': 2, '중국': 1, '비즈니스': 3, 'FARM': 1, '스쿨잼': 2, '공연전시': 1, '법률': 1, '동물공감': 1, '연애·결혼': 1, '테크': 1, '감성충전': 1, '열기': 1, '관심주제': 1, '모바일': 3, '가져오기': 2, '로그인후': 2, '사용': 2, '가능합니다': 2, '초기화': 1, '전체선택': 1, '이벤트': 1, '쨈터뷰': 2, '고민상담': 1, '스쿨툰': 1, '쨈톡': 1, '곰손의': 1, '도전': 1, '주스쿨잼': 1, '2018': 1, '함께': 1, '일하는': 1, '사람들': 1, '보니하니': 1, '편': 1, 'PD가': 1, '되고': 1, '싶은': 1, '학생들에게': 1, '전하는': 1, '메시지': 1, '못': 1, '쓰는': 1, '소방관': 1, '방화복을': 1, '대학생들이': 1, '주워간': 1, '이유': 1, '실밥': 1, '뜯는': 1, '밤': 1, '해리포터': 1, '속': 1, '퀴디치': 1, '나도': 1, '도전할': 1, '있다': 1, '마법세계에': 1, '온': 1, '기분': 1, '세상': 1, '귀찮은': 1, '청소': 1, '도대체': 1, '왜': 1, '해야': 1, '할까': 1, '쓱싹쓱싹': 1, '고양이강아지♥': 1, '귀여운': 1, '심쿵': 1, '움짤': 1, '모음': 1, '앙숙': 1, '아니고': 1, '절친': 1, 'NEW': 1, '문방국민학교': 1, '일기예보': 1, '11화': 1, '얼굴의': 1, '상벌점제': 1, '경기도교육청': 1, '지붕': 1, '없는': 1, '박물관': 1, '경주로': 1, '떠나는': 1, '역사': 1, '탐방': 1, '스쿨잼프렌즈': 3, '권예현': 1, '추천합니다': 1, '재미있게': 1, '읽은': 1, 'BEST': 1, '임가현': 1, '손으로': 1, '뚝딱': 1, '수제': 1, '인스': 1, '만들기': 1, '대작전': 1, '황혜린': 1, '연재': 1, '이름은': 1, '페미니즘이야': 1, '이런': 1, '것도': 1, '차별인가요': 1, '동녘': 1, '나는': 1, '1인': 1, '크리에이터입니다': 1, 'Hello': 1, '소프트웨어': 1, '지구는': 1, '둥그니까': 1, '자꾸': 1, '걸어': 1, '나가면': 1, '지구': 1, '정말': 1, '둥글까': 1, '탐구생활': 1, 'ë\\x8f\\x99ì\\x98\\x81ì\\x83\\x81': 2, '세상에서': 1, '등교하기': 1, '힘든': 1, '학교': 1, 'TOP': 1, '타임스낵': 1, '매일': 1, '거울': 1, '보는': 1, '강아지': 1, '자기': 1, '얼굴': 1, '구경하는': 1, '걸까요': 1, '보듬TV': 1, 'httpscastboxshoppingnavercomshopboxmainnhn': 1, '펀딩': 1, '추억을': 1, '되살리는': 1, '직소백': 1, '양복': 1, '조각을': 1, '모아': 1, '만든특별한': 1, '업사이클링': 1, '가방': 1, 'edwith': 1, '부산대': 1, '기초': 1, 'C언어': 1, '강좌': 1, '논리적인': 1, '프로그래밍': 1, '언어C언어를': 1, '활용해보세요': 1, '공지사항': 1, '새로운': 2, '모바일에': 1, '따른': 1, '변화에': 1, '대해': 1, '안내': 3, '드립니다': 1, '서비스': 1, '전체보기': 1, '프로젝트': 2, '꽃': 2, '새로운네이버모바일': 1, '다운로드': 1, 'Creators': 1, '크리에이터': 1, '스몰비즈니스': 1, 'Partners': 1, '파트너': 1, '·': 1, '광고': 1, '스토어': 1, '개설': 1, '지역업체': 1, '등록': 1, 'Developers': 1, '개발자센터': 1, '오픈': 1, 'API': 1, '오픈소스': 1, 'D2': 1, '랩스': 1, '정책': 2, '및': 1, '약관': 1, '회사소개': 1, '인재채용': 1, '제휴제안': 1, '이용약관': 1, '개인정보처리방침': 1, '청소년보호정책': 1, '고객센터': 1, 'ⓒ': 1, 'Corp': 1}\n"
     ]
    }
   ],
   "source": [
    "print(dic3)"
   ]
  },
  {
   "cell_type": "code",
   "execution_count": 33,
   "metadata": {},
   "outputs": [
    {
     "name": "stdout",
     "output_type": "stream",
     "text": [
      "{'Daum': 1, 'charset': 1, 'utf8': 1, 'bodydivdldtddulollih1h2h3h4h5h6precodeformfieldsetlegendtextareapblockquotethtdinputselectbuttonmargin0padding0': 1, 'fieldsetimgborder0': 1, 'none': 5, 'dlulolmenuliliststylenone': 1, 'blockquote': 1, 'qquotes': 1, 'blockquotebefore': 1, 'blockquoteafterqbefore': 1, 'qaftercontentcontentnone': 1, 'inputselecttextareabuttonborderradius0verticalalignmiddle': 1, 'inputmscleardisplaynone': 1, 'buttonborder0': 1, 'nonebackgroundcolortransparentcursorpointer': 1, 'bodybackgroundfffdirectionltrwebkittextsizeadjustnone': 1, 'bodythtdinputselecttextareabuttonfontsize13pxlineheight15fontfamilyAppleSDGothicNeoRegularMalgun': 1, 'Gothic맑은': 1, '고딕dotum돋움sansserifcolor222letterspacing1px': 1, 'osmac': 168, 'bodyosmac': 1, 'thosmac': 1, 'tdosmac': 1, 'inputosmac': 1, 'selectosmac': 1, 'textareaosmac': 1, 'buttonletterspacing0': 1, 'acolor222textdecorationnone': 1, 'ahovercolor118efftextdecorationunderline': 1, 'aactivebackgroundcolortransparent': 1, 'addresscaptioncitecodedfnemvarfontstylenormalfontweightnormal': 1, 'irpmdisplayblockoverflowhiddenfontsize1pxlineheight0textindent9999px': 1, 'irwadisplayblockoverflowhiddenpositionrelativewidth100height100zindex1': 1, 'screenoutoverflowhiddenpositionabsolutewidth0height0lineheight0textindent9999px': 1, 'showdisplayblock': 1, 'hidedisplaynone': 1, 'dindexpositionrelativewidth100': 1, 'dindex': 7, 'shortcutgpositionabsolutetop34pxleft0height33pxpadding0': 1, '20px': 13, '0': 234, '26pxborderbottom1px': 1, 'solid': 54, '3f4243fontsize11pxlineheight14pxbackgroundcolor26292acolorfffletterspacing1pxtextaligncenter': 1, 'shortcutgactive': 2, 'shortcutgfocusoverflowhiddentop0textdecorationnonezindex101': 1, 'shortcutghovercolorfff': 1, 'shortcutg': 2, 'innershortcutdisplayinlineblockpaddingright10pxmargintop8pxbackgroundposition100': 1, '220pxverticalaligntop': 1, 'innershortcutmargintop11pxbackgroundposition100': 1, '223px': 1, 'icopctopoverflowhiddenbackgroundurlt1daumcdnnetdaumtopdecoimagestop2017icopctop180423png': 1, 'norepeat': 24, 'icovertoverflowhiddenbackgroundurlt1daumcdnnetdaumtopdecoimagestop2017icopctopvert170724png': 1, 'txtpctopoverflowhiddenbackgroundurlt1daumcdnnetdaumtopdecoimagestop2017txtpctop170915png': 1, '0letterspacing1pxwhitespacenowrap': 1, 'bgpctopbackgroundurlt1daumcdnnetdaumtopdecoimagestop2017bgpctop170328png': 1, 'numpctopoverflowhiddenbackgroundurlt1daumcdnnetdaumtopdecoimagestop2017numpctop170405png': 1, 'imgthumbdisplayblockverticalaligntop': 1, 'framegpositionabsolutetop0left0border1px': 1, '000opacity008filteralphaopacity8': 1, 'thumbgdisplayblockpositionrelative': 1, 'daumWrappositionrelativeminwidth1080px': 1, 'daumWraptransformtranslate3d0px': 1, '0px': 5, 'headdaumpositionrelativezindex100': 1, 'contmainpositionrelativewidth990pxmargin15px': 1, 'auto': 7, 'conttopicoverflowhiddenpositionrelativezindex0width100bordertop1px': 1, 'ecececbackgroundcolorfbfbfcbackgroundposition50': 1, '100backgroundrepeatnorepeat': 1, 'featuretmpdisplayinlineblockverticalaligntop': 1, 'wrapmainpaddingbottom40pxclearbothzoom1': 1, 'wrapmainafterdisplayblockvisibilityhiddenheight0fontsize0clearbothcontent': 1, 'cmaintmpfloatleftwidth655pxmarginright35px': 1, 'wingtmpfloatleftwidth300px': 1, 'footdaumbordertop1px': 1, '888': 5, 'footdaum': 26, 'innerfootoverflowhiddenpositionrelativewidth990pxmargin0': 1, 'autopadding37px': 1, '78px': 1, 'linklogofloatleft': 1, 'infonoticeoverflowhiddenpadding0': 1, '250px': 3, '30px': 28, 'titnoticefloatleftfontsize13px': 1, 'linknoticedisplayblockpaddingright9pxbackgroundposition100': 1, '169px': 1, 'linknoticehovercolor222': 1, 'listnoticeoverflowhiddenwidth542pxheight19pxpaddingleft9px': 1, 'listnotice': 10, 'linkinfodisplayblockoverflowhiddentextoverflowellipsiswhitespacenowrap': 1, 'linkinfohovercolor222': 1, 'searchfootpositionabsolutetop32pxright0': 1, 'boxsearchpositionrelativezindex1width209pxheight28pxborder1px': 1, 'c8c8c8': 1, 'searchonbordercolor0089ff': 1, 'tfkeywordfloatleftwidth164pxmargin5px': 1, '9pxborder1px': 1, 'transparentlineheight19pxoutline0': 1, 'btnsearchfloatrightwidth32pxheight28pxlineheight28pxbackgroundposition0': 1, '230pxbackgroundcolortransparent': 1, 'linksvcallpositionabsolutetop81pxright0paddingright10pxfontweightboldcolor888backgroundposition100': 1, '194px': 1, 'infopolicypadding23px': 1, 'infopolicy': 2, 'linkpolicyfontsize12pxcolor888': 1, 'txtdotpadding0': 1, '2pxfontsize12pxcolor888': 1, 'txtcopyrightdisplayblockpaddingtop6pxfontsize11pxcolor888': 1, 'txtcopyright': 1, 'linkkakaocolor888': 1, 'infonoticepadding3px': 1, '31px': 1, 'linknoticepaddingright12pxbackgroundpositiony172px': 1, 'tfkeywordmargintop4px': 1, 'linksvcalltop83pxbackgroundpositiony196px': 1, 'infopolicypaddingtop24px': 1, 'txtcopyrightpaddingtop5px': 1, 'dheadborderbottom1px': 1, 'ececec': 9, 'dhead': 1, 'innerheadpositionrelativezindex1width1080pxheight150pxmargin0': 1, 'titdaumoverflowhiddenfloatleftwidth180pxheight150pxtextaligncenter': 1, 'linkdaumoverflowhiddendisplayblockmargin28px': 1, 'linklaunchpositionabsolutetop6pxleft45pxpaddingright8pxfontsize11pxcolor888backgroundposition100': 1, '18px': 3, 'linklaunchtop9pxbackgroundposition100': 1, '21px': 1, 'wrapsearchfloatleftpositionrelativemargintop50px': 1, 'wrapsearch': 1, 'dschbackgroundcolorfff': 1, 'headdaum': 17, 'boxsearchpositionrelativeheight44pxmargin1px': 1, '1px': 5, '0border1px': 2, '0089ffborderradius1px': 1, 'boxsearch': 2, 'innersearchpositionrelativezindex10height44pxpadding0': 1, '80px': 10, '14px': 5, 'boxsearchbefore': 1, 'innersearchbefore': 1, 'boxsearchafterpositionabsoluteleft0right100height1pxcontentbackgroundcolor0089ff': 1, 'boxsearchbeforetop1px': 1, 'boxsearchafterbottom1px': 1, 'boxsearchhoverbefore': 1, 'boxsearchhoverafterright0transitionpropertyrighttransitionduration08sbackgroundlineargradientto': 1, 'right': 1, '86aaff': 1, '70bc4c': 1, 'ffbe00': 1, 'f46e85': 1, 'boxsearchhover': 1, 'innersearchbeforetop1pxbottom1pxleftautoright1pxwidth1pxheight46pxbackgroundcolorf46e85transitionpropertyheighttransitiondelay08s': 1, 'tfkeywordfloatleftwidth422pxmargintop7pxborder1px': 1, 'transparentfontsize18pxlineheight24pxbackgroundcolortransparentoutline0imemodeactivewebkitappearancenone': 1, 'btnsearchpositionabsolutetop0right0width49pxheight42pxmargin1pxlineheight44pxbackgroundposition40px': 1, '231pxbackgroundcolortransparent': 1, 'slidefavorschoverflowhiddenwidth480pxheight28px': 1, 'listfavorschoverflowhiddenpaddingtop7px': 1, 'listfavorsch': 3, 'lifloatleftpaddingright10px': 1, 'linkfavorschdisplayblockfontsize12pxcolor555': 1, 'pagepctopzindex1right1pxbottom3px': 1, 'headbnrpositionabsolutetop33pxright45px': 1, 'headbnr': 1, 'linkheadbnrdisplayblock': 1, 'boxsearchmargintop0': 1, 'tfkeywordmargintop11px': 1, 'listfavorschpaddingtop10px': 1, 'lipaddingright14px': 1, 'imgkeyboardbackgroundimageurlt1daumcdnnetdaumtopdecoimagestop2017imgkeyboard171229png': 1, 'btnkeypositionabsolutetop0right58pxwidth29pxheight42pxmargin1pxlineheight44pxbackgroundposition0': 1, 'btnkeybtnonbackgroundposition0': 1, '50px': 3, 'keyboardlayerpositionabsolutetop45pxleft382pxzindex10000': 1, 'keyboardlayer': 78, 'groupkeyboarddisplaynonepadding49px': 1, '16px': 5, '20pxwidth435pxheight166pxborder1px': 1, '888backgroundcolorfff': 4, 'groupkeyboardondisplayblock': 1, 'groupkeyboard': 47, 'titkeyboardpositionabsolutetop20pxleft20pxwidth24pxheight13pxbackgroundposition0': 1, '120px': 7, 'engbasic': 7, 'titkeyboardkeyboardlayer': 1, 'engshift': 7, 'titkeyboardbackgroundposition0': 1, '140px': 5, 'btncloseoverflowhiddenpositionabsolutetop19pxright20pxwidth13pxheight13pxbackgroundposition0': 1, '100px': 16, 'keyboardlineoverflowhiddenmargintop4px': 1, 'keyboard1ndoverflowhiddenmargin0': 1, 'keyboard2ndpaddingleft15px': 1, 'keyboard3ndpaddingleft30px': 1, 'btnkeyboardoverflowhiddenfloatleftwidth26pxheight30pxmarginright4pxtextaligncentertextindent9999px': 1, 'korbasic': 6, 'btnkeyboardbackgroundimageurlt1daumcdnnetdaumtopdecoimagestop2017imgkor171226png': 1, 'btnkeyboardhoverkeyboardlayer': 8, 'btnkeyboardactivebackgroundimageurlt1daumcdnnetdaumtopdecoimagestop2017imgkorhover171226png': 1, 'korshift': 6, 'btnkeyboardbackgroundimageurlt1daumcdnnetdaumtopdecoimagestop2017imgkorshift171229png': 1, 'btnkeyboardactivebackgroundimageurlt1daumcdnnetdaumtopdecoimagestop2017imgkorshifthover171229png': 1, 'btnkeyboardbackgroundimageurlt1daumcdnnetdaumtopdecoimagestop2017imgeng171226png': 1, 'btnkeyboardactivebackgroundimageurlt1daumcdnnetdaumtopdecoimagestop2017imgenghover180122png': 1, 'btnkeyboardbackgroundimageurlt1daumcdnnetdaumtopdecoimagestop2017imgengshift171226png': 1, 'btnkeyboardactivebackgroundimageurlt1daumcdnnetdaumtopdecoimagestop2017imgengshifthover171226png': 1, 'keyboard1backgroundposition30px': 1, 'keyboard2backgroundposition60px': 1, 'keyboard3backgroundposition90px': 1, 'keyboard4backgroundposition120px': 1, 'keyboard5backgroundposition150px': 1, 'keyboard6backgroundposition180px': 1, 'keyboard7backgroundposition210px': 1, 'keyboard8backgroundposition240px': 1, 'keyboard9backgroundposition270px': 1, 'keyboard10backgroundposition300px': 1, 'keyboard11backgroundposition330px': 1, 'keyboard12backgroundposition360px': 1, 'keyboard13backgroundposition15px': 1, '34px': 13, 'keyboard14backgroundposition45px': 1, 'keyboard15backgroundposition75px': 1, 'keyboard16backgroundposition105px': 1, 'keyboard17backgroundposition135px': 1, 'keyboard18backgroundposition165px': 1, 'keyboard19backgroundposition195px': 1, 'keyboard20backgroundposition225px': 1, 'keyboard21backgroundposition255px': 1, 'keyboard22backgroundposition285px': 1, 'keyboard23backgroundposition315px': 1, 'keyboard24backgroundposition345px': 1, 'keyboard25backgroundposition375px': 1, 'keyboard26backgroundposition30px': 1, '68px': 11, 'keyboard27backgroundposition60px': 1, 'keyboard28backgroundposition90px': 1, 'keyboard29backgroundposition120px': 1, 'keyboard30backgroundposition150px': 1, 'keyboard31backgroundposition180px': 1, 'keyboard32backgroundposition210px': 1, 'keyboard33backgroundposition240px': 1, 'keyboard34backgroundposition270px': 1, 'keyboard35backgroundposition300px': 1, 'keyboard36backgroundposition330px': 1, 'keyboard37backgroundposition75px': 1, '102px': 12, 'keyboard38backgroundposition105px': 1, 'keyboard39backgroundposition135px': 1, 'keyboard40backgroundposition165px': 1, 'keyboard41backgroundposition195px': 1, 'keyboard42backgroundposition225px': 1, 'keyboard43backgroundposition255px': 1, 'keyboard44backgroundposition285px': 1, 'keyboard45backgroundposition315px': 1, 'keyboard46backgroundposition345px': 1, 'keyboardspebkspwidth41pxbackgroundposition390px': 1, 'keyboardspeshiftwidth71pxbackgroundposition0': 1, 'keyboardspeshift2width56pxbackgroundposition375px': 1, 'keyboardspelangwidth86pxbackgroundposition0': 1, '136px': 3, 'keyboardspespacewidth251pxbackgroundposition90px': 1, 'keyboardspeenterwidth86pxbackgroundposition345px': 1, 'daumSuggestWrappositionrelativemarginright90pxclearboth': 1, 'suggestBoxpositionabsolutetop45pxleft0zindex9999width520pxpadding0backgroundnone': 1, 'baseBoxbordertop1px': 1, 'dcdcdcfontsize12pxlineheight17pxfontfamily굴림gulimsansserifbackgroundcolorfff': 1, 'baseBoxfontfamilyApple': 1, 'SD': 6, 'Gothic': 6, 'Neosansserif': 6, 'suggestBox': 96, 'listpadding7px': 1, '13pxborderleft1px': 1, 'dcdcdcborderright1px': 2, 'dcdcdccolor333backgroundcolorfff': 1, 'suggestBoxreverseType': 2, 'listpadding3px': 1, '7pxcolor333': 1, 'baseBox': 4, 'lioverflowhiddenheight26pxpadding0': 1, '16pxlineheight26pxtextalignleftcursorpointer': 1, 'li': 8, 'itemdisplayblockheight100': 1, 'itemhovertextdecorationnone': 1, 'list': 1, 'onbackgroundcolorf6f6f6': 1, 'strongfontweightnormalcolor0089ff': 1, 'lineoverflowhiddenheight1pxmargin7px': 1, '6pxpadding0fontsize1pxlineheight1pxbackgroundcolore5e5e5': 1, 'guidepadding15px': 1, '10pxcolor555': 1, 'footerpositionrelativeheight20pxpadding8px': 1, '12px': 10, '4px': 13, '7pxborder1px': 1, 'dcdcdcbordertop1px': 1, 'ecececfontsize11pxbackgroundcolorfbfbfbletterspacing1pxclearboth': 1, 'footerbordertopcolordcdcdcborderbottomcolorededed': 1, 'footer': 7, 'flfloatleft': 1, 'frfloatright': 1, 'btnclosepaddingleft12pxbackgroundposition0': 1, '939px': 1, 'bardisplaynonepadding0': 1, '2pxcolorddd': 1, 'fl': 1, 'barpadding0': 1, '2px': 12, 'offGuidedisplaynonepositionabsoluteright0bottom19pxwidth211pxheight27pxbackgroundurlsearch1daumcdnnetsearchstaticscommonpisuggestservicegif': 1, 'norepeattextindent999em': 1, 'offSuggestdisplaynone': 1, 'listpadding9px': 1, '11px': 3, 'lipadding0': 2, '17px': 2, 'acolor777': 1, 'answerborderleft1px': 1, 'dcdcdc': 1, 'answer': 1, 'spancursorpointer': 1, 'afontsize14pxcolor333fontfamily돋움dotumsansseriftextdecorationnone': 1, 'afontfamilyApple': 1, 'linedisplayblockoverflowhiddenclearboth': 1, 'blineborderbottom1px': 1, 'ededed': 1, 'suggestexactdisplayblockoverflowhiddenheight40pxpadding12px': 1, 'suggestexacthovertextdecorationnone': 1, 'eonbackgroundcolorf8f8f8textdecorationnone': 1, 'suggestexact': 56, 'txtexactoverflowhiddenfloatleftheight44pxmargintop0backgroundposition0': 1, 'txtunitfontsize14pxfontfamilyarialsansserif': 1, 'titmarginleft1pxfontweightnormalfontsize12pxlineheight18pxfontfamily굴림gulimsansserifcolor333': 1, 'contdisplayblock': 1, 'txtcontmarginright4pxfontweightboldfontsize14pxlineheight16pxfontfamily돋움dotumsansserifcolor333': 1, 'txtnum1fontsize18pxlineheight20pxfontfamilytahomasansserifcolor333': 1, 'txtnum2marginleft3pxfontsize12pxlineheight14pxfontfamily굴림gulimsansserifcolor333': 1, 'txtnum3fontsize20pxlineheight23pxfontfamilyarialsansserifcolor333': 1, 'txtnum4marginleft3pxfontsize12pxlineheight14pxfontfamily굴림gulimsansserifcolor333': 1, 'txtexact': 5, 'icosuggest2backgroundurlsearch1daumcdnnetsearchstaticscommonpiicoicosuggest20110721gif': 1, 'icocelsiusbackgroundnone': 1, 'icoarrowuppaddingleft11pxbackgroundposition0': 1, '58px': 1, 'icoarrowdownpaddingleft11pxbackgroundposition0': 1, '98px': 1, 'icoarrowequalpaddingleft11pxbackgroundposition0': 1, '75px': 1, 'txtbluecolor007aff': 1, 'txtblue2color007aff': 1, 'txtredcolore52d38': 1, 'txtred2colore52d38': 1, 'txttimefloatrightmargin25px': 1, '0fontsize11pxfontfamily돋움dotumsansserifcolora1a1a1': 1, 'icocelsiuswidth12pxheight13pxfontfamilyarialsansserifbackgroundpositionright': 1, '5px': 9, 'barfontsize14pxcolordedede': 1, 'wraptodayoverflowhiddenheight21pxpadding4px': 1, '10px': 2, '9pxlineheight21px': 1, 'wraptoday': 2, 'contfontsize14pxcolor333textdecorationnone': 1, 'contimportfontweightnormalcolorea570a': 1, 'titfontfamilyApple': 1, 'txtnum2fontfamilyApple': 1, 'txtnum4fontfamilyApple': 1, 'txttimefontfamilyApple': 1, 'icolottofloatleftwidth28pxheight28pxmargin6px': 1, '0borderradius20pxtextaligncenter': 1, 'icolotto': 1, 'txtnumdisplayinlineblockmargintop7pxfontsize14pxlineheight1fontfamilyarialsansserifcolorfffverticalaligntop': 1, 'num1backgroundcolorf6a800': 1, 'num10backgroundcolor4155cb': 1, 'num20backgroundcolorf64d61': 1, 'num30backgroundcolor585d6e': 1, 'num40backgroundcolorf6a800': 1, 'pluswidth8pxheight8pxmargin16px': 1, '8px': 10, '4pxbackgroundurlsearch1daumcdnnetsearchstaticscommonpiicoicosuggest20110721gif': 1, '40pxtextindent9999pxopacity05': 1, 'icosuggestpaddingleft59pxcolor555backgroundurlsearch1daumcdnnetsearchstaticscommonpiweathericoweathermpng': 1, 'icosuggest': 1, 'cont': 1, 'screenoutpositionstaticfontsize14pxfontfamilyarialsansseriftextindent0': 1, 'txtexactoverflowhiddenfloatleftheight44pxmargintop0': 1, 'icow00backgroundposition0': 1, '1620px': 1, 'icow01backgroundposition0': 2, 'night': 24, '60px': 18, 'icow02backgroundposition0': 2, '180px': 5, 'icow03backgroundposition0': 2, '240px': 3, '300px': 3, 'icow04backgroundposition0': 1, '360px': 2, 'icow05backgroundposition0': 2, '420px': 1, '480px': 2, 'icow06backgroundposition0': 2, '540px': 1, '600px': 1, 'icow07backgroundposition0': 1, '660px': 1, 'icow08backgroundposition0': 1, '720px': 1, 'icow09backgroundposition0': 1, '780px': 1, 'icow10backgroundposition0': 2, '840px': 1, '900px': 1, 'icow11backgroundposition0': 1, '960px': 1, 'icow12backgroundposition0': 1, '1020px': 1, 'icow13backgroundposition0': 2, '1080px': 1, '1140px': 1, 'icow14backgroundposition0': 1, '1200px': 1, 'icow15backgroundposition0': 1, '1260px': 1, 'icow16backgroundposition0': 2, '1320px': 1, '1380px': 1, 'icow17backgroundposition0': 1, '1440px': 1, 'icow18backgroundposition0': 1, '1500px': 1, 'icow19backgroundposition0': 1, '1560px': 1, 'daumSuggestWrapdisplaynone': 1, 'dserviceborderbottom1px': 1, 'dservice': 1, 'innerservicepositionrelativewidth990pxheight45pxmargin0': 1, 'menuservicefloatleftpositionrelativewidth660px': 1, 'menuservice': 1, 'linkmoreoverflowhiddenfloatleftwidth60pxheight25pxpadding10px': 1, '9pxlineheight20pxbackgroundposition0': 1, '8pxbackgroundcolortransparenttextaligncenter': 1, 'menuon': 2, 'linkmorebackgroundposition60px': 1, 'listmainsvcfloatleft': 1, 'listmainsvc': 16, 'lifloatleftheight45px': 1, 'txtpctopdisplayblockheight25pxpadding10px': 1, '0fontweightboldfontsize13pxlineheight25pxbackgroundcolortransparenttextaligncenter': 1, 'linkcafewidth30pxbackgroundposition0': 1, 'linkmailwidth36pxbackgroundposition30px': 1, 'linknewswidth37pxbackgroundposition66px': 1, 'linkmapwidth36pxbackgroundposition103px': 1, 'linkstockwidth37pxbackgroundposition139px': 1, 'linkshoppingwidth36pxbackgroundposition176px': 1, 'linkkakaotvwidth64pxbackgroundposition212px': 1, 'linkwebtoonwidth37pxbackgroundposition276px': 1, 'linkblogwidth48pxbackgroundposition313px': 1, 'linkbrunchwidth47pxbackgroundposition361px': 1, 'linkdicwidth36pxbackgroundposition408px': 1, 'linkgamewidth37pxbackgroundposition444px': 1, 'linkstarplaywidth59pxbackgroundposition481px': 1, 'linktogetherwidth59pxbackgroundposition540px': 1, 'servicelayerdisplaynonepositionabsolutetop45pxleft0width653pxborder1px': 1, 'servicelayerdisplayblock': 1, 'servicelayer': 21, 'layerbodyoverflowhiddenbackgroundurlt1daumcdnnetdaumtopdecoimagestop2017bglinegif': 1, 'repeaty': 1, 'collsvcfloatleftwidth109px': 1, 'sortserviceoverflowhiddenpadding0': 1, '15px': 5, 'sortservice': 8, 'dtmargin11px': 1, '4pxfontweightboldfontsize12px': 1, 'ddclearbothfontsize12pxlineheight22px': 1, 'titsplitfloatleftpaddingright9pxbackgroundposition100': 1, 'linksvccolor555': 1, 'linksvchovercolor118eff': 1, 'iconewdisplayinlineblockwidth11pxheight11pxmargin2px': 1, '2pxfontsize0lineheight0backgroundposition160px': 1, '80pxverticalalignmiddletextindent9999px': 1, 'sorttype2height146pxpaddingbottom0': 1, 'collsvcfstwidth108px': 1, 'collsvcfst': 1, 'sortservicepaddingleft14px': 1, 'layerfootoverflowhiddenheight32pxbordertop1px': 1, 'ecececbackgroundcolorfbfbfb': 5, 'layerfoot': 4, 'linktotalfloatleftpaddingright8pxmarginleft13pxfontsize11pxlineheight29pxcolor555backgroundposition100': 1, 'btnclosefloatrightpadding0': 1, '13pxmargin2pxfontsize11pxlineheight24pxcolor888': 1, 'sortservicepaddingbottom12px': 1, 'dtmargin14px': 1, 'titsplitbackgroundposition100': 1, '3px': 5, 'sorttype2paddingbottom0': 1, 'linktotalpaddingright10pxmarginleft14pxlineheight32pxbackgroundposition100': 1, 'btnclosepadding0': 1, '12pxlineheight28px': 1, 'todaybasefloatrightpositionrelativeheight45px': 1, 'todaybase': 5, 'compbasedisplayinlineblockverticalaligntop': 1, 'imgweatherbackgroundimageurlt1daumcdnnetdaumtopdecoimagestop2017imgweather170628pngbackgroundrepeatnorepeatfontsize0lineheight0textindent9999px': 1, 'txttemperfloatleftfontsize14pxfontfamilytahomaarialsansserifletterspacing0': 1, 'txttemperfontfamilyhelveticaarialsansserif': 1, 'infotodayfloatleftfontsize13px': 1, 'infotoday': 43, 'datetodayfloatleftheight24pxpaddingtop10pxlineheight20pxletterspacing0': 1, 'txtpartfloatleftmarginright5pxfontweightboldlineheight24px': 1, 'linkweatherfloatleftheight25pxmarginleft16pxpadding8px': 1, '12pxlineheight24pxtextalignright': 1, 'linkweatherhovercolor222textdecorationnone': 2, 'listweatherfloatleftoverflowhiddenheight25px': 1, 'listweather': 1, 'lioverflowhiddenheight25px': 1, 'datetodaylineheight26px': 1, 'txtpartlineheight30px': 1, 'linkweatherlineheight26px': 1, 'linkweather': 5, 'icomoremargintop10px': 1, 'icowsbackgroundimageurlt1daumcdnnetdaumtopdecoimagestop2017icows1801023pngbackgroundrepeatnorepeatfontsize0lineheight0textindent9999px': 1, 'icowsfloatleftwidth26pxheight26pxmargin1px': 1, '0verticalaligntop': 2, 'icowm01backgroundposition0': 2, 'icowm01backgroundposition30px': 1, 'icowm02backgroundposition60px': 1, 'icowm02backgroundposition90px': 1, 'icowm03backgroundposition120px': 1, 'icowm03backgroundposition150px': 1, 'icowm04backgroundposition180px': 1, 'icowm05backgroundposition210px': 1, 'icowm05backgroundposition240px': 1, 'icowm06backgroundposition0': 2, 'icowm06backgroundposition30px': 1, 'icowm07backgroundposition60px': 1, 'icowm08backgroundposition90px': 1, 'icowm09backgroundposition120px': 1, 'icowm10backgroundposition150px': 1, 'icowm10backgroundposition180px': 1, 'icowm11backgroundposition210px': 1, 'icowm12backgroundposition240px': 1, 'icowm13backgroundposition0': 1, 'icowm13backgroundposition30px': 1, 'icowm14backgroundposition60px': 1, 'icowm15backgroundposition90px': 1, 'icowm16backgroundposition120px': 1, 'icowm16backgroundposition150px': 1, 'icowm17backgroundposition180px': 1, 'icowm18backgroundposition210px': 1, 'icowm19backgroundposition240px': 1, 'txttempermargintop1px': 2, 'icodegreefloatleftwidth17pxheight15pxmargin7px': 1, '0fontsize12pxlineheight17pxbackgroundposition210px': 1, '270pxbackgroundcolortransparenttextaligncentertextindent0': 1, 'icomorewidth13pxheight9pxmargin9px': 1, '1pxbackgroundposition138px': 1, '292px': 2, 'todayon': 2, 'icomorebackgroundposition138px': 1, '304px': 1, 'todaylayerdisplaynonepositionabsolutetop45pxright0width298pxborder1px': 1, 'todaylayer': 78, 'icowmbackgroundimageurlt1daumcdnnetdaumtopdecoimagestop2017icowm1801023pngbackgroundrepeatnorepeatfontsize0lineheight0textindent9999px': 1, 'layerbodyoverflowhidden': 1, 'layerbodyafterpositionabsolutetop0right0width42pxheight42pxcontent': 1, 'weatherpartpositionrelativeheight135px': 1, 'btnlocatepositionabsolutetop17pxleft18pxwidth21pxheight21pxfontsize0lineheight0backgroundposition176px': 1, '246pxtextindent9999px': 1, 'btnlocateonbackgroundposition176px': 1, '286px': 1, 'linkweatherdisplayblockoverflowhiddenheight135px': 1, 'txtplacedisplayblockheight20pxmargin17px': 1, '22pxfontweightboldfontsize13pxlineheight19px': 1, 'txtplace': 1, 'txtlocaldisplayinlineblock': 1, 'icowmfloatleftwidth90pxheight90pxmarginleft22px': 1, 'icowm01backgroundposition100px': 1, 'icowm02backgroundposition200px': 1, 'icowm02backgroundposition300px': 1, 'icowm03backgroundposition400px': 1, 'icowm03backgroundposition500px': 1, 'icowm04backgroundposition600px': 1, 'icowm05backgroundposition700px': 1, 'icowm05backgroundposition800px': 1, 'icowm06backgroundposition100px': 1, 'icowm07backgroundposition200px': 1, 'icowm08backgroundposition300px': 1, 'icowm09backgroundposition400px': 1, 'icowm10backgroundposition500px': 1, 'icowm10backgroundposition600px': 1, 'icowm11backgroundposition700px': 1, 'icowm12backgroundposition800px': 1, 'icowm13backgroundposition': 2, '200px': 18, 'icowm14backgroundposition200px': 1, 'icowm15backgroundposition300px': 1, 'icowm16backgroundposition400px': 1, 'icowm16backgroundposition500px': 1, 'icowm17backgroundposition600px': 1, 'icowm18backgroundposition700px': 1, 'icowm19backgroundposition800px': 1, 'infotemperdisplayblockoverflowhiddenheight32pxmargin19px': 1, '130pxfontfamilytahomaarialsansserif': 1, 'infotemper': 13, 'imgweatherfloatleftwidth22pxheight32pxmargin0': 1, 'num0backgroundposition260px': 1, 'num1backgroundposition260px': 1, '40px': 8, 'num2backgroundposition260px': 1, 'num3backgroundposition260px': 1, 'num4backgroundposition260px': 1, '160px': 6, 'num5backgroundposition260px': 1, 'num6backgroundposition260px': 1, 'num7backgroundposition260px': 1, '280px': 3, 'num8backgroundposition260px': 1, '320px': 1, 'num9backgroundposition260px': 1, 'icominuswidth22pxheight32pxbackgroundposition260px': 1, '400px': 1, 'icodegreewidth39pxheight32pxbackgroundposition210px': 1, 'statedescdisplayblockoverflowhiddenmargin7px': 1, '130pxlineheight16px': 1, 'statedesc': 4, 'icodegreefloatleftwidth14pxheight12pxmargin3px': 1, '0backgroundposition240px': 1, '208px': 1, 'txtdescfloatleftmarginright2px': 1, 'layerfootoverflowhiddenbordertop1px': 1, 'linkstatefloatleftoverflowhiddenwidth50height39pxcolor101010textdecorationnone': 1, 'infowmoverflowhiddenheight22pxpaddingtop8pxlineheight21px': 1, 'infowm': 5, 'dtfloatleftpaddingright9px': 1, 'ddfloatleft': 2, 'imgweatherdisplayinlineblockverticalaligntop': 1, 'infodustpaddingleft18px': 1, 'icodustwidth20pxheight20pxmargintop3pxmarginright6pxbackgroundposition140px': 1, 'icoairwidth21pxheight21pxmargin1px': 1, '7px': 7, '2pxbackgroundposition140px': 1, '264px': 1, 'stategoodcolor0078ff': 1, 'statenormalcolor27aa1d': 1, 'statebadcolorfecc3d': 1, 'stateworstcolore30000': 1, 'btnclosepositionabsolutetop18pxright18pxwidth16pxheight16pxbackgroundposition0': 2, 'txtplacemargintop20pxlineheight18px': 1, 'infotempermargintop15px': 1, 'statedescmargintop10px': 1, 'icodegreemargintop1px': 1, 'infowmpaddingtop11px': 1, 'icodustmargintop0': 1, 'icoairmargintop2px': 1, 'todaylayerdisplayblock': 1, 'adverttmpfloatleftpositionrelativewidth655pxheight120pxmarginright35px': 1, 'adverttmp': 1, 'bglinepositionabsolutetop0left0zindex1width653pxheight118pxborder1px': 1, 'advertstationdisplayinlineblockpositionrelativewidth300pxheight150pxmargintop15pxfontsize0lineheight0verticalaligntop': 1, 'advertstation': 1, 'bglinepositionabsolutetop0left0zindex1width298pxheight148pxborder1px': 1, 'boxshoppingdisplayinlineblockpositionrelativewidth300pxheight1177pxmargintop15pxverticalaligntop': 1, 'boxshopping': 2, 'bgline1positionabsolutetop0left0zindex1width298pxheight775pxborder1px': 1, 'bgline2positionabsolutetop792pxleft0zindex1width298pxheight383pxborder1px': 1, 'advertsvcbnrmargintop15px': 1, 'advertsvcbnr': 2, 'linkbnrdisplayblockpositionrelativeheight60px': 1, 'framegwidth298pxheight58px': 1, 'advertbnrmargintop15px': 1, 'advertbnr': 2, 'linkbnrdisplayblockoverflowhiddenpositionrelativeheight143px': 1, 'framegwidth298pxheight141px': 1, 'wraptiercontpositionrelativezindex99width990pxmargin0': 1, 'logintmpfloatrightpositionrelativezindex0width300pxheight120pxletterspacing1px': 1, 'loginmyzindex10backgroundurlt1daumcdnnetdaumtopdecoimagestop2017bgpctop170328png': 1, 'loginmy': 22, 'wrapmywidth285pxheight45pxpadding15px': 1, 'infomyfloatleftpadding1px': 1, 'relmyfloatrightpaddingright15px': 1, 'nameuserfloatleftmarginright4pxfontweightbold': 1, 'linkmyinfofloatleftfontsize11pxmargin2px': 1, '0lineheight14pxcolor555textdecorationunderline': 1, 'linkssopositionabsolutetop41pxleft15pxwidth68pxheight22pxfontsize11pxlineheight22pxbackgroundposition100px': 1, '235pxwhitespacenowrap': 2, 'linkssoingbackgroundposition100px': 1, '205px': 1, 'linkssohelppositionabsolutetop41pxleft85pxwidth6pxheight22pxpadding0': 1, '6pxfontsize12pxlineheight22pxbackgroundposition180px': 1, 'layerssopositionabsolutetop77pxleft0zindex11width298pxheight82pxborder1px': 1, '118effbackgroundcolorfff': 1, 'layersso': 4, 'boxhelpdisplaytablewidth100height100': 1, 'txthelpdisplaytablecellpadding0': 1, '2pxfontsize12pxlineheight16pxcolor555verticalalignmiddle': 1, 'btnclosepositionabsolutetop5pxright5pxwidth21pxheight21pxpadding0': 1, '6pxbackgroundposition210px': 1, '235px': 1, 'linkempathyfloatleftmargin5px': 1, '0fontsize11pxlineheight14pxcolor5b6473': 1, 'btnlogoutfloatleftwidth56pxheight24pxfontsize11pxlineheight24pxbackgroundposition180px': 1, '30pxbackgroundcolortransparent': 1, 'listbasisoverflowhiddenpositionabsolutetop43pxright9pxheight30pxletterspacing012em': 1, 'listbasis': 6, 'lifloatleftpaddingright8pxlineheight15px': 1, 'linkbasisfloatleftfontsize12pxcolor555': 1, 'numbasismarginleft3pxcolor118eff': 1, 'nummsgwidth30px': 1, 'linknumfontweightboldcolor118eff': 1, 'mymileage': 1, 'linkbasismarginright8px': 1, 'wrapmysvcpositionrelativezindex10width300px': 1, 'mysvclistpositionrelativewidth300pxheight43px': 1, 'listmysvcdisplayinlineblockpositionrelativewidth300pxheight43pxverticalaligntopletterspacing1px': 1, 'listmysvc': 13, 'lipositionrelativefloatleftwidth100pxheight43px': 1, 'linkmysvcdisplayblockoverflowhiddenheight31pxpaddingtop12pxfontsize12pxlineheight18pxtextaligncentercolor555': 1, 'linkmysvchovertextdecorationnone': 1, 'cafeg': 5, 'linkmysvcheight30pxpaddingtop13pxlineheight16px': 1, 'txtmysvcdisplayinlineblockheight26pxcolor555verticalaligntop': 1, 'txtmysvcpaddingleft24pxbackgroundposition0': 1, 'stockg': 1, 'txtmysvcpaddingleft27pxbackgroundposition0': 1, '109px': 1, 'blogg': 1, 'txtmysvcpaddingleft29pxbackgroundposition0': 1, '139px': 1, 'iconewdisplaynonewidth11pxheight11pxmargin5px': 1, '4pxbackgroundposition160px': 1, '80pxtextindent9999pxverticalaligntop': 1, 'newg': 1, 'iconewdisplayinlineblock': 1, 'iconewmargintop4px': 2, 'mycafeonbackgroundurlt1daumcdnnetdaumtopdecoimagestop2017bgpctop170328png': 1, '310px': 15, 'mystockonbackgroundurlt1daumcdnnetdaumtopdecoimagestop2017bgpctop170328png': 1, 'myblogonbackgroundurlt1daumcdnnetdaumtopdecoimagestop2017bgpctop170328png': 1, 'layermycontpositionabsolutetop120pxleft0width300pxheight353pxbackgroundposition0': 1, '130px': 11, 'layermycont': 2, 'btnclosepositionabsolutetop320pxright0width46pxheight32pxpadding3px': 1, '4pxfontsize11pxlineheight18pxcolor888': 1, 'txthelppaddingtop2pxpaddingbottom0': 1, 'logintmpletterspacing0': 1, 'infomypaddingtop4px': 1, 'nameusermarginright7px': 1, 'linkprivacymargintop0': 1, 'listbasistop45pxright6pxletterspacing0': 1, 'lipaddingright9px': 1, 'linkmysvclineheight21px': 1, 'linkmysvclineheight20px': 1, 'iconewmargintop3px': 1, 'btnclosepaddingtop5px': 1, 'panelblocpositionrelativepaddingtop61px': 1, 'tittabcontpositionabsolutetop15pxfontsize16px': 1, 'tittabcont': 1, 'linktitdisplayblockheight36pxlineheight36pxbackgroundcolortransparenttextaligncenter': 1, 'wraptabcontdisplaynonewidth655px': 1, 'icoviewoverflowhiddenpositionabsoluteright8pxbottom8pxwidth23pxheight23pxbackgroundposition40px': 1, '0textindent9999pxcursorpointer': 3, 'icovideooverflowhiddenpositionabsoluteright8pxbottom8pxwidth23pxheight23pxbackgroundposition70px': 1, 'icoliveoverflowhiddenpositionabsoluteright8pxbottom8pxwidth23pxheight23pxbackgroundposition130px': 1, 'colorg1colore30000': 1, 'colorg2color118eff': 1, 'icolabeloverflowhiddenpositionabsolutetop15pxleft15pxheight22pxpadding0': 1, '8pxfontsize11pxlineheight19pxcolorfffbackgroundcolor118eff': 1, 'icolabel2overflowhiddenpositionabsolutetop0left0height20pxpadding0': 1, '7pxfontsize11pxlineheight17pxcolorfffbackgroundcolorrgba00006filterprogidDXImageTransformMicrosoftgradientstartColorstr99000000endColorstr99000000GradientType0': 1, 'icolabel3overflowhiddenpositionabsolutetop15pxleft15pxheight22pxpadding0': 1, '8pxfontsize11pxlineheight19pxcolorfffbackgroundcolore8493d': 1, 'icolabelosmac': 1, 'icolabel3lineheight23px': 1, 'icolabel2lineheight21px': 1, 'taglivewidth30pxheight15pxbackgroundposition120px': 1, '70px': 3, 'tagnewwidth31pxheight15pxbackgroundposition120px': 1, '90px': 4, 'tageventwidth40pxheight15pxbackgroundposition120px': 1, '110px': 4, 'tagissuewidth37pxheight15pxbackgroundposition120px': 1, 'taghotwidth28pxheight15pxbackgroundposition208px': 1, '260px': 3, 'taglive2width33pxheight17pxbackgroundposition120px': 1, 'tagnew2width34pxheight17pxbackgroundposition120px': 1, 'tagevent2width45pxheight17pxbackgroundposition160px': 1, 'tagissue2width41pxheight17pxbackgroundposition160px': 1, 'icoadpositionabsoluteright10pxbottom10pxwidth25pxheight16pxfontsize0lineheight0backgroundposition0': 1, '40pxtextindent9999px': 1, 'pagepctoppositionabsolutewidthautoheight16px': 1, 'pagepctop': 13, 'btnpagefloatleftwidth16pxheight16pxlineheight16pxbackgroundcolortransparentbackgroundposition210px': 1, 'btnnextwidth15pxbackgroundposition226px': 2, 'infopagefloatleftpadding2px': 1, '0fontsize12pxlineheight16pxcolor555fontfamilytahomaarialsansserif': 1, 'infopage': 1, 'txtslashpadding0': 1, 'infopagelineheight16pxfontfamilyhelveticaarialsansserif': 1, 'pagebtypetop20pxright0height26px': 1, 'pagebtype': 4, 'btnpagewidth26pxheight26pxlineheight26pxbackgroundposition110px': 1, '170pxtextindent10px': 1, 'btnnextwidth25pxbackgroundposition136px': 1, '170px': 4, 'infopagepaddingtop1pxpaddingright8pxfontsize14pxlineheight22px': 1, 'infopagelineheight24px': 1, 'pagetabcontpositionabsolutezindex1top16pxleft30pxcursorpointer': 1, 'pagetabcont': 2, 'btnpageoverflowhiddenfloatleftwidth7pxheight7pxmargin9px': 1, '0fontsize10pxlineheight7pxbackgroundposition100px': 1, '170pxbackgroundcolortransparent': 1, 'onpositionrelativebackgroundposition100px': 1, '177px': 1, 'listthumboverflowhidden': 1, 'listthumb': 12, 'lifloatleftwidth154pxheight146pxmarginleft13px': 1, 'fstmarginleft0': 2, 'linkitemdisplayblock': 1, 'thumbgwidth154pxheight94px': 2, 'framegwidth152pxheight92px': 3, 'contitempadding4px': 2, 'tititemdisplayblockoverflowhiddenmaxheight36pxpaddingright12pxfontweightnormallineheight18pxwordbreakkeepallwordwrapbreakword': 2, 'contitempaddingtop6px': 3, 'tititempaddingright14px': 3, 'listtxtfloatleft': 1, 'listtxt': 13, 'lioverflowhiddenheight20pxpadding4px': 1, '2pxwhitespacenowraptextoverflowellipsis': 1, 'icopctopdisplayinlineblockmargin3px': 1, '0textindent9999pxverticalaligntop': 4, 'splittxtpaddingleft10pxmarginleft10pxcolor888backgroundurlt1daumcdnnetdaumtopdecoimagestop2017icopctopvert170724png': 1, '46px': 1, 'splittxthovercolor118eff': 1, 'partmidpaddingtop18pxlineheight16px': 1, 'splitpartdisplayinlineblockoverflowhiddenverticalaligntop': 1, 'splitpart': 3, 'linktxtmarginright3px': 1, 'splitfstfloatleftoverflowhiddenmaxwidth222pxtextoverflowellipsis': 1, 'lilineheight20px': 1, 'splittxtbackgroundposition0': 1, '49px': 1, 'partmidlineheight22px': 1, 'splitpartletterspacing003em': 1, 'linktxtmarginright7px': 1, 'liststxtmargintop7px': 1, 'liststxt': 2, 'lioverflowhiddenpaddingbottom4pxlineheight19pxwhitespacenowraptextoverflowellipsis': 1, 'txtmarkfontsize12pxcolor888': 2, 'linksectordisplayblockpositionrelativezindex0width321pxheight131px': 1, 'linksector': 11, 'framegwidth319pxheight129px': 1, 'contitempositionabsoluteright0left0bottom0width100height100pxbackgroundurlt1daumcdnnetdaumtopdecoimagestop2017bgplate2png': 1, '100': 7, 'tititemoverflowhiddenpositionabsoluteleft0bottom13pxright0padding0': 1, '15pxfontweightnormalfontsize14pxlineheight20pxcolorfff': 1, 'icolabel': 1, 'icolabel2': 1, 'icolabel3': 1, 'icopctopzindex1': 1, 'tititembottom10px': 2, 'listranking': 24, 'liheight20pxpaddingbottom5px': 1, 'linkrankingdisplayblockoverflowhiddenlineheight18px': 1, 'txtrankingoverflowhiddenfloatleftwidth288pxwhitespacenowraptextoverflowellipsis': 1, 'linkrankinghover': 2, 'txtrankingtextdecorationunderline': 1, 'numpctopfloatleftwidth16pxheight16pxmargin3px': 2, 'num1backgroundposition0': 3, 'num2backgroundposition0': 3, 'num3backgroundposition0': 3, 'num4backgroundposition0': 2, 'num5backgroundposition0': 2, 'num6backgroundposition0': 1, 'num7backgroundposition0': 1, 'num8backgroundposition0': 1, 'num9backgroundposition0': 1, 'num10backgroundposition0': 1, 'numpctopmargintop0': 3, 'lilineheight22px': 1, 'boxstoryoverflowhiddenborder1px': 1, 'ecececbackgroundcolorfbfbfc': 2, 'boxstory': 5, 'titsubjectoverflowhiddenmargintop7pxfontsize13px': 1, 'titsubject': 2, 'linktitfloatleftpaddingright9pxbackgroundposition100': 1, 'titsubjectmargintop10px': 1, 'linktitbackgroundposition100': 1, 'liststxtmargintop10px': 1, 'sectionmediapositionrelative': 1, 'sectionmedia': 5, 'pagebtypetop15px': 1, 'panelblocpadding57px': 1, '25px': 1, 'tittabconttop11pxleft0': 1, 'panelbloc': 48, 'titnewsleft5px': 1, 'titentertainleft55px': 1, 'titsportsleft94px': 1, 'titmovieleft147px': 1, 'titautoleft186px': 1, 'titrealestateleft240px': 1, 'titnews': 2, 'linktitwidth36pxbackgroundposition0': 2, 'titentertain': 2, 'linktitwidth36pxbackgroundposition36px': 1, 'titsports': 2, 'linktitwidth50pxbackgroundposition72px': 1, 'titmovie': 2, 'linktitwidth36pxbackgroundposition122px': 1, 'titauto': 2, 'linktitwidth51pxbackgroundposition158px': 1, 'titrealestate': 2, 'linktitwidth48pxbackgroundposition209px': 1, 'newson': 2, 'linktitbackgroundposition0': 3, '166px': 14, 'entertainon': 2, 'linktitbackgroundposition36px': 2, 'sportson': 2, 'linktitbackgroundposition72px': 1, 'movieon': 2, 'linktitbackgroundposition122px': 1, 'autoon': 2, 'linktitbackgroundposition158px': 1, 'realestateon': 2, 'linktitbackgroundposition209px': 1, 'wrapnews': 8, 'wrapentertain': 1, 'wrapsports': 1, 'wrapmovie': 1, 'wrapauto': 1, 'wraprealestatedisplayblock': 1, 'infospecialoverflowhidden': 1, 'infospecial': 5, 'icopctopfloatleftmargin3px': 1, '0textindent9999px': 3, 'linkspecialdisplayblockoverflowhiddenheight20pxfontweightboldfontsize13pxlineheight18pxcolor222letterspacing1px': 1, 'linkspecialhovercolor118eff': 1, 'icopctopmarginright6px': 1, 'linkspeciallineheight24pxletterspacing0': 1, 'infospecialpositionabsolutetop17pxright99pxmaxwidth250px': 1, 'wraptabcontheight480px': 1, 'groupnewsdisplayinlineblockheight292pxverticalaligntop': 1, 'newsprimeheight438px': 1, 'newsprime': 2, 'listtxtwidth316pxpaddingleft4px': 1, 'tititemwordbreaknormal': 1, 'boxsectoroverflowhiddenfloatleftwidth321pxmarginright13px': 1, 'boxsector': 4, 'listthumbwidth334pxmarginleft13px': 1, 'linksectormarginbottom15px': 1, 'newsflowoverflowhiddenpositionrelativeheight40pxborder1px': 1, 'ecececlineheight35pxbackgroundcolorfbfbfb': 1, 'unithomefloatleftpaddingleft12px': 1, 'unithome': 7, 'tithomefloatleftmarginright10px': 1, 'tithome': 2, 'linkhomepaddingright7pxbackgroundposition100': 1, '6px': 4, 'listhomefloatleft': 1, 'listhome': 2, 'lifloatleftpadding0': 1, 'linkhomecolor555': 1, 'linkhomehovercolor118eff': 1, 'unitlivefloatleftpaddingleft25px': 1, 'unitlive': 3, 'icopctopfloatleftmargin12px': 1, 'linklivemarginright5pxcolor555': 1, 'linklivehovercolor118eff': 1, 'newsflow': 1, 'linkhashpadding0': 1, '7pxcolor118eff': 1, 'newsflowlineheight40px': 1, 'linkhomepaddingright9pxbackgroundposition100': 1, 'boxissuefloatleftpositionrelativemarginright13px': 1, 'boxissue': 8, 'linkissuedisplayblockoverflowhiddenpositionrelativewidth321pxheight277px': 1, 'covergpositionabsoluteleft0bottom0width100height132pxbackgroundurlt1daumcdnnetdaumtopdecoimagestop2017bgplate8png': 1, 'framegwidth319pxheight275px': 1, 'icolabelheight27pxfontsize14pxlineheight25pxbackgroundcolorrgba171422559': 1, 'contitemoverflowhiddenpositionabsoluteright0bottom14pxleft0': 1, 'contitem': 5, 'tititemdisplayblockoverflowhiddenmaxheight44pxpadding0': 1, '16pxfontweightnormalfontsize16pxlineheight22pxcolorfff': 1, 'icolabellineheight29px': 1, 'contitembottom10px': 1, 'specialissue': 7, 'titissueoverflowhiddenpositionabsolutetop25pxleft21pxmaxheight60pxpaddingright20pxfontsize22pxcolorfff': 1, 'contitembottom12px': 1, 'listitempadding0': 1, 'listitem': 4, 'lioverflowhiddenmargintop3pxfontsize14px': 1, 'fstfontsize16pxlineheight26px': 1, 'linkitemdisplayblockoverflowhiddencolorfffwhitespacenowraptextoverflowellipsis': 1, 'fstlineheight23px': 1, 'newsprimefloatleftwidth501pxheight438px': 1, 'newsflowclearboth': 1, 'boxsectorwidth154px': 1, 'listthumbwidthautomarginleft0': 1, 'lifloatnonemarginleft0': 1, 'linksectorwidth154pxheight277pxmarginbottom0': 1, 'framegwidth152pxheight275px': 1, 'rankingnewsoverflowhiddenpositionrelativeheight148pxpadding0': 1, '148px': 1, 'ranknewstitpositionabsolutetop3pxleft0width148px': 1, 'ranknewstit': 2, 'titrankingfloatleftlineheight17pxcolor118eff': 1, 'linktitcolor118eff': 1, 'helppartdisplayinlinefloatleftmargin3px': 1, 'helppart': 1, 'linkhelpdisplayblockwidth31pxheight15pxfontsize11pxbackgroundcolortransparentbackgroundposition0': 1, '265px': 2, 'helplayeroverflowhiddenpositionabsolutetop27pxleft0width126pxheight48pxborder1px': 1, '888backgroundcolorfbfbfb': 1, 'helplayer': 2, 'txthelppadding8px': 1, '13px': 8, '13pxfontsize11pxlineheight15pxcolor888': 1, 'btnclosepositionabsolutetop8pxright8pxwidth16pxheight16pxbackgroundposition0': 1, 'rankingnews': 2, 'listrankingmargintop3px': 1, 'tabrankingpositionabsolutetop30pxleft0width64px': 1, 'tabranking': 6, 'limarginbottom3px': 2, 'linktabdisplayinlineblockoverflowhiddenfontweightboldlineheight16pxcolor888': 1, 'on': 12, 'linktabcolor222textdecorationunderline': 1, 'icopctopfloatleftwidth6pxheight6pxmargin6px': 1, '0backgroundposition100px': 1, '190px': 1, 'contrankingdisplaynoneoverflowhidden': 1, 'contrankingondisplayblock': 1, 'helppartmargintop0': 1, 'helplayertop25px': 1, 'ranknewstittop6px': 1, 'listrankingmargintop5px': 1, 'tabrankingtop33px': 1, 'limarginbottom1px': 1, 'icopctopmargintop4px': 1, 'castsportspositionrelativewidth321pxmarginbottom15px': 1, 'castsports': 8, 'headcastheight35pxborder1px': 1, 'titcastmargin6px': 1, '11pxfontsize13px': 1, 'pagepctoptop11pxright14pxbottomauto': 1, 'btnpagewidth16pxheight16pxlineheight16pxbackgroundposition210px': 1, 'linkmorepositionabsolutetop9pxright13pxpaddingright7pxfontsize11pxcolor888backgroundposition100': 1, 'listrelayborder1px': 1, 'ecececbordertop0': 1, 'listrelay': 33, 'lioverflowhidden': 1, 'linkrelayhovercolor222textdecorationnone': 1, 'txtteamoverflowhiddenfontsize12pxlineheight26pxwhitespacenowraptextoverflowellipsis': 1, 'txttimefloatleftfontsize11pxfontfamilytahomaarialsansserifletterspacing0': 1, 'txtleaguefloatleftpaddingleft3pxfontsize11pxcolor888': 1, 'txtscore': 13, 'innerscoredisplayinlineblockverticalaligntop': 1, 'numpctopfloatleftwidth11pxheight16pxbackgroundcolortransparent': 1, 'num0backgroundposition60px': 1, 'num1backgroundposition60px': 1, 'num2backgroundposition60px': 1, 'num3backgroundposition60px': 1, 'num4backgroundposition60px': 1, 'num5backgroundposition60px': 1, 'num6backgroundposition60px': 1, 'num7backgroundposition60px': 1, 'num8backgroundposition60px': 1, 'num9backgroundposition60px': 1, 'numnonebackgroundposition60px': 1, 'tagcastwidth56pxheight15pxfontsize11pxbackgroundcolortransparenttextaligncenter': 1, 'cast1backgroundposition0': 1, 'cast2backgroundposition0': 1, 'cast3backgroundposition0': 1, 'cast4backgroundposition0': 1, 'cast5backgroundposition0': 1, '150px': 5, 'cast6backgroundposition60px': 1, 'cast7backgroundposition60px': 1, 'cast8backgroundposition60px': 1, 'cast9backgroundposition60px': 1, 'titcastmargin9px': 1, 'linkmoretop11pxbackgroundposition100': 1, 'txttimefontfamilyhelveticaarialsansserif': 1, 'relaygeneralheight93px': 1, 'relaygeneral': 9, 'linkrelayoverflowhiddenfloatleftpositionrelativewidth147pxheight84pxpadding9px': 1, '11pxborderleft1px': 1, 'f5f5f5': 2, 'linkrelayfstwidth146pxpaddingleft12pxborderleft0': 1, 'eventteamoverflowhiddenpositionabsoluteleft11pxtop57pxright0height25px': 1, 'eventteamfstleft11pxtop30px': 1, 'eventteam': 6, 'imgthumbfloatleft': 1, 'txtteamfloatleftwidth69pxlineheight22pxmargin0': 1, 'txtscorefloatleftwidth33pxmargintop5pxtextalignright': 1, 'tagcastfloatrightmargin1px': 1, 'relayspecial': 14, 'linkrelaydisplayblockoverflowhiddenpositionrelativeheight47pxbordertop1px': 1, 'linkrelayfstbordertop0': 1, 'eventteamoverflowhiddenpositionabsoluteleft159pxtop0width52pxheight47pxpaddingleft107px': 1, 'imgthumbpositionabsolutetop10pxright53px': 1, 'txtteamfloatleftwidth45pxmargin8px': 1, 'txtscorepositionabsolutetop15pxleft38pxwidth33pxtextaligncenter': 1, 'eventteamfstleft0width53pxpadding0': 1, '106px': 1, 'eventteamfst': 3, 'txtscoreleft89px': 1, 'imgthumbleft53pxrightauto': 1, 'txtteamtextalignright': 1, 'txttimedisplayblockfloatnonemargintop3pxtextaligncenter': 1, 'tagcastdisplayblockmargin2px': 1, 'linkviewwidth158pxheight66pxpadding27px': 1, '0fontsize12pxcolor888textaligncenter': 1, 'linkviewhovercolor888textdecorationnone': 1, 'linkview': 1, 'txtviewdisplayblockcolor118efftextdecorationunderline': 1, 'txtteamlineheight27px': 1, 'txtteammargintop12px': 1, 'txttimemargintop5px': 1, 'linkviewheight63pxpaddingtop30px': 1, 'boxspecialoverflowhiddenpositionrelativezindex0width641pxheight93pxmarginbottom15pxpadding36px': 1, '12pxborder1px': 1, 'boxspecial': 14, 'titspecialpositionabsolutetop7pxleft12pxfontsize13px': 1, 'linkspecialmarginright3px': 1, 'linkspecial2color888': 1, 'packslideoverflowhidden': 1, 'pagepctoptop8pxright12pxheight19px': 1, 'btnpagewidth19pxheight19pxlineheight19pxbackgroundposition40px': 1, 'btnnextwidth18pxbackgroundposition59px': 1, 'infopagecolor888': 1, 'numindexfontweightnormal': 1, 'linkbannerfloatleftpositionrelativewidth308pxheight80pxmarginleft5px': 1, 'linkbanner': 1, 'framegwidth306pxheight78px': 1, 'bannerwidewidth419pxheight80pxmarginleft11px': 1, 'bannerwide': 1, 'framegwidth417pxheight78px': 1, 'listspecialfloatleft': 1, 'listspecial': 8, 'lifloatleft': 2, 'linkthumbfloatleftpositionrelative': 1, 'linkthumb': 27, 'framegwidth54pxheight78px': 1, 'numgpositionabsolutetop0left0width16pxheight16pxfontsize11pxlineheight16pxcolorffffontfamilytahomaarialsansseriftextaligncenter': 1, 'continfooverflowhiddenwordbreakkeepall': 1, 'titinfodisplayblockoverflowhiddenmaxheight33pxfontweightnormalfontsize13pxlineheight17pxwordbreakbreakall': 1, 'txtinfodisplayblockoverflowhiddenfontsize12pxlineheight16pxcolor888whitespacenowraptextoverflowellipsis': 1, 'listmovie1': 9, 'liwidth146pxpaddingright12px': 2, 'numgbackgroundposition20px': 2, 'numpointbackgroundposition0': 2, 'continfopositionrelativepadding36px': 1, '9px': 2, 'titinfopositionabsolutetop0left9px': 1, 'txtinfofloatleftwidth100letterspacing0': 1, 'gradestardisplayblockoverflowhiddenpositionrelativewidth62pxheight12pxbackgroundposition40px': 1, 'innerstarpositionabsolutetop0left0widthautoheight12pxfontsize0lineheight0backgroundposition40px': 1, '50pxtextindent9999px': 1, 'listmovie2': 6, 'continfopadding0': 1, 'titinfomargin2px': 1, 'txtinfomaxheight31pxwhitespacenormal': 1, 'listmovie3': 10, 'limarginleft10px': 1, 'lifstmarginleft0': 2, 'linkthumbwidth203pxheight80px': 1, 'framegwidth201pxheight78px': 1, 'icoplaypositionabsoluteright10pxbottom10pxwidth22pxheight22pxfontsize0lineheight0backgroundposition100px': 1, 'continfopositionabsolutetop38pxleft0width152pxpadding0': 1, '10pxcolorfff': 1, 'txtinfocolorfff': 1, 'titinfodisplayinline': 1, 'txtruntimedisplayblockoverflowhiddenfontsize11pxlineheight13pxfontfamilytahomaarialsansserifwhitespacenowraptextoverflowellipsisletterspacing0': 1, 'listauto': 8, 'liwidth199pxpaddingleft10pxborderleft1px': 1, 'lifstpaddingleft0borderleft0': 1, 'linkthumbwidth120pxheight80px': 1, 'continfopadding13px': 1, 'titinfomarginbottom2px': 1, 'listrealestate': 8, 'liwidth203pxmarginleft8px': 1, 'linkthumbwidth110pxheight80px': 1, 'framegwidth108pxheight78px': 1, 'continfopaddingleft8px': 1, 'titinfomargintop2pxmarginbottom4px': 1, 'txtinfomargintop2pxlineheight14px': 1, 'titspecialtop10px': 1, 'numgfontfamilyhelveticaarialsansserif': 1, 'gradestarmarginbottom3px': 1, 'continfopaddingtop1px': 1, 'titinfomargintop0': 1, 'txtruntimemarginbottom2pxfontfamilyhelveticaarialsansserif': 1, 'continfopaddingtop16px': 1, 'titinfomargintop1pxlineheight16px': 1, 'listhotissueoverflowhiddenpositionrelativewidth180pxheight280px': 1, 'listhotissue': 33, 'lioverflowhiddenpositionrelativewidth100height20pxmarginbottom8px': 1, 'rolltxtpositionrelative': 1, 'rankcontoverflowhiddenpositionrelativeheight20px': 1, 'numpctopfloatleftwidth16pxheight16pxmargintop1pxfontsize12pxlineheight17pxfontfamilytahomaarialsansserifbackgroundcolortransparenttextaligncenter': 1, 'rank1backgroundposition20px': 1, 'rank2backgroundposition0': 1, 'rank3backgroundposition0': 1, 'rank4backgroundposition0': 1, 'rank5backgroundposition0': 1, 'rank6backgroundposition0': 1, 'rank7backgroundposition0': 1, 'rank8backgroundposition0': 1, 'rank9backgroundposition0': 1, 'rank10backgroundposition0': 1, 'txtissueoverflowhiddenfloatleftwidth119pxpaddingleft6pxlineheight15px': 1, 'linkissuedisplayblockoverflowhiddenpaddingbottom1pxwhitespacenowraptextoverflowellipsis': 1, 'rankresultfloatrightmargin1px': 1, '0fontweightnormalfontsize13pxlineheight14pxcolor888fontfamilytahomaarialsansserifbackgroundcolortransparentletterspacing005em': 1, 'rankresult': 1, 'icopctopdisplayinlineblockbackgroundcolortransparentverticalaligntop': 1, 'icoupwidth11pxheight14pxmarginright3pxbackgroundposition120px': 1, 'icodownwidth11pxheight14pxmarginright3pxbackgroundposition140px': 1, 'icosteadywidth11pxheight6pxmargin5px': 1, '0lineheight10pxbackgroundposition160px': 1, 'iconewwidth27pxheight12pxmargin2px': 1, '0backgroundposition120px': 1, 'txtissuelineheight20px': 1, 'rankresultlineheight16pxfontfamilyhelveticasansserif': 1, 'hotissuepositionabsolutetop19pxright90pxzindex1': 1, 'hotissueminioverflowhiddenpositionrelativewidth161pxheight20pxbackgroundcolorfff': 1, 'hotissuemini': 17, 'listhotissuewidth117px': 1, 'txtissuewidth95px': 1, 'txtrealtimefloatleftwidth44pxheight18pxlineheight18pxbackgroundposition325px': 1, '80pxbackgroundcolortransparenttextaligncenter': 1, 'rank2backgroundposition20px': 1, 'rank3backgroundposition20px': 1, 'rank4backgroundposition20px': 1, 'rank5backgroundposition20px': 1, 'rank6backgroundposition20px': 1, 'rank7backgroundposition20px': 1, 'rank8backgroundposition20px': 1, 'rank9backgroundposition20px': 1, 'rank10backgroundposition20px': 1, 'hotissuelayerdisplaynonepositionabsolutetop38pxright90pxwidth198pxheight384pxpaddingleft20pxborder1px': 1, 'hotissuelayer': 4, 'tithotissuepositionstaticwidth104pxheight34pxmargin10px': 1, '0fontsize13pxlineheight34pxbackgroundposition210px': 1, '80pxbackgroundcolortransparenttextindent0': 1, 'txtstandarddisplayblockpositionstaticwidthautoheightautomargintop5pxfontsize12pxlineheight14pxcolor888textindent0letterspacing0': 1, 'txtstandardmargintop8px': 1, 'issueopen': 1, 'hotissuelayerdisplayblock': 1, 'hotissuebuiltinpositionabsolutetop57pxright0width153pxheight424pxborderleft1px': 1, 'realtimepartheight292pxmarginleft14px': 1, 'realtimepart': 5, 'tithotissuepadding2px': 1, '6pxfontsize13pxcolor118eff': 1, 'listhotissuewidth138pxheight240px': 1, 'liwidth138pxmarginbottom4px': 1, 'txtissuewidth114px': 1, 'tithotissuepadding5px': 1, 'stockpartheight102pxmarginleft15px': 1, 'stockpart': 11, 'linkstockdisplayblockheight40pxmarginbottom8px': 1, 'linkstockhovercolor222textdecorationnone': 1, 'titstockdisplayblockmarginbottom1pxfontweightboldfontsize13pxlineheight15px': 1, 'numstockfontweightnormalfontsize14pxfontfamilytahomaarialsansserifletterspacing003em': 1, 'numstatuspaddingleft3pxfontsize12pxletterspacing0': 1, 'numstatus': 4, 'icoarrowdisplayinlineblockwidth9pxheight10pxmargin8px': 1, '0fontsize0lineheight0textindent9999pxverticalaligntop': 1, 'stockup': 2, 'numstatuscolore30000': 1, 'stockdown': 2, 'numstatuscolor118eff': 1, 'icoarrowbackgroundposition120px': 1, 'icoarrowbackgroundposition130px': 1, 'stockstay': 1, 'icoarrowbackgroundposition140px': 1, 'relpartoverflowhiddenwidth136pxheight28pxmarginleft14pxborder1px': 1, 'relpart': 3, 'itemreldisplayblockwidth139pxheight28px': 1, 'linkrelfloatleftwidth45pxheight28pxborderright1px': 1, 'ecececfontsize12pxlineheight26pxcolor888textaligncenter': 1, 'linkrellineheight29px': 1, 'sectionmultipositionrelativebordertop1px': 1, 'sectionmulti': 1, 'wraptabcontheight157px': 1, 'titkakaotv': 2, 'linktitwidth82pxbackgroundposition380px': 1, 'kakaotvon': 2, 'linktitbackgroundposition380px': 1, 'wrapkakaotv': 2, 'melonon': 1, 'wrapmelondisplayblock': 1, 'tabmultipositionabsolutetop14pxleft90pxheight36px': 1, 'tabmulti': 5, 'lidisplayinlinefloatleftmarginleft13px': 1, 'linktitdisplayblockoverflowhiddenheight36pxfontweightboldlineheight33pxcolor888textdecorationnone': 1, 'linktitcolor222textdecorationunderline': 1, 'linktitlineheight38px': 1, 'boximgspefloatleftmarginright13px': 1, 'boximgspe': 1, 'icolabelboximgspe': 1, 'icolabel3fontsize12px': 1, 'icovideobackgroundposition0': 1, 'sectionblogpositionrelativebordertop1px': 1, 'sectionblog': 2, 'wraptabcontoverflowhiddenheight179px': 1, 'titcafeleft5px': 1, 'titmiznetleft34px': 1, 'titkakaostoryleft87px': 1, 'tittistoryleft178px': 1, 'titbrunchleft243px': 1, 'titstoryfundingleft296px': 1, 'titcafe': 2, '220px': 7, 'titmiznet': 2, 'linktitwidth50pxbackgroundposition36px': 1, 'titkakaostory': 2, 'linktitwidth88pxbackgroundposition86px': 1, 'tittistory': 2, 'linktitwidth62pxbackgroundposition174px': 1, 'titbrunch': 2, 'linktitwidth50pxbackgroundposition236px': 1, 'titstoryfunding': 2, 'linktitwidth74pxbackgroundposition336px': 1, 'cafeon': 2, '256px': 6, 'mizneton': 2, 'kakaostoryon': 2, 'linktitbackgroundposition86px': 1, 'tistoryon': 2, 'linktitbackgroundposition174px': 1, 'brunchon': 2, 'linktitbackgroundposition236px': 1, 'storyfundingon': 2, 'linktitbackgroundposition336px': 1, 'wrapmiznet': 1, 'wrapcafe': 1, 'wrapkakaostory': 1, 'wraptistory': 1, 'wrapbrunch': 1, 'wrapstoryfundingdisplayblock': 1, 'boxstoryfloatrightwidth297pxheight152pxpadding0': 1, 'liststoryoverflowhiddenfloatleft': 1, 'liststory': 17, 'lifloatleftheight160pxmarginleft13px': 1, 'linkitemdisplayblockpositionrelativewidth154pxcursorpointer': 1, 'linkitemhovercolor222textdecorationnone': 2, 'contitemheight56pxpadding4px': 1, 'originitemdisplayblockoverflowhiddenpositionrelativemargintop4pxfontsize12pxlineheight18pxcolor888whitespacenowraptextoverflowellipsis': 1, 'originitem': 4, 'txttellerdisplayblockoverflowhiddenwhitespacenowraptextoverflowellipsis': 1, 'icostorytelleroverflowhiddenpositionabsoluteright0top4pxwidth13pxheight15pxfontsize1pxlineheight0backgroundposition170px': 1, '100pxtextindent9999px': 1, 'linkitemhover': 6, 'tititemcolor118efftextdecorationunderline': 2, 'originitemcolor888textdecorationnone': 1, 'itemtellerdisplayinlineblockmaxwidth115pxpaddingright18px': 1, 'contitemheight54pxpaddingtop6px': 1, 'icostorytellertop0': 1, 'typedesc': 8, 'linkitemwidth152pxheight152pxborder1px': 1, 'contitemheight117pxpadding7px': 1, 'tititemheightautomaxheight36px': 1, 'descitemdisplayblockoverflowhiddenmaxheight48pxpaddingtop8pxfontsize11pxlineheight16pxcolor888wordbreakkeepallwordwrapbreakword': 1, 'originitempositionabsoluteleft13pxbottom9pxright13px': 1, 'itemtellerrightautomaxwidth106px': 1, 'contitemheight96pxpaddingtop10px': 1, 'originitembottom6px': 2, 'typeimg': 10, 'thumbgzindex1height154px': 1, 'framegwidth152pxheight152px': 2, 'contitempositionabsolutetop0left0bottom0width154pxheight154pxbackgroundurlt1daumcdnnetdaumtopdecoimagestop2017bgplate6png': 1, 'tititempositionabsoluteleft13pxright13pxbottom37pxheightautomaxheight36pxpaddingright10pxcolorfff': 1, 'originitempositionabsoluteleft13pxright13pxbottom14pxcolorc9c9c9': 1, 'originitemcolorc9c9c9textdecorationnone': 1, 'tititemcolorffftextdecorationunderline': 1, 'contitemheightautopadding0': 1, 'tititembottom30px': 2, 'graphitemoverflowhiddenpositionabsolutetop74pxleft0width154px': 1, 'graphitem': 7, 'infographpositionabsoluteright10pxtop0zindex10colorfff': 1, 'infograph': 1, 'numgraphfontweightbold': 1, 'bargraphdisplayblockheight20pxbackgroundurlt1daumcdnnetdaumtopdecoimagestop2017bggraphpng': 1, 'repeat': 1, 'barsupportpositionabsoluteleft0top0height20px': 1, 'barsupport': 4, 'bgleftpositionabsoluteleft0top0right16pxheight20pxbackgroundurlt1daumcdnnetdaumtopdecoimagestop2017bargraphpng': 1, 'repeatx': 2, 'bgrightpositionabsoluteright14pxtop0width30pxheight20pxbackgroundurlt1daumcdnnetdaumtopdecoimagestop2017bargraphrightpng': 1, 'fullgraph': 3, 'barsupportwidth100backgroundurlt1daumcdnnetdaumtopdecoimagestop2017bargraphfull2png': 1, 'bgleft': 1, 'bgrightwidth0backgroundnone': 1, 'infographtop2px': 1, 'sectionchannelpositionrelativebordertop1px': 1, 'sectionchannel': 6, 'panelblocpaddingtop60px': 1, 'wraptabcontoverflowhiddenheight507px': 1, 'tithomecookingleft5px': 1, 'titmoneyleft59px': 1, 'titpetleft96px': 1, 'titwomenleft133px': 1, 'titmenleft182px': 1, 'tittravelleft212px': 1, 'titbusinessleft274px': 1, 'titmusicleft325px': 1, 'titwebtoonleft362px': 1, 'titgameleft398px': 1, 'tittogetherpanelbloc': 1, 'tittogether2left434px': 1, 'tithomecooking': 2, 'linktitwidth59pxbackgroundposition0': 1, 'titmoney': 2, 'linktitwidth37pxbackgroundposition59px': 1, 'titpet': 2, 'linktitwidth37pxbackgroundposition96px': 1, 'titwomen': 2, 'linktitwidth49pxbackgroundposition133px': 1, 'titmen': 2, 'linktitwidth30pxbackgroundposition182px': 1, 'tittravel': 2, 'linktitwidth62pxbackgroundposition212px': 1, 'titbusiness': 2, 'linktitwidth51pxbackgroundposition274px': 1, 'titmusic': 2, 'linktitwidth37pxbackgroundposition325px': 1, 'titwebtoon': 2, 'linktitwidth36pxbackgroundposition362px': 1, 'titgame': 2, 'linktitwidth36pxbackgroundposition398px': 1, 'tittogether': 2, 'linktitwidth63pxbackgroundposition434px': 1, 'tittogether2': 2, 'linktitwidth72pxbackgroundposition497px': 1, 'homecookingon': 2, '346px': 12, 'moneyon': 1, 'linktitbackgroundposition59px': 1, 'peton': 1, 'linktitbackgroundposition96px': 1, 'womenon': 1, 'linktitbackgroundposition133px': 1, 'menon': 2, 'linktitbackgroundposition182px': 1, 'travelon': 2, 'linktitbackgroundposition212px': 1, 'businesson': 2, 'linktitbackgroundposition274px': 1, 'musicon': 2, 'linktitbackgroundposition325px': 1, 'webtoonon': 2, 'linktitbackgroundposition362px': 1, 'gameon': 2, 'linktitbackgroundposition398px': 1, 'togetheron': 3, 'linktitbackgroundposition434px': 1, 'linktitbackgroundposition497px': 1, 'wraphomecookingmoneyon': 1, 'wrapmoneypeton': 1, 'wrappetwomenon': 1, 'wrapwomen': 1, 'wrapmen': 1, 'wraptravel': 1, 'wrapbusiness': 1, 'wrapmusic': 1, 'wrapwebtoon': 1, 'wrapgame': 1, 'wraptogetherdisplayblock': 1, 'boxchannelfloatleftpositionrelativewidth154pxheight159pxmargin0': 1, 'boxchannelfstmarginleft0': 1, 'boxchannel': 17, 'linkitemdisplayblockpositionrelativewidth154px': 1, 'thumbgoverflowhiddenwidth154pxheight94px': 1, 'tititemdisplayblockoverflowhiddenmaxheight36pxpaddingright12pxfontweightnormallineheight18pxwordwrapbreakword': 1, 'channelitemdisplayblockheight18pxpadding4px': 1, '0fontsize12pxlineheight18px': 1, 'channelitem': 2, 'linkchanneldisplayinlineblockoverflowhiddenmaxwidth124pxheight20pxlineheight18pxcolor888verticalaligntopwhitespacenowraptextoverflowellipsis': 1, 'originitemdisplayblockoverflowhiddenmargintop3pxfontsize12pxlineheight21pxcolor888whitespacenowraptextoverflowellipsis': 1, 'thumbchanneldisplayinlineblockpositionrelativemargin1px': 1, 'thumbchannel': 2, 'imgthumbborderradius18px': 1, 'bgframepositionabsolutetop0left0width18pxheight18pxbackgroundposition410px': 1, 'thumbchannelmargintop0': 1, 'linkchannellineheight20px': 2, 'typechdescbackgroundcolorfbfbfc': 1, 'typechdesc': 6, 'linkitemwidth152pxheight157pxborder1px': 1, 'contitempadding13px': 1, 'descitemdisplayblockoverflowhiddenmaxheight48pxpaddingtop8pxfontsize11pxlineheight16pxcolor888': 1, 'channelitempadding0': 1, '13pxborder1px': 1, 'ecececbordertopwidth0': 1, 'originitemmargintop17px': 1, 'contitempaddingtop16px': 1, 'boximgspemarginright0': 1, 'linksectorheight159px': 1, 'framegwidth319pxheight157px': 2, 'contitemheight159pxbackgroundimageurlt1daumcdnnetdaumtopdecoimagestop2017bgplate5png': 1, 'boxchwidefloatleftpositionrelativewidth321pxheight159pxmargin0': 1, 'boxchwide': 10, 'linkitemdisplayblockoverflowhiddenpositionrelativewidth321pxheight159px': 1, 'linkitem': 8, 'thumbgzindex1width321pxheight159px': 1, 'contitempositionabsolutetop0left0width321pxheight159pxcolorfffbackgroundurlt1daumcdnnetdaumtopdecoimagestop2017bgplate5png': 1, 'tititemoverflowhiddenpositionabsoluteleft17pxbottom13pxmaxwidth284pxheight20pxfontweightnormalfontsize14pxlineheight20pxwhitespacenowraptextoverflowellipsis': 1, 'tititemhovercolorfff': 1, 'originitemoverflowhiddenpositionabsoluteleft17pxbottom33pxmaxwidth284pxheight20pxfontsize12pxlineheight18pxcolorfffwhitespacenowraptextoverflowellipsis': 1, 'originitembottom30px': 1, 'boxchextraoverflowhiddenfloatleftpositionrelativewidth154pxheight159pxmargin0': 1, 'boxchextra': 17, 'titchextrapositionabsolutetop14pxleft15pxright50pxzindex1fontsize11pxcolor118eff': 1, 'linkitemdisplayblockwidth154pxheight159px': 1, 'thumbgzindex1width154pxheight159px': 1, 'framegwidth152pxheight157px': 1, 'contitempositionabsolutetop0left0width154pxheight159pxbackgroundurlt1daumcdnnetdaumtopdecoimagestop2017bgplate6png': 1, 'emphextrapositionabsolutetop14pxleft15pxright15pxfontsize11pxcolor118eff': 1, 'tititempositionabsoluteleft14pxright14pxbottom34pxfontweightnormallineheight18pxcolorfff': 1, 'tititemtextdecorationunderline': 1, 'originitemdisplayinlineblockoverflowhiddenpositionabsoluteleft13pxrightautobottom8pxmaxwidth124pxfontsize12pxlineheight24pxcolorc9c9c9whitespacenowraptextoverflowellipsis': 1, 'titchextratop17px': 1, 'emphextratop17px': 1, 'originitembottom5px': 1, 'titbanneroverflowhiddenpositionabsoluteleft14pxright14pxbottom15pxfontweightnormalfontsize11pxcolorffftextdecorationunderlinetextaligncenterwhitespacenowraptextoverflowellipsis': 1, 'pagepctoptop15pxright15pxbottomauto': 1, 'btnpagewidth16pxheight16pxlineheight16pxbackgroundposition60px': 1, 'btnnextwidth15pxbackgroundposition76px': 1, 'listchbest': 9, 'lipositionrelativewidth154pxheight159px': 1, 'thumbgzindex0': 1, 'linkchbestpositionabsolutetop0left0width154pxheight120px': 1, 'titchbestoverflowhiddenpositionabsoluteleft14pxright14pxbottom0maxheight36pxfontweightnormalfontsize13pxlineheight18pxcolorfffwordbreakkeepallwordwrapbreakword': 1, 'titchbesthovertextdecorationunderline': 1, 'linkchanneloverflowhiddenpositionabsoluteleft0bottom0maxwidth124pxheight25pxpadding2px': 1, '10pxfontsize11pxlineheight23pxcolorc9c9c9whitespacenowraptextoverflowellipsis': 1, 'thumbchannelfloatleftpositionrelativemargin5px': 1, 'linkchannelpadding4px': 1, 'thumbchannelmargintop3px': 1, 'boxinfobnrfloatleftmargin0': 1, 'boxinfobnr': 15, 'linkitemdisplayblockoverflowhiddenpositionrelative': 1, 'linkitemhovercolor222': 1, 'thumbgzindex1width154pxheight154pxbackgroundcolorfff': 1, 'contitemoverflowhiddenpositionabsolutetop8pxleft13pxright7px': 1, 'tititemdisplayinlineblockoverflowhiddenmaxwidth120pxpaddingright8pxfontweightboldbackgroundposition100': 1, '7pxwhitespacenowraptextoverflowellipsisverticalaligntop': 1, 'txtinfodisplayblockoverflowhiddenmargintop2pxwhitespacenowraptextoverflowellipsis': 1, 'originitemdisplayblockoverflowhiddenmargintop2pxfontsize12pxlineheight16pxcolor888whitespacenowraptextoverflowellipsis': 1, 'contitemtop11px': 1, 'tititembackgroundposition100': 1, 'wraptogether': 6, 'thumbgheight159px': 2, 'framegheight157px': 2, 'grouprecommoverflowhiddenwidth670pxclearboth': 1, 'grouprecomm': 7, 'boxstoryfloatleftwidth295pxheight157pxmarginright13pxpadding0': 1, 'boxbestwidth629pxmargin0': 1, 'boxbest': 10, 'listrankingmargintop7px': 1, 'lifloatleftwidth295pxpadding0': 1, 'linkranking': 2, 'txtrankingwidth270px': 1, 'numpctopmargintop2px': 2, 'bestimgwidth148pxheight108pxmargin2px': 1, '0padding0': 1, 'bestimg': 7, 'linkrankingpositionrelativewidth148pxheight108px': 1, 'thumbgwidth148pxheight108px': 1, 'framegwidth146pxheight106px': 1, 'contitempositionabsolutetop0left0width148pxheight108pxbackgroundurlt1daumcdnnetdaumtopdecoimagestop2017bgplate9png': 1, 'numpctoppositionabsolutetop0left0margin0': 1, 'txtrankingpositionabsoluteright12pxbottom10pxleft11pxwidthautocolorfffwhitespacenormal': 1, 'numpctop': 1, 'bestimgmargintop0': 1, 'txtrankingbottom8pxleft12px': 1, 'boxrecomm': 6, 'listrecommoverflowhiddenwidth321pxmargintop11px': 1, 'listrecomm': 4, 'lifloatleftwidth140pxheight30pxmargin0': 1, 'linkrecommdisplayinlineblockoverflowhiddenmaxwidth100lineheight30pxwhitespacenowraptextoverflowellipsis': 1, 'thumbrecommfloatleftwidth30pxheight30pxmarginright6pxverticalaligntop': 1, 'thumbrecomm': 1, 'imgthumbborderradius30px': 1, 'listrecommmargintop9px': 1, 'boxbestwidth295pxmargin0': 1, 'boxgamemarginright0': 1, 'boxinfobnrheight159pxmarginbottom0': 1, 'txtinfomargin0': 1, 'boxwtrankpositionrelative': 1, 'boxwtrank': 1, 'titsubjectpositionabsolutetop0left11pxzindex1': 1, 'listwtrankmargintop13px': 1, 'listwtrank': 16, 'fstoverflowhiddenpositionrelativeheight62pxmarginbottom9pxpaddingtop20pxborderbottom1px': 1, 'imgthumbpositionabsolutetop0right0widthautoheight83pxpointereventsnone': 1, 'linkrankingdisplayinlineblockoverflowhiddenlineheight18pxverticalaligntop': 1, 'contitemoverflowhiddenwidth140px': 1, 'txtrankingdisplayblockoverflowhiddenmaxwidth200pxwhitespacenowraptextoverflowellipsis': 1, 'txtrankingcolor118efftextdecorationunderline': 1, 'txtrankingmaxheight36pxwhitespacenormalwordbreakkeepallwordwrapbreakword': 1, 'limarginbottom4px': 1, 'fstheight59pxmarginbottom9pxpaddingtop23px': 1, 'boxmusicpaddingleft12pxheight157px': 1, 'boxmusic': 6, 'headitemoverflowhiddenpadding7px': 1, '11pxlineheight18px': 1, 'headitem': 4, 'titsubjectfloatleftmargin0': 1, 'txtstandardfloatleftfontsize11pxcolor888': 1, 'txtnumfontfamilytahomaarialsansserifletterspacing0': 1, 'listmusicoverflowhiddenwidth646px': 1, 'listmusic': 16, 'lifloatleftpositionrelativewidth70pxmarginright36pxpaddingleft22px': 1, 'linkitemdisplayblockwidth70px': 1, 'thumbgwidth70pxheight70px': 1, 'framegwidth68pxheight68px': 1, 'contitemdisplayblockpaddingtop4px': 1, 'tititemdisplayblockoverflowhiddenmargin0fontweightnormallineheight16pxwhitespacenowraptextoverflowellipsis': 1, 'tititemhovercolor118efftextdecorationunderline': 1, 'originitemdisplayblockoverflowhiddenfontsize12pxlineheight16pxcolor888whitespacenowraptextoverflowellipsis': 1, 'linksingercolor888': 1, 'numpctoppositionabsolutetop0left0width16pxheight16pxtextindent9999pxverticalaligntop': 1, 'headitempadding10px': 1, 'txtnumfontfamilyhelveticaarialsansserif': 1, 'wraptopicwidth990pxmargin0': 1, 'autopadding29px': 1, '45px': 1, 'wraptopic': 4, 'titphotodisplayinlineblockoverflowhiddenheight36pxfontsize16pxlineheight33pxverticalaligntop': 1, 'linkphotoclipdisplayinlineblockpaddingright11pxbackgroundposition100': 1, '242pxwhitespacenowrapverticalaligntop': 1, 'linkphotothemedisplayinlineblockmarginright6pxcolor118effverticalaligntop': 1, 'viewphotooverflowhiddenpositionrelativewidth990pxheight400pxmargintop20px': 1, 'viewphoto': 26, 'listphotooverflowhiddenpositionabsolutetop0': 1, 'listphoto': 2, 'boxphotodisplayblockoverflowhiddenwidth682pxheight400pxbackgroundcolor333textdecorationnonetextaligncenter': 1, 'boxphoto': 1, 'imgthumbdisplayinline': 1, 'detailphotodisplaynonepositionabsolutetop0left50width682pxmarginleft341pxpaddingtop330px': 1, 'detailphoto': 2, 'framegwidth680pxheight398px': 1, 'linkphotodisplayblockoverflowhiddenpositionrelativeheight70pxbackgroundurlt1daumcdnnetdaumtopdecoimagestop2017bgplateslidepng': 1, 'linkphotohovertextdecorationnone': 1, 'linkphoto': 4, 'icophotopositionabsolutetop18pxright20pxwidth17pxheight15pxbackgroundposition160px': 1, '60pxtextindent9999px': 1, 'titgalleryoverflowhiddenmargin14px': 1, '57px': 1, '20pxfontweightnormalfontsize14pxcolorf4f4f4textdecorationnonewhitespacenowraptextoverflowellipsis': 1, 'descsourcedisplayblockpadding1px': 1, '20pxfontsize11pxcolorfffopacity06filteralphaopacity60': 1, 'txtdatemarginleft10pxfontfamilyHelveticatahomasansserif': 1, 'btnpreviewoverflowhiddenpositionabsolutetop0width152pxheight400pxbackgroundurlt1daumcdnnetdaumtopdecoimagestop2017bgplateslide2png': 1, 'norepeattextdecorationnonecursorpointer': 1, 'btnpreview': 4, 'framegwidth150pxheight398px': 1, 'icopctoppositionabsolutetop170pxwidth60pxheight60pxtextindent9999px': 1, 'btnprevleft0borderright2px': 1, 'fff': 2, 'btnprev': 2, 'icopctopleft0backgroundposition190px': 1, 'btnnextright0borderleft2px': 1, 'btnnext': 3, 'icopctopright0backgroundposition190px': 1, 'btngallerybackgroundcolor333': 1, 'txtgallerydisplaynonepadding184px': 1, '71pxlineheight16pxcolorfff': 1, 'btngallery': 1, 'txtgallerydisplayblock': 1, 'txtgallerypaddingright71pxpaddingleft0textalignright': 1, 'viewslideoverflowhiddenpositionrelativeheight60pxmargintop20px': 1, 'viewslide': 66, 'listthumbnailoverflowhidden': 1, 'listthumbnail': 4, 'lifloatleftpaddingleft2px': 1, 'lifstpaddingleft0': 1, 'linkthumbdisplayblockpositionrelativewidth60pxheight60px': 1, 'framegwidth58pxheight58pxcursorpointer': 1, 'framegwidth56pxheight56pxborder2px': 1, '118effopacity1filteralphaopacity100': 1, 'covergpositionabsolutetop0bottom0left0right0backgroundfffopacity06filteralphaopacity60': 1, 'btnmovepositionabsolutetop0width20pxheight60px': 1, 'btnprevleft0': 1, 'btnnextright0': 1, 'btnmove': 1, 'icopctopdisplayblockwidth20pxheight20pxmargintop20pxtextindent9999pxcursorpointer': 1, 'icopctopbackgroundposition190px': 1, 'icopctopbackgroundposition220px': 1, 'titphotolineheight39px': 1, 'titgallerymargintop16px': 1, 'descsourcepaddingtop2px': 1, 'txtgallerypaddingtop186px': 1, 'vphototype2': 9, 'boxphotowidth990px': 1, 'detailphotowidth990pxmarginleft495px': 1, 'framegwidth988px': 1, 'linkphotobackgroundrepeat': 1, 'btnpreviewtop140pxheight120pxborder0': 1, 'nonebackgroundnone': 1, 'framegdisplaynone': 1, 'icopctoptop30px': 1, 'txtgallerypaddingtop43px': 1, 'listthumbnail2': 3, 'linkthumbwidth246px': 1, 'framegwidth244px': 1, 'framegwidth242px': 1, 'listthumbnail3': 9, 'linkthumboverflowhiddenwidth196px': 1, 'framegwidth194px': 1, 'framegwidth192px': 1, 'fst': 10, 'lst': 10, 'linkthumbwidth197px': 1, 'frameg': 10, 'framegwidth195px': 1, 'fston': 5, 'lston': 5, 'framegwidth193px': 1, 'listthumbnail4': 9, 'linkthumboverflowhiddenwidth163px': 1, 'framegwidth161px': 1, 'framegwidth159px': 1, 'linkthumbwidth164px': 1, 'framegwidth162px': 1, 'framegwidth160px': 1, 'listthumbnail5': 9, 'linkthumboverflowhiddenwidth140px': 1, 'framegwidth138px': 1, 'framegwidth136px': 1, 'linkthumbwidth139px': 1, 'framegwidth137px': 1, 'framegwidth135px': 1, 'listthumbnail6': 3, 'linkthumboverflowhiddenwidth122px': 1, 'framegwidth120px': 1, 'framegwidth118px': 1, 'listthumbnail7': 9, 'linkthumboverflowhiddenwidth108px': 1, 'framegwidth106px': 1, 'framegwidth104px': 1, 'linkthumbwidth109px': 1, 'framegwidth107px': 1, 'framegwidth105px': 1, 'listthumbnail8': 9, 'linkthumboverflowhiddenwidth97px': 1, 'framegwidth95px': 1, 'framegwidth93px': 1, 'linkthumbwidth98px': 1, 'framegwidth96px': 1, 'framegwidth94px': 1, 'txtgallerypaddingtop46px': 1, 'topicspepositionabsolutetop0left50width990pxmarginleft495px': 1, 'topicspe': 3, 'linkspeoverflowhiddenpositionabsolutetop0width464pxheight610pxfontsize1pxlineheight0textalignlefttextindent9999px': 1, 'linkspeleftleft465px': 1, 'linksperightright465px': 1, 'topictype2backgroundposition50': 1, 'topictype2': 14, 'headlinephotooverflowhidden': 1, 'headlinephoto': 1, 'titphotofloatleft': 1, 'txtsub1overflowhiddenpadding18px': 1, '2pxfontsize24pxlineheight28pxletterspacing1pxwhitespacenowraptextoverflowellipsisclearboth': 1, 'linkgate1floatrightoverflowhiddenheight36pxfontsize16pxlineheight33pxcolorfff': 1, 'linkgate1': 1, 'icoarrowdisplayinlineblockwidth8pxheight12pxmargin0': 1, '8pxbackgroundposition100px': 1, 'txtsub2padding11px': 1, '1pxfontsize22pxlineheight28pxletterspacing1pxclearboth': 1, 'txtsub2': 1, 'infosubtxtdisplayblockoverflowhiddenwhitespacenowraptextoverflowellipsis': 1, 'linkgate2displayinlineblockoverflowhiddenwidthautoheight16pxmargin14px': 1, '10pxpadding10px': 1, '16pxbackgroundcolor222fontsize14pxlineheight16pxcolorfffverticalaligntop': 1, 'linkgate2': 2, 'icoarrowdisplayinlineblockwidth6pxheight10pxmargin4px': 1, '19pxbackgroundposition110px': 1, '265pxverticalaligntop': 1, 'txtsub1paddingtop22px': 1, 'linkgate1lineheight39px': 1, 'txtsub2paddingtop16pxpaddingbottom0': 1, 'linkgate2margintop10pxpaddingtop12pxpaddingbottom10px': 1, 'icoarrowmargintop2px': 1, 'topicbgwingpositionabsolutetop0right0left0zindex1minwidth990pxminheight610pxheight100': 1, 'topicbgwing': 3, 'bgwingpositionabsoluteminwidth960pxwidth50height100backgroundposition0': 1, '0backgroundrepeatnorepeat': 1, 'frwingtop0left50backgroundposition100': 1, 'flwingbottom0left0backgroundposition0': 1, 'noticelayeroverflowhiddenwidth100borderbottom1px': 1, 'ecf2f7backgroundcolorf4faff': 1, 'innernoticelayeroverflowhiddenpositionrelativewidth990pxheight110pxmargin0': 1, 'autobackgroundimageurlt1daumcdnnetdaumtopdecoimagestop2017noticestartpngbackgroundrepeatnorepeat': 1, 'innernoticelayer1backgroundposition100': 1, 'innernoticelayer': 6, 'setstartfloatleftpaddingtop29px': 1, 'txtnewsdisplayblockfontweightnormalfontsize20px': 1, 'linkstartoverflowhiddenfloatleftmargintop3pxpaddingright9pxfontsize12pxcolor888backgroundposition100': 1, '197pxtextdecorationunderline': 1, 'btncloseoverflowhiddenpositionabsolutetop36pxright0width20pxheight20pxbackgroundposition170px': 1, '180pxtextindent9999px': 1, 'setstartpaddingtop33px': 1, 'linkstartmargintop0': 1, 'mobileweblayeroverflowhiddenwidth100paddingbottom29pxbordertop1px': 1, 'ecececbackgroundcolorf2f2f2textaligncenter': 1, 'mobileweblayer': 7, 'txtmobilemargintop18pxmarginleft13pxfontsize12pxcolor888': 1, 'txtmobile': 2, 'icoinfodisplayinlineblockwidth13pxheight13pxmargin3px': 1, '0backgroundposition170px': 1, '120pxverticalaligntop': 1, 'linkmobiledisplayblockwidth100pxheight30pxmargin12px': 1, 'dadbddfontweightboldfontsize13pxlineheight28pxcolor222backgroundcolorfff': 1, 'linkmobilehovertextdecorationnone': 1, 'txtmobilemargintop22pxmarginleft9px': 1, 'icoinfomargin1px': 1, 'linkmobilemargintop9pxlineheight31px': 1, 'media': 2, 'only': 8, 'screen': 8, 'and': 8, 'webkitmindevicepixelratio': 2, '15': 4, 'mindevicepixelratio': 2, 'minresolution': 4, '144dpi': 2, '15dppx': 2, 'icosuggestbackgroundimageurlsearch1daumcdnnetsearchstaticscommonpir2weathericoweathermpngbackgroundsize43px': 1, '1680px': 1, 'icopctopbackgroundimageurlt1daumcdnnetdaumtopdecoimagestop2017rtnicopctop180423pngbackgroundsize250px': 1, 'icovertbackgroundimageurlt1daumcdnnetdaumtopdecoimagestop2017rtnicopctopvert170724pngbackgroundsize100px': 1, '500px': 1, 'txtpctopbackgroundimageurlt1daumcdnnetdaumtopdecoimagestop2017rtntxtpctop170915pngbackgroundsize600px': 1, 'bgpctop': 1, 'loginmybackgroundimageurlt1daumcdnnetdaumtopdecoimagestop2017rtnbgpctop170328pngbackgroundsize610px': 1, '490px': 1, 'numpctopbackgroundimageurlt1daumcdnnetdaumtopdecoimagestop2017rtnnumpctop170405pngbackgroundsize80px': 1, 'innernoticelayerbackgroundimageurlt1daumcdnnetdaumtopdecoimagestop2017rtnnoticestartpngbackgroundsize300px': 1, 'imgweatherbackgroundimageurlt1daumcdnnetdaumtopdecoimagestop2017rtnimgweather170628pngbackgroundsize300px': 1, '460px': 1, 'icowsbackgroundimageurlt1daumcdnnetdaumtopdecoimagestop2017rtnicows1801023pngbackgroundsize270px': 1, 'icowmbackgroundimageurlt1daumcdnnetdaumtopdecoimagestop2017rtnicowm1801023pngbackgroundsize900px': 1, 'imgkeyboardbackgroundimageurlt1daumcdnnetdaumtopdecoimagestop2017rtnimgkeyboard171229pngbackgroundsize30px': 1, 'btnkeyboardbackgroundimageurlt1daumcdnnetdaumtopdecoimagestop2017rtnimgkor171226pngbackgroundsize431px': 1, 'btnkeyboardactivebackgroundimageurlt1daumcdnnetdaumtopdecoimagestop2017rtnimgkorhover171226pngbackgroundsize431px': 1, 'btnkeyboardbackgroundimageurlt1daumcdnnetdaumtopdecoimagestop2017rtnimgkorshift171229pngbackgroundsize431px': 1, 'btnkeyboardactivebackgroundimageurlt1daumcdnnetdaumtopdecoimagestop2017rtnimgkorshifthover171229pngbackgroundsize431px': 1, 'btnkeyboardbackgroundimageurlt1daumcdnnetdaumtopdecoimagestop2017rtnimgeng171226pngbackgroundsize431px': 1, 'btnkeyboardactivebackgroundimageurlt1daumcdnnetdaumtopdecoimagestop2017rtnimgenghover180122pngbackgroundsize431px': 1, 'btnkeyboardbackgroundimageurlt1daumcdnnetdaumtopdecoimagestop2017rtnimgengshift171226pngbackgroundsize431px': 1, 'btnkeyboardactivebackgroundimageurlt1daumcdnnetdaumtopdecoimagestop2017rtnimgengshifthover171226pngbackgroundsize431px': 1, 'rolltxt': 3, 'webkittransition': 5, 'transform': 27, '0s': 5, 'linear': 5, 'moztransition': 5, 'mstransition': 5, 'otransition': 5, 'transition': 5, 'webkittransform': 7, 'translateY0': 5, 'moztransform': 7, 'mstransform': 7, 'otransform': 7, 'licurrent': 3, 'translateY20px': 5, '3s': 15, 'easeout': 10, 'translateY0px': 10, 'initial': 5, 'important': 5, 'positionabsolute': 1, 'backgroundcolorfff': 1, 'translateY28px': 10, 'opacity1': 1, 'linext': 1, 'opacity0': 1, 'cEtc': 3, 'listthumbnailwidth1858px': 1, 'listthumbnailclasslistthumbnailwidth990px': 1, 'ease': 5, 'translateX0': 5, 'kakaotvasian2018backgroundurlt1daumcdnnetdaumtopdecoimagestop2017special1bgasian2018kakaotvpng': 1, 'kakaotvasian2018': 1, 'linktitcolor5a32ff': 1, 'asian2018slot': 29, 'icoasiandisplayinlineblockoverflowhiddenbackgroundurlt1daumcdnnetdaumtopdecoimagestop2017special1icoasian180808png': 1, 'asian2018slotpositionrelativezindex10width655pxminheight60pxmargintop15px': 1, 'innerslotoverflowhiddenpositionabsolutetop0left0zindex20width655pxheight60pxbackgroundurlt1daumcdnnetdaumtopdecoimagestop2017special1bgasian2018180807png': 1, 'titasiangamepositionabsolutetop0left0width150pxheight60px': 1, 'linkasiangamedisplayblockoverflowhiddenheight100': 1, 'wrapddaypositionabsolutetop24pxright4pxheight13pxfontweightnormallineheight11pxfontfamilyHelveticaNeueMedium': 1, 'sansserif': 2, 'wrapdday': 4, 'txtddayfontsize16pxcolor837EF3': 1, 'icominusdisplayinlineblockmargin0': 1, '1pxverticalaligntop': 1, 'numddaydisplayinlineblockwidth10pxtextaligncenter': 1, 'moreinfopositionabsolutetop23pxright11px': 1, 'moreinfo': 3, 'linkgfloatleftpadding0': 1, '3pxfontsize13pxlineheight15pxletterspacing1pxcolor3B35CE': 1, 'linkg': 2, 'icoarrwidth10pxheight10pxmargin3px': 1, '4pxbackgroundposition56px': 1, 'listnoticefloatleftwidth381pxmargin19px': 1, '163px': 1, 'liwidth100': 1, 'linknoticedisplayblockoverflowhiddenfontsize14pxtextoverflowellipsiswhitespacenowrapletterspacing1px': 1, 'icohotfloatleftwidth36pxheight18pxmargin3px': 1, 'icovodfloatleftwidth36pxheight18pxmargin3px': 1, '0backgroundposition40px': 1, 'icosmsfloatleftwidth52pxheight16pxmargin3px': 1, '0backgroundposition0': 1, 'txtgamespaddingright6pxcolor7A63FF': 1, 'asian2018open': 1, 'txtopenpositionabsolutetop20pxright9pxfontweightboldfontsize14pxcolor837EF3': 1, 'asian2018opentype2': 1, 'listnoticemarginleft149px': 1, 'asian2018medal': 15, 'medalinfooverflowhiddenpositionabsolutetop30pxleft0width150pxheight30px': 1, 'medalinfo': 7, 'linkmedaldisplayblockheight100': 1, 'listmedalfloatleftpaddingleft21px': 1, 'listmedal': 1, 'nummedaldisplayblockwidth20pxheight20pxmarginright3pxfontweightboldfontsize11pxlineheight19pxfontfamilyHelveticaNeue': 1, 'sansserifcolor534400textaligncenter': 1, 'txtrankingfloatleftmargin3px': 1, '2pxfontsize12pxlineheight12px': 1, 'numrankingfontweightboldfontfamilyHelveticaNeue': 1, 'innerslotbackgroundurlt1daumcdnnetdaumtopdecoimagestop2017special1bgasian2018medal180807png': 1, 'titasiangameheight30px': 1, 'listnoticewidth384pxmarginleft150px': 1, 'txtgamespaddingright4px': 1, 'icominusmargin0': 1, 'nummedallineheight20px': 1, 'listnoticewidth372pxmargintop20px': 1, 'linknoticeletterspacing0': 1, 'moreinfotop24px': 1, 'linkgletterspacing0': 1, 'icoarrmargintop1px': 1, 'icohot': 1, 'icovodmargin2px': 1, 'icosmsmargin2px': 1, 'medalinfolineheight21px': 1, 'txtrankingmargintop5px': 1, 'icoasianbackgroundimageurlt1daumcdnnetdaumtopdecoimagestop2017rtnspecial1icoasian180808pngbackgroundsize75px': 1, '36px': 1, 'innerslotbackgroundimageurlt1daumcdnnetdaumtopdecoimagestop2017rtnspecial1bgasian2018180807pngbackgroundsize655px': 1, 'innerslotbackgroundimageurlt1daumcdnnetdaumtopdecoimagestop2017rtnspecial1bgasian2018medal180807pngbackgroundsize655px': 1, 'kakaotvasian2018backgroundimageurlt1daumcdnnetdaumtopdecoimagestop2017rtnspecial1bgasian2018kakaotvpngbackgroundsize655px': 1, '218px': 1, '주요': 2, '서비스': 5, '바로가기': 9, '오늘의': 6, '정보': 8, '미디어': 3, '실시간': 4, '이슈': 4, '멀티미디어': 2, '블로그': 5, '유익한': 2, '쇼핑': 3, '포토amp영상': 1, '웹': 1, '접근성': 1, '안내': 1, '자동실행': 1, '광고': 1, '설정': 1, '검색': 8, '통합': 2, '한글입력기': 1, '인기': 1, '검색어': 3, '어린이집': 1, '원장': 1, '투신': 1, '김지수': 1, '댓글논란': 1, '전효성': 1, '계약위반': 1, '최명길': 1, '집공개': 1, '기안84': 6, '수입': 1, '이재명': 2, '새옹지마': 1, '김한길': 1, '폐암': 2, '경기': 1, '흉기살해': 1, '이국주': 1, '사칭주의': 1, '콘서트7080': 1, '폐지': 1, '김사랑': 1, '제주': 1, '백구': 1, '학대': 1, '사유리': 1, '이상민': 1, '강한나': 6, '망언논란': 1, '조현병': 1, '어머니': 1, '폭행': 1, 'lt이전': 1, 'gt다음': 1, '다음을': 1, '시작페이지로': 1, '카페': 3, '메일': 2, '뉴스': 4, '지도': 2, '증권': 1, '카카오TV': 3, '웹툰': 3, '브런치': 3, '사전': 1, '게임': 3, '별플레이': 1, '같이가치': 3, '주요서비스': 1, '더보기': 2, '⋁': 1, '전체': 1, '커뮤니케이션': 1, '티스토리': 2, '아지트': 1, '카카오스토리': 2, '스포츠': 4, '연예': 2, '아고라': 1, '쇼핑생활': 1, '쇼핑하우': 1, '항공권신규업데이트': 1, '금융': 1, '부동산': 2, '자동차': 2, '미즈넷': 2, '문화엔터': 1, '영화': 2, '나눔펀딩': 1, '스토리펀딩': 2, '사전지식': 1, '어학사전': 1, '번역': 1, '단어장': 1, '백과사전': 1, '팁': 1, '배틀그라운드': 1, '검은사막': 1, '길찾기': 1, '로드뷰': 1, '버스정보': 1, '지하철노선도': 1, '카카오': 2, '소식': 1, 'AI': 1, '다음': 8, '전체보기': 2, '메뉴닫기': 1, '10': 2, '29': 1, '월': 1, '날씨': 21, '서울시': 1, '흐림': 18, '영상': 19, '4도': 2, '4°C': 2, '경기도': 1, '5도': 2, '5°C': 2, '인천시': 2, '대구시': 1, '10도': 2, '10°C': 2, '대전시': 1, '8도': 4, '8°C': 4, '광주시': 1, '맑음': 1, '9도': 4, '9°C': 4, '부산시': 1, '12도': 2, '12°C': 2, '울산시': 1, '경상북도': 2, '강원도': 2, '충청북도': 1, '전라북도': 1, '전라남도': 2, '13도': 1, '13°C': 1, '제주자치도': 1, '16도': 1, '16°C': 1, '경상남도': 1, '11도': 1, '11°C': 1, '날찌정보': 1, '8897': 1, '펼치기': 1, '현재': 7, '지역': 1, '어제보다': 1, '°C': 1, '상세보기': 1, '미세먼지': 1, '통합대기': 1, 'X': 1, '날씨정보': 1, '닫기': 1, '선택됨': 1, '1탭': 1, '카슈끄지': 1, '지정학': 1, '추악한': 1, '삼국지': 1, '만': 1, '13세': 1, '나이로': 1, '무대를': 1, '장악한': 1, '보아': 1, '일반뉴스': 1, '강경화폼페이오': 1, '통화이란': 1, '제재': 1, '복원middot북미협상': 1, '논의': 1, '비행': 1, '800시간': 1, '불과': 1, '새': 1, '항공기': 1, '추락': 1, '번지는': 1, '의문': 1, '이총리': 1, '경총': 1, '지도부와': 1, '막걸리': 1, '회동quot대내외': 1, '여건': 1, '어려워quot': 1, 'quot가정폭력': 1, '당한': 1, '나를': 1, '더': 3, '비참하게': 1, '만든': 1, '건': 1, '경찰middot검찰middot법원quot': 1, '이번': 1, '주': 1, '기온': 1, '떨어진다충남middot호남엔': 1, '39눈발39': 1, '윤석열': 1, '국감중': 1, '임종헌': 1, '고발요청': 1, '논란박상기': 1, 'quot잘못됐다quot': 1, '메르켈': 1, 'quot이번이': 1, '마지막': 1, '총리': 1, '임기조기총선': 1, '열려도': 1, '불출마quot': 1, '끊이지': 1, '않는': 1, '유치원': 1, '비리해마다': 1, '조사했는데': 1, '왜': 1, 'quot3년': 1, '뒤': 1, '서울': 1, '모든': 1, '초중고': 1, '무상급식quot일부': 1, '자치구': 1, '예산부담에': 1, '39난색39': 1, '드루킹': 1, '측근': 1, 'quot김경수에': 1, '댓글조작': 1, '시연quot김경수': 1, 'quot신빙성': 1, '부족quot': 1, '입장하는': 1, '최명길박중훈': 1, '우묵배미의': 1, '사랑': 1, 'GV': 1, '대놓고': 1, '손으로': 1, '얼굴을': 1, '밀어버리는': 1, '타지키스탄': 1, '선수': 1, '공식발표': 1, '이강인': 1, '에브로전': 1, '명단': 1, '포함발': 1, '뉴스홈': 1, '연재': 1, '랭킹': 1, 'TV': 2, '포토': 4, '코스피': 1, '2000선': 1, '붕괴': 1, '탭1전체': 4, '탭8': 1, 'lt': 4, '이전': 6, '탭': 8, 'gt': 4, '1위': 5, '2위': 5, '장원영': 5, '3위': 5, '아이즈원': 5, '4위': 5, '진해성': 5, '5위': 5, '안녕하세요': 5, '6위': 5, '7위': 5, '이다희': 5, '8위': 5, '이윤철': 5, '9위': 5, '동상이몽': 5, '2': 6, '10위': 5, '이덕선': 5, '증시': 2, '영국': 1, '707477': 1, '9652': 2, '전일대비': 2, '상승13521': 1, '독일': 1, '1143981': 1, '상승23919': 1, '관련': 1, '링크모음': 1, '환율': 1, '운세': 1, 'uarr': 18, '상승142': 2, '상승118': 2, '상승109': 2, '상승67': 2, '상승62': 2, '상승55': 2, '상승184': 2, '신규진입': 2, '상승44': 2, '상승53': 2, '20181029': 1, '2322기준': 1, 'X닫기': 1, 'TV하이라이트': 2, '건강을': 2, '위한': 3, '부분': 2, '운동': 3, '명장면': 3, '오늘은': 2, '이거': 2, '만들어': 2, '먹어야지': 2, 'SBS': 1, '스페셜': 1, '동영상': 16, '“대중교통': 1, '이용하니': 1, '너무': 1, '편해요”': 1, '달샤벳': 1, '출신': 1, '수빈': 1, '나도': 1, '엄마야': 1, '106회': 1, '예고': 1, '“그러고도': 1, '사람이야”': 1, '박준혁': 1, '꿀픽Cool': 1, 'Pick': 1, '′동상이몽2′': 1, '한고은': 1, '남편': 1, '신영수가': 1, '복': 1, '받은': 1, '이유': 1, '섹션TV': 1, '연예통신': 1, '일본': 1, '진출을': 1, '목표로': 1, '데뷔를': 1, '한': 4, '보아☆': 1, '복부': 1, '운동인': 1, '플랭크': 1, '제대로': 1, '하는': 1, '법': 2, '집에서': 3, '쉽게': 1, '따라': 1, '할': 2, '수': 2, '있는': 1, '힙업': 1, '팔뚝': 1, '운동할': 1, '때': 2, '꼭': 2, '주의해야': 1, '점': 1, '2분': 1, '안에': 1, '유산소와': 1, '근력': 1, '번에': 1, '끝내는': 1, '동작': 1, '눈에': 1, '보는': 1, '2018': 1, '월드시리즈': 1, '39아찔한': 1, '순간39': 1, '골을': 1, '막아낸': 1, '황태현': 1, '로버츠': 1, 'quot내년에': 1, 'WS': 1, '무대에': 1, '돌아오길quot': 1, '호날두': 1, '없는': 1, '레알': 1, '참혹했던': 1, '엘클라시코': 1, '뿌링클': 1, '치킨': 1, '만드는': 1, '방법': 1, 'SNS에서': 1, '화제가': 2, '된': 1, '라면': 1, '레시피': 1, '간단한': 1, '야식으로': 1, '딱인': 1, '순대': 1, '볶음': 1, '만들기': 2, '먹다': 1, '남은': 1, '족발': 1, '맛있게': 1, '먹는': 1, '탭4': 1, '됐던': 1, '러시아': 1, '월드컵': 1, '이모저모': 1, '짤': 1, '쭉빵카페': 1, '흔한': 1, '다이어트': 1, '식단': 1, '도탁스': 1, 'DOTAX': 1, '돈만': 1, '많으면': 1, '만들고': 1, '싶어': 1, '한다는': 1, '로망들': 1, 'ㄷㄷjpg': 1, '에어팟': 1, '5만': 1, '원에': 1, '팝니다': 1, '어메이징': 1, '동심파괴gif': 1, '계란찜': 1, '매니큐어': 1, '냥이': 1, '씻기기GIF': 1, '서양식': 1, '프렌차이즈': 1, '도넛': 1, 'vs': 1, '한국식': 1, '시장': 1, '도나스': 1, '탭6': 1, '홈amp쿠킹': 1, '미국서': 1, '핫하다는': 1, '이': 1, '팝콘': 1, 'RealFoods': 2, '10월': 1, '5주차바로': 1, '지금': 1, '장만해야할': 1, '알뜰한': 1, '살림템': 1, '1분쇼핑': 3, '팥': 1, '샌드위치': 1, '디시인사이드': 1, '크리에이터를': 1, '단': 1, '하나의': 1, '키보드': 1, '뚝딱': 1, '겨울철': 1, '대표간식': 1, '비타민D는': 1, '언제': 1, '어떻게': 1, '섭취하면': 1, '좋을까': 1, '베스트': 2, '1': 1, '눈밑이': 1, '떨리거나': 1, '입술': 1, '입주변이': 1, '갈라질': 1, '노브랜드에서': 1, '업어와야할': 1, '먹거리': 1, '3': 1, '지금까지': 1, '전혀': 1, '알': 1, '없었던': 1, '식품': 1, '첨가물과': 1, '제거방법': 1, '4': 1, '사연뉴스': 1, 'quot5세': 1, '아들': 1, '노래에': 1, '눈': 1, '뜬': 1, '말기': 1, '아내': 1, '그렇게': 1, '생일날': 1, '떠났습니다quot': 1, '5': 1, '센스': 1, '감각': 1, '만점의': 1, '변정수씨': 1, '집': 2, '6': 1, '39나': 1, '혼자': 1, '산다39': 1, '출연': 1, '요청': 1, '쇄도할': 1, '정도로': 1, '멋진': 1, '강민경': 1, '속': 1, '일상': 1, '사진': 1, '7': 1, '야식덕후들이': 1, '즐긴다는': 1, '초간단': 1, '메뉴': 1, '머니': 1, '동물': 1, '스타일': 1, 'Men': 1, '여행맛집': 1, '직장IN': 1, '뮤직': 1, '탭11': 1, '보기': 4, '추천갤러리바로가기': 2, '이미지': 2, '목록': 2, '공지사항': 1, '다음앱이': 1, '새단장을': 1, '했습니다': 1, '소개': 1, '및': 1, '약관': 1, '회사소개': 1, '·': 9, '광고안내': 1, '검색등록': 1, '제휴문의': 1, '인재채용': 1, '서비스약관': 1, '청소년보호정책': 1, '개인정보처리방침': 1, '웹접근성안내': 1, '고객센터': 1, 'Copyright': 1, '©': 1, 'Kakao': 1, 'Corp': 1, 'All': 1, 'rights': 1, 'reserved': 1}\n"
     ]
    }
   ],
   "source": [
    "print(dic4)"
   ]
  },
  {
   "cell_type": "code",
   "execution_count": 34,
   "metadata": {
    "scrolled": true
   },
   "outputs": [
    {
     "name": "stdout",
     "output_type": "stream",
     "text": [
      "{'Breaking': 1, 'News': 2, 'Multimedia': 1, 'xhr': 3, 'XMLHttpRequest': 3, 'xhrwithCredentials': 1, 'xhropenPOST': 1, 'httpssamizdatgraphqlnytimescomgraphqlv2': 1, 'xhrsetRequestHeaderContentType': 1, 'xhrsetRequestHeadernytapptype': 1, 'projectvi': 1, 'xhrsetRequestHeadernytappversion': 1, '003': 1, 'xhrsetRequestHeadernyttoken': 1, 'MIIBIjANBgkqhkiG9w0BAQEFAAOCAQ8AMIIBCgKCAQEAlYOpRoYg5X01qAqNyBDM32EIE77nkFzd2rrVjhdiVAZfBIrPayyYykIINd5GMImm3wg6CmTTkBo7ixmwd7Xv24QSDpjuX0gQ1eqxOEWZ0FHWZWkh4jfLcwqkgKmfHJuvOctEiEWic5Qrle323SMDKF8sAqClv8VKA8hyrXHbPDAlAaxq3EPOGjJqpHEdWNVg2S0pN62NSmSudTapBqZf7FqsI2cUxv2mUKzmyyrYwbhd8TRgj1kFprNOaldrluO4dXjubJIY4qEyJY5DcF03sGED4AiGBPVYtPh8zscG64yJJ9Njs1ReyUCSX4jYmxoZOnO6GfXE0s2xQIDAQAB': 1, 'xhrsendoperationNameUserQueryvariablesquery': 1, 'query': 1, 'UserQuery': 1, 'typename': 1, 'profile': 1, 'displayName': 1, 'userInfo': 1, 'regiId': 1, 'demographics': 1, 'emailSubscriptions': 1, 'wat': 1, 'bundleSubscriptions': 1, 'bundle': 1, 'inGrace': 1, 'promotion': 1, 'source': 1, 'subscriptionDetails': 1, 'isFreeTrial': 1, 'hasQueuedSub': 1, 'startDate': 1, 'endDate': 1, 'windowuserXhrObject': 1, 'windowswgUserInfoXhrObject': 1, 'windowNYTENVIRONMENT': 1, 'prd': 1, 'windowNYTRELEASE': 1, '22e6c1bf01e46b1d544191a6b99d12b554edff93': 1, 'windowJKIDDPATH': 1, 'httpsanytimescomsvcnytdatalayer': 1, 'windowWEDDINGSPATH': 1, 'httpscontentapinytimescom': 1, 'windowGDPRPATH': 1, 'httpsuscentral1nytwfviprdcloudfunctionsnetgdpremailform': 1, 'windowSENTRYSAMPLERATE': 1, '10': 1, 'windowEXPERIMENTALROUTEPREFIX': 1, 'documentdomain': 1, 'documentlocationsearchindexOfnytapptrue': 1, 'documentdocumentElementclassListaddNYTApp': 1, '100Mathrandom': 1, 'NYTDNYTDNYTDAbrafunctiontuse': 1, 'strictfunction': 1, 'ntvar': 1, 'nitreturn': 1, 'nn1nullfunction': 1, 'etniftvar': 1, 'eorn0in1u0c0if1ilength4294967296i0foreat': 1, 'r0u0c0oiuife2s215p27n4fss311518500249en1on2ern3aieor341275144ieoeror882459459a15356943890s20te2orifs3fs8fs14fs16fors5slslsns0return': 1, 'l0var': 1, 'iucsfreturn': 1, 'ninitfunctionnrvar': 1, 'acsflhptdocumentcookiematch': 1, 'nyta2dtdocumentcookiematch': 1, 'ab72mnew': 1, 'RegExpabragmexectlocationsearchifgg2ddg2dg2ithrow': 1, 'Errorcant': 1, 'init': 1, 'twiceifuridforddecodeURIComponentdsplita0a': 1, 'windowNYTDAbradfphometoggle': 2, '1block': 6, 'testCookie': 2, 'name': 2, 'match': 6, 'documentcookiematchnew': 3, 'RegExpname': 3, 'match1': 3, 'testCookienytgdpr': 2, '1': 3, 'gptScript': 1, 'gptScriptasync': 1, 'async': 2, 'gptScriptsrcwwwgoogletagservicescomtagjsgptjs': 1, 'documentheadappendChildgptScript': 1, 'if': 3, 'googletag': 3, 'googletagcmd': 2, 'googletagcmdpushfunction': 1, 'googletagpubadssetRequestNonPersonalizedAds1': 1, 'windowNYTDAbramedianettoggle': 2, 'readCookie': 1, 'functionname': 1, 'Allows': 2, 'medianet': 2, 'EEA': 1, 'readCookienytgdpr': 1, 'prebid': 1, 'testing': 1, 'readCookieab7': 2, 'viprebidheader1': 1, 'mediaScript': 1, 'cid': 1, '8CU2553YN': 2, 'domain': 1, 'wwwnytimescom': 1, 'windowinnerWidth': 2, 'mediaNetCID': 1, 'windowNYTDAbraamazontoggle': 1, 'functiona9apstAgifaa9return': 1, 'qcraa9Qpushcraa9': 1, 'initfunctionqiarguments': 1, 'fetchBidsfunctionqfarguments': 1, 'setDisplayBidsfunction': 1, 'targetingKeysfunctionreturnQ': 1, 'ApcreateElements': 1, 'Aasync0': 1, 'Asrct': 1, 'gpgetElementsByTagNames0': 1, 'gparentNodeinsertBeforeAg': 1, 'apstagwindowdocumentscriptcamazonadsystemcomaax2apstagjs': 1, 'apstaginit': 1, 'pubID': 1, '3030': 1, 'adServer': 1, 'params': 1, 'sisection': 1, 'none': 1, 'windowNYTDAbraindextoggle': 1, 'indexScript': 1, 'indexScriptasync': 1, 'indexScriptsrchttpsjssecindexwwcomhtp183760179626133031071js': 1, 'documentheadappendChildindexScript': 1, 'h3fontsize0625remlineheight0625remminheight22pxwebkitletterspacing07pxmozletterspacing07pxmsletterspacing07pxletterspacing07px': 1, 'windowemotion': 1, '06n7j501kj7lfb10m9xeu10klw3m1hyfx7x1gz70xg9e9ivx2bwtzy8pe5zk5wt1bj1vlye70lm4ytzogiugustscvm158f1cv1vxc2slcwdrld1wjnrbvwcsx9o1hd1ne61k9ek97vz7hjd1fe7a5q1rn5q1r10488qswu78iokp204g1llhclm1iruc8t1ropbjluw59ujxzr5ioylsikqtw155v0l3hmg4gku81rr4qq76xhk3srxqrcltj0tenist4u31gprdgz10t7hiamzqdlkwpx341k2cjfc1vhk1ks6td9krr5ic9515uy5yv1p8nkc0f8wsfjmhvv8msqdgy8191iepdzjzyr81m9j9gf1egl8em1b9egsl1kz2g4o1waixk9l2ztic19lv58hmgtjo2nhjhh01bnxwmn1i8g3m41uqjmks1nkps6a1xdhyk6mn5hq91mahq3m1ho5u4o13o0c9t1yo489b1jablmbmky99gomcqsq1nl6p6m1xaqcky6p6lnlgeek62180b3ld1ee8y2t7xxagk7y3qfvavqkzcxxhlrr18bs8bj1om4z5c1y8l3jc7utnqv1hesgbm1ycuf8ac7fqqsz49qw6b6wrwh7lflcbey509f1n9n422717c4s1yuan6hitui89zygc9njbmajzie51lk1qo9wc01vv8nt62ejkuito3u61d8a290ahe4g0qo6pn8xdxq2pbg2l91fhe54b1ot77nxbpgv3sbfvq22118ydgp1q91fy618fz8oq1j836f91g8bx4t1blv1z4g12q88na047m17h6617rpp6l6qnorfrki19g71fhmlkv1pl01z238z6u1vka1ovo5uqvq1pygo6t60xrh1smnt6x1aew2ebj07wu8g7rb99f5opktw4yrtc1yoguk1qvz0vjzmmks01qj0wac1i96a1mws86q61d537rb8oyskuras79qg0s8ta1mnngwr1ygu6hunmg095m7655i1jmv6zs1jot0f996x60l7douaadjiuqn1vwlksu8uvv5fba1f3o1ypbx2a1fhql1jrlo25n78b01r16zqnrosz16hw778gjybs48m01ftry2c1iidfo0': 1, 'function': 1, 'w': 2, 'd': 1, 'fontManifest': 1, 'needed': 1, 'rest': 1, 'supportsWoff2': 2, 'FontFace': 1, 'f': 1, 'FontFacet': 1, 'urldataapplicationfontwoff2base64d09GMgABAAAAAADcAAoAAAAAAggAAACWAAEAAAAAAAAAAAAAAAAAAAAAAAAAAAAABk4ALAoUNAE2AiQDCAsGAAQgBSAHIBtvAcieB3aD8wURQTZazbRE9HvF5vde4KCYGhiCgqNKPF0i6UIsZynbPXi9NgXLbNlmNzxIBBqq61FIQRJhCQA08PJQJ3sK5TZFMlWzCiK5GUN40psgqvxwBjBOg6JUSJ7ewyKE2AAaXZrfUB4vhze37ugJ9dDeYqiDwVgCawviwVFGnuttkLqIMGivmDg': 1, 'formatwoff2': 1, 'floadcatchfunction': 1, 'fstatus': 2, 'loading': 1, 'loaded': 1, 'addFontFace': 1, 'functionfontFace': 1, 'style': 1, 'dcreateElementstyle': 1, 'styleappendChilddcreateTextNodefontFace': 1, 'dquerySelectorheadappendChildstyle': 1, 'fetchFontFace': 1, 'functionurl': 1, 'format': 2, 'hash': 2, 'hashName': 1, 'fontName': 1, 'xhropenGET': 1, 'url': 1, 'xhronreadystatechange': 1, 'xhrreadyState': 1, '4': 1, 'xhrstatus': 1, '200': 1, 'addFontFacexhrresponseText': 1, 'try': 2, 'localStoragesetItemnytfontFormat': 1, 'localStoragesetItemhashName': 1, 'catche': 2, 'localStoragesetItemfontName': 1, 'xhrresponseText': 1, 'xhrsendnull': 1, 'loadFonts': 1, 'functionbundles': 1, 'now': 1, 'fontFormat': 4, 'localStoragegetItemnytfontFormat': 1, 'woff2': 1, 'woff': 1, 'var': 1, 'i': 2, '0': 1, 'datatimezone': 1, 'SectionsSEARCHSkip': 1, 'contentSkip': 1, 'indexEnglishEspañol中文': 1, 'ChineseSubscribeLog': 1, 'InLog': 1, 'InToday’s': 1, 'PaperWorldUSPoliticsNYBusinessOpinionTechScienceHealthSportsArtsBooksStyleFoodTravelMagazineT': 1, 'MagazineReal': 2, 'EstateVideoWorldUSPoliticsNYBusinessOpinionTechScienceHealthSportsArtsBooksStyleFoodTravelMagazineT': 1, 'EstateVideo‘There': 1, 'JewsFor': 1, 'callBut': 1, 'hostileCongregants': 1, 'RoomThe': 1, 'officersBy': 1, 'TimesThe': 1, 'DownMany': 1, 'congregationsSynagogue': 1, 'Ghost’Mr': 1, 'clearDutiful': 1, 'FightPresident': 1, 'writeGab': 1, 'saysListen': 1, 'Daily’The': 1, 'PittsburghIn': 1, '‘RaceRelated’': 1, 'NewsletterHow': 1, 'jailThe': 1, 'CrosswordSolve': 1, 'minutesBrazil': 1, 'ElectionThe': 1, 'OpportunityWith': 1, 'agoA': 1, 'riseMr': 1, 'restoredHis': 1, 'words189': 1, 'RecordThe': 1, 'underwayAn': 1, 'contactA': 1, 'Java': 1, 'Achmad': 1, 'IbrahimAssociated': 1, 'PressElection': 1, '2018Beto': 1, 'RememberAs': 1, 'planMr': 1, 'cultivatedA': 1, 'DoubtersBrad': 1, 'campaignTrump’s': 1, 'GoThe': 1, 'scrutinyAngela': 1, 'GermanyEurope’s': 1, 'yearsShe': 1, 'officeChancellor': 1, 'party': 1, 'Tobias': 1, 'SchwarzAgence': 1, 'ImagesWorld': 1, 'SeriesRed': 1, 'DodgersDavid': 1, 'PearceThe': 1, 'yearsAppreciating': 1, 'writesChristian': 1, 'night': 1, 'Jae': 1, 'HongAssociated': 1, 'PressAmerican': 1, 'YearThe': 1, 'MondayThe': 1, 'filingsThe': 1, 'powers': 1, 'George': 1, 'OurfalianAgence': 1, 'ImagesOpinionThe': 1, 'BoardThe': 1, 'AmericaAfter': 1, 'otherDavid': 1, 'Leonhardt': 1, 'Ian': 1, 'PhilbrickTrump’s': 1, 'ListThe': 1, 'pocketsJonathan': 1, 'GreenblattWhen': 1, 'MainstreamMarcelo': 1, 'PaivaWhat': 1, 'FamilyMohamad': 1, 'BazziHow': 1, 'FriendsCharles': 1, 'BlowTrump’s': 1, 'ToxicityDavid': 1, 'ShribmanAntiSemitism': 1, 'ToleranceMargaret': 1, 'RenklA': 1, 'LightEitan': 1, 'HershIn': 1, 'David': 1, 'BrophyAustralians': 1, 'UniversitiesLev': 1, 'GolinkinAmerica': 1, 'BestEditors’': 1, 'PicksJohnny': 1, 'TimesAfter': 1, 'ConSix': 1, 'unfinishedNew': 1, 'YorkOnce': 1, 'MontanaA': 1, 'strangerT': 1, 'MagazineReview': 1, 'Memoir“She': 1, 'selfdiscoveryBook': 1, 'ReviewWe’d': 1, 'thoughts': 1, 'page': 1, 'experienceLet': 1, 'us': 1, 'know': 1, 'think': 1, 'Site': 1, 'Indexnewshome': 1, 'pageworldUSpoliticsNew': 2, 'Yorkbusinesstechscienceclimatesportsobituariesthe': 2, 'upshottodayx27s': 2, 'papercorrectionsopiniontodayx27s': 2, 'opinionoped': 2, 'columnistseditorialsoped': 2, 'Contributorsletterssunday': 2, 'reviewvideo': 2, 'opinionartstodayx27s': 2, 'artsart': 2, 'amp': 7, 'designbooksdancemoviesmusictelevisiontheaterwatchingvideo': 2, 'artslivingautomobilescrosswordfoodCookingeducationfashion': 2, 'stylehealthjobsmagazinereal': 2, 'estatet': 2, 'magazinetravelweddingslistings': 1, 'moreReader': 1, 'CenterWirecutterThe': 2, 'Learning': 2, 'Networktools': 2, 'servicesNYC': 2, 'events': 2, 'guidemultimediaphotographyvideoNYT': 2, 'storetimes': 2, 'journeysmanage': 2, 'accountnewshome': 1, 'magazinetravelweddingsmoreReader': 1, 'accountSubscribehome': 1, 'deliverydigital': 1, 'subscriptionsCrosswordCookingemail': 1, 'newsletterscorporate': 1, 'subscriptionseducation': 1, 'ratemobile': 1, 'applicationsreplica': 1, 'editionSite': 1, 'Information': 1, 'Navigation©': 1, '2018': 1, 'CompanyContact': 1, 'UsWork': 1, 'usAdvertiseYour': 1, 'Ad': 1, 'ChoicesPrivacyTerms': 1, 'ServiceTerms': 1, 'SaleSite': 1, 'MapHelpHelpSubscriptions': 1, 'DysphoriatypenameSubjectBlockBetaQmxvY2tfQmV0YTpob21lL2VkaXRvcnNwaWNrcwfirstLoadfirst1000edges2nodetypeidgeneratedfalseidArticleQXJ0aWNsZTpueXQ6Ly9hcnRpY2xlLzYyNjI0MmRlLWY5NjktNTZlZS1hNTYxLWRmYTVkZmJiNzQxYQtypenameArticletypenameAssetsEdgeBlockBetaQmxvY2tfQmV0YTpob21lL2VkaXRvcnNwaWNrcwfirstLoadfirst1000edgestypeidgeneratedtrueidBlockBetaQmxvY2tfQmV0YTpob21lL2VkaXRvcnNwaWNrcwfirstLoadfirst1000edges0typenameAssetsEdgetypeidgeneratedtrueidBlockBetaQmxvY2tfQmV0YTpob21lL2VkaXRvcnNwaWNrcwfirstLoadfirst1000edges1typenameAssetsEdgetypeidgeneratedtrueidBlockBetaQmxvY2tfQmV0YTpob21lL2VkaXRvcnNwaWNrcwfirstLoadfirst1000edges2typenameAssetsEdgetotalCount3typenameAssetsConnectionAdTargetingParamplatwebkeyplatvaluewebtypenameAdTargetingParamAdTargetingParamalstest1540822665593keyalstestvalue1540822665593typenameAdTargetingParamAdTargetingParamtyphpkeytypvaluehptypenameAdTargetingParamAdTargetingParampropnytkeypropvaluenyttypenameAdTargetingParamAdTargetingParamednuskeyednvalueustypenameAdTargetingParamAdTargetingParamemotionskeyemotionsvaluetypenameAdTargetingParamAdTargetingParamgscatgspoliticsgspoliticsmiscnegisbrandsensitivegvdeathinjurygsentertaingssportgssportbaseballgsentertainbooksgspoliticsamericankeygscatvaluegspoliticsgspoliticsmiscnegisbrandsensitivegvdeathinjurygsentertaingssportgssportbaseballgsentertainbooksgspoliticsamericantypenameAdTargetingParamROOTQUERYprogrambetaidhometypeidgeneratedfalseidProgramBetaUHJvZ3JhbV9CZXRhOmhvbWUtypenameProgramBetaconfiggqlUrlhttpsu002Fu002Fsamizdatgraphqlnytimescomu002Fgraphqlu002Fv2gqlRequestHeadersnytapptypeprojectvinytappversion003nyttokenMIIBIjANBgkqhkiG9w0BAQEFAAOCAQ8AMIIBCgKCAQEAlYOpRoYg5X01qAqNyBDM32EIu002FE77nkFzd2rrVjhdiu002FVAZfBIrPayyYykIINd5GMImm3wg6CmTTkBo7ixmwd7Xv24QSDpjuX0gQ1eqxOEWZ0FHWZWkh4jfLcwqkgKmfHJuvOctEiEu002FWic5Qrle323SMDKF8sAqClv8VKA8hyrXHbPDAlAaxq3EPOGjJqpHEdWNVg2S0pN62NSmSudTu002Fapu002FBqZf7FqsI2cUxv2mUKzmyyrYwbhd8TRgj1kFprNOaldrluO4dXjubJIY4qEyJY5Dcu002FF03sGED4AiGBPVYtPh8zscG64yJJ9Njs1ReyUCSX4jYmxoZOnO6GfXE0s2xQIDAQABxnytcontinentASxnytcountryKRxnytregion11xnytgmtoffset900gqlFetchTimeout4000disablePersistedQueriesfalseserviceWorkerFileserviceworkertest1540585828505jsinitialDeviceTypedesktopexternalAssets': 1, 'functionefunction': 1}\n"
     ]
    }
   ],
   "source": [
    "print(dic5)"
   ]
  },
  {
   "cell_type": "code",
   "execution_count": 36,
   "metadata": {},
   "outputs": [
    {
     "name": "stdout",
     "output_type": "stream",
     "text": [
      "{'컴퓨터공학부': 9, 'Schoolfun': 1, 'Study': 1, 'and': 10, 'Fun': 1, '로그인': 6, '아이디': 1, '비밀번호': 1, '유지': 2, '브라우저를': 1, '닫더라도': 1, '로그인이': 1, '계속': 1, '유지될': 1, '수': 7, '있습니다': 6, '기능을': 6, '사용할': 1, '경우': 1, '다음': 15, '접속부터는': 1, '로그인할': 1, '필요가': 1, '없습니다': 2, '단': 2, '게임방': 1, '학교': 2, '등': 1, '공공장소에서': 1, '이용': 1, '시': 1, '개인정보가': 1, '유출될': 1, '있으니': 1, '꼭': 3, '로그아웃을': 2, '해주세요': 1, '회원가입': 1, 'IDPW': 1, '찾기': 1, 'IT': 6, '교육의': 2, '글로벌': 4, '메카한국기술교육대학교': 1, 'Close': 1, '소개': 2, '구성원소개': 1, '학사안내': 3, '입학': 1, '학부': 1, '대학원': 6, '학부광장': 1, '자료실': 4, '공학교육인증': 1, '학부서비스': 1, 'Registration': 1, 'School': 1, 'of': 1, 'Computer': 1, 'Science': 1, 'Engineering': 1, '융합소프트웨어': 3, '인력양성사업': 3, 'CK': 1, 'Creative': 1, 'KoreaI': 1, '교육역량강화사업': 3, '온라인': 3, '컨텐츠': 2, 'Online': 1, 'Contents': 1, 'for': 3, 'Education': 1, 'Capability': 1, 'Empowerment': 1, '메카': 1, '한국기술교육대학교': 8, '홈페이지에': 1, '오신': 1, '것을환영합니다': 1, '수준의': 1, 'IT전문인력': 1, '양성': 1, 'IT융합분야에': 1, '대한': 3, '국제적인': 1, '경쟁력': 1, '고취': 1, '바로가기': 20, '컨텐츠를': 1, '소개합니다': 1, '공지사항': 5, 'ARVR분야': 1, 'Capston': 1, 'Design': 1, '지원': 2, '계획': 1, '20181130금': 1, '20181029': 19, '1630': 2, '특성화': 3, '2018학년도': 6, '2학기': 4, '운영': 1, '강좌': 2, '안내': 11, '1056': 2, '2018': 8, 'IT융합': 2, '아이디어': 1, '경진대회': 1, '안내2학기': 1, '20181025': 2, '1501': 2, 'AR': 1, 'CoBot': 1, 'Intensive': 1, '캠프': 1, '모집': 2, '20181022': 1, '1530': 2, '졸업작품': 2, '산업체': 1, '평가회': 1, '결과에': 1, '따른': 2, '20181019': 2, '1409': 2, '자유게시판': 1, '★문화의날': 1, '행사': 1, '공지★': 1, '2031': 2, '졸업작품전시회': 1, '기간': 1, '헤어메이크업': 1, '20181007': 1, '1448': 2, '※모의토익비': 1, '공지※': 1, '20180928': 1, '0937': 2, 'ACMICPC': 1, '예선': 1, '신청기간이': 1, '얼마': 1, '안': 1, '남았습니다': 1, '20180913': 1, '1136': 2, '문화행사': 1, '취소': 1, '공지': 1, '20180910': 1, '1917': 2, '취업게시판': 1, '㈜비즈테크파트너스': 1, 'LG': 1, 'CNS자회사': 1, '신입': 1, '개발직': 1, '1629': 2, '국가보안기술연구소': 1, '정규직': 1, '채용': 1, '20181004': 1, '1418': 2, '한글과컴퓨터그룹': 1, '2018년': 3, '하반기': 1, '신입경력': 1, '공채': 1, '1010': 1, '20180927': 1, '1313': 2, '구인천안': 1, '충무병원': 1, '전산실': 1, '20180918': 1, '1525': 2, '정부교육': 1, 'KShield': 1, '주니어': 1, '교육생': 1, '모집정보보호': 1, '95': 1, '20180903': 1, '0753': 2, 'Platum': 1, '표철민': 1, '대표': 1, '“블록체인': 1, '생태계': 1, '조성위해': 1, '불법만': 1, '아니면': 1, '1550': 2, '아산나눔재단': 1, '‘아산': 1, '기업가정신': 1, '교육': 1, '포럼’': 1, '개최': 2, '0943': 2, '10월': 2, '29일': 1, '스타트업': 3, '비즈니스': 4, '동향': 1, '메쉬코리아': 1, '위드': 1, '0936': 2, '블록체인': 1, '기반': 1, '기업용': 1, '솔루션': 1, '개발': 1, '‘블록오': 1, '0837': 2, '더팀스': 1, '커리어피드': 1, '취업의': 1, '고수가': 1, '되는': 1, '방법': 2, '0836': 2, '전자신문': 1, '국정감사화웨이': 1, '5G': 2, '장비': 1, '보안': 1, '검증': 1, '수용': 1, '1841': 2, '이슈분석역차별': 1, '해소': 2, '동향은': 1, '1700': 8, 'SK텔레콤': 1, '중소기업과': 1, '모세혈관': 1, '고도화': 1, '나선다': 1, 'SK브로드밴드': 1, '세계': 1, '3번째': 1, '프로그래매틱': 1, '광고': 3, '도입': 1, '이슈분석글로벌ICT기업': 1, '역차별': 1, '5대': 1, '분야': 1, 'TechCrunch': 1, 'AmazonSmile': 1, 'has': 1, 'raised': 1, '100': 8, 'million': 1, 'charity': 1, '2307': 2, 'Atlassian': 1, 'sells': 1, 'Jitsi': 1, 'an': 1, 'opensource': 1, 'videocon': 1, '2241': 2, 'Here': 1, 'are': 1, 'the': 2, '20': 3, 'games': 1, 'shipping': 1, 'with': 3, 'PlaySt': 1, '2208': 2, 'DJI': 1, 'releases': 1, 'a': 2, 'modified': 1, 'Mavic': 1, '2': 14, 'drone': 1, 'aimed': 1, 'at': 1, '2200': 2, 'Blue': 1, 'Apron': 1, 'gets': 1, 'muchneeded': 1, 'boost': 1, 'Jetc': 1, '2157': 2, 'Back': 1, 'to': 2, 'Top': 1, 'Leading': 1, 'Together': 1, 'Brighter': 1, 'Future': 1, 'Quick': 1, 'Navigation': 1, '홈페이지': 4, 'WEBMAIL': 3, '평생교육원': 1, '교직원': 5, '업무': 1, '포트폴리오': 1, 'Campus': 1, 'Location': 1, 'Contact': 1, 'CSE': 1, '충청남도': 3, '천안시': 3, '동남구': 3, '병천면': 3, '충절로': 3, '1600한국기술교육대학교': 1, '학과사무실': 1, 'TEL': 1, '041': 2, '560': 2, '1460': 1, '1461': 1, 'FAX': 1, '1462': 1, 'Facebook': 1, 'Twitter': 1, 'Google': 1, 'Plus': 1, 'Linkedin': 1, '31253': 2, '1600': 2, '가전리': 2, 'Copyright': 2, '©': 2, '2015': 1, 'All': 3, 'rights': 3, 'reserved': 3, '주요메뉴': 1, '본문': 1, '하단메뉴': 1, '현재': 9, '스크립트가': 1, '꺼져': 4, '있는': 2, '상태입니다': 1, '스크립트를': 1, '사용하지': 1, '않으시면': 1, '이용에': 1, '불편사항이': 1, '스크립트': 1, '사용을': 1, '권장합니다': 1, 'KOREATECH': 21, '탑': 2, '유틸메뉴': 2, '오류신고': 1, 'HOME': 1, 'LOGIN': 3, 'SITEMAP': 1, 'ENGLISH': 2, 'CHINESE': 2, '통합검색': 1, '입력폼': 1, 'facebookdaumnaveryoutube': 2, '대학소개': 4, '대한민국': 1, '기술리더': 1, '세계를': 1, '품다': 1, 'KOREATECH소개': 2, '총장실': 2, '대학현황': 2, 'VISION2020': 2, 'KOREATECH20년': 2, '대학조직': 2, '국제교류': 2, '코리아텍발전기금': 2, 'KOREATECH부패방지': 2, '입학안내': 6, '학생이': 5, '행복한': 1, '대학': 11, '학생중심': 1, '교육중심': 2, '대학대학원': 6, '기업이': 1, '신뢰하는': 1, '1위': 8, '일학습병행대학': 3, '대학생활': 4, '대한민국의': 1, '미래를': 1, '선도하는': 1, '행복대학': 1, '해외연수': 4, '장학제도': 4, '캠퍼스생활': 2, '병사안내': 2, '커뮤니티': 4, '도전': 2, '열정': 1, '창의': 1, '재학생': 5, '만족도': 1, '취업률': 1, '참여게시판': 2, '휴먼아카데미명사특강': 2, '취업역량강화동영상': 2, '교수·학습역량강화특강': 2, '학부모님': 2, '의견란': 2, '고객의': 2, '소리제안': 2, '대학홍보': 4, '대학민국': 1, 'NO1': 1, '교육중심대학': 2, 'NEWS': 3, '홍보영상물': 4, '홍보대사': 2, '언론보도모음집': 2, '대학소식지': 2, '사이버투어': 2, '홍보브로셔': 2, '코리아텍학부모초청의날': 2, '정보공개': 6, '투명한': 1, '학교운영': 1, '공공데이터개방': 2, '행정공시': 2, '지방대특성화': 2, '사업': 2, '사업실명제': 2, '이전': 11, '팝업닫기': 1, '팝업열기': 1, '코리아텍': 5, '언론보도': 1, '예비대학생': 4, '일반인': 4, '자세히보기': 2, '온라인교육지원': 5, '생활관': 7, '교내인증': 4, 'SW': 4, '무선랜신청': 4, '원격지원': 4, '오늘의': 10, '식단': 5, '시설보수신청': 4, '학사종합서비스': 5, '인터넷증명발급': 6, '시설물신청': 2, '동아리안내': 2, 'IPP센터': 5, '학부소개': 4, '언론기사': 4, '국제교육센터': 3, '전화번호찾기': 4, '캠퍼스투어': 4, '찾아오시는길': 4, '캠퍼스사진': 2, '아우누리': 2, '전자출결RFID': 2, '학교차량신청': 2, '교육장비검색': 2, '코리아텍소개': 2, 'VISION': 2, '2020': 2, '대학원소개': 2, '고용노동연수원': 3, '능력개발교육원': 3, '직업능력심사평가원': 3, '온라인평생교육원': 3, 'BUS': 2, '닫기': 7, 'Foreigner': 1, '만족하는': 4, '사실에': 4, '근거하여': 4, '진리를': 4, '탐구하는': 4, '현장중심과': 4, '실험실습을': 4, '강조하는': 4, '1': 11, '4': 7, '3': 6, '재생': 2, '정지': 3, '데스크탑': 1, '태블릿': 1, '비주얼': 2, '모바일': 4, '일반공지': 1, '접수': 2, '중『상담·진로개발센터』': 1, '20182': 1, '집단': 1, '1차는': 1, '마감': 1, '2차는': 1, '중『상담·진로개발센': 1, '【교수학습센터】단기근로장학생': 1, '1030일화': 1, '끌어올림온라인평생교육원': 1, '평생능력개발과정13차': 1, '그룹인터뷰': 2, '학업적': 1, '어려움에': 1, '참여자를': 1, '네트워크': 3, '긴급': 3, '패치': 3, '작업으로': 3, '인한': 3, '서비스안내': 3, '제3기': 1, 'KOTRA': 1, 'IPP': 3, '설명회': 2, '2014학년도': 2, '상반기': 2, '신청': 5, '안내IPP센터': 1, '인문향연': 1, '인디밴드': 1, '콘서트': 1, 'THE': 1, '현장실습': 2, '동계': 2, '인턴': 1, '및': 4, 'HRD': 1, '우리말': 1, '뽐내기': 1, '준비를': 1, '위한': 4, '글쓰기': 1, '특강': 1, '더보기': 10, '장학공지': 1, '20182학기': 1, '중소기업': 1, '취업연계': 1, '장학사업희망사다리장': 1, '제18기': 1, '대학생': 1, '재능봉사': 1, '국가장학생': 1, '캠': 1, '교내장학': 2, '2차': 1, '신문고': 1, '장학': 2, '신': 1, '나∙우리': 1, '입학생': 1, '입학금감축대응지원': 1, '장학금': 1, '4차': 1, '취업공지': 1, '학사공지': 1, '제2차': 1, '교직적성': 1, '인성검사': 1, '결과': 1, '알림': 1, '강의': 1, '중간': 1, '설문조사': 1, '실시': 1, '자격증': 1, '준비': 1, '수험자': 1, '필독': 1, '국가기술자격검정': 1, '제도': 1, '개선': 1, '2019학년도': 1, '학교현장실습': 1, '중등교직이수': 1, '중등교직과정': 1, '이수예정자': 1, '추가': 2, '선발': 1, '“자신의': 1, '북극성을': 1, '찾으세요”': 1, '충청남도청과': 1, '＇제3회': 1, '수소에너지': 1, '국제포럼＇': 1, '개': 1, '독립기념관과': 1, '청렴업무': 1, '강화': 1, 'MOU체결': 1, '메카트로닉스공학부': 2, '학생': 1, '수원정보과학축제': 1, '대상': 1, '‘2018': 1, '산학협력': 3, '페스티벌’': 1, '성료': 1, '팝업존': 1, '123': 1, '플레이': 1, 'UNIVERSITY': 1, 'OF': 1, 'Cyber': 1, 'Tour': 1, '자주찾는': 3, '서비스': 9, '온라인교육': 2, '학사일정': 2, '발전기금': 2, '학과안내': 2, '사이버감사실': 2, 'LINC': 1, '관련사이트': 1, '기계공학부': 1, '전기전자통신공학부': 1, '디자인공학전공': 1, '건축공학전공': 1, '에너지신소재화학공학부': 1, '산업경영학부': 1, '교양학부': 1, '일반대학원': 1, '테크노인력개발전문대학원': 1, 'IT융합과학경영대학원': 1, '최고경영자과정': 1, '주요사이트': 2, '공식카페': 1, '네이버': 11, '공식블로그': 1, '웹갤러리': 1, '동문홈페이지': 1, '웹메일': 1, '고용부': 2, '잡영': 1, '워크넷': 1, '잡코리아': 1, '사람인': 1, '인크루트': 1, '교내주요기관': 2, '다산정보관': 1, '대학교육개발단': 1, '산학협력단': 1, 'LINC사업단': 1, '생활협동조합': 1, '공학교육혁신센터': 2, 'PSM사업단': 1, '반도체장비교육센터': 1, '개도국기술이전연구소': 1, 'HRD센터': 1, '상담진로개발센터': 1, 'IPP포털': 2, '사회봉사센터': 1, 'CIGMA': 1, 'CENTER': 1, '다담창의센터': 1, 'IPP·UniTech허브사업단': 1, '창업지원센터': 1, '듀얼공동훈련센터허브사업단': 1, 'ACE사업단': 1, '학생자치단체': 2, '총학생회': 1, '총여학생회': 1, '총동아리연합회': 1, '코리아텍방송국': 1, '코리아텍신문사': 1, '교지편집위원회': 1, '생활관자치회': 1, '전국대학생하이브리드자동차경진대회': 1, '졸준위08': 1, '졸준위07': 1, '대외유관기관': 2, '고용노동부': 1, '산업통상자원부': 1, '기획재정부': 1, '한국산업인력공단': 1, '한국폴리텍대학': 1, '한국교육개발원': 1, '한국노동연구원': 1, '근로복지공단': 1, '한국산업안전보건공단': 1, '한국고용정보원': 1, '한국직업능력개발원': 1, '장애인고용공단': 1, '충청남도청': 1, '천안시청': 1, '국민권익위원회': 1, '교과부': 1, 'NTIS': 1, '원격훈련심사센터': 1, 'Footer': 2, 'link': 2, '개인정보처리방침': 4, '이메일무단수집거부': 2, '윤리헌장': 2, '행정서비스헌장': 2, '알리오': 2, '대학알리미': 1, '대학정보공시': 2, '공학교육인증안내': 1, '도로명주소안내': 2, '한국기술교육대학교nbspnbspnbspTel': 1, '0415601114': 1, 'Copyrightⓒ2014': 1, 'nsc': 1, 'navertopv3': 1, 'documentdomain': 2, 'navercom': 1, 'jindoAll': 1, 'windowconsole': 1, 'windowconsolewindowconsolelogfunction': 1, 'isLogin': 1, 'false': 1, 'refreshLcsetc': 1, 'etc': 4, 'ifdocumentcookieindexOfnrefreshx1': 1, 'etcmrf1': 1, 'else': 1, 'etcpansclreturn': 1, 'lcsdorefreshLcs': 1, 'NAVER': 3, '뉴스스탠드': 2, '주제별캐스트': 1, '타임스퀘어': 2, '쇼핑캐스트': 2, '네이버를': 1, '시작페이지로': 2, '쥬니어네이버': 1, '해피빈': 2, '검색': 10, '통합검색블로그카페': 1, '카페명': 1, '카페글지식iN뉴스사이트': 1, '카테고리': 1, '사이트영화웹문서사전': 1, '백과사전': 2, '영어사전': 1, '영영사전': 1, '국어사전': 1, '일본어사전': 1, '한자사전': 1, '용어사전책음악전문자료쇼핑지역동영상이미지내PC영화자동차게임건강인물긍정부정검색': 1, '자동완성': 11, '펼치기': 2, '한글': 1, '입력기': 1, '생각한대로': 1, '검색해': 1, '보세요': 2, 'Beta': 1, 'txttxt': 1, '시간대와': 1, '관심사에': 1, '맞춘': 1, '컨텍스트': 3, '도움말': 2, '보기': 25, 'ON선택됨': 1, 'OFF': 1, '동일한': 1, '시간대연령남녀별': 1, '사용자': 1, '그룹의관심사에': 1, '맞춰': 1, '자동완성을': 1, '제공합니다': 1, '자세히': 2, 'ONOFF설정은해당': 1, '기기브라우저에': 1, '저장됩니다': 1, '레이어': 1, '도움말신고검색어저장': 4, '켜기자동완성': 4, '끄기': 5, '다시': 4, '켤': 4, '때는': 4, '펼치기을': 4, '클릭하세요': 4, '사용하고': 1, '계십니다': 1, '기능이': 4, '활성화되었습니다': 1, '켜기': 1, '최근검색어내': 1, '검색어': 13, '내': 8, '등록txtdate삭제intxt': 1, '최근검색어': 1, '내역이': 1, '저장': 2, '해제txt': 1, '설정된': 1, '검색어가': 1, '없습니다최근검색어에서': 1, '등록를': 1, '선택하여': 1, '자주': 1, '찾는': 1, '검색어를내': 1, '검색어로': 1, '저장해': 1, '알림공용': 1, 'PC에서는': 1, '개인정보': 1, '보호를': 1, '위하여': 1, '반드시': 1, '해': 1, '주세요': 1, '기록': 3, '삭제검색어저장': 2, '끄기자동완성': 2, '전체': 6, '삭제완료': 1, '검색어는': 1, '최대': 1, '10개': 1, '까지': 1, '저장할': 1, '있습니다추가하시려면': 1, '기존': 1, '검색어를': 1, '지워주세요': 1, '613': 1, '지방선거·국회의원선거': 1, '투표종료시까지': 1, '후보자명에': 1, '자동완성검색어': 1, '노출이': 1, '중단됩니다': 1, '메일': 3, '카페': 4, '블로그': 6, '지식인': 1, '쇼핑': 4, '네이버페이': 1, '네이버TV': 1, '사전': 2, '뉴스': 6, '증권금융': 1, '부동산': 3, '지도': 3, '영화': 4, '뮤직': 3, '책': 2, '만화': 1, '웹툰': 5, '급상승': 3, '강한나': 8, '몬스터': 2, '콜': 2, '일단': 2, '뜨겁게': 2, '청소하라': 2, '하춘화나이': 2, '5': 4, '메리골드': 2, '6': 3, '여우각시별': 2, '이제훈': 2, '정체': 2, '7': 3, '백일의': 2, '낭군님': 2, '몇부작': 4, '8': 2, '라비앙로즈': 2, '9': 2, '이선호': 2, '10': 6, '문우진': 2, '11': 2, '한소희': 2, '12': 2, '이래나': 2, '13': 2, '콩': 2, '스컬': 2, '아일랜드': 2, '14': 2, '뷰티인사이드': 2, '15': 6, '이다희': 7, '아나운서': 2, '16': 2, '배드파더스': 2, '17': 2, '아인': 2, '18': 2, '김유정': 2, '19': 2, '채수빈': 2, '가요무대': 2, 'DataLab급상승': 1, '트래킹': 1, '110위': 2, '1120위': 1, '데이터랩': 20, '그래프': 20, '232400': 1, '기준': 1, '연합뉴스': 1, '강경화': 1, '폼페이오와': 1, '통화…비핵화·남북관계': 1, '선순환': 1, '필요성': 1, '강조': 1, '북미고위급회담': 1, '11·6중간선거': 1, '직후': 1, '美서': 1, '열릴듯…대화': 1, '본격재개': 1, '드루킹': 2, '측근': 2, '김경수에': 1, '댓글조작': 2, '시연…김경수': 1, '신빙성': 1, '부족': 1, '김동연': 1, '증시패닉': 1, '아냐…변동성': 1, '확대시': 1, '컨틴전시': 1, '플랜': 1, '조명균': 1, '철도연결': 1, '지연에': 1, '美와': 1, '약간': 1, '생각': 1, '다른': 1, '부분': 3, '있어': 1, '이재명': 3, '10시간': 1, '조사받고': 1, '귀가…강제입원은': 1, '형수가': 1, '한': 5, '일': 1, '박용진': 1, '유치원': 2, '감사·지도점검': 1, '적발': 1, '내역': 1, '추가공개': 1, '화요일': 1, '아침': 1, '곳곳': 1, '영하권…올가을': 1, '들어': 1, '가장': 2, '추워': 1, '숙명여고': 1, '쌍둥이': 1, '휴대전화서': 1, '정답': 1, '메모…혐의는': 1, '부인': 1, '사이판': 1, '고립': 1, '한국인': 1, '대부분': 1, '귀국…남은': 1, '국민': 1, '있는지': 1, '중': 1, '네이버뉴스': 1, '연예': 3, '스포츠': 6, '경제': 1, '언론사': 4, 'MY': 1, '이미지형': 1, '리스트형': 1, '설정': 4, '페이지': 2, '목록': 5, '구독': 19, '해지': 18, '기사보기': 18, '종합경제': 1, '방송통신': 1, '영자지': 1, '스포츠연예': 1, '매거진전문지': 1, '지역': 2, '언론사가': 1, '없습니다언론사': 1, '설정에서': 1, 'MY언론사를': 1, '추가하면설정한': 1, '언론사의': 1, '기사들을': 1, '홈에서': 1, '보실': 1, 'Sign': 3, 'in': 3, 'Connect': 1, 'people': 1, 'up': 1, 'Forgot': 1, 'Username': 1, 'or': 1, 'Password': 1, '1029월': 1, '영어회화': 1, '앞의': 1, '목록으로': 2, '뒤의': 1, '법원에': 1, '출두해야': 1, '하나요': 1, 'Do': 1, 'I': 1, 'have': 1, 'appear': 1, 'court': 1, '두': 2, '아이': 1, '햅': 1, '투': 1, '어피어': 1, '인': 1, '코트': 1, '주제형': 1, '캐스트': 1, '관심': 4, '주제': 8, '선택': 1, '리빙': 1, '푸드': 1, '자동차': 3, '패션뷰티': 1, '부모i': 1, '건강': 1, '게임': 4, 'TV연예': 1, '책문화': 1, '함께N': 1, '여행': 1, '디자인': 1, '경제M': 1, 'JOB': 1, '과학': 2, '중국': 1, 'FARM': 1, '스쿨잼': 2, '공연전시': 1, '법률': 1, '동물공감': 1, '연애·결혼': 1, '테크': 1, '감성충전': 1, '열기': 1, '관심주제': 1, '가져오기': 2, '로그인후': 2, '사용': 2, '가능합니다': 2, '초기화': 1, '전체선택': 1, '이벤트': 1, '쨈터뷰': 2, '고민상담': 1, '스쿨툰': 1, '쨈톡': 1, '곰손의': 1, '주스쿨잼': 1, '함께': 1, '일하는': 1, '사람들': 1, '보니하니': 1, '편': 1, 'PD가': 1, '되고': 1, '싶은': 1, '학생들에게': 1, '전하는': 1, '메시지': 1, '못': 1, '쓰는': 1, '소방관': 1, '방화복을': 1, '대학생들이': 1, '주워간': 1, '이유': 2, '실밥': 1, '뜯는': 1, '밤': 1, '해리포터': 1, '속': 2, '퀴디치': 1, '나도': 2, '도전할': 1, '있다': 1, '마법세계에': 1, '온': 1, '기분': 1, '세상': 1, '귀찮은': 1, '청소': 1, '도대체': 1, '왜': 2, '해야': 1, '할까': 1, '쓱싹쓱싹': 1, '고양이강아지♥': 1, '귀여운': 1, '심쿵': 1, '움짤': 1, '모음': 1, '앙숙': 1, '아니고': 1, '절친': 1, 'NEW': 1, '문방국민학교': 1, '일기예보': 1, '11화': 1, '얼굴의': 1, '상벌점제': 1, '경기도교육청': 1, '지붕': 1, '없는': 2, '박물관': 1, '경주로': 1, '떠나는': 1, '역사': 1, '탐방': 1, '스쿨잼프렌즈': 3, '권예현': 1, '추천합니다': 1, '재미있게': 1, '읽은': 1, 'BEST': 1, '임가현': 1, '손으로': 2, '뚝딱': 2, '수제': 1, '인스': 1, '만들기': 3, '대작전': 1, '황혜린': 1, '연재': 2, '이름은': 1, '페미니즘이야': 1, '이런': 1, '것도': 1, '차별인가요': 1, '동녘': 1, '나는': 1, '1인': 1, '크리에이터입니다': 1, 'Hello': 1, '소프트웨어': 1, '지구는': 1, '둥그니까': 1, '자꾸': 1, '걸어': 1, '나가면': 1, '지구': 1, '정말': 1, '둥글까': 1, '탐구생활': 1, 'ë\\x8f\\x99ì\\x98\\x81ì\\x83\\x81': 2, '세상에서': 1, '등교하기': 1, '힘든': 1, 'TOP': 1, '타임스낵': 1, '매일': 1, '거울': 1, '보는': 2, '강아지': 1, '자기': 1, '얼굴': 1, '구경하는': 1, '걸까요': 1, '보듬TV': 1, 'httpscastboxshoppingnavercomshopboxmainnhn': 1, '펀딩': 1, '추억을': 1, '되살리는': 1, '직소백': 1, '양복': 1, '조각을': 1, '모아': 1, '만든특별한': 1, '업사이클링': 1, '가방': 1, 'edwith': 1, '부산대': 1, '기초': 1, 'C언어': 1, '논리적인': 1, '프로그래밍': 1, '언어C언어를': 1, '활용해보세요': 1, '새로운': 2, '모바일에': 1, '변화에': 1, '대해': 1, '드립니다': 1, '전체보기': 3, '프로젝트': 2, '꽃': 2, '새로운네이버모바일': 1, '다운로드': 1, 'Creators': 1, '크리에이터': 1, '스몰비즈니스': 1, 'Partners': 1, '파트너': 1, '·': 10, '스토어': 1, '개설': 1, '지역업체': 1, '등록': 1, 'Developers': 1, '개발자센터': 1, '오픈': 1, 'API': 1, '오픈소스': 1, 'D2': 1, '랩스': 1, '정책': 2, '약관': 2, '회사소개': 2, '인재채용': 2, '제휴제안': 1, '이용약관': 1, '청소년보호정책': 2, '고객센터': 2, 'ⓒ': 1, 'Corp': 2, 'Daum': 1, 'charset': 1, 'utf8': 1, 'bodydivdldtddulollih1h2h3h4h5h6precodeformfieldsetlegendtextareapblockquotethtdinputselectbuttonmargin0padding0': 1, 'fieldsetimgborder0': 1, 'none': 6, 'dlulolmenuliliststylenone': 1, 'blockquote': 1, 'qquotes': 1, 'blockquotebefore': 1, 'blockquoteafterqbefore': 1, 'qaftercontentcontentnone': 1, 'inputselecttextareabuttonborderradius0verticalalignmiddle': 1, 'inputmscleardisplaynone': 1, 'buttonborder0': 1, 'nonebackgroundcolortransparentcursorpointer': 1, 'bodybackgroundfffdirectionltrwebkittextsizeadjustnone': 1, 'bodythtdinputselecttextareabuttonfontsize13pxlineheight15fontfamilyAppleSDGothicNeoRegularMalgun': 1, 'Gothic맑은': 1, '고딕dotum돋움sansserifcolor222letterspacing1px': 1, 'osmac': 168, 'bodyosmac': 1, 'thosmac': 1, 'tdosmac': 1, 'inputosmac': 1, 'selectosmac': 1, 'textareaosmac': 1, 'buttonletterspacing0': 1, 'acolor222textdecorationnone': 1, 'ahovercolor118efftextdecorationunderline': 1, 'aactivebackgroundcolortransparent': 1, 'addresscaptioncitecodedfnemvarfontstylenormalfontweightnormal': 1, 'irpmdisplayblockoverflowhiddenfontsize1pxlineheight0textindent9999px': 1, 'irwadisplayblockoverflowhiddenpositionrelativewidth100height100zindex1': 1, 'screenoutoverflowhiddenpositionabsolutewidth0height0lineheight0textindent9999px': 1, 'showdisplayblock': 1, 'hidedisplaynone': 1, 'dindexpositionrelativewidth100': 1, 'dindex': 7, 'shortcutgpositionabsolutetop34pxleft0height33pxpadding0': 1, '20px': 13, '0': 235, '26pxborderbottom1px': 1, 'solid': 54, '3f4243fontsize11pxlineheight14pxbackgroundcolor26292acolorfffletterspacing1pxtextaligncenter': 1, 'shortcutgactive': 2, 'shortcutgfocusoverflowhiddentop0textdecorationnonezindex101': 1, 'shortcutghovercolorfff': 1, 'shortcutg': 2, 'innershortcutdisplayinlineblockpaddingright10pxmargintop8pxbackgroundposition100': 1, '220pxverticalaligntop': 1, 'innershortcutmargintop11pxbackgroundposition100': 1, '223px': 1, 'icopctopoverflowhiddenbackgroundurlt1daumcdnnetdaumtopdecoimagestop2017icopctop180423png': 1, 'norepeat': 24, 'icovertoverflowhiddenbackgroundurlt1daumcdnnetdaumtopdecoimagestop2017icopctopvert170724png': 1, 'txtpctopoverflowhiddenbackgroundurlt1daumcdnnetdaumtopdecoimagestop2017txtpctop170915png': 1, '0letterspacing1pxwhitespacenowrap': 1, 'bgpctopbackgroundurlt1daumcdnnetdaumtopdecoimagestop2017bgpctop170328png': 1, 'numpctopoverflowhiddenbackgroundurlt1daumcdnnetdaumtopdecoimagestop2017numpctop170405png': 1, 'imgthumbdisplayblockverticalaligntop': 1, 'framegpositionabsolutetop0left0border1px': 1, '000opacity008filteralphaopacity8': 1, 'thumbgdisplayblockpositionrelative': 1, 'daumWrappositionrelativeminwidth1080px': 1, 'daumWraptransformtranslate3d0px': 1, '0px': 5, 'headdaumpositionrelativezindex100': 1, 'contmainpositionrelativewidth990pxmargin15px': 1, 'auto': 7, 'conttopicoverflowhiddenpositionrelativezindex0width100bordertop1px': 1, 'ecececbackgroundcolorfbfbfcbackgroundposition50': 1, '100backgroundrepeatnorepeat': 1, 'featuretmpdisplayinlineblockverticalaligntop': 1, 'wrapmainpaddingbottom40pxclearbothzoom1': 1, 'wrapmainafterdisplayblockvisibilityhiddenheight0fontsize0clearbothcontent': 1, 'cmaintmpfloatleftwidth655pxmarginright35px': 1, 'wingtmpfloatleftwidth300px': 1, 'footdaumbordertop1px': 1, '888': 5, 'footdaum': 26, 'innerfootoverflowhiddenpositionrelativewidth990pxmargin0': 1, 'autopadding37px': 1, '78px': 1, 'linklogofloatleft': 1, 'infonoticeoverflowhiddenpadding0': 1, '250px': 3, '30px': 28, 'titnoticefloatleftfontsize13px': 1, 'linknoticedisplayblockpaddingright9pxbackgroundposition100': 1, '169px': 1, 'linknoticehovercolor222': 1, 'listnoticeoverflowhiddenwidth542pxheight19pxpaddingleft9px': 1, 'listnotice': 10, 'linkinfodisplayblockoverflowhiddentextoverflowellipsiswhitespacenowrap': 1, 'linkinfohovercolor222': 1, 'searchfootpositionabsolutetop32pxright0': 1, 'boxsearchpositionrelativezindex1width209pxheight28pxborder1px': 1, 'c8c8c8': 1, 'searchonbordercolor0089ff': 1, 'tfkeywordfloatleftwidth164pxmargin5px': 1, '9pxborder1px': 1, 'transparentlineheight19pxoutline0': 1, 'btnsearchfloatrightwidth32pxheight28pxlineheight28pxbackgroundposition0': 1, '230pxbackgroundcolortransparent': 1, 'linksvcallpositionabsolutetop81pxright0paddingright10pxfontweightboldcolor888backgroundposition100': 1, '194px': 1, 'infopolicypadding23px': 1, 'infopolicy': 2, 'linkpolicyfontsize12pxcolor888': 1, 'txtdotpadding0': 1, '2pxfontsize12pxcolor888': 1, 'txtcopyrightdisplayblockpaddingtop6pxfontsize11pxcolor888': 1, 'txtcopyright': 1, 'linkkakaocolor888': 1, 'infonoticepadding3px': 1, '31px': 1, 'linknoticepaddingright12pxbackgroundpositiony172px': 1, 'tfkeywordmargintop4px': 1, 'linksvcalltop83pxbackgroundpositiony196px': 1, 'infopolicypaddingtop24px': 1, 'txtcopyrightpaddingtop5px': 1, 'dheadborderbottom1px': 1, 'ececec': 9, 'dhead': 1, 'innerheadpositionrelativezindex1width1080pxheight150pxmargin0': 1, 'titdaumoverflowhiddenfloatleftwidth180pxheight150pxtextaligncenter': 1, 'linkdaumoverflowhiddendisplayblockmargin28px': 1, 'linklaunchpositionabsolutetop6pxleft45pxpaddingright8pxfontsize11pxcolor888backgroundposition100': 1, '18px': 3, 'linklaunchtop9pxbackgroundposition100': 1, '21px': 1, 'wrapsearchfloatleftpositionrelativemargintop50px': 1, 'wrapsearch': 1, 'dschbackgroundcolorfff': 1, 'headdaum': 17, 'boxsearchpositionrelativeheight44pxmargin1px': 1, '1px': 5, '0border1px': 2, '0089ffborderradius1px': 1, 'boxsearch': 2, 'innersearchpositionrelativezindex10height44pxpadding0': 1, '80px': 10, '14px': 5, 'boxsearchbefore': 1, 'innersearchbefore': 1, 'boxsearchafterpositionabsoluteleft0right100height1pxcontentbackgroundcolor0089ff': 1, 'boxsearchbeforetop1px': 1, 'boxsearchafterbottom1px': 1, 'boxsearchhoverbefore': 1, 'boxsearchhoverafterright0transitionpropertyrighttransitionduration08sbackgroundlineargradientto': 1, 'right': 1, '86aaff': 1, '70bc4c': 1, 'ffbe00': 1, 'f46e85': 1, 'boxsearchhover': 1, 'innersearchbeforetop1pxbottom1pxleftautoright1pxwidth1pxheight46pxbackgroundcolorf46e85transitionpropertyheighttransitiondelay08s': 1, 'tfkeywordfloatleftwidth422pxmargintop7pxborder1px': 1, 'transparentfontsize18pxlineheight24pxbackgroundcolortransparentoutline0imemodeactivewebkitappearancenone': 1, 'btnsearchpositionabsolutetop0right0width49pxheight42pxmargin1pxlineheight44pxbackgroundposition40px': 1, '231pxbackgroundcolortransparent': 1, 'slidefavorschoverflowhiddenwidth480pxheight28px': 1, 'listfavorschoverflowhiddenpaddingtop7px': 1, 'listfavorsch': 3, 'lifloatleftpaddingright10px': 1, 'linkfavorschdisplayblockfontsize12pxcolor555': 1, 'pagepctopzindex1right1pxbottom3px': 1, 'headbnrpositionabsolutetop33pxright45px': 1, 'headbnr': 1, 'linkheadbnrdisplayblock': 1, 'boxsearchmargintop0': 1, 'tfkeywordmargintop11px': 1, 'listfavorschpaddingtop10px': 1, 'lipaddingright14px': 1, 'imgkeyboardbackgroundimageurlt1daumcdnnetdaumtopdecoimagestop2017imgkeyboard171229png': 1, 'btnkeypositionabsolutetop0right58pxwidth29pxheight42pxmargin1pxlineheight44pxbackgroundposition0': 1, 'btnkeybtnonbackgroundposition0': 1, '50px': 3, 'keyboardlayerpositionabsolutetop45pxleft382pxzindex10000': 1, 'keyboardlayer': 78, 'groupkeyboarddisplaynonepadding49px': 1, '16px': 5, '20pxwidth435pxheight166pxborder1px': 1, '888backgroundcolorfff': 4, 'groupkeyboardondisplayblock': 1, 'groupkeyboard': 47, 'titkeyboardpositionabsolutetop20pxleft20pxwidth24pxheight13pxbackgroundposition0': 1, '120px': 7, 'engbasic': 7, 'titkeyboardkeyboardlayer': 1, 'engshift': 7, 'titkeyboardbackgroundposition0': 1, '140px': 5, 'btncloseoverflowhiddenpositionabsolutetop19pxright20pxwidth13pxheight13pxbackgroundposition0': 1, '100px': 16, 'keyboardlineoverflowhiddenmargintop4px': 1, 'keyboard1ndoverflowhiddenmargin0': 1, 'keyboard2ndpaddingleft15px': 1, 'keyboard3ndpaddingleft30px': 1, 'btnkeyboardoverflowhiddenfloatleftwidth26pxheight30pxmarginright4pxtextaligncentertextindent9999px': 1, 'korbasic': 6, 'btnkeyboardbackgroundimageurlt1daumcdnnetdaumtopdecoimagestop2017imgkor171226png': 1, 'btnkeyboardhoverkeyboardlayer': 8, 'btnkeyboardactivebackgroundimageurlt1daumcdnnetdaumtopdecoimagestop2017imgkorhover171226png': 1, 'korshift': 6, 'btnkeyboardbackgroundimageurlt1daumcdnnetdaumtopdecoimagestop2017imgkorshift171229png': 1, 'btnkeyboardactivebackgroundimageurlt1daumcdnnetdaumtopdecoimagestop2017imgkorshifthover171229png': 1, 'btnkeyboardbackgroundimageurlt1daumcdnnetdaumtopdecoimagestop2017imgeng171226png': 1, 'btnkeyboardactivebackgroundimageurlt1daumcdnnetdaumtopdecoimagestop2017imgenghover180122png': 1, 'btnkeyboardbackgroundimageurlt1daumcdnnetdaumtopdecoimagestop2017imgengshift171226png': 1, 'btnkeyboardactivebackgroundimageurlt1daumcdnnetdaumtopdecoimagestop2017imgengshifthover171226png': 1, 'keyboard1backgroundposition30px': 1, 'keyboard2backgroundposition60px': 1, 'keyboard3backgroundposition90px': 1, 'keyboard4backgroundposition120px': 1, 'keyboard5backgroundposition150px': 1, 'keyboard6backgroundposition180px': 1, 'keyboard7backgroundposition210px': 1, 'keyboard8backgroundposition240px': 1, 'keyboard9backgroundposition270px': 1, 'keyboard10backgroundposition300px': 1, 'keyboard11backgroundposition330px': 1, 'keyboard12backgroundposition360px': 1, 'keyboard13backgroundposition15px': 1, '34px': 13, 'keyboard14backgroundposition45px': 1, 'keyboard15backgroundposition75px': 1, 'keyboard16backgroundposition105px': 1, 'keyboard17backgroundposition135px': 1, 'keyboard18backgroundposition165px': 1, 'keyboard19backgroundposition195px': 1, 'keyboard20backgroundposition225px': 1, 'keyboard21backgroundposition255px': 1, 'keyboard22backgroundposition285px': 1, 'keyboard23backgroundposition315px': 1, 'keyboard24backgroundposition345px': 1, 'keyboard25backgroundposition375px': 1, 'keyboard26backgroundposition30px': 1, '68px': 11, 'keyboard27backgroundposition60px': 1, 'keyboard28backgroundposition90px': 1, 'keyboard29backgroundposition120px': 1, 'keyboard30backgroundposition150px': 1, 'keyboard31backgroundposition180px': 1, 'keyboard32backgroundposition210px': 1, 'keyboard33backgroundposition240px': 1, 'keyboard34backgroundposition270px': 1, 'keyboard35backgroundposition300px': 1, 'keyboard36backgroundposition330px': 1, 'keyboard37backgroundposition75px': 1, '102px': 12, 'keyboard38backgroundposition105px': 1, 'keyboard39backgroundposition135px': 1, 'keyboard40backgroundposition165px': 1, 'keyboard41backgroundposition195px': 1, 'keyboard42backgroundposition225px': 1, 'keyboard43backgroundposition255px': 1, 'keyboard44backgroundposition285px': 1, 'keyboard45backgroundposition315px': 1, 'keyboard46backgroundposition345px': 1, 'keyboardspebkspwidth41pxbackgroundposition390px': 1, 'keyboardspeshiftwidth71pxbackgroundposition0': 1, 'keyboardspeshift2width56pxbackgroundposition375px': 1, 'keyboardspelangwidth86pxbackgroundposition0': 1, '136px': 3, 'keyboardspespacewidth251pxbackgroundposition90px': 1, 'keyboardspeenterwidth86pxbackgroundposition345px': 1, 'daumSuggestWrappositionrelativemarginright90pxclearboth': 1, 'suggestBoxpositionabsolutetop45pxleft0zindex9999width520pxpadding0backgroundnone': 1, 'baseBoxbordertop1px': 1, 'dcdcdcfontsize12pxlineheight17pxfontfamily굴림gulimsansserifbackgroundcolorfff': 1, 'baseBoxfontfamilyApple': 1, 'SD': 6, 'Gothic': 6, 'Neosansserif': 6, 'suggestBox': 96, 'listpadding7px': 1, '13pxborderleft1px': 1, 'dcdcdcborderright1px': 2, 'dcdcdccolor333backgroundcolorfff': 1, 'suggestBoxreverseType': 2, 'listpadding3px': 1, '7pxcolor333': 1, 'baseBox': 4, 'lioverflowhiddenheight26pxpadding0': 1, '16pxlineheight26pxtextalignleftcursorpointer': 1, 'li': 8, 'itemdisplayblockheight100': 1, 'itemhovertextdecorationnone': 1, 'list': 1, 'onbackgroundcolorf6f6f6': 1, 'strongfontweightnormalcolor0089ff': 1, 'lineoverflowhiddenheight1pxmargin7px': 1, '6pxpadding0fontsize1pxlineheight1pxbackgroundcolore5e5e5': 1, 'guidepadding15px': 1, '10pxcolor555': 1, 'footerpositionrelativeheight20pxpadding8px': 1, '12px': 10, '4px': 13, '7pxborder1px': 1, 'dcdcdcbordertop1px': 1, 'ecececfontsize11pxbackgroundcolorfbfbfbletterspacing1pxclearboth': 1, 'footerbordertopcolordcdcdcborderbottomcolorededed': 1, 'footer': 7, 'flfloatleft': 1, 'frfloatright': 1, 'btnclosepaddingleft12pxbackgroundposition0': 1, '939px': 1, 'bardisplaynonepadding0': 1, '2pxcolorddd': 1, 'fl': 1, 'barpadding0': 1, '2px': 12, 'offGuidedisplaynonepositionabsoluteright0bottom19pxwidth211pxheight27pxbackgroundurlsearch1daumcdnnetsearchstaticscommonpisuggestservicegif': 1, 'norepeattextindent999em': 1, 'offSuggestdisplaynone': 1, 'listpadding9px': 1, '11px': 3, 'lipadding0': 2, '17px': 2, 'acolor777': 1, 'answerborderleft1px': 1, 'dcdcdc': 1, 'answer': 1, 'spancursorpointer': 1, 'afontsize14pxcolor333fontfamily돋움dotumsansseriftextdecorationnone': 1, 'afontfamilyApple': 1, 'linedisplayblockoverflowhiddenclearboth': 1, 'blineborderbottom1px': 1, 'ededed': 1, 'suggestexactdisplayblockoverflowhiddenheight40pxpadding12px': 1, 'suggestexacthovertextdecorationnone': 1, 'eonbackgroundcolorf8f8f8textdecorationnone': 1, 'suggestexact': 56, 'txtexactoverflowhiddenfloatleftheight44pxmargintop0backgroundposition0': 1, 'txtunitfontsize14pxfontfamilyarialsansserif': 1, 'titmarginleft1pxfontweightnormalfontsize12pxlineheight18pxfontfamily굴림gulimsansserifcolor333': 1, 'contdisplayblock': 1, 'txtcontmarginright4pxfontweightboldfontsize14pxlineheight16pxfontfamily돋움dotumsansserifcolor333': 1, 'txtnum1fontsize18pxlineheight20pxfontfamilytahomasansserifcolor333': 1, 'txtnum2marginleft3pxfontsize12pxlineheight14pxfontfamily굴림gulimsansserifcolor333': 1, 'txtnum3fontsize20pxlineheight23pxfontfamilyarialsansserifcolor333': 1, 'txtnum4marginleft3pxfontsize12pxlineheight14pxfontfamily굴림gulimsansserifcolor333': 1, 'txtexact': 5, 'icosuggest2backgroundurlsearch1daumcdnnetsearchstaticscommonpiicoicosuggest20110721gif': 1, 'icocelsiusbackgroundnone': 1, 'icoarrowuppaddingleft11pxbackgroundposition0': 1, '58px': 1, 'icoarrowdownpaddingleft11pxbackgroundposition0': 1, '98px': 1, 'icoarrowequalpaddingleft11pxbackgroundposition0': 1, '75px': 1, 'txtbluecolor007aff': 1, 'txtblue2color007aff': 1, 'txtredcolore52d38': 1, 'txtred2colore52d38': 1, 'txttimefloatrightmargin25px': 1, '0fontsize11pxfontfamily돋움dotumsansserifcolora1a1a1': 1, 'icocelsiuswidth12pxheight13pxfontfamilyarialsansserifbackgroundpositionright': 1, '5px': 9, 'barfontsize14pxcolordedede': 1, 'wraptodayoverflowhiddenheight21pxpadding4px': 1, '10px': 2, '9pxlineheight21px': 1, 'wraptoday': 2, 'contfontsize14pxcolor333textdecorationnone': 1, 'contimportfontweightnormalcolorea570a': 1, 'titfontfamilyApple': 1, 'txtnum2fontfamilyApple': 1, 'txtnum4fontfamilyApple': 1, 'txttimefontfamilyApple': 1, 'icolottofloatleftwidth28pxheight28pxmargin6px': 1, '0borderradius20pxtextaligncenter': 1, 'icolotto': 1, 'txtnumdisplayinlineblockmargintop7pxfontsize14pxlineheight1fontfamilyarialsansserifcolorfffverticalaligntop': 1, 'num1backgroundcolorf6a800': 1, 'num10backgroundcolor4155cb': 1, 'num20backgroundcolorf64d61': 1, 'num30backgroundcolor585d6e': 1, 'num40backgroundcolorf6a800': 1, 'pluswidth8pxheight8pxmargin16px': 1, '8px': 10, '4pxbackgroundurlsearch1daumcdnnetsearchstaticscommonpiicoicosuggest20110721gif': 1, '40pxtextindent9999pxopacity05': 1, 'icosuggestpaddingleft59pxcolor555backgroundurlsearch1daumcdnnetsearchstaticscommonpiweathericoweathermpng': 1, 'icosuggest': 1, 'cont': 1, 'screenoutpositionstaticfontsize14pxfontfamilyarialsansseriftextindent0': 1, 'txtexactoverflowhiddenfloatleftheight44pxmargintop0': 1, 'icow00backgroundposition0': 1, '1620px': 1, 'icow01backgroundposition0': 2, 'night': 25, '60px': 18, 'icow02backgroundposition0': 2, '180px': 5, 'icow03backgroundposition0': 2, '240px': 3, '300px': 3, 'icow04backgroundposition0': 1, '360px': 2, 'icow05backgroundposition0': 2, '420px': 1, '480px': 2, 'icow06backgroundposition0': 2, '540px': 1, '600px': 1, 'icow07backgroundposition0': 1, '660px': 1, 'icow08backgroundposition0': 1, '720px': 1, 'icow09backgroundposition0': 1, '780px': 1, 'icow10backgroundposition0': 2, '840px': 1, '900px': 1, 'icow11backgroundposition0': 1, '960px': 1, 'icow12backgroundposition0': 1, '1020px': 1, 'icow13backgroundposition0': 2, '1080px': 1, '1140px': 1, 'icow14backgroundposition0': 1, '1200px': 1, 'icow15backgroundposition0': 1, '1260px': 1, 'icow16backgroundposition0': 2, '1320px': 1, '1380px': 1, 'icow17backgroundposition0': 1, '1440px': 1, 'icow18backgroundposition0': 1, '1500px': 1, 'icow19backgroundposition0': 1, '1560px': 1, 'daumSuggestWrapdisplaynone': 1, 'dserviceborderbottom1px': 1, 'dservice': 1, 'innerservicepositionrelativewidth990pxheight45pxmargin0': 1, 'menuservicefloatleftpositionrelativewidth660px': 1, 'menuservice': 1, 'linkmoreoverflowhiddenfloatleftwidth60pxheight25pxpadding10px': 1, '9pxlineheight20pxbackgroundposition0': 1, '8pxbackgroundcolortransparenttextaligncenter': 1, 'menuon': 2, 'linkmorebackgroundposition60px': 1, 'listmainsvcfloatleft': 1, 'listmainsvc': 16, 'lifloatleftheight45px': 1, 'txtpctopdisplayblockheight25pxpadding10px': 1, '0fontweightboldfontsize13pxlineheight25pxbackgroundcolortransparenttextaligncenter': 1, 'linkcafewidth30pxbackgroundposition0': 1, 'linkmailwidth36pxbackgroundposition30px': 1, 'linknewswidth37pxbackgroundposition66px': 1, 'linkmapwidth36pxbackgroundposition103px': 1, 'linkstockwidth37pxbackgroundposition139px': 1, 'linkshoppingwidth36pxbackgroundposition176px': 1, 'linkkakaotvwidth64pxbackgroundposition212px': 1, 'linkwebtoonwidth37pxbackgroundposition276px': 1, 'linkblogwidth48pxbackgroundposition313px': 1, 'linkbrunchwidth47pxbackgroundposition361px': 1, 'linkdicwidth36pxbackgroundposition408px': 1, 'linkgamewidth37pxbackgroundposition444px': 1, 'linkstarplaywidth59pxbackgroundposition481px': 1, 'linktogetherwidth59pxbackgroundposition540px': 1, 'servicelayerdisplaynonepositionabsolutetop45pxleft0width653pxborder1px': 1, 'servicelayerdisplayblock': 1, 'servicelayer': 21, 'layerbodyoverflowhiddenbackgroundurlt1daumcdnnetdaumtopdecoimagestop2017bglinegif': 1, 'repeaty': 1, 'collsvcfloatleftwidth109px': 1, 'sortserviceoverflowhiddenpadding0': 1, '15px': 5, 'sortservice': 8, 'dtmargin11px': 1, '4pxfontweightboldfontsize12px': 1, 'ddclearbothfontsize12pxlineheight22px': 1, 'titsplitfloatleftpaddingright9pxbackgroundposition100': 1, 'linksvccolor555': 1, 'linksvchovercolor118eff': 1, 'iconewdisplayinlineblockwidth11pxheight11pxmargin2px': 1, '2pxfontsize0lineheight0backgroundposition160px': 1, '80pxverticalalignmiddletextindent9999px': 1, 'sorttype2height146pxpaddingbottom0': 1, 'collsvcfstwidth108px': 1, 'collsvcfst': 1, 'sortservicepaddingleft14px': 1, 'layerfootoverflowhiddenheight32pxbordertop1px': 1, 'ecececbackgroundcolorfbfbfb': 5, 'layerfoot': 4, 'linktotalfloatleftpaddingright8pxmarginleft13pxfontsize11pxlineheight29pxcolor555backgroundposition100': 1, 'btnclosefloatrightpadding0': 1, '13pxmargin2pxfontsize11pxlineheight24pxcolor888': 1, 'sortservicepaddingbottom12px': 1, 'dtmargin14px': 1, 'titsplitbackgroundposition100': 1, '3px': 5, 'sorttype2paddingbottom0': 1, 'linktotalpaddingright10pxmarginleft14pxlineheight32pxbackgroundposition100': 1, 'btnclosepadding0': 1, '12pxlineheight28px': 1, 'todaybasefloatrightpositionrelativeheight45px': 1, 'todaybase': 5, 'compbasedisplayinlineblockverticalaligntop': 1, 'imgweatherbackgroundimageurlt1daumcdnnetdaumtopdecoimagestop2017imgweather170628pngbackgroundrepeatnorepeatfontsize0lineheight0textindent9999px': 1, 'txttemperfloatleftfontsize14pxfontfamilytahomaarialsansserifletterspacing0': 1, 'txttemperfontfamilyhelveticaarialsansserif': 1, 'infotodayfloatleftfontsize13px': 1, 'infotoday': 43, 'datetodayfloatleftheight24pxpaddingtop10pxlineheight20pxletterspacing0': 1, 'txtpartfloatleftmarginright5pxfontweightboldlineheight24px': 1, 'linkweatherfloatleftheight25pxmarginleft16pxpadding8px': 1, '12pxlineheight24pxtextalignright': 1, 'linkweatherhovercolor222textdecorationnone': 2, 'listweatherfloatleftoverflowhiddenheight25px': 1, 'listweather': 1, 'lioverflowhiddenheight25px': 1, 'datetodaylineheight26px': 1, 'txtpartlineheight30px': 1, 'linkweatherlineheight26px': 1, 'linkweather': 5, 'icomoremargintop10px': 1, 'icowsbackgroundimageurlt1daumcdnnetdaumtopdecoimagestop2017icows1801023pngbackgroundrepeatnorepeatfontsize0lineheight0textindent9999px': 1, 'icowsfloatleftwidth26pxheight26pxmargin1px': 1, '0verticalaligntop': 2, 'icowm01backgroundposition0': 2, 'icowm01backgroundposition30px': 1, 'icowm02backgroundposition60px': 1, 'icowm02backgroundposition90px': 1, 'icowm03backgroundposition120px': 1, 'icowm03backgroundposition150px': 1, 'icowm04backgroundposition180px': 1, 'icowm05backgroundposition210px': 1, 'icowm05backgroundposition240px': 1, 'icowm06backgroundposition0': 2, 'icowm06backgroundposition30px': 1, 'icowm07backgroundposition60px': 1, 'icowm08backgroundposition90px': 1, 'icowm09backgroundposition120px': 1, 'icowm10backgroundposition150px': 1, 'icowm10backgroundposition180px': 1, 'icowm11backgroundposition210px': 1, 'icowm12backgroundposition240px': 1, 'icowm13backgroundposition0': 1, 'icowm13backgroundposition30px': 1, 'icowm14backgroundposition60px': 1, 'icowm15backgroundposition90px': 1, 'icowm16backgroundposition120px': 1, 'icowm16backgroundposition150px': 1, 'icowm17backgroundposition180px': 1, 'icowm18backgroundposition210px': 1, 'icowm19backgroundposition240px': 1, 'txttempermargintop1px': 2, 'icodegreefloatleftwidth17pxheight15pxmargin7px': 1, '0fontsize12pxlineheight17pxbackgroundposition210px': 1, '270pxbackgroundcolortransparenttextaligncentertextindent0': 1, 'icomorewidth13pxheight9pxmargin9px': 1, '1pxbackgroundposition138px': 1, '292px': 2, 'todayon': 2, 'icomorebackgroundposition138px': 1, '304px': 1, 'todaylayerdisplaynonepositionabsolutetop45pxright0width298pxborder1px': 1, 'todaylayer': 78, 'icowmbackgroundimageurlt1daumcdnnetdaumtopdecoimagestop2017icowm1801023pngbackgroundrepeatnorepeatfontsize0lineheight0textindent9999px': 1, 'layerbodyoverflowhidden': 1, 'layerbodyafterpositionabsolutetop0right0width42pxheight42pxcontent': 1, 'weatherpartpositionrelativeheight135px': 1, 'btnlocatepositionabsolutetop17pxleft18pxwidth21pxheight21pxfontsize0lineheight0backgroundposition176px': 1, '246pxtextindent9999px': 1, 'btnlocateonbackgroundposition176px': 1, '286px': 1, 'linkweatherdisplayblockoverflowhiddenheight135px': 1, 'txtplacedisplayblockheight20pxmargin17px': 1, '22pxfontweightboldfontsize13pxlineheight19px': 1, 'txtplace': 1, 'txtlocaldisplayinlineblock': 1, 'icowmfloatleftwidth90pxheight90pxmarginleft22px': 1, 'icowm01backgroundposition100px': 1, 'icowm02backgroundposition200px': 1, 'icowm02backgroundposition300px': 1, 'icowm03backgroundposition400px': 1, 'icowm03backgroundposition500px': 1, 'icowm04backgroundposition600px': 1, 'icowm05backgroundposition700px': 1, 'icowm05backgroundposition800px': 1, 'icowm06backgroundposition100px': 1, 'icowm07backgroundposition200px': 1, 'icowm08backgroundposition300px': 1, 'icowm09backgroundposition400px': 1, 'icowm10backgroundposition500px': 1, 'icowm10backgroundposition600px': 1, 'icowm11backgroundposition700px': 1, 'icowm12backgroundposition800px': 1, 'icowm13backgroundposition': 2, '200px': 18, 'icowm14backgroundposition200px': 1, 'icowm15backgroundposition300px': 1, 'icowm16backgroundposition400px': 1, 'icowm16backgroundposition500px': 1, 'icowm17backgroundposition600px': 1, 'icowm18backgroundposition700px': 1, 'icowm19backgroundposition800px': 1, 'infotemperdisplayblockoverflowhiddenheight32pxmargin19px': 1, '130pxfontfamilytahomaarialsansserif': 1, 'infotemper': 13, 'imgweatherfloatleftwidth22pxheight32pxmargin0': 1, 'num0backgroundposition260px': 1, 'num1backgroundposition260px': 1, '40px': 8, 'num2backgroundposition260px': 1, 'num3backgroundposition260px': 1, 'num4backgroundposition260px': 1, '160px': 6, 'num5backgroundposition260px': 1, 'num6backgroundposition260px': 1, 'num7backgroundposition260px': 1, '280px': 3, 'num8backgroundposition260px': 1, '320px': 1, 'num9backgroundposition260px': 1, 'icominuswidth22pxheight32pxbackgroundposition260px': 1, '400px': 1, 'icodegreewidth39pxheight32pxbackgroundposition210px': 1, 'statedescdisplayblockoverflowhiddenmargin7px': 1, '130pxlineheight16px': 1, 'statedesc': 4, 'icodegreefloatleftwidth14pxheight12pxmargin3px': 1, '0backgroundposition240px': 1, '208px': 1, 'txtdescfloatleftmarginright2px': 1, 'layerfootoverflowhiddenbordertop1px': 1, 'linkstatefloatleftoverflowhiddenwidth50height39pxcolor101010textdecorationnone': 1, 'infowmoverflowhiddenheight22pxpaddingtop8pxlineheight21px': 1, 'infowm': 5, 'dtfloatleftpaddingright9px': 1, 'ddfloatleft': 2, 'imgweatherdisplayinlineblockverticalaligntop': 1, 'infodustpaddingleft18px': 1, 'icodustwidth20pxheight20pxmargintop3pxmarginright6pxbackgroundposition140px': 1, 'icoairwidth21pxheight21pxmargin1px': 1, '7px': 7, '2pxbackgroundposition140px': 1, '264px': 1, 'stategoodcolor0078ff': 1, 'statenormalcolor27aa1d': 1, 'statebadcolorfecc3d': 1, 'stateworstcolore30000': 1, 'btnclosepositionabsolutetop18pxright18pxwidth16pxheight16pxbackgroundposition0': 2, 'txtplacemargintop20pxlineheight18px': 1, 'infotempermargintop15px': 1, 'statedescmargintop10px': 1, 'icodegreemargintop1px': 1, 'infowmpaddingtop11px': 1, 'icodustmargintop0': 1, 'icoairmargintop2px': 1, 'todaylayerdisplayblock': 1, 'adverttmpfloatleftpositionrelativewidth655pxheight120pxmarginright35px': 1, 'adverttmp': 1, 'bglinepositionabsolutetop0left0zindex1width653pxheight118pxborder1px': 1, 'advertstationdisplayinlineblockpositionrelativewidth300pxheight150pxmargintop15pxfontsize0lineheight0verticalaligntop': 1, 'advertstation': 1, 'bglinepositionabsolutetop0left0zindex1width298pxheight148pxborder1px': 1, 'boxshoppingdisplayinlineblockpositionrelativewidth300pxheight1177pxmargintop15pxverticalaligntop': 1, 'boxshopping': 2, 'bgline1positionabsolutetop0left0zindex1width298pxheight775pxborder1px': 1, 'bgline2positionabsolutetop792pxleft0zindex1width298pxheight383pxborder1px': 1, 'advertsvcbnrmargintop15px': 1, 'advertsvcbnr': 2, 'linkbnrdisplayblockpositionrelativeheight60px': 1, 'framegwidth298pxheight58px': 1, 'advertbnrmargintop15px': 1, 'advertbnr': 2, 'linkbnrdisplayblockoverflowhiddenpositionrelativeheight143px': 1, 'framegwidth298pxheight141px': 1, 'wraptiercontpositionrelativezindex99width990pxmargin0': 1, 'logintmpfloatrightpositionrelativezindex0width300pxheight120pxletterspacing1px': 1, 'loginmyzindex10backgroundurlt1daumcdnnetdaumtopdecoimagestop2017bgpctop170328png': 1, 'loginmy': 22, 'wrapmywidth285pxheight45pxpadding15px': 1, 'infomyfloatleftpadding1px': 1, 'relmyfloatrightpaddingright15px': 1, 'nameuserfloatleftmarginright4pxfontweightbold': 1, 'linkmyinfofloatleftfontsize11pxmargin2px': 1, '0lineheight14pxcolor555textdecorationunderline': 1, 'linkssopositionabsolutetop41pxleft15pxwidth68pxheight22pxfontsize11pxlineheight22pxbackgroundposition100px': 1, '235pxwhitespacenowrap': 2, 'linkssoingbackgroundposition100px': 1, '205px': 1, 'linkssohelppositionabsolutetop41pxleft85pxwidth6pxheight22pxpadding0': 1, '6pxfontsize12pxlineheight22pxbackgroundposition180px': 1, 'layerssopositionabsolutetop77pxleft0zindex11width298pxheight82pxborder1px': 1, '118effbackgroundcolorfff': 1, 'layersso': 4, 'boxhelpdisplaytablewidth100height100': 1, 'txthelpdisplaytablecellpadding0': 1, '2pxfontsize12pxlineheight16pxcolor555verticalalignmiddle': 1, 'btnclosepositionabsolutetop5pxright5pxwidth21pxheight21pxpadding0': 1, '6pxbackgroundposition210px': 1, '235px': 1, 'linkempathyfloatleftmargin5px': 1, '0fontsize11pxlineheight14pxcolor5b6473': 1, 'btnlogoutfloatleftwidth56pxheight24pxfontsize11pxlineheight24pxbackgroundposition180px': 1, '30pxbackgroundcolortransparent': 1, 'listbasisoverflowhiddenpositionabsolutetop43pxright9pxheight30pxletterspacing012em': 1, 'listbasis': 6, 'lifloatleftpaddingright8pxlineheight15px': 1, 'linkbasisfloatleftfontsize12pxcolor555': 1, 'numbasismarginleft3pxcolor118eff': 1, 'nummsgwidth30px': 1, 'linknumfontweightboldcolor118eff': 1, 'mymileage': 1, 'linkbasismarginright8px': 1, 'wrapmysvcpositionrelativezindex10width300px': 1, 'mysvclistpositionrelativewidth300pxheight43px': 1, 'listmysvcdisplayinlineblockpositionrelativewidth300pxheight43pxverticalaligntopletterspacing1px': 1, 'listmysvc': 13, 'lipositionrelativefloatleftwidth100pxheight43px': 1, 'linkmysvcdisplayblockoverflowhiddenheight31pxpaddingtop12pxfontsize12pxlineheight18pxtextaligncentercolor555': 1, 'linkmysvchovertextdecorationnone': 1, 'cafeg': 5, 'linkmysvcheight30pxpaddingtop13pxlineheight16px': 1, 'txtmysvcdisplayinlineblockheight26pxcolor555verticalaligntop': 1, 'txtmysvcpaddingleft24pxbackgroundposition0': 1, 'stockg': 1, 'txtmysvcpaddingleft27pxbackgroundposition0': 1, '109px': 1, 'blogg': 1, 'txtmysvcpaddingleft29pxbackgroundposition0': 1, '139px': 1, 'iconewdisplaynonewidth11pxheight11pxmargin5px': 1, '4pxbackgroundposition160px': 1, '80pxtextindent9999pxverticalaligntop': 1, 'newg': 1, 'iconewdisplayinlineblock': 1, 'iconewmargintop4px': 2, 'mycafeonbackgroundurlt1daumcdnnetdaumtopdecoimagestop2017bgpctop170328png': 1, '310px': 15, 'mystockonbackgroundurlt1daumcdnnetdaumtopdecoimagestop2017bgpctop170328png': 1, 'myblogonbackgroundurlt1daumcdnnetdaumtopdecoimagestop2017bgpctop170328png': 1, 'layermycontpositionabsolutetop120pxleft0width300pxheight353pxbackgroundposition0': 1, '130px': 11, 'layermycont': 2, 'btnclosepositionabsolutetop320pxright0width46pxheight32pxpadding3px': 1, '4pxfontsize11pxlineheight18pxcolor888': 1, 'txthelppaddingtop2pxpaddingbottom0': 1, 'logintmpletterspacing0': 1, 'infomypaddingtop4px': 1, 'nameusermarginright7px': 1, 'linkprivacymargintop0': 1, 'listbasistop45pxright6pxletterspacing0': 1, 'lipaddingright9px': 1, 'linkmysvclineheight21px': 1, 'linkmysvclineheight20px': 1, 'iconewmargintop3px': 1, 'btnclosepaddingtop5px': 1, 'panelblocpositionrelativepaddingtop61px': 1, 'tittabcontpositionabsolutetop15pxfontsize16px': 1, 'tittabcont': 1, 'linktitdisplayblockheight36pxlineheight36pxbackgroundcolortransparenttextaligncenter': 1, 'wraptabcontdisplaynonewidth655px': 1, 'icoviewoverflowhiddenpositionabsoluteright8pxbottom8pxwidth23pxheight23pxbackgroundposition40px': 1, '0textindent9999pxcursorpointer': 3, 'icovideooverflowhiddenpositionabsoluteright8pxbottom8pxwidth23pxheight23pxbackgroundposition70px': 1, 'icoliveoverflowhiddenpositionabsoluteright8pxbottom8pxwidth23pxheight23pxbackgroundposition130px': 1, 'colorg1colore30000': 1, 'colorg2color118eff': 1, 'icolabeloverflowhiddenpositionabsolutetop15pxleft15pxheight22pxpadding0': 1, '8pxfontsize11pxlineheight19pxcolorfffbackgroundcolor118eff': 1, 'icolabel2overflowhiddenpositionabsolutetop0left0height20pxpadding0': 1, '7pxfontsize11pxlineheight17pxcolorfffbackgroundcolorrgba00006filterprogidDXImageTransformMicrosoftgradientstartColorstr99000000endColorstr99000000GradientType0': 1, 'icolabel3overflowhiddenpositionabsolutetop15pxleft15pxheight22pxpadding0': 1, '8pxfontsize11pxlineheight19pxcolorfffbackgroundcolore8493d': 1, 'icolabelosmac': 1, 'icolabel3lineheight23px': 1, 'icolabel2lineheight21px': 1, 'taglivewidth30pxheight15pxbackgroundposition120px': 1, '70px': 3, 'tagnewwidth31pxheight15pxbackgroundposition120px': 1, '90px': 4, 'tageventwidth40pxheight15pxbackgroundposition120px': 1, '110px': 4, 'tagissuewidth37pxheight15pxbackgroundposition120px': 1, 'taghotwidth28pxheight15pxbackgroundposition208px': 1, '260px': 3, 'taglive2width33pxheight17pxbackgroundposition120px': 1, 'tagnew2width34pxheight17pxbackgroundposition120px': 1, 'tagevent2width45pxheight17pxbackgroundposition160px': 1, 'tagissue2width41pxheight17pxbackgroundposition160px': 1, 'icoadpositionabsoluteright10pxbottom10pxwidth25pxheight16pxfontsize0lineheight0backgroundposition0': 1, '40pxtextindent9999px': 1, 'pagepctoppositionabsolutewidthautoheight16px': 1, 'pagepctop': 13, 'btnpagefloatleftwidth16pxheight16pxlineheight16pxbackgroundcolortransparentbackgroundposition210px': 1, 'btnnextwidth15pxbackgroundposition226px': 2, 'infopagefloatleftpadding2px': 1, '0fontsize12pxlineheight16pxcolor555fontfamilytahomaarialsansserif': 1, 'infopage': 1, 'txtslashpadding0': 1, 'infopagelineheight16pxfontfamilyhelveticaarialsansserif': 1, 'pagebtypetop20pxright0height26px': 1, 'pagebtype': 4, 'btnpagewidth26pxheight26pxlineheight26pxbackgroundposition110px': 1, '170pxtextindent10px': 1, 'btnnextwidth25pxbackgroundposition136px': 1, '170px': 4, 'infopagepaddingtop1pxpaddingright8pxfontsize14pxlineheight22px': 1, 'infopagelineheight24px': 1, 'pagetabcontpositionabsolutezindex1top16pxleft30pxcursorpointer': 1, 'pagetabcont': 2, 'btnpageoverflowhiddenfloatleftwidth7pxheight7pxmargin9px': 1, '0fontsize10pxlineheight7pxbackgroundposition100px': 1, '170pxbackgroundcolortransparent': 1, 'onpositionrelativebackgroundposition100px': 1, '177px': 1, 'listthumboverflowhidden': 1, 'listthumb': 12, 'lifloatleftwidth154pxheight146pxmarginleft13px': 1, 'fstmarginleft0': 2, 'linkitemdisplayblock': 1, 'thumbgwidth154pxheight94px': 2, 'framegwidth152pxheight92px': 3, 'contitempadding4px': 2, 'tititemdisplayblockoverflowhiddenmaxheight36pxpaddingright12pxfontweightnormallineheight18pxwordbreakkeepallwordwrapbreakword': 2, 'contitempaddingtop6px': 3, 'tititempaddingright14px': 3, 'listtxtfloatleft': 1, 'listtxt': 13, 'lioverflowhiddenheight20pxpadding4px': 1, '2pxwhitespacenowraptextoverflowellipsis': 1, 'icopctopdisplayinlineblockmargin3px': 1, '0textindent9999pxverticalaligntop': 4, 'splittxtpaddingleft10pxmarginleft10pxcolor888backgroundurlt1daumcdnnetdaumtopdecoimagestop2017icopctopvert170724png': 1, '46px': 1, 'splittxthovercolor118eff': 1, 'partmidpaddingtop18pxlineheight16px': 1, 'splitpartdisplayinlineblockoverflowhiddenverticalaligntop': 1, 'splitpart': 3, 'linktxtmarginright3px': 1, 'splitfstfloatleftoverflowhiddenmaxwidth222pxtextoverflowellipsis': 1, 'lilineheight20px': 1, 'splittxtbackgroundposition0': 1, '49px': 1, 'partmidlineheight22px': 1, 'splitpartletterspacing003em': 1, 'linktxtmarginright7px': 1, 'liststxtmargintop7px': 1, 'liststxt': 2, 'lioverflowhiddenpaddingbottom4pxlineheight19pxwhitespacenowraptextoverflowellipsis': 1, 'txtmarkfontsize12pxcolor888': 2, 'linksectordisplayblockpositionrelativezindex0width321pxheight131px': 1, 'linksector': 11, 'framegwidth319pxheight129px': 1, 'contitempositionabsoluteright0left0bottom0width100height100pxbackgroundurlt1daumcdnnetdaumtopdecoimagestop2017bgplate2png': 1, 'tititemoverflowhiddenpositionabsoluteleft0bottom13pxright0padding0': 1, '15pxfontweightnormalfontsize14pxlineheight20pxcolorfff': 1, 'icolabel': 1, 'icolabel2': 1, 'icolabel3': 1, 'icopctopzindex1': 1, 'tititembottom10px': 2, 'listranking': 24, 'liheight20pxpaddingbottom5px': 1, 'linkrankingdisplayblockoverflowhiddenlineheight18px': 1, 'txtrankingoverflowhiddenfloatleftwidth288pxwhitespacenowraptextoverflowellipsis': 1, 'linkrankinghover': 2, 'txtrankingtextdecorationunderline': 1, 'numpctopfloatleftwidth16pxheight16pxmargin3px': 2, 'num1backgroundposition0': 3, 'num2backgroundposition0': 3, 'num3backgroundposition0': 3, 'num4backgroundposition0': 2, 'num5backgroundposition0': 2, 'num6backgroundposition0': 1, 'num7backgroundposition0': 1, 'num8backgroundposition0': 1, 'num9backgroundposition0': 1, 'num10backgroundposition0': 1, 'numpctopmargintop0': 3, 'lilineheight22px': 1, 'boxstoryoverflowhiddenborder1px': 1, 'ecececbackgroundcolorfbfbfc': 2, 'boxstory': 5, 'titsubjectoverflowhiddenmargintop7pxfontsize13px': 1, 'titsubject': 2, 'linktitfloatleftpaddingright9pxbackgroundposition100': 1, 'titsubjectmargintop10px': 1, 'linktitbackgroundposition100': 1, 'liststxtmargintop10px': 1, 'sectionmediapositionrelative': 1, 'sectionmedia': 5, 'pagebtypetop15px': 1, 'panelblocpadding57px': 1, '25px': 1, 'tittabconttop11pxleft0': 1, 'panelbloc': 48, 'titnewsleft5px': 1, 'titentertainleft55px': 1, 'titsportsleft94px': 1, 'titmovieleft147px': 1, 'titautoleft186px': 1, 'titrealestateleft240px': 1, 'titnews': 2, 'linktitwidth36pxbackgroundposition0': 2, 'titentertain': 2, 'linktitwidth36pxbackgroundposition36px': 1, 'titsports': 2, 'linktitwidth50pxbackgroundposition72px': 1, 'titmovie': 2, 'linktitwidth36pxbackgroundposition122px': 1, 'titauto': 2, 'linktitwidth51pxbackgroundposition158px': 1, 'titrealestate': 2, 'linktitwidth48pxbackgroundposition209px': 1, 'newson': 2, 'linktitbackgroundposition0': 3, '166px': 14, 'entertainon': 2, 'linktitbackgroundposition36px': 2, 'sportson': 2, 'linktitbackgroundposition72px': 1, 'movieon': 2, 'linktitbackgroundposition122px': 1, 'autoon': 2, 'linktitbackgroundposition158px': 1, 'realestateon': 2, 'linktitbackgroundposition209px': 1, 'wrapnews': 8, 'wrapentertain': 1, 'wrapsports': 1, 'wrapmovie': 1, 'wrapauto': 1, 'wraprealestatedisplayblock': 1, 'infospecialoverflowhidden': 1, 'infospecial': 5, 'icopctopfloatleftmargin3px': 1, '0textindent9999px': 3, 'linkspecialdisplayblockoverflowhiddenheight20pxfontweightboldfontsize13pxlineheight18pxcolor222letterspacing1px': 1, 'linkspecialhovercolor118eff': 1, 'icopctopmarginright6px': 1, 'linkspeciallineheight24pxletterspacing0': 1, 'infospecialpositionabsolutetop17pxright99pxmaxwidth250px': 1, 'wraptabcontheight480px': 1, 'groupnewsdisplayinlineblockheight292pxverticalaligntop': 1, 'newsprimeheight438px': 1, 'newsprime': 2, 'listtxtwidth316pxpaddingleft4px': 1, 'tititemwordbreaknormal': 1, 'boxsectoroverflowhiddenfloatleftwidth321pxmarginright13px': 1, 'boxsector': 4, 'listthumbwidth334pxmarginleft13px': 1, 'linksectormarginbottom15px': 1, 'newsflowoverflowhiddenpositionrelativeheight40pxborder1px': 1, 'ecececlineheight35pxbackgroundcolorfbfbfb': 1, 'unithomefloatleftpaddingleft12px': 1, 'unithome': 7, 'tithomefloatleftmarginright10px': 1, 'tithome': 2, 'linkhomepaddingright7pxbackgroundposition100': 1, '6px': 4, 'listhomefloatleft': 1, 'listhome': 2, 'lifloatleftpadding0': 1, 'linkhomecolor555': 1, 'linkhomehovercolor118eff': 1, 'unitlivefloatleftpaddingleft25px': 1, 'unitlive': 3, 'icopctopfloatleftmargin12px': 1, 'linklivemarginright5pxcolor555': 1, 'linklivehovercolor118eff': 1, 'newsflow': 1, 'linkhashpadding0': 1, '7pxcolor118eff': 1, 'newsflowlineheight40px': 1, 'linkhomepaddingright9pxbackgroundposition100': 1, 'boxissuefloatleftpositionrelativemarginright13px': 1, 'boxissue': 8, 'linkissuedisplayblockoverflowhiddenpositionrelativewidth321pxheight277px': 1, 'covergpositionabsoluteleft0bottom0width100height132pxbackgroundurlt1daumcdnnetdaumtopdecoimagestop2017bgplate8png': 1, 'framegwidth319pxheight275px': 1, 'icolabelheight27pxfontsize14pxlineheight25pxbackgroundcolorrgba171422559': 1, 'contitemoverflowhiddenpositionabsoluteright0bottom14pxleft0': 1, 'contitem': 5, 'tititemdisplayblockoverflowhiddenmaxheight44pxpadding0': 1, '16pxfontweightnormalfontsize16pxlineheight22pxcolorfff': 1, 'icolabellineheight29px': 1, 'contitembottom10px': 1, 'specialissue': 7, 'titissueoverflowhiddenpositionabsolutetop25pxleft21pxmaxheight60pxpaddingright20pxfontsize22pxcolorfff': 1, 'contitembottom12px': 1, 'listitempadding0': 1, 'listitem': 4, 'lioverflowhiddenmargintop3pxfontsize14px': 1, 'fstfontsize16pxlineheight26px': 1, 'linkitemdisplayblockoverflowhiddencolorfffwhitespacenowraptextoverflowellipsis': 1, 'fstlineheight23px': 1, 'newsprimefloatleftwidth501pxheight438px': 1, 'newsflowclearboth': 1, 'boxsectorwidth154px': 1, 'listthumbwidthautomarginleft0': 1, 'lifloatnonemarginleft0': 1, 'linksectorwidth154pxheight277pxmarginbottom0': 1, 'framegwidth152pxheight275px': 1, 'rankingnewsoverflowhiddenpositionrelativeheight148pxpadding0': 1, '148px': 1, 'ranknewstitpositionabsolutetop3pxleft0width148px': 1, 'ranknewstit': 2, 'titrankingfloatleftlineheight17pxcolor118eff': 1, 'linktitcolor118eff': 1, 'helppartdisplayinlinefloatleftmargin3px': 1, 'helppart': 1, 'linkhelpdisplayblockwidth31pxheight15pxfontsize11pxbackgroundcolortransparentbackgroundposition0': 1, '265px': 2, 'helplayeroverflowhiddenpositionabsolutetop27pxleft0width126pxheight48pxborder1px': 1, '888backgroundcolorfbfbfb': 1, 'helplayer': 2, 'txthelppadding8px': 1, '13px': 8, '13pxfontsize11pxlineheight15pxcolor888': 1, 'btnclosepositionabsolutetop8pxright8pxwidth16pxheight16pxbackgroundposition0': 1, 'rankingnews': 2, 'listrankingmargintop3px': 1, 'tabrankingpositionabsolutetop30pxleft0width64px': 1, 'tabranking': 6, 'limarginbottom3px': 2, 'linktabdisplayinlineblockoverflowhiddenfontweightboldlineheight16pxcolor888': 1, 'on': 12, 'linktabcolor222textdecorationunderline': 1, 'icopctopfloatleftwidth6pxheight6pxmargin6px': 1, '0backgroundposition100px': 1, '190px': 1, 'contrankingdisplaynoneoverflowhidden': 1, 'contrankingondisplayblock': 1, 'helppartmargintop0': 1, 'helplayertop25px': 1, 'ranknewstittop6px': 1, 'listrankingmargintop5px': 1, 'tabrankingtop33px': 1, 'limarginbottom1px': 1, 'icopctopmargintop4px': 1, 'castsportspositionrelativewidth321pxmarginbottom15px': 1, 'castsports': 8, 'headcastheight35pxborder1px': 1, 'titcastmargin6px': 1, '11pxfontsize13px': 1, 'pagepctoptop11pxright14pxbottomauto': 1, 'btnpagewidth16pxheight16pxlineheight16pxbackgroundposition210px': 1, 'linkmorepositionabsolutetop9pxright13pxpaddingright7pxfontsize11pxcolor888backgroundposition100': 1, 'listrelayborder1px': 1, 'ecececbordertop0': 1, 'listrelay': 33, 'lioverflowhidden': 1, 'linkrelayhovercolor222textdecorationnone': 1, 'txtteamoverflowhiddenfontsize12pxlineheight26pxwhitespacenowraptextoverflowellipsis': 1, 'txttimefloatleftfontsize11pxfontfamilytahomaarialsansserifletterspacing0': 1, 'txtleaguefloatleftpaddingleft3pxfontsize11pxcolor888': 1, 'txtscore': 13, 'innerscoredisplayinlineblockverticalaligntop': 1, 'numpctopfloatleftwidth11pxheight16pxbackgroundcolortransparent': 1, 'num0backgroundposition60px': 1, 'num1backgroundposition60px': 1, 'num2backgroundposition60px': 1, 'num3backgroundposition60px': 1, 'num4backgroundposition60px': 1, 'num5backgroundposition60px': 1, 'num6backgroundposition60px': 1, 'num7backgroundposition60px': 1, 'num8backgroundposition60px': 1, 'num9backgroundposition60px': 1, 'numnonebackgroundposition60px': 1, 'tagcastwidth56pxheight15pxfontsize11pxbackgroundcolortransparenttextaligncenter': 1, 'cast1backgroundposition0': 1, 'cast2backgroundposition0': 1, 'cast3backgroundposition0': 1, 'cast4backgroundposition0': 1, 'cast5backgroundposition0': 1, '150px': 5, 'cast6backgroundposition60px': 1, 'cast7backgroundposition60px': 1, 'cast8backgroundposition60px': 1, 'cast9backgroundposition60px': 1, 'titcastmargin9px': 1, 'linkmoretop11pxbackgroundposition100': 1, 'txttimefontfamilyhelveticaarialsansserif': 1, 'relaygeneralheight93px': 1, 'relaygeneral': 9, 'linkrelayoverflowhiddenfloatleftpositionrelativewidth147pxheight84pxpadding9px': 1, '11pxborderleft1px': 1, 'f5f5f5': 2, 'linkrelayfstwidth146pxpaddingleft12pxborderleft0': 1, 'eventteamoverflowhiddenpositionabsoluteleft11pxtop57pxright0height25px': 1, 'eventteamfstleft11pxtop30px': 1, 'eventteam': 6, 'imgthumbfloatleft': 1, 'txtteamfloatleftwidth69pxlineheight22pxmargin0': 1, 'txtscorefloatleftwidth33pxmargintop5pxtextalignright': 1, 'tagcastfloatrightmargin1px': 1, 'relayspecial': 14, 'linkrelaydisplayblockoverflowhiddenpositionrelativeheight47pxbordertop1px': 1, 'linkrelayfstbordertop0': 1, 'eventteamoverflowhiddenpositionabsoluteleft159pxtop0width52pxheight47pxpaddingleft107px': 1, 'imgthumbpositionabsolutetop10pxright53px': 1, 'txtteamfloatleftwidth45pxmargin8px': 1, 'txtscorepositionabsolutetop15pxleft38pxwidth33pxtextaligncenter': 1, 'eventteamfstleft0width53pxpadding0': 1, '106px': 1, 'eventteamfst': 3, 'txtscoreleft89px': 1, 'imgthumbleft53pxrightauto': 1, 'txtteamtextalignright': 1, 'txttimedisplayblockfloatnonemargintop3pxtextaligncenter': 1, 'tagcastdisplayblockmargin2px': 1, 'linkviewwidth158pxheight66pxpadding27px': 1, '0fontsize12pxcolor888textaligncenter': 1, 'linkviewhovercolor888textdecorationnone': 1, 'linkview': 1, 'txtviewdisplayblockcolor118efftextdecorationunderline': 1, 'txtteamlineheight27px': 1, 'txtteammargintop12px': 1, 'txttimemargintop5px': 1, 'linkviewheight63pxpaddingtop30px': 1, 'boxspecialoverflowhiddenpositionrelativezindex0width641pxheight93pxmarginbottom15pxpadding36px': 1, '12pxborder1px': 1, 'boxspecial': 14, 'titspecialpositionabsolutetop7pxleft12pxfontsize13px': 1, 'linkspecialmarginright3px': 1, 'linkspecial2color888': 1, 'packslideoverflowhidden': 1, 'pagepctoptop8pxright12pxheight19px': 1, 'btnpagewidth19pxheight19pxlineheight19pxbackgroundposition40px': 1, 'btnnextwidth18pxbackgroundposition59px': 1, 'infopagecolor888': 1, 'numindexfontweightnormal': 1, 'linkbannerfloatleftpositionrelativewidth308pxheight80pxmarginleft5px': 1, 'linkbanner': 1, 'framegwidth306pxheight78px': 1, 'bannerwidewidth419pxheight80pxmarginleft11px': 1, 'bannerwide': 1, 'framegwidth417pxheight78px': 1, 'listspecialfloatleft': 1, 'listspecial': 8, 'lifloatleft': 2, 'linkthumbfloatleftpositionrelative': 1, 'linkthumb': 27, 'framegwidth54pxheight78px': 1, 'numgpositionabsolutetop0left0width16pxheight16pxfontsize11pxlineheight16pxcolorffffontfamilytahomaarialsansseriftextaligncenter': 1, 'continfooverflowhiddenwordbreakkeepall': 1, 'titinfodisplayblockoverflowhiddenmaxheight33pxfontweightnormalfontsize13pxlineheight17pxwordbreakbreakall': 1, 'txtinfodisplayblockoverflowhiddenfontsize12pxlineheight16pxcolor888whitespacenowraptextoverflowellipsis': 1, 'listmovie1': 9, 'liwidth146pxpaddingright12px': 2, 'numgbackgroundposition20px': 2, 'numpointbackgroundposition0': 2, 'continfopositionrelativepadding36px': 1, '9px': 2, 'titinfopositionabsolutetop0left9px': 1, 'txtinfofloatleftwidth100letterspacing0': 1, 'gradestardisplayblockoverflowhiddenpositionrelativewidth62pxheight12pxbackgroundposition40px': 1, 'innerstarpositionabsolutetop0left0widthautoheight12pxfontsize0lineheight0backgroundposition40px': 1, '50pxtextindent9999px': 1, 'listmovie2': 6, 'continfopadding0': 1, 'titinfomargin2px': 1, 'txtinfomaxheight31pxwhitespacenormal': 1, 'listmovie3': 10, 'limarginleft10px': 1, 'lifstmarginleft0': 2, 'linkthumbwidth203pxheight80px': 1, 'framegwidth201pxheight78px': 1, 'icoplaypositionabsoluteright10pxbottom10pxwidth22pxheight22pxfontsize0lineheight0backgroundposition100px': 1, 'continfopositionabsolutetop38pxleft0width152pxpadding0': 1, '10pxcolorfff': 1, 'txtinfocolorfff': 1, 'titinfodisplayinline': 1, 'txtruntimedisplayblockoverflowhiddenfontsize11pxlineheight13pxfontfamilytahomaarialsansserifwhitespacenowraptextoverflowellipsisletterspacing0': 1, 'listauto': 8, 'liwidth199pxpaddingleft10pxborderleft1px': 1, 'lifstpaddingleft0borderleft0': 1, 'linkthumbwidth120pxheight80px': 1, 'continfopadding13px': 1, 'titinfomarginbottom2px': 1, 'listrealestate': 8, 'liwidth203pxmarginleft8px': 1, 'linkthumbwidth110pxheight80px': 1, 'framegwidth108pxheight78px': 1, 'continfopaddingleft8px': 1, 'titinfomargintop2pxmarginbottom4px': 1, 'txtinfomargintop2pxlineheight14px': 1, 'titspecialtop10px': 1, 'numgfontfamilyhelveticaarialsansserif': 1, 'gradestarmarginbottom3px': 1, 'continfopaddingtop1px': 1, 'titinfomargintop0': 1, 'txtruntimemarginbottom2pxfontfamilyhelveticaarialsansserif': 1, 'continfopaddingtop16px': 1, 'titinfomargintop1pxlineheight16px': 1, 'listhotissueoverflowhiddenpositionrelativewidth180pxheight280px': 1, 'listhotissue': 33, 'lioverflowhiddenpositionrelativewidth100height20pxmarginbottom8px': 1, 'rolltxtpositionrelative': 1, 'rankcontoverflowhiddenpositionrelativeheight20px': 1, 'numpctopfloatleftwidth16pxheight16pxmargintop1pxfontsize12pxlineheight17pxfontfamilytahomaarialsansserifbackgroundcolortransparenttextaligncenter': 1, 'rank1backgroundposition20px': 1, 'rank2backgroundposition0': 1, 'rank3backgroundposition0': 1, 'rank4backgroundposition0': 1, 'rank5backgroundposition0': 1, 'rank6backgroundposition0': 1, 'rank7backgroundposition0': 1, 'rank8backgroundposition0': 1, 'rank9backgroundposition0': 1, 'rank10backgroundposition0': 1, 'txtissueoverflowhiddenfloatleftwidth119pxpaddingleft6pxlineheight15px': 1, 'linkissuedisplayblockoverflowhiddenpaddingbottom1pxwhitespacenowraptextoverflowellipsis': 1, 'rankresultfloatrightmargin1px': 1, '0fontweightnormalfontsize13pxlineheight14pxcolor888fontfamilytahomaarialsansserifbackgroundcolortransparentletterspacing005em': 1, 'rankresult': 1, 'icopctopdisplayinlineblockbackgroundcolortransparentverticalaligntop': 1, 'icoupwidth11pxheight14pxmarginright3pxbackgroundposition120px': 1, 'icodownwidth11pxheight14pxmarginright3pxbackgroundposition140px': 1, 'icosteadywidth11pxheight6pxmargin5px': 1, '0lineheight10pxbackgroundposition160px': 1, 'iconewwidth27pxheight12pxmargin2px': 1, '0backgroundposition120px': 1, 'txtissuelineheight20px': 1, 'rankresultlineheight16pxfontfamilyhelveticasansserif': 1, 'hotissuepositionabsolutetop19pxright90pxzindex1': 1, 'hotissueminioverflowhiddenpositionrelativewidth161pxheight20pxbackgroundcolorfff': 1, 'hotissuemini': 17, 'listhotissuewidth117px': 1, 'txtissuewidth95px': 1, 'txtrealtimefloatleftwidth44pxheight18pxlineheight18pxbackgroundposition325px': 1, '80pxbackgroundcolortransparenttextaligncenter': 1, 'rank2backgroundposition20px': 1, 'rank3backgroundposition20px': 1, 'rank4backgroundposition20px': 1, 'rank5backgroundposition20px': 1, 'rank6backgroundposition20px': 1, 'rank7backgroundposition20px': 1, 'rank8backgroundposition20px': 1, 'rank9backgroundposition20px': 1, 'rank10backgroundposition20px': 1, 'hotissuelayerdisplaynonepositionabsolutetop38pxright90pxwidth198pxheight384pxpaddingleft20pxborder1px': 1, 'hotissuelayer': 4, 'tithotissuepositionstaticwidth104pxheight34pxmargin10px': 1, '0fontsize13pxlineheight34pxbackgroundposition210px': 1, '80pxbackgroundcolortransparenttextindent0': 1, 'txtstandarddisplayblockpositionstaticwidthautoheightautomargintop5pxfontsize12pxlineheight14pxcolor888textindent0letterspacing0': 1, 'txtstandardmargintop8px': 1, 'issueopen': 1, 'hotissuelayerdisplayblock': 1, 'hotissuebuiltinpositionabsolutetop57pxright0width153pxheight424pxborderleft1px': 1, 'realtimepartheight292pxmarginleft14px': 1, 'realtimepart': 5, 'tithotissuepadding2px': 1, '6pxfontsize13pxcolor118eff': 1, 'listhotissuewidth138pxheight240px': 1, 'liwidth138pxmarginbottom4px': 1, 'txtissuewidth114px': 1, 'tithotissuepadding5px': 1, 'stockpartheight102pxmarginleft15px': 1, 'stockpart': 11, 'linkstockdisplayblockheight40pxmarginbottom8px': 1, 'linkstockhovercolor222textdecorationnone': 1, 'titstockdisplayblockmarginbottom1pxfontweightboldfontsize13pxlineheight15px': 1, 'numstockfontweightnormalfontsize14pxfontfamilytahomaarialsansserifletterspacing003em': 1, 'numstatuspaddingleft3pxfontsize12pxletterspacing0': 1, 'numstatus': 4, 'icoarrowdisplayinlineblockwidth9pxheight10pxmargin8px': 1, '0fontsize0lineheight0textindent9999pxverticalaligntop': 1, 'stockup': 2, 'numstatuscolore30000': 1, 'stockdown': 2, 'numstatuscolor118eff': 1, 'icoarrowbackgroundposition120px': 1, 'icoarrowbackgroundposition130px': 1, 'stockstay': 1, 'icoarrowbackgroundposition140px': 1, 'relpartoverflowhiddenwidth136pxheight28pxmarginleft14pxborder1px': 1, 'relpart': 3, 'itemreldisplayblockwidth139pxheight28px': 1, 'linkrelfloatleftwidth45pxheight28pxborderright1px': 1, 'ecececfontsize12pxlineheight26pxcolor888textaligncenter': 1, 'linkrellineheight29px': 1, 'sectionmultipositionrelativebordertop1px': 1, 'sectionmulti': 1, 'wraptabcontheight157px': 1, 'titkakaotv': 2, 'linktitwidth82pxbackgroundposition380px': 1, 'kakaotvon': 2, 'linktitbackgroundposition380px': 1, 'wrapkakaotv': 2, 'melonon': 1, 'wrapmelondisplayblock': 1, 'tabmultipositionabsolutetop14pxleft90pxheight36px': 1, 'tabmulti': 5, 'lidisplayinlinefloatleftmarginleft13px': 1, 'linktitdisplayblockoverflowhiddenheight36pxfontweightboldlineheight33pxcolor888textdecorationnone': 1, 'linktitcolor222textdecorationunderline': 1, 'linktitlineheight38px': 1, 'boximgspefloatleftmarginright13px': 1, 'boximgspe': 1, 'icolabelboximgspe': 1, 'icolabel3fontsize12px': 1, 'icovideobackgroundposition0': 1, 'sectionblogpositionrelativebordertop1px': 1, 'sectionblog': 2, 'wraptabcontoverflowhiddenheight179px': 1, 'titcafeleft5px': 1, 'titmiznetleft34px': 1, 'titkakaostoryleft87px': 1, 'tittistoryleft178px': 1, 'titbrunchleft243px': 1, 'titstoryfundingleft296px': 1, 'titcafe': 2, '220px': 7, 'titmiznet': 2, 'linktitwidth50pxbackgroundposition36px': 1, 'titkakaostory': 2, 'linktitwidth88pxbackgroundposition86px': 1, 'tittistory': 2, 'linktitwidth62pxbackgroundposition174px': 1, 'titbrunch': 2, 'linktitwidth50pxbackgroundposition236px': 1, 'titstoryfunding': 2, 'linktitwidth74pxbackgroundposition336px': 1, 'cafeon': 2, '256px': 6, 'mizneton': 2, 'kakaostoryon': 2, 'linktitbackgroundposition86px': 1, 'tistoryon': 2, 'linktitbackgroundposition174px': 1, 'brunchon': 2, 'linktitbackgroundposition236px': 1, 'storyfundingon': 2, 'linktitbackgroundposition336px': 1, 'wrapmiznet': 1, 'wrapcafe': 1, 'wrapkakaostory': 1, 'wraptistory': 1, 'wrapbrunch': 1, 'wrapstoryfundingdisplayblock': 1, 'boxstoryfloatrightwidth297pxheight152pxpadding0': 1, 'liststoryoverflowhiddenfloatleft': 1, 'liststory': 17, 'lifloatleftheight160pxmarginleft13px': 1, 'linkitemdisplayblockpositionrelativewidth154pxcursorpointer': 1, 'linkitemhovercolor222textdecorationnone': 2, 'contitemheight56pxpadding4px': 1, 'originitemdisplayblockoverflowhiddenpositionrelativemargintop4pxfontsize12pxlineheight18pxcolor888whitespacenowraptextoverflowellipsis': 1, 'originitem': 4, 'txttellerdisplayblockoverflowhiddenwhitespacenowraptextoverflowellipsis': 1, 'icostorytelleroverflowhiddenpositionabsoluteright0top4pxwidth13pxheight15pxfontsize1pxlineheight0backgroundposition170px': 1, '100pxtextindent9999px': 1, 'linkitemhover': 6, 'tititemcolor118efftextdecorationunderline': 2, 'originitemcolor888textdecorationnone': 1, 'itemtellerdisplayinlineblockmaxwidth115pxpaddingright18px': 1, 'contitemheight54pxpaddingtop6px': 1, 'icostorytellertop0': 1, 'typedesc': 8, 'linkitemwidth152pxheight152pxborder1px': 1, 'contitemheight117pxpadding7px': 1, 'tititemheightautomaxheight36px': 1, 'descitemdisplayblockoverflowhiddenmaxheight48pxpaddingtop8pxfontsize11pxlineheight16pxcolor888wordbreakkeepallwordwrapbreakword': 1, 'originitempositionabsoluteleft13pxbottom9pxright13px': 1, 'itemtellerrightautomaxwidth106px': 1, 'contitemheight96pxpaddingtop10px': 1, 'originitembottom6px': 2, 'typeimg': 10, 'thumbgzindex1height154px': 1, 'framegwidth152pxheight152px': 2, 'contitempositionabsolutetop0left0bottom0width154pxheight154pxbackgroundurlt1daumcdnnetdaumtopdecoimagestop2017bgplate6png': 1, 'tititempositionabsoluteleft13pxright13pxbottom37pxheightautomaxheight36pxpaddingright10pxcolorfff': 1, 'originitempositionabsoluteleft13pxright13pxbottom14pxcolorc9c9c9': 1, 'originitemcolorc9c9c9textdecorationnone': 1, 'tititemcolorffftextdecorationunderline': 1, 'contitemheightautopadding0': 1, 'tititembottom30px': 2, 'graphitemoverflowhiddenpositionabsolutetop74pxleft0width154px': 1, 'graphitem': 7, 'infographpositionabsoluteright10pxtop0zindex10colorfff': 1, 'infograph': 1, 'numgraphfontweightbold': 1, 'bargraphdisplayblockheight20pxbackgroundurlt1daumcdnnetdaumtopdecoimagestop2017bggraphpng': 1, 'repeat': 1, 'barsupportpositionabsoluteleft0top0height20px': 1, 'barsupport': 4, 'bgleftpositionabsoluteleft0top0right16pxheight20pxbackgroundurlt1daumcdnnetdaumtopdecoimagestop2017bargraphpng': 1, 'repeatx': 2, 'bgrightpositionabsoluteright14pxtop0width30pxheight20pxbackgroundurlt1daumcdnnetdaumtopdecoimagestop2017bargraphrightpng': 1, 'fullgraph': 3, 'barsupportwidth100backgroundurlt1daumcdnnetdaumtopdecoimagestop2017bargraphfull2png': 1, 'bgleft': 1, 'bgrightwidth0backgroundnone': 1, 'infographtop2px': 1, 'sectionchannelpositionrelativebordertop1px': 1, 'sectionchannel': 6, 'panelblocpaddingtop60px': 1, 'wraptabcontoverflowhiddenheight507px': 1, 'tithomecookingleft5px': 1, 'titmoneyleft59px': 1, 'titpetleft96px': 1, 'titwomenleft133px': 1, 'titmenleft182px': 1, 'tittravelleft212px': 1, 'titbusinessleft274px': 1, 'titmusicleft325px': 1, 'titwebtoonleft362px': 1, 'titgameleft398px': 1, 'tittogetherpanelbloc': 1, 'tittogether2left434px': 1, 'tithomecooking': 2, 'linktitwidth59pxbackgroundposition0': 1, 'titmoney': 2, 'linktitwidth37pxbackgroundposition59px': 1, 'titpet': 2, 'linktitwidth37pxbackgroundposition96px': 1, 'titwomen': 2, 'linktitwidth49pxbackgroundposition133px': 1, 'titmen': 2, 'linktitwidth30pxbackgroundposition182px': 1, 'tittravel': 2, 'linktitwidth62pxbackgroundposition212px': 1, 'titbusiness': 2, 'linktitwidth51pxbackgroundposition274px': 1, 'titmusic': 2, 'linktitwidth37pxbackgroundposition325px': 1, 'titwebtoon': 2, 'linktitwidth36pxbackgroundposition362px': 1, 'titgame': 2, 'linktitwidth36pxbackgroundposition398px': 1, 'tittogether': 2, 'linktitwidth63pxbackgroundposition434px': 1, 'tittogether2': 2, 'linktitwidth72pxbackgroundposition497px': 1, 'homecookingon': 2, '346px': 12, 'moneyon': 1, 'linktitbackgroundposition59px': 1, 'peton': 1, 'linktitbackgroundposition96px': 1, 'womenon': 1, 'linktitbackgroundposition133px': 1, 'menon': 2, 'linktitbackgroundposition182px': 1, 'travelon': 2, 'linktitbackgroundposition212px': 1, 'businesson': 2, 'linktitbackgroundposition274px': 1, 'musicon': 2, 'linktitbackgroundposition325px': 1, 'webtoonon': 2, 'linktitbackgroundposition362px': 1, 'gameon': 2, 'linktitbackgroundposition398px': 1, 'togetheron': 3, 'linktitbackgroundposition434px': 1, 'linktitbackgroundposition497px': 1, 'wraphomecookingmoneyon': 1, 'wrapmoneypeton': 1, 'wrappetwomenon': 1, 'wrapwomen': 1, 'wrapmen': 1, 'wraptravel': 1, 'wrapbusiness': 1, 'wrapmusic': 1, 'wrapwebtoon': 1, 'wrapgame': 1, 'wraptogetherdisplayblock': 1, 'boxchannelfloatleftpositionrelativewidth154pxheight159pxmargin0': 1, 'boxchannelfstmarginleft0': 1, 'boxchannel': 17, 'linkitemdisplayblockpositionrelativewidth154px': 1, 'thumbgoverflowhiddenwidth154pxheight94px': 1, 'tititemdisplayblockoverflowhiddenmaxheight36pxpaddingright12pxfontweightnormallineheight18pxwordwrapbreakword': 1, 'channelitemdisplayblockheight18pxpadding4px': 1, '0fontsize12pxlineheight18px': 1, 'channelitem': 2, 'linkchanneldisplayinlineblockoverflowhiddenmaxwidth124pxheight20pxlineheight18pxcolor888verticalaligntopwhitespacenowraptextoverflowellipsis': 1, 'originitemdisplayblockoverflowhiddenmargintop3pxfontsize12pxlineheight21pxcolor888whitespacenowraptextoverflowellipsis': 1, 'thumbchanneldisplayinlineblockpositionrelativemargin1px': 1, 'thumbchannel': 2, 'imgthumbborderradius18px': 1, 'bgframepositionabsolutetop0left0width18pxheight18pxbackgroundposition410px': 1, 'thumbchannelmargintop0': 1, 'linkchannellineheight20px': 2, 'typechdescbackgroundcolorfbfbfc': 1, 'typechdesc': 6, 'linkitemwidth152pxheight157pxborder1px': 1, 'contitempadding13px': 1, 'descitemdisplayblockoverflowhiddenmaxheight48pxpaddingtop8pxfontsize11pxlineheight16pxcolor888': 1, 'channelitempadding0': 1, '13pxborder1px': 1, 'ecececbordertopwidth0': 1, 'originitemmargintop17px': 1, 'contitempaddingtop16px': 1, 'boximgspemarginright0': 1, 'linksectorheight159px': 1, 'framegwidth319pxheight157px': 2, 'contitemheight159pxbackgroundimageurlt1daumcdnnetdaumtopdecoimagestop2017bgplate5png': 1, 'boxchwidefloatleftpositionrelativewidth321pxheight159pxmargin0': 1, 'boxchwide': 10, 'linkitemdisplayblockoverflowhiddenpositionrelativewidth321pxheight159px': 1, 'linkitem': 8, 'thumbgzindex1width321pxheight159px': 1, 'contitempositionabsolutetop0left0width321pxheight159pxcolorfffbackgroundurlt1daumcdnnetdaumtopdecoimagestop2017bgplate5png': 1, 'tititemoverflowhiddenpositionabsoluteleft17pxbottom13pxmaxwidth284pxheight20pxfontweightnormalfontsize14pxlineheight20pxwhitespacenowraptextoverflowellipsis': 1, 'tititemhovercolorfff': 1, 'originitemoverflowhiddenpositionabsoluteleft17pxbottom33pxmaxwidth284pxheight20pxfontsize12pxlineheight18pxcolorfffwhitespacenowraptextoverflowellipsis': 1, 'originitembottom30px': 1, 'boxchextraoverflowhiddenfloatleftpositionrelativewidth154pxheight159pxmargin0': 1, 'boxchextra': 17, 'titchextrapositionabsolutetop14pxleft15pxright50pxzindex1fontsize11pxcolor118eff': 1, 'linkitemdisplayblockwidth154pxheight159px': 1, 'thumbgzindex1width154pxheight159px': 1, 'framegwidth152pxheight157px': 1, 'contitempositionabsolutetop0left0width154pxheight159pxbackgroundurlt1daumcdnnetdaumtopdecoimagestop2017bgplate6png': 1, 'emphextrapositionabsolutetop14pxleft15pxright15pxfontsize11pxcolor118eff': 1, 'tititempositionabsoluteleft14pxright14pxbottom34pxfontweightnormallineheight18pxcolorfff': 1, 'tititemtextdecorationunderline': 1, 'originitemdisplayinlineblockoverflowhiddenpositionabsoluteleft13pxrightautobottom8pxmaxwidth124pxfontsize12pxlineheight24pxcolorc9c9c9whitespacenowraptextoverflowellipsis': 1, 'titchextratop17px': 1, 'emphextratop17px': 1, 'originitembottom5px': 1, 'titbanneroverflowhiddenpositionabsoluteleft14pxright14pxbottom15pxfontweightnormalfontsize11pxcolorffftextdecorationunderlinetextaligncenterwhitespacenowraptextoverflowellipsis': 1, 'pagepctoptop15pxright15pxbottomauto': 1, 'btnpagewidth16pxheight16pxlineheight16pxbackgroundposition60px': 1, 'btnnextwidth15pxbackgroundposition76px': 1, 'listchbest': 9, 'lipositionrelativewidth154pxheight159px': 1, 'thumbgzindex0': 1, 'linkchbestpositionabsolutetop0left0width154pxheight120px': 1, 'titchbestoverflowhiddenpositionabsoluteleft14pxright14pxbottom0maxheight36pxfontweightnormalfontsize13pxlineheight18pxcolorfffwordbreakkeepallwordwrapbreakword': 1, 'titchbesthovertextdecorationunderline': 1, 'linkchanneloverflowhiddenpositionabsoluteleft0bottom0maxwidth124pxheight25pxpadding2px': 1, '10pxfontsize11pxlineheight23pxcolorc9c9c9whitespacenowraptextoverflowellipsis': 1, 'thumbchannelfloatleftpositionrelativemargin5px': 1, 'linkchannelpadding4px': 1, 'thumbchannelmargintop3px': 1, 'boxinfobnrfloatleftmargin0': 1, 'boxinfobnr': 15, 'linkitemdisplayblockoverflowhiddenpositionrelative': 1, 'linkitemhovercolor222': 1, 'thumbgzindex1width154pxheight154pxbackgroundcolorfff': 1, 'contitemoverflowhiddenpositionabsolutetop8pxleft13pxright7px': 1, 'tititemdisplayinlineblockoverflowhiddenmaxwidth120pxpaddingright8pxfontweightboldbackgroundposition100': 1, '7pxwhitespacenowraptextoverflowellipsisverticalaligntop': 1, 'txtinfodisplayblockoverflowhiddenmargintop2pxwhitespacenowraptextoverflowellipsis': 1, 'originitemdisplayblockoverflowhiddenmargintop2pxfontsize12pxlineheight16pxcolor888whitespacenowraptextoverflowellipsis': 1, 'contitemtop11px': 1, 'tititembackgroundposition100': 1, 'wraptogether': 6, 'thumbgheight159px': 2, 'framegheight157px': 2, 'grouprecommoverflowhiddenwidth670pxclearboth': 1, 'grouprecomm': 7, 'boxstoryfloatleftwidth295pxheight157pxmarginright13pxpadding0': 1, 'boxbestwidth629pxmargin0': 1, 'boxbest': 10, 'listrankingmargintop7px': 1, 'lifloatleftwidth295pxpadding0': 1, 'linkranking': 2, 'txtrankingwidth270px': 1, 'numpctopmargintop2px': 2, 'bestimgwidth148pxheight108pxmargin2px': 1, '0padding0': 1, 'bestimg': 7, 'linkrankingpositionrelativewidth148pxheight108px': 1, 'thumbgwidth148pxheight108px': 1, 'framegwidth146pxheight106px': 1, 'contitempositionabsolutetop0left0width148pxheight108pxbackgroundurlt1daumcdnnetdaumtopdecoimagestop2017bgplate9png': 1, 'numpctoppositionabsolutetop0left0margin0': 1, 'txtrankingpositionabsoluteright12pxbottom10pxleft11pxwidthautocolorfffwhitespacenormal': 1, 'numpctop': 1, 'bestimgmargintop0': 1, 'txtrankingbottom8pxleft12px': 1, 'boxrecomm': 6, 'listrecommoverflowhiddenwidth321pxmargintop11px': 1, 'listrecomm': 4, 'lifloatleftwidth140pxheight30pxmargin0': 1, 'linkrecommdisplayinlineblockoverflowhiddenmaxwidth100lineheight30pxwhitespacenowraptextoverflowellipsis': 1, 'thumbrecommfloatleftwidth30pxheight30pxmarginright6pxverticalaligntop': 1, 'thumbrecomm': 1, 'imgthumbborderradius30px': 1, 'listrecommmargintop9px': 1, 'boxbestwidth295pxmargin0': 1, 'boxgamemarginright0': 1, 'boxinfobnrheight159pxmarginbottom0': 1, 'txtinfomargin0': 1, 'boxwtrankpositionrelative': 1, 'boxwtrank': 1, 'titsubjectpositionabsolutetop0left11pxzindex1': 1, 'listwtrankmargintop13px': 1, 'listwtrank': 16, 'fstoverflowhiddenpositionrelativeheight62pxmarginbottom9pxpaddingtop20pxborderbottom1px': 1, 'imgthumbpositionabsolutetop0right0widthautoheight83pxpointereventsnone': 1, 'linkrankingdisplayinlineblockoverflowhiddenlineheight18pxverticalaligntop': 1, 'contitemoverflowhiddenwidth140px': 1, 'txtrankingdisplayblockoverflowhiddenmaxwidth200pxwhitespacenowraptextoverflowellipsis': 1, 'txtrankingcolor118efftextdecorationunderline': 1, 'txtrankingmaxheight36pxwhitespacenormalwordbreakkeepallwordwrapbreakword': 1, 'limarginbottom4px': 1, 'fstheight59pxmarginbottom9pxpaddingtop23px': 1, 'boxmusicpaddingleft12pxheight157px': 1, 'boxmusic': 6, 'headitemoverflowhiddenpadding7px': 1, '11pxlineheight18px': 1, 'headitem': 4, 'titsubjectfloatleftmargin0': 1, 'txtstandardfloatleftfontsize11pxcolor888': 1, 'txtnumfontfamilytahomaarialsansserifletterspacing0': 1, 'listmusicoverflowhiddenwidth646px': 1, 'listmusic': 16, 'lifloatleftpositionrelativewidth70pxmarginright36pxpaddingleft22px': 1, 'linkitemdisplayblockwidth70px': 1, 'thumbgwidth70pxheight70px': 1, 'framegwidth68pxheight68px': 1, 'contitemdisplayblockpaddingtop4px': 1, 'tititemdisplayblockoverflowhiddenmargin0fontweightnormallineheight16pxwhitespacenowraptextoverflowellipsis': 1, 'tititemhovercolor118efftextdecorationunderline': 1, 'originitemdisplayblockoverflowhiddenfontsize12pxlineheight16pxcolor888whitespacenowraptextoverflowellipsis': 1, 'linksingercolor888': 1, 'numpctoppositionabsolutetop0left0width16pxheight16pxtextindent9999pxverticalaligntop': 1, 'headitempadding10px': 1, 'txtnumfontfamilyhelveticaarialsansserif': 1, 'wraptopicwidth990pxmargin0': 1, 'autopadding29px': 1, '45px': 1, 'wraptopic': 4, 'titphotodisplayinlineblockoverflowhiddenheight36pxfontsize16pxlineheight33pxverticalaligntop': 1, 'linkphotoclipdisplayinlineblockpaddingright11pxbackgroundposition100': 1, '242pxwhitespacenowrapverticalaligntop': 1, 'linkphotothemedisplayinlineblockmarginright6pxcolor118effverticalaligntop': 1, 'viewphotooverflowhiddenpositionrelativewidth990pxheight400pxmargintop20px': 1, 'viewphoto': 26, 'listphotooverflowhiddenpositionabsolutetop0': 1, 'listphoto': 2, 'boxphotodisplayblockoverflowhiddenwidth682pxheight400pxbackgroundcolor333textdecorationnonetextaligncenter': 1, 'boxphoto': 1, 'imgthumbdisplayinline': 1, 'detailphotodisplaynonepositionabsolutetop0left50width682pxmarginleft341pxpaddingtop330px': 1, 'detailphoto': 2, 'framegwidth680pxheight398px': 1, 'linkphotodisplayblockoverflowhiddenpositionrelativeheight70pxbackgroundurlt1daumcdnnetdaumtopdecoimagestop2017bgplateslidepng': 1, 'linkphotohovertextdecorationnone': 1, 'linkphoto': 4, 'icophotopositionabsolutetop18pxright20pxwidth17pxheight15pxbackgroundposition160px': 1, '60pxtextindent9999px': 1, 'titgalleryoverflowhiddenmargin14px': 1, '57px': 1, '20pxfontweightnormalfontsize14pxcolorf4f4f4textdecorationnonewhitespacenowraptextoverflowellipsis': 1, 'descsourcedisplayblockpadding1px': 1, '20pxfontsize11pxcolorfffopacity06filteralphaopacity60': 1, 'txtdatemarginleft10pxfontfamilyHelveticatahomasansserif': 1, 'btnpreviewoverflowhiddenpositionabsolutetop0width152pxheight400pxbackgroundurlt1daumcdnnetdaumtopdecoimagestop2017bgplateslide2png': 1, 'norepeattextdecorationnonecursorpointer': 1, 'btnpreview': 4, 'framegwidth150pxheight398px': 1, 'icopctoppositionabsolutetop170pxwidth60pxheight60pxtextindent9999px': 1, 'btnprevleft0borderright2px': 1, 'fff': 2, 'btnprev': 2, 'icopctopleft0backgroundposition190px': 1, 'btnnextright0borderleft2px': 1, 'btnnext': 3, 'icopctopright0backgroundposition190px': 1, 'btngallerybackgroundcolor333': 1, 'txtgallerydisplaynonepadding184px': 1, '71pxlineheight16pxcolorfff': 1, 'btngallery': 1, 'txtgallerydisplayblock': 1, 'txtgallerypaddingright71pxpaddingleft0textalignright': 1, 'viewslideoverflowhiddenpositionrelativeheight60pxmargintop20px': 1, 'viewslide': 66, 'listthumbnailoverflowhidden': 1, 'listthumbnail': 4, 'lifloatleftpaddingleft2px': 1, 'lifstpaddingleft0': 1, 'linkthumbdisplayblockpositionrelativewidth60pxheight60px': 1, 'framegwidth58pxheight58pxcursorpointer': 1, 'framegwidth56pxheight56pxborder2px': 1, '118effopacity1filteralphaopacity100': 1, 'covergpositionabsolutetop0bottom0left0right0backgroundfffopacity06filteralphaopacity60': 1, 'btnmovepositionabsolutetop0width20pxheight60px': 1, 'btnprevleft0': 1, 'btnnextright0': 1, 'btnmove': 1, 'icopctopdisplayblockwidth20pxheight20pxmargintop20pxtextindent9999pxcursorpointer': 1, 'icopctopbackgroundposition190px': 1, 'icopctopbackgroundposition220px': 1, 'titphotolineheight39px': 1, 'titgallerymargintop16px': 1, 'descsourcepaddingtop2px': 1, 'txtgallerypaddingtop186px': 1, 'vphototype2': 9, 'boxphotowidth990px': 1, 'detailphotowidth990pxmarginleft495px': 1, 'framegwidth988px': 1, 'linkphotobackgroundrepeat': 1, 'btnpreviewtop140pxheight120pxborder0': 1, 'nonebackgroundnone': 1, 'framegdisplaynone': 1, 'icopctoptop30px': 1, 'txtgallerypaddingtop43px': 1, 'listthumbnail2': 3, 'linkthumbwidth246px': 1, 'framegwidth244px': 1, 'framegwidth242px': 1, 'listthumbnail3': 9, 'linkthumboverflowhiddenwidth196px': 1, 'framegwidth194px': 1, 'framegwidth192px': 1, 'fst': 10, 'lst': 10, 'linkthumbwidth197px': 1, 'frameg': 10, 'framegwidth195px': 1, 'fston': 5, 'lston': 5, 'framegwidth193px': 1, 'listthumbnail4': 9, 'linkthumboverflowhiddenwidth163px': 1, 'framegwidth161px': 1, 'framegwidth159px': 1, 'linkthumbwidth164px': 1, 'framegwidth162px': 1, 'framegwidth160px': 1, 'listthumbnail5': 9, 'linkthumboverflowhiddenwidth140px': 1, 'framegwidth138px': 1, 'framegwidth136px': 1, 'linkthumbwidth139px': 1, 'framegwidth137px': 1, 'framegwidth135px': 1, 'listthumbnail6': 3, 'linkthumboverflowhiddenwidth122px': 1, 'framegwidth120px': 1, 'framegwidth118px': 1, 'listthumbnail7': 9, 'linkthumboverflowhiddenwidth108px': 1, 'framegwidth106px': 1, 'framegwidth104px': 1, 'linkthumbwidth109px': 1, 'framegwidth107px': 1, 'framegwidth105px': 1, 'listthumbnail8': 9, 'linkthumboverflowhiddenwidth97px': 1, 'framegwidth95px': 1, 'framegwidth93px': 1, 'linkthumbwidth98px': 1, 'framegwidth96px': 1, 'framegwidth94px': 1, 'txtgallerypaddingtop46px': 1, 'topicspepositionabsolutetop0left50width990pxmarginleft495px': 1, 'topicspe': 3, 'linkspeoverflowhiddenpositionabsolutetop0width464pxheight610pxfontsize1pxlineheight0textalignlefttextindent9999px': 1, 'linkspeleftleft465px': 1, 'linksperightright465px': 1, 'topictype2backgroundposition50': 1, 'topictype2': 14, 'headlinephotooverflowhidden': 1, 'headlinephoto': 1, 'titphotofloatleft': 1, 'txtsub1overflowhiddenpadding18px': 1, '2pxfontsize24pxlineheight28pxletterspacing1pxwhitespacenowraptextoverflowellipsisclearboth': 1, 'linkgate1floatrightoverflowhiddenheight36pxfontsize16pxlineheight33pxcolorfff': 1, 'linkgate1': 1, 'icoarrowdisplayinlineblockwidth8pxheight12pxmargin0': 1, '8pxbackgroundposition100px': 1, 'txtsub2padding11px': 1, '1pxfontsize22pxlineheight28pxletterspacing1pxclearboth': 1, 'txtsub2': 1, 'infosubtxtdisplayblockoverflowhiddenwhitespacenowraptextoverflowellipsis': 1, 'linkgate2displayinlineblockoverflowhiddenwidthautoheight16pxmargin14px': 1, '10pxpadding10px': 1, '16pxbackgroundcolor222fontsize14pxlineheight16pxcolorfffverticalaligntop': 1, 'linkgate2': 2, 'icoarrowdisplayinlineblockwidth6pxheight10pxmargin4px': 1, '19pxbackgroundposition110px': 1, '265pxverticalaligntop': 1, 'txtsub1paddingtop22px': 1, 'linkgate1lineheight39px': 1, 'txtsub2paddingtop16pxpaddingbottom0': 1, 'linkgate2margintop10pxpaddingtop12pxpaddingbottom10px': 1, 'icoarrowmargintop2px': 1, 'topicbgwingpositionabsolutetop0right0left0zindex1minwidth990pxminheight610pxheight100': 1, 'topicbgwing': 3, 'bgwingpositionabsoluteminwidth960pxwidth50height100backgroundposition0': 1, '0backgroundrepeatnorepeat': 1, 'frwingtop0left50backgroundposition100': 1, 'flwingbottom0left0backgroundposition0': 1, 'noticelayeroverflowhiddenwidth100borderbottom1px': 1, 'ecf2f7backgroundcolorf4faff': 1, 'innernoticelayeroverflowhiddenpositionrelativewidth990pxheight110pxmargin0': 1, 'autobackgroundimageurlt1daumcdnnetdaumtopdecoimagestop2017noticestartpngbackgroundrepeatnorepeat': 1, 'innernoticelayer1backgroundposition100': 1, 'innernoticelayer': 6, 'setstartfloatleftpaddingtop29px': 1, 'txtnewsdisplayblockfontweightnormalfontsize20px': 1, 'linkstartoverflowhiddenfloatleftmargintop3pxpaddingright9pxfontsize12pxcolor888backgroundposition100': 1, '197pxtextdecorationunderline': 1, 'btncloseoverflowhiddenpositionabsolutetop36pxright0width20pxheight20pxbackgroundposition170px': 1, '180pxtextindent9999px': 1, 'setstartpaddingtop33px': 1, 'linkstartmargintop0': 1, 'mobileweblayeroverflowhiddenwidth100paddingbottom29pxbordertop1px': 1, 'ecececbackgroundcolorf2f2f2textaligncenter': 1, 'mobileweblayer': 7, 'txtmobilemargintop18pxmarginleft13pxfontsize12pxcolor888': 1, 'txtmobile': 2, 'icoinfodisplayinlineblockwidth13pxheight13pxmargin3px': 1, '0backgroundposition170px': 1, '120pxverticalaligntop': 1, 'linkmobiledisplayblockwidth100pxheight30pxmargin12px': 1, 'dadbddfontweightboldfontsize13pxlineheight28pxcolor222backgroundcolorfff': 1, 'linkmobilehovertextdecorationnone': 1, 'txtmobilemargintop22pxmarginleft9px': 1, 'icoinfomargin1px': 1, 'linkmobilemargintop9pxlineheight31px': 1, 'media': 2, 'only': 8, 'screen': 8, 'webkitmindevicepixelratio': 2, 'mindevicepixelratio': 2, 'minresolution': 4, '144dpi': 2, '15dppx': 2, 'icosuggestbackgroundimageurlsearch1daumcdnnetsearchstaticscommonpir2weathericoweathermpngbackgroundsize43px': 1, '1680px': 1, 'icopctopbackgroundimageurlt1daumcdnnetdaumtopdecoimagestop2017rtnicopctop180423pngbackgroundsize250px': 1, 'icovertbackgroundimageurlt1daumcdnnetdaumtopdecoimagestop2017rtnicopctopvert170724pngbackgroundsize100px': 1, '500px': 1, 'txtpctopbackgroundimageurlt1daumcdnnetdaumtopdecoimagestop2017rtntxtpctop170915pngbackgroundsize600px': 1, 'bgpctop': 1, 'loginmybackgroundimageurlt1daumcdnnetdaumtopdecoimagestop2017rtnbgpctop170328pngbackgroundsize610px': 1, '490px': 1, 'numpctopbackgroundimageurlt1daumcdnnetdaumtopdecoimagestop2017rtnnumpctop170405pngbackgroundsize80px': 1, 'innernoticelayerbackgroundimageurlt1daumcdnnetdaumtopdecoimagestop2017rtnnoticestartpngbackgroundsize300px': 1, 'imgweatherbackgroundimageurlt1daumcdnnetdaumtopdecoimagestop2017rtnimgweather170628pngbackgroundsize300px': 1, '460px': 1, 'icowsbackgroundimageurlt1daumcdnnetdaumtopdecoimagestop2017rtnicows1801023pngbackgroundsize270px': 1, 'icowmbackgroundimageurlt1daumcdnnetdaumtopdecoimagestop2017rtnicowm1801023pngbackgroundsize900px': 1, 'imgkeyboardbackgroundimageurlt1daumcdnnetdaumtopdecoimagestop2017rtnimgkeyboard171229pngbackgroundsize30px': 1, 'btnkeyboardbackgroundimageurlt1daumcdnnetdaumtopdecoimagestop2017rtnimgkor171226pngbackgroundsize431px': 1, 'btnkeyboardactivebackgroundimageurlt1daumcdnnetdaumtopdecoimagestop2017rtnimgkorhover171226pngbackgroundsize431px': 1, 'btnkeyboardbackgroundimageurlt1daumcdnnetdaumtopdecoimagestop2017rtnimgkorshift171229pngbackgroundsize431px': 1, 'btnkeyboardactivebackgroundimageurlt1daumcdnnetdaumtopdecoimagestop2017rtnimgkorshifthover171229pngbackgroundsize431px': 1, 'btnkeyboardbackgroundimageurlt1daumcdnnetdaumtopdecoimagestop2017rtnimgeng171226pngbackgroundsize431px': 1, 'btnkeyboardactivebackgroundimageurlt1daumcdnnetdaumtopdecoimagestop2017rtnimgenghover180122pngbackgroundsize431px': 1, 'btnkeyboardbackgroundimageurlt1daumcdnnetdaumtopdecoimagestop2017rtnimgengshift171226pngbackgroundsize431px': 1, 'btnkeyboardactivebackgroundimageurlt1daumcdnnetdaumtopdecoimagestop2017rtnimgengshifthover171226pngbackgroundsize431px': 1, 'rolltxt': 3, 'webkittransition': 5, 'transform': 27, '0s': 5, 'linear': 5, 'moztransition': 5, 'mstransition': 5, 'otransition': 5, 'transition': 5, 'webkittransform': 7, 'translateY0': 5, 'moztransform': 7, 'mstransform': 7, 'otransform': 7, 'licurrent': 3, 'translateY20px': 5, '3s': 15, 'easeout': 10, 'translateY0px': 10, 'initial': 5, 'important': 5, 'positionabsolute': 1, 'backgroundcolorfff': 1, 'translateY28px': 10, 'opacity1': 1, 'linext': 1, 'opacity0': 1, 'cEtc': 3, 'listthumbnailwidth1858px': 1, 'listthumbnailclasslistthumbnailwidth990px': 1, 'ease': 5, 'translateX0': 5, 'kakaotvasian2018backgroundurlt1daumcdnnetdaumtopdecoimagestop2017special1bgasian2018kakaotvpng': 1, 'kakaotvasian2018': 1, 'linktitcolor5a32ff': 1, 'asian2018slot': 29, 'icoasiandisplayinlineblockoverflowhiddenbackgroundurlt1daumcdnnetdaumtopdecoimagestop2017special1icoasian180808png': 1, 'asian2018slotpositionrelativezindex10width655pxminheight60pxmargintop15px': 1, 'innerslotoverflowhiddenpositionabsolutetop0left0zindex20width655pxheight60pxbackgroundurlt1daumcdnnetdaumtopdecoimagestop2017special1bgasian2018180807png': 1, 'titasiangamepositionabsolutetop0left0width150pxheight60px': 1, 'linkasiangamedisplayblockoverflowhiddenheight100': 1, 'wrapddaypositionabsolutetop24pxright4pxheight13pxfontweightnormallineheight11pxfontfamilyHelveticaNeueMedium': 1, 'sansserif': 2, 'wrapdday': 4, 'txtddayfontsize16pxcolor837EF3': 1, 'icominusdisplayinlineblockmargin0': 1, '1pxverticalaligntop': 1, 'numddaydisplayinlineblockwidth10pxtextaligncenter': 1, 'moreinfopositionabsolutetop23pxright11px': 1, 'moreinfo': 3, 'linkgfloatleftpadding0': 1, '3pxfontsize13pxlineheight15pxletterspacing1pxcolor3B35CE': 1, 'linkg': 2, 'icoarrwidth10pxheight10pxmargin3px': 1, '4pxbackgroundposition56px': 1, 'listnoticefloatleftwidth381pxmargin19px': 1, '163px': 1, 'liwidth100': 1, 'linknoticedisplayblockoverflowhiddenfontsize14pxtextoverflowellipsiswhitespacenowrapletterspacing1px': 1, 'icohotfloatleftwidth36pxheight18pxmargin3px': 1, 'icovodfloatleftwidth36pxheight18pxmargin3px': 1, '0backgroundposition40px': 1, 'icosmsfloatleftwidth52pxheight16pxmargin3px': 1, '0backgroundposition0': 1, 'txtgamespaddingright6pxcolor7A63FF': 1, 'asian2018open': 1, 'txtopenpositionabsolutetop20pxright9pxfontweightboldfontsize14pxcolor837EF3': 1, 'asian2018opentype2': 1, 'listnoticemarginleft149px': 1, 'asian2018medal': 15, 'medalinfooverflowhiddenpositionabsolutetop30pxleft0width150pxheight30px': 1, 'medalinfo': 7, 'linkmedaldisplayblockheight100': 1, 'listmedalfloatleftpaddingleft21px': 1, 'listmedal': 1, 'nummedaldisplayblockwidth20pxheight20pxmarginright3pxfontweightboldfontsize11pxlineheight19pxfontfamilyHelveticaNeue': 1, 'sansserifcolor534400textaligncenter': 1, 'txtrankingfloatleftmargin3px': 1, '2pxfontsize12pxlineheight12px': 1, 'numrankingfontweightboldfontfamilyHelveticaNeue': 1, 'innerslotbackgroundurlt1daumcdnnetdaumtopdecoimagestop2017special1bgasian2018medal180807png': 1, 'titasiangameheight30px': 1, 'listnoticewidth384pxmarginleft150px': 1, 'txtgamespaddingright4px': 1, 'icominusmargin0': 1, 'nummedallineheight20px': 1, 'listnoticewidth372pxmargintop20px': 1, 'linknoticeletterspacing0': 1, 'moreinfotop24px': 1, 'linkgletterspacing0': 1, 'icoarrmargintop1px': 1, 'icohot': 1, 'icovodmargin2px': 1, 'icosmsmargin2px': 1, 'medalinfolineheight21px': 1, 'txtrankingmargintop5px': 1, 'icoasianbackgroundimageurlt1daumcdnnetdaumtopdecoimagestop2017rtnspecial1icoasian180808pngbackgroundsize75px': 1, '36px': 1, 'innerslotbackgroundimageurlt1daumcdnnetdaumtopdecoimagestop2017rtnspecial1bgasian2018180807pngbackgroundsize655px': 1, 'innerslotbackgroundimageurlt1daumcdnnetdaumtopdecoimagestop2017rtnspecial1bgasian2018medal180807pngbackgroundsize655px': 1, 'kakaotvasian2018backgroundimageurlt1daumcdnnetdaumtopdecoimagestop2017rtnspecial1bgasian2018kakaotvpngbackgroundsize655px': 1, '218px': 1, '주요': 2, '정보': 8, '미디어': 3, '실시간': 4, '이슈': 4, '멀티미디어': 2, '유익한': 2, '포토amp영상': 1, '웹': 1, '접근성': 1, '자동실행': 1, '통합': 2, '한글입력기': 1, '인기': 1, '어린이집': 1, '원장': 1, '투신': 1, '김지수': 1, '댓글논란': 1, '전효성': 1, '계약위반': 1, '최명길': 1, '집공개': 1, '기안84': 6, '수입': 1, '새옹지마': 1, '김한길': 1, '폐암': 2, '경기': 1, '흉기살해': 1, '이국주': 1, '사칭주의': 1, '콘서트7080': 1, '폐지': 1, '김사랑': 1, '제주': 1, '백구': 1, '학대': 1, '사유리': 1, '이상민': 1, '망언논란': 1, '조현병': 1, '어머니': 1, '폭행': 1, 'lt이전': 1, 'gt다음': 1, '다음을': 1, '증권': 1, '카카오TV': 3, '브런치': 3, '별플레이': 1, '같이가치': 3, '주요서비스': 1, '⋁': 1, '커뮤니케이션': 1, '티스토리': 2, '아지트': 1, '카카오스토리': 2, '아고라': 1, '쇼핑생활': 1, '쇼핑하우': 1, '항공권신규업데이트': 1, '금융': 1, '미즈넷': 2, '문화엔터': 1, '나눔펀딩': 1, '스토리펀딩': 2, '사전지식': 1, '어학사전': 1, '번역': 1, '단어장': 1, '팁': 1, '배틀그라운드': 1, '검은사막': 1, '길찾기': 1, '로드뷰': 1, '버스정보': 1, '지하철노선도': 1, '카카오': 2, '소식': 1, 'AI': 1, '메뉴닫기': 1, '29': 1, '월': 1, '날씨': 21, '서울시': 1, '흐림': 18, '영상': 19, '4도': 2, '4°C': 2, '경기도': 1, '5도': 2, '5°C': 2, '인천시': 2, '대구시': 1, '10도': 2, '10°C': 2, '대전시': 1, '8도': 4, '8°C': 4, '광주시': 1, '맑음': 1, '9도': 4, '9°C': 4, '부산시': 1, '12도': 2, '12°C': 2, '울산시': 1, '경상북도': 2, '강원도': 2, '충청북도': 1, '전라북도': 1, '전라남도': 2, '13도': 1, '13°C': 1, '제주자치도': 1, '16도': 1, '16°C': 1, '경상남도': 1, '11도': 1, '11°C': 1, '날찌정보': 1, '8897': 1, '어제보다': 1, '°C': 1, '상세보기': 1, '미세먼지': 1, '통합대기': 1, 'X': 1, '날씨정보': 1, '선택됨': 1, '1탭': 1, '카슈끄지': 1, '지정학': 1, '추악한': 1, '삼국지': 1, '만': 1, '13세': 1, '나이로': 1, '무대를': 1, '장악한': 1, '보아': 1, '일반뉴스': 1, '강경화폼페이오': 1, '통화이란': 1, '제재': 1, '복원middot북미협상': 1, '논의': 1, '비행': 1, '800시간': 1, '불과': 1, '새': 1, '항공기': 1, '추락': 1, '번지는': 1, '의문': 1, '이총리': 1, '경총': 1, '지도부와': 1, '막걸리': 1, '회동quot대내외': 1, '여건': 1, '어려워quot': 1, 'quot가정폭력': 1, '당한': 1, '나를': 1, '더': 3, '비참하게': 1, '만든': 1, '건': 1, '경찰middot검찰middot법원quot': 1, '이번': 1, '주': 1, '기온': 1, '떨어진다충남middot호남엔': 1, '39눈발39': 1, '윤석열': 1, '국감중': 1, '임종헌': 1, '고발요청': 1, '논란박상기': 1, 'quot잘못됐다quot': 1, '메르켈': 1, 'quot이번이': 1, '마지막': 1, '총리': 1, '임기조기총선': 1, '열려도': 1, '불출마quot': 1, '끊이지': 1, '않는': 1, '비리해마다': 1, '조사했는데': 1, 'quot3년': 1, '뒤': 1, '서울': 1, '모든': 1, '초중고': 1, '무상급식quot일부': 1, '자치구': 1, '예산부담에': 1, '39난색39': 1, 'quot김경수에': 1, '시연quot김경수': 1, 'quot신빙성': 1, '부족quot': 1, '입장하는': 1, '최명길박중훈': 1, '우묵배미의': 1, '사랑': 1, 'GV': 1, '대놓고': 1, '얼굴을': 1, '밀어버리는': 1, '타지키스탄': 1, '선수': 1, '공식발표': 1, '이강인': 1, '에브로전': 1, '명단': 1, '포함발': 1, '뉴스홈': 1, '랭킹': 1, 'TV': 2, '포토': 4, '코스피': 1, '2000선': 1, '붕괴': 1, '탭1전체': 4, '탭8': 1, 'lt': 4, '탭': 8, 'gt': 4, '2위': 5, '장원영': 5, '3위': 5, '아이즈원': 5, '4위': 5, '진해성': 5, '5위': 5, '안녕하세요': 5, '6위': 5, '7위': 5, '8위': 5, '이윤철': 5, '9위': 5, '동상이몽': 5, '10위': 5, '이덕선': 5, '증시': 2, '영국': 1, '707477': 1, '9652': 2, '전일대비': 2, '상승13521': 1, '독일': 1, '1143981': 1, '상승23919': 1, '관련': 1, '링크모음': 1, '환율': 1, '운세': 1, 'uarr': 18, '상승142': 2, '상승118': 2, '상승109': 2, '상승67': 2, '상승62': 2, '상승55': 2, '상승184': 2, '신규진입': 2, '상승44': 2, '상승53': 2, '2322기준': 1, 'X닫기': 1, 'TV하이라이트': 2, '건강을': 2, '운동': 3, '명장면': 3, '오늘은': 2, '이거': 2, '만들어': 2, '먹어야지': 2, 'SBS': 1, '스페셜': 1, '동영상': 16, '“대중교통': 1, '이용하니': 1, '너무': 1, '편해요”': 1, '달샤벳': 1, '출신': 1, '수빈': 1, '엄마야': 1, '106회': 1, '예고': 1, '“그러고도': 1, '사람이야”': 1, '박준혁': 1, '꿀픽Cool': 1, 'Pick': 1, '′동상이몽2′': 1, '한고은': 1, '남편': 1, '신영수가': 1, '복': 1, '받은': 1, '섹션TV': 1, '연예통신': 1, '일본': 1, '진출을': 1, '목표로': 1, '데뷔를': 1, '보아☆': 1, '복부': 1, '운동인': 1, '플랭크': 1, '제대로': 1, '하는': 1, '법': 2, '집에서': 3, '쉽게': 1, '따라': 1, '할': 2, '힙업': 1, '팔뚝': 1, '운동할': 1, '때': 2, '주의해야': 1, '점': 1, '2분': 1, '안에': 1, '유산소와': 1, '근력': 1, '번에': 1, '끝내는': 1, '동작': 1, '눈에': 1, '월드시리즈': 1, '39아찔한': 1, '순간39': 1, '골을': 1, '막아낸': 1, '황태현': 1, '로버츠': 1, 'quot내년에': 1, 'WS': 1, '무대에': 1, '돌아오길quot': 1, '호날두': 1, '레알': 1, '참혹했던': 1, '엘클라시코': 1, '뿌링클': 1, '치킨': 1, '만드는': 1, 'SNS에서': 1, '화제가': 2, '된': 1, '라면': 1, '레시피': 1, '간단한': 1, '야식으로': 1, '딱인': 1, '순대': 1, '볶음': 1, '먹다': 1, '남은': 1, '족발': 1, '맛있게': 1, '먹는': 1, '탭4': 1, '됐던': 1, '러시아': 1, '월드컵': 1, '이모저모': 1, '짤': 1, '쭉빵카페': 1, '흔한': 1, '다이어트': 1, '도탁스': 1, 'DOTAX': 1, '돈만': 1, '많으면': 1, '만들고': 1, '싶어': 1, '한다는': 1, '로망들': 1, 'ㄷㄷjpg': 1, '에어팟': 1, '5만': 1, '원에': 1, '팝니다': 1, '어메이징': 1, '동심파괴gif': 1, '계란찜': 1, '매니큐어': 1, '냥이': 1, '씻기기GIF': 1, '서양식': 1, '프렌차이즈': 1, '도넛': 1, 'vs': 1, '한국식': 1, '시장': 1, '도나스': 1, '탭6': 1, '홈amp쿠킹': 1, '미국서': 1, '핫하다는': 1, '이': 1, '팝콘': 1, 'RealFoods': 2, '5주차바로': 1, '지금': 1, '장만해야할': 1, '알뜰한': 1, '살림템': 1, '1분쇼핑': 3, '팥': 1, '샌드위치': 1, '디시인사이드': 1, '크리에이터를': 1, '하나의': 1, '키보드': 1, '겨울철': 1, '대표간식': 1, '비타민D는': 1, '언제': 1, '어떻게': 1, '섭취하면': 1, '좋을까': 1, '베스트': 2, '눈밑이': 1, '떨리거나': 1, '입술': 1, '입주변이': 1, '갈라질': 1, '노브랜드에서': 1, '업어와야할': 1, '먹거리': 1, '지금까지': 1, '전혀': 1, '알': 1, '없었던': 1, '식품': 1, '첨가물과': 1, '제거방법': 1, '사연뉴스': 1, 'quot5세': 1, '아들': 1, '노래에': 1, '눈': 1, '뜬': 1, '말기': 1, '아내': 1, '그렇게': 1, '생일날': 1, '떠났습니다quot': 1, '센스': 1, '감각': 1, '만점의': 1, '변정수씨': 1, '집': 2, '39나': 1, '혼자': 1, '산다39': 1, '출연': 1, '요청': 1, '쇄도할': 1, '정도로': 1, '멋진': 1, '강민경': 1, '일상': 1, '사진': 1, '야식덕후들이': 1, '즐긴다는': 1, '초간단': 1, '메뉴': 1, '머니': 1, '동물': 1, '스타일': 1, 'Men': 1, '여행맛집': 1, '직장IN': 1, '탭11': 1, '추천갤러리바로가기': 2, '이미지': 2, '다음앱이': 1, '새단장을': 1, '했습니다': 1, '광고안내': 1, '검색등록': 1, '제휴문의': 1, '서비스약관': 1, '웹접근성안내': 1, 'Kakao': 1, 'Breaking': 1, 'News': 2, 'Multimedia': 1, 'xhr': 3, 'XMLHttpRequest': 3, 'xhrwithCredentials': 1, 'xhropenPOST': 1, 'httpssamizdatgraphqlnytimescomgraphqlv2': 1, 'xhrsetRequestHeaderContentType': 1, 'xhrsetRequestHeadernytapptype': 1, 'projectvi': 1, 'xhrsetRequestHeadernytappversion': 1, '003': 1, 'xhrsetRequestHeadernyttoken': 1, 'MIIBIjANBgkqhkiG9w0BAQEFAAOCAQ8AMIIBCgKCAQEAlYOpRoYg5X01qAqNyBDM32EIE77nkFzd2rrVjhdiVAZfBIrPayyYykIINd5GMImm3wg6CmTTkBo7ixmwd7Xv24QSDpjuX0gQ1eqxOEWZ0FHWZWkh4jfLcwqkgKmfHJuvOctEiEWic5Qrle323SMDKF8sAqClv8VKA8hyrXHbPDAlAaxq3EPOGjJqpHEdWNVg2S0pN62NSmSudTapBqZf7FqsI2cUxv2mUKzmyyrYwbhd8TRgj1kFprNOaldrluO4dXjubJIY4qEyJY5DcF03sGED4AiGBPVYtPh8zscG64yJJ9Njs1ReyUCSX4jYmxoZOnO6GfXE0s2xQIDAQAB': 1, 'xhrsendoperationNameUserQueryvariablesquery': 1, 'query': 1, 'UserQuery': 1, 'typename': 1, 'profile': 1, 'displayName': 1, 'userInfo': 1, 'regiId': 1, 'demographics': 1, 'emailSubscriptions': 1, 'wat': 1, 'bundleSubscriptions': 1, 'bundle': 1, 'inGrace': 1, 'promotion': 1, 'source': 1, 'subscriptionDetails': 1, 'isFreeTrial': 1, 'hasQueuedSub': 1, 'startDate': 1, 'endDate': 1, 'windowuserXhrObject': 1, 'windowswgUserInfoXhrObject': 1, 'windowNYTENVIRONMENT': 1, 'prd': 1, 'windowNYTRELEASE': 1, '22e6c1bf01e46b1d544191a6b99d12b554edff93': 1, 'windowJKIDDPATH': 1, 'httpsanytimescomsvcnytdatalayer': 1, 'windowWEDDINGSPATH': 1, 'httpscontentapinytimescom': 1, 'windowGDPRPATH': 1, 'httpsuscentral1nytwfviprdcloudfunctionsnetgdpremailform': 1, 'windowSENTRYSAMPLERATE': 1, 'windowEXPERIMENTALROUTEPREFIX': 1, 'documentlocationsearchindexOfnytapptrue': 1, 'documentdocumentElementclassListaddNYTApp': 1, '100Mathrandom': 1, 'NYTDNYTDNYTDAbrafunctiontuse': 1, 'strictfunction': 1, 'ntvar': 1, 'nitreturn': 1, 'nn1nullfunction': 1, 'etniftvar': 1, 'eorn0in1u0c0if1ilength4294967296i0foreat': 1, 'r0u0c0oiuife2s215p27n4fss311518500249en1on2ern3aieor341275144ieoeror882459459a15356943890s20te2orifs3fs8fs14fs16fors5slslsns0return': 1, 'l0var': 1, 'iucsfreturn': 1, 'ninitfunctionnrvar': 1, 'acsflhptdocumentcookiematch': 1, 'nyta2dtdocumentcookiematch': 1, 'ab72mnew': 1, 'RegExpabragmexectlocationsearchifgg2ddg2dg2ithrow': 1, 'Errorcant': 1, 'init': 1, 'twiceifuridforddecodeURIComponentdsplita0a': 1, 'windowNYTDAbradfphometoggle': 2, '1block': 6, 'testCookie': 2, 'name': 2, 'match': 6, 'documentcookiematchnew': 3, 'RegExpname': 3, 'match1': 3, 'testCookienytgdpr': 2, 'gptScript': 1, 'gptScriptasync': 1, 'async': 2, 'gptScriptsrcwwwgoogletagservicescomtagjsgptjs': 1, 'documentheadappendChildgptScript': 1, 'if': 3, 'googletag': 3, 'googletagcmd': 2, 'googletagcmdpushfunction': 1, 'googletagpubadssetRequestNonPersonalizedAds1': 1, 'windowNYTDAbramedianettoggle': 2, 'readCookie': 1, 'functionname': 1, 'Allows': 2, 'medianet': 2, 'EEA': 1, 'readCookienytgdpr': 1, 'prebid': 1, 'testing': 1, 'readCookieab7': 2, 'viprebidheader1': 1, 'mediaScript': 1, 'cid': 1, '8CU2553YN': 2, 'domain': 1, 'wwwnytimescom': 1, 'windowinnerWidth': 2, 'mediaNetCID': 1, 'windowNYTDAbraamazontoggle': 1, 'functiona9apstAgifaa9return': 1, 'qcraa9Qpushcraa9': 1, 'initfunctionqiarguments': 1, 'fetchBidsfunctionqfarguments': 1, 'setDisplayBidsfunction': 1, 'targetingKeysfunctionreturnQ': 1, 'ApcreateElements': 1, 'Aasync0': 1, 'Asrct': 1, 'gpgetElementsByTagNames0': 1, 'gparentNodeinsertBeforeAg': 1, 'apstagwindowdocumentscriptcamazonadsystemcomaax2apstagjs': 1, 'apstaginit': 1, 'pubID': 1, '3030': 1, 'adServer': 1, 'params': 1, 'sisection': 1, 'windowNYTDAbraindextoggle': 1, 'indexScript': 1, 'indexScriptasync': 1, 'indexScriptsrchttpsjssecindexwwcomhtp183760179626133031071js': 1, 'documentheadappendChildindexScript': 1, 'h3fontsize0625remlineheight0625remminheight22pxwebkitletterspacing07pxmozletterspacing07pxmsletterspacing07pxletterspacing07px': 1, 'windowemotion': 1, '06n7j501kj7lfb10m9xeu10klw3m1hyfx7x1gz70xg9e9ivx2bwtzy8pe5zk5wt1bj1vlye70lm4ytzogiugustscvm158f1cv1vxc2slcwdrld1wjnrbvwcsx9o1hd1ne61k9ek97vz7hjd1fe7a5q1rn5q1r10488qswu78iokp204g1llhclm1iruc8t1ropbjluw59ujxzr5ioylsikqtw155v0l3hmg4gku81rr4qq76xhk3srxqrcltj0tenist4u31gprdgz10t7hiamzqdlkwpx341k2cjfc1vhk1ks6td9krr5ic9515uy5yv1p8nkc0f8wsfjmhvv8msqdgy8191iepdzjzyr81m9j9gf1egl8em1b9egsl1kz2g4o1waixk9l2ztic19lv58hmgtjo2nhjhh01bnxwmn1i8g3m41uqjmks1nkps6a1xdhyk6mn5hq91mahq3m1ho5u4o13o0c9t1yo489b1jablmbmky99gomcqsq1nl6p6m1xaqcky6p6lnlgeek62180b3ld1ee8y2t7xxagk7y3qfvavqkzcxxhlrr18bs8bj1om4z5c1y8l3jc7utnqv1hesgbm1ycuf8ac7fqqsz49qw6b6wrwh7lflcbey509f1n9n422717c4s1yuan6hitui89zygc9njbmajzie51lk1qo9wc01vv8nt62ejkuito3u61d8a290ahe4g0qo6pn8xdxq2pbg2l91fhe54b1ot77nxbpgv3sbfvq22118ydgp1q91fy618fz8oq1j836f91g8bx4t1blv1z4g12q88na047m17h6617rpp6l6qnorfrki19g71fhmlkv1pl01z238z6u1vka1ovo5uqvq1pygo6t60xrh1smnt6x1aew2ebj07wu8g7rb99f5opktw4yrtc1yoguk1qvz0vjzmmks01qj0wac1i96a1mws86q61d537rb8oyskuras79qg0s8ta1mnngwr1ygu6hunmg095m7655i1jmv6zs1jot0f996x60l7douaadjiuqn1vwlksu8uvv5fba1f3o1ypbx2a1fhql1jrlo25n78b01r16zqnrosz16hw778gjybs48m01ftry2c1iidfo0': 1, 'function': 1, 'w': 2, 'd': 1, 'fontManifest': 1, 'needed': 1, 'rest': 1, 'supportsWoff2': 2, 'FontFace': 1, 'f': 1, 'FontFacet': 1, 'urldataapplicationfontwoff2base64d09GMgABAAAAAADcAAoAAAAAAggAAACWAAEAAAAAAAAAAAAAAAAAAAAAAAAAAAAABk4ALAoUNAE2AiQDCAsGAAQgBSAHIBtvAcieB3aD8wURQTZazbRE9HvF5vde4KCYGhiCgqNKPF0i6UIsZynbPXi9NgXLbNlmNzxIBBqq61FIQRJhCQA08PJQJ3sK5TZFMlWzCiK5GUN40psgqvxwBjBOg6JUSJ7ewyKE2AAaXZrfUB4vhze37ugJ9dDeYqiDwVgCawviwVFGnuttkLqIMGivmDg': 1, 'formatwoff2': 1, 'floadcatchfunction': 1, 'fstatus': 2, 'loading': 1, 'loaded': 1, 'addFontFace': 1, 'functionfontFace': 1, 'style': 1, 'dcreateElementstyle': 1, 'styleappendChilddcreateTextNodefontFace': 1, 'dquerySelectorheadappendChildstyle': 1, 'fetchFontFace': 1, 'functionurl': 1, 'format': 2, 'hash': 2, 'hashName': 1, 'fontName': 1, 'xhropenGET': 1, 'url': 1, 'xhronreadystatechange': 1, 'xhrreadyState': 1, 'xhrstatus': 1, '200': 1, 'addFontFacexhrresponseText': 1, 'try': 2, 'localStoragesetItemnytfontFormat': 1, 'localStoragesetItemhashName': 1, 'catche': 2, 'localStoragesetItemfontName': 1, 'xhrresponseText': 1, 'xhrsendnull': 1, 'loadFonts': 1, 'functionbundles': 1, 'now': 1, 'fontFormat': 4, 'localStoragegetItemnytfontFormat': 1, 'woff2': 1, 'woff': 1, 'var': 1, 'i': 2, 'datatimezone': 1, 'SectionsSEARCHSkip': 1, 'contentSkip': 1, 'indexEnglishEspañol中文': 1, 'ChineseSubscribeLog': 1, 'InLog': 1, 'InToday’s': 1, 'PaperWorldUSPoliticsNYBusinessOpinionTechScienceHealthSportsArtsBooksStyleFoodTravelMagazineT': 1, 'MagazineReal': 2, 'EstateVideoWorldUSPoliticsNYBusinessOpinionTechScienceHealthSportsArtsBooksStyleFoodTravelMagazineT': 1, 'EstateVideo‘There': 1, 'JewsFor': 1, 'callBut': 1, 'hostileCongregants': 1, 'RoomThe': 1, 'officersBy': 1, 'TimesThe': 1, 'DownMany': 1, 'congregationsSynagogue': 1, 'Ghost’Mr': 1, 'clearDutiful': 1, 'FightPresident': 1, 'writeGab': 1, 'saysListen': 1, 'Daily’The': 1, 'PittsburghIn': 1, '‘RaceRelated’': 1, 'NewsletterHow': 1, 'jailThe': 1, 'CrosswordSolve': 1, 'minutesBrazil': 1, 'ElectionThe': 1, 'OpportunityWith': 1, 'agoA': 1, 'riseMr': 1, 'restoredHis': 1, 'words189': 1, 'RecordThe': 1, 'underwayAn': 1, 'contactA': 1, 'Java': 1, 'Achmad': 1, 'IbrahimAssociated': 1, 'PressElection': 1, '2018Beto': 1, 'RememberAs': 1, 'planMr': 1, 'cultivatedA': 1, 'DoubtersBrad': 1, 'campaignTrump’s': 1, 'GoThe': 1, 'scrutinyAngela': 1, 'GermanyEurope’s': 1, 'yearsShe': 1, 'officeChancellor': 1, 'party': 1, 'Tobias': 1, 'SchwarzAgence': 1, 'ImagesWorld': 1, 'SeriesRed': 1, 'DodgersDavid': 1, 'PearceThe': 1, 'yearsAppreciating': 1, 'writesChristian': 1, 'Jae': 1, 'HongAssociated': 1, 'PressAmerican': 1, 'YearThe': 1, 'MondayThe': 1, 'filingsThe': 1, 'powers': 1, 'George': 1, 'OurfalianAgence': 1, 'ImagesOpinionThe': 1, 'BoardThe': 1, 'AmericaAfter': 1, 'otherDavid': 1, 'Leonhardt': 1, 'Ian': 1, 'PhilbrickTrump’s': 1, 'ListThe': 1, 'pocketsJonathan': 1, 'GreenblattWhen': 1, 'MainstreamMarcelo': 1, 'PaivaWhat': 1, 'FamilyMohamad': 1, 'BazziHow': 1, 'FriendsCharles': 1, 'BlowTrump’s': 1, 'ToxicityDavid': 1, 'ShribmanAntiSemitism': 1, 'ToleranceMargaret': 1, 'RenklA': 1, 'LightEitan': 1, 'HershIn': 1, 'David': 1, 'BrophyAustralians': 1, 'UniversitiesLev': 1, 'GolinkinAmerica': 1, 'BestEditors’': 1, 'PicksJohnny': 1, 'TimesAfter': 1, 'ConSix': 1, 'unfinishedNew': 1, 'YorkOnce': 1, 'MontanaA': 1, 'strangerT': 1, 'MagazineReview': 1, 'Memoir“She': 1, 'selfdiscoveryBook': 1, 'ReviewWe’d': 1, 'thoughts': 1, 'page': 1, 'experienceLet': 1, 'us': 1, 'know': 1, 'think': 1, 'Site': 1, 'Indexnewshome': 1, 'pageworldUSpoliticsNew': 2, 'Yorkbusinesstechscienceclimatesportsobituariesthe': 2, 'upshottodayx27s': 2, 'papercorrectionsopiniontodayx27s': 2, 'opinionoped': 2, 'columnistseditorialsoped': 2, 'Contributorsletterssunday': 2, 'reviewvideo': 2, 'opinionartstodayx27s': 2, 'artsart': 2, 'amp': 7, 'designbooksdancemoviesmusictelevisiontheaterwatchingvideo': 2, 'artslivingautomobilescrosswordfoodCookingeducationfashion': 2, 'stylehealthjobsmagazinereal': 2, 'estatet': 2, 'magazinetravelweddingslistings': 1, 'moreReader': 1, 'CenterWirecutterThe': 2, 'Learning': 2, 'Networktools': 2, 'servicesNYC': 2, 'events': 2, 'guidemultimediaphotographyvideoNYT': 2, 'storetimes': 2, 'journeysmanage': 2, 'accountnewshome': 1, 'magazinetravelweddingsmoreReader': 1, 'accountSubscribehome': 1, 'deliverydigital': 1, 'subscriptionsCrosswordCookingemail': 1, 'newsletterscorporate': 1, 'subscriptionseducation': 1, 'ratemobile': 1, 'applicationsreplica': 1, 'editionSite': 1, 'Information': 1, 'Navigation©': 1, 'CompanyContact': 1, 'UsWork': 1, 'usAdvertiseYour': 1, 'Ad': 1, 'ChoicesPrivacyTerms': 1, 'ServiceTerms': 1, 'SaleSite': 1, 'MapHelpHelpSubscriptions': 1, 'DysphoriatypenameSubjectBlockBetaQmxvY2tfQmV0YTpob21lL2VkaXRvcnNwaWNrcwfirstLoadfirst1000edges2nodetypeidgeneratedfalseidArticleQXJ0aWNsZTpueXQ6Ly9hcnRpY2xlLzYyNjI0MmRlLWY5NjktNTZlZS1hNTYxLWRmYTVkZmJiNzQxYQtypenameArticletypenameAssetsEdgeBlockBetaQmxvY2tfQmV0YTpob21lL2VkaXRvcnNwaWNrcwfirstLoadfirst1000edgestypeidgeneratedtrueidBlockBetaQmxvY2tfQmV0YTpob21lL2VkaXRvcnNwaWNrcwfirstLoadfirst1000edges0typenameAssetsEdgetypeidgeneratedtrueidBlockBetaQmxvY2tfQmV0YTpob21lL2VkaXRvcnNwaWNrcwfirstLoadfirst1000edges1typenameAssetsEdgetypeidgeneratedtrueidBlockBetaQmxvY2tfQmV0YTpob21lL2VkaXRvcnNwaWNrcwfirstLoadfirst1000edges2typenameAssetsEdgetotalCount3typenameAssetsConnectionAdTargetingParamplatwebkeyplatvaluewebtypenameAdTargetingParamAdTargetingParamalstest1540822665593keyalstestvalue1540822665593typenameAdTargetingParamAdTargetingParamtyphpkeytypvaluehptypenameAdTargetingParamAdTargetingParampropnytkeypropvaluenyttypenameAdTargetingParamAdTargetingParamednuskeyednvalueustypenameAdTargetingParamAdTargetingParamemotionskeyemotionsvaluetypenameAdTargetingParamAdTargetingParamgscatgspoliticsgspoliticsmiscnegisbrandsensitivegvdeathinjurygsentertaingssportgssportbaseballgsentertainbooksgspoliticsamericankeygscatvaluegspoliticsgspoliticsmiscnegisbrandsensitivegvdeathinjurygsentertaingssportgssportbaseballgsentertainbooksgspoliticsamericantypenameAdTargetingParamROOTQUERYprogrambetaidhometypeidgeneratedfalseidProgramBetaUHJvZ3JhbV9CZXRhOmhvbWUtypenameProgramBetaconfiggqlUrlhttpsu002Fu002Fsamizdatgraphqlnytimescomu002Fgraphqlu002Fv2gqlRequestHeadersnytapptypeprojectvinytappversion003nyttokenMIIBIjANBgkqhkiG9w0BAQEFAAOCAQ8AMIIBCgKCAQEAlYOpRoYg5X01qAqNyBDM32EIu002FE77nkFzd2rrVjhdiu002FVAZfBIrPayyYykIINd5GMImm3wg6CmTTkBo7ixmwd7Xv24QSDpjuX0gQ1eqxOEWZ0FHWZWkh4jfLcwqkgKmfHJuvOctEiEu002FWic5Qrle323SMDKF8sAqClv8VKA8hyrXHbPDAlAaxq3EPOGjJqpHEdWNVg2S0pN62NSmSudTu002Fapu002FBqZf7FqsI2cUxv2mUKzmyyrYwbhd8TRgj1kFprNOaldrluO4dXjubJIY4qEyJY5Dcu002FF03sGED4AiGBPVYtPh8zscG64yJJ9Njs1ReyUCSX4jYmxoZOnO6GfXE0s2xQIDAQABxnytcontinentASxnytcountryKRxnytregion11xnytgmtoffset900gqlFetchTimeout4000disablePersistedQueriesfalseserviceWorkerFileserviceworkertest1540585828505jsinitialDeviceTypedesktopexternalAssets': 1, 'functionefunction': 1}\n"
     ]
    }
   ],
   "source": [
    "print(totalDic)"
   ]
  },
  {
   "cell_type": "markdown",
   "metadata": {},
   "source": [
    "***\n",
    "우선 각 사이트 주소마다 요구사항 1~4를 수행하기 위해서 모든 함수들을 다음과 같이 돌린다.\n",
    ">word = puresource(source)  \n",
    "tag = extractTag(source)  \n",
    "word = removeTag(word, tag)  \n",
    "word = removePunctuation(word)  \n",
    "\n",
    "그리고 각각 다음식으로 사전 형식으로 만든 뒤 출력했다.\n",
    "\n",
    "> dic = makeDictionaries(word)\n",
    "\n",
    "그리고 추가로 5개 사이트에 나온 단어의 빈도 또한 보기 위해서 totalWord라는 리스트를 만들고 각 리스트 word들을 모두 더한 뒤\n",
    "그것으로 사전형식을 만든 뒤 출력하였다.\n",
    "\n",
    ">totalWord = word1 + word2 + word3 + word4 + word5\n",
    "totalDic = makeDictionaries(totalWord)\n",
    "***"
   ]
  },
  {
   "cell_type": "markdown",
   "metadata": {},
   "source": [
    "***\n",
    "# 과제소감\n",
    "> 마지막 과제를 제외하면 난이도가 그렇게 높지는 않았지만 치킨 문제는 조금 의외였고 마지막 과제는 역시나 어려웠습니다.  \n",
    "치킨 문제는 테스트 케이스가 없었기에 여러 방법으로 고민했습니다. c++의 경우는 while문 조건으로 입력이 되지 않으면 프로그램이 끝나면  \n",
    "되는것도 생각하고 최근에 배운 자료구조의 try catch에서 예외를 처리하는 법이 생각나서 관련 사항을 검색해보았습니다. 치킨 문제를 try~catch문\n",
    "을 사용해서 예외처리 하는 방법을 제외하고 어떻게 푸는건지 궁금합니다.\n",
    "\n",
    ">마지막 문제는 구두문자 제거나 공백제거, 사전 형식으로 만든 뒤 빈도 출력은 조금의 고민만으로 풀렸지만  \n",
    "태그 사이에 있는 문자열은 제외 한다는 부분에서 여러 가지 시행 착오를 겪었습니다. 저번 과제에서 사용한 코드를 아예 수정해야 될지 아니면  \n",
    "코드를 활용하고 다른 함수를 추가하는 식으로 할지 고민하다가  다른 함수들을 많이 추가하는 식으로 코딩했습니다. 그리고 수업 시간에 배운  \n",
    "리스트 내포의 경우는 매우 유용하게 사용했습니다. 그리고 CSS나 Javascript의 태그들 중에도 예외 사항이 많아서 힘들었습니다.\n",
    "\n",
    "***"
   ]
  }
 ],
 "metadata": {
  "kernelspec": {
   "display_name": "Python 3",
   "language": "python",
   "name": "python3"
  },
  "language_info": {
   "codemirror_mode": {
    "name": "ipython",
    "version": 3
   },
   "file_extension": ".py",
   "mimetype": "text/x-python",
   "name": "python",
   "nbconvert_exporter": "python",
   "pygments_lexer": "ipython3",
   "version": "3.6.5"
  }
 },
 "nbformat": 4,
 "nbformat_minor": 2
}
