{
 "cells": [
  {
   "cell_type": "markdown",
   "metadata": {},
   "source": [
    "### 문제1) a=\"Hello Python\" 문자열을 Slicing과 연결 연산자 (+)를 사용하여 \"Python Hello\"로 변경하시오.\n",
    "#### [주의] a 변수 자체에 \"Python Hello\" 문자열이 저장되어야 함"
   ]
  },
  {
   "cell_type": "code",
   "execution_count": 1,
   "metadata": {},
   "outputs": [],
   "source": [
    "a = \"Hello Python\""
   ]
  },
  {
   "cell_type": "code",
   "execution_count": 2,
   "metadata": {},
   "outputs": [
    {
     "name": "stdout",
     "output_type": "stream",
     "text": [
      "Python Hello\n"
     ]
    }
   ],
   "source": [
    "a = a[6:]+a[5:6]+a[0:5]\n",
    "print(a)"
   ]
  },
  {
   "cell_type": "markdown",
   "metadata": {},
   "source": [
    "***\n",
    "a[6:] = 6번 인덱스부터 끝까지 // Python 출력 \n",
    "\n",
    "a[5:6] = 5번 인덱스부터 6번째 칸. 즉, 5(6-1)번 인덱스까지 // 띄어쓰기 출력\n",
    "\n",
    "a[0:5] = 0번 인덱스부터 5번째 칸, 4(5-1)번 인덱스까지 // Hello 출력\n",
    "***"
   ]
  },
  {
   "cell_type": "markdown",
   "metadata": {},
   "source": [
    "### 문제2) b=\"Hello Python World\" 문자열을 Slicing과 연결 연산자 (+)를 사용하여 \"World Python Hello\"로 변경하시오.\n",
    "#### [주의] b 변수 자체에 \"World Python Hello\" 문자열이 저장되어야 함"
   ]
  },
  {
   "cell_type": "code",
   "execution_count": 3,
   "metadata": {},
   "outputs": [],
   "source": [
    "b = \"Hello Python World\""
   ]
  },
  {
   "cell_type": "code",
   "execution_count": 4,
   "metadata": {},
   "outputs": [
    {
     "name": "stdout",
     "output_type": "stream",
     "text": [
      "World Python Hello\n"
     ]
    }
   ],
   "source": [
    "b = b[-5:] + b[5:6] + b[6:13] + b[0:5]\n",
    "print(b)"
   ]
  },
  {
   "cell_type": "markdown",
   "metadata": {},
   "source": [
    "***\n",
    "b[-5:] = 뒤에서부터 5번째 인덱스부터 끝까지 출력  // \"World\" 출력\n",
    "\n",
    "b[5:6] = 5번 인덱스에서 (6-1)번 인덱스까지 출력 // 띄어쓰기 출력\n",
    "\n",
    "b[6:13] = 6번 인덱스부터 (13-1)번 인덱스까지 출력 // \"Python \" 출력\n",
    "\n",
    "b[0:5] = 0번 인덱스부터 (5-1)번 인덱스까지 출력 // \"Hello\" 출력\n",
    "***"
   ]
  },
  {
   "cell_type": "markdown",
   "metadata": {},
   "source": [
    "### 문제3) c=\"Hello\"를 \"olleH\"로 변경하시오\n",
    "#### [주의] c 변수 자체에 \"olleH\" 문자열이 저장되어야 함"
   ]
  },
  {
   "cell_type": "code",
   "execution_count": 5,
   "metadata": {},
   "outputs": [],
   "source": [
    "c = \"Hello\""
   ]
  },
  {
   "cell_type": "code",
   "execution_count": 6,
   "metadata": {},
   "outputs": [
    {
     "name": "stdout",
     "output_type": "stream",
     "text": [
      "olleH\n"
     ]
    }
   ],
   "source": [
    "c = c[::-1]\n",
    "print(c)"
   ]
  },
  {
   "cell_type": "markdown",
   "metadata": {},
   "source": [
    "***\n",
    "c = c[::-1] 에서\n",
    "\n",
    "slicing 은 다음과 같은 원리로 작동된다.\n",
    "\n",
    "c = \"hello\"라고 가정하면\n",
    "\n",
    "c = c[start:stop:step]으로 구성되는데\n",
    "\n",
    "start는 시작하는 인덱스번호, stop은 멈추는 크기(크기-1번째 인덱스까지 출력), step은 몇칸씩 갈지, 혹은 뒤에서 갈지 등을 결정한다\n",
    "\n",
    "그렇기에 [::-1]은 처음부터 끝까지 뒤에서부터 출력이다.\n",
    "***"
   ]
  },
  {
   "cell_type": "markdown",
   "metadata": {},
   "source": [
    "### 문제4) s=\"python\"에 대해 다음 문제를 풀어보시오.\n",
    "#### A. s[0], s[0][0], s[0][0][0]은 각각 어떤 값이 나오는지 확인하고 그 이유를 나름대로 설명해 보시오.\n",
    "#### B. s[-100], s[100]은 값이 나오는지 에러가 나오는지 확인하고 그 결과에 대한 이유를 나름대로 설명해 보시오.\n",
    "#### C. s[-100, 100]은 값이 나오는지 에러가 나오는지 확인하고 그 결과에 대한 이유를 나름대로 설명해 보시오.\n",
    "#### D. s[1:-1]의 결과를 확인하고 그 결과에 대한 이유를 정확하게 설명하시오.\n",
    "#### E. s[3:-3]의 결과를 확인하고 그 결과에 대한 이유를 정확하게 설명하시오."
   ]
  },
  {
   "cell_type": "code",
   "execution_count": 7,
   "metadata": {},
   "outputs": [],
   "source": [
    "s = \"Python\""
   ]
  },
  {
   "cell_type": "code",
   "execution_count": 8,
   "metadata": {},
   "outputs": [
    {
     "name": "stdout",
     "output_type": "stream",
     "text": [
      "P\n",
      "P\n",
      "P\n"
     ]
    }
   ],
   "source": [
    "#A. s[0], s[0][0], s[0][0][0]은 각각 어떤 값이 나오는지 확인하고 그 이유를 나름대로 설명해 보시오.\n",
    "print(s[0])\n",
    "print(s[0][0])\n",
    "print(s[0][0][0])"
   ]
  },
  {
   "cell_type": "markdown",
   "metadata": {},
   "source": [
    "***\n",
    "첫번째 print(s[0])는 문자열의 0번 인덱스를 호출 하는 것이기에 p가 나왔고\n",
    "\n",
    "두번째 print(s[0][0])는 이차원 배열로 0번 문자열의 0번 인덱스를 호출하는 것으로 보인다.\n",
    "\n",
    "마지막 print(s[0][0][0]) 또한 삼차원 배열로 보이며 p가 출력된다.\n",
    "***"
   ]
  },
  {
   "cell_type": "code",
   "execution_count": 9,
   "metadata": {},
   "outputs": [
    {
     "ename": "IndexError",
     "evalue": "string index out of range",
     "output_type": "error",
     "traceback": [
      "\u001b[1;31m---------------------------------------------------------------------------\u001b[0m",
      "\u001b[1;31mIndexError\u001b[0m                                Traceback (most recent call last)",
      "\u001b[1;32m<ipython-input-9-15ce292d109a>\u001b[0m in \u001b[0;36m<module>\u001b[1;34m()\u001b[0m\n\u001b[0;32m      1\u001b[0m \u001b[1;31m#B. s[-100], s[100]은 값이 나오는지 에러가 나오는지 확인하고 그 결과에 대한 이유를 나름대로 설명해 보시오.\u001b[0m\u001b[1;33m\u001b[0m\u001b[1;33m\u001b[0m\u001b[0m\n\u001b[1;32m----> 2\u001b[1;33m \u001b[0mprint\u001b[0m\u001b[1;33m(\u001b[0m\u001b[0ms\u001b[0m\u001b[1;33m[\u001b[0m\u001b[1;33m-\u001b[0m\u001b[1;36m100\u001b[0m\u001b[1;33m]\u001b[0m\u001b[1;33m)\u001b[0m\u001b[1;33m\u001b[0m\u001b[0m\n\u001b[0m\u001b[0;32m      3\u001b[0m \u001b[0mprint\u001b[0m\u001b[1;33m(\u001b[0m\u001b[0ms\u001b[0m\u001b[1;33m[\u001b[0m\u001b[1;36m100\u001b[0m\u001b[1;33m]\u001b[0m\u001b[1;33m)\u001b[0m\u001b[1;33m\u001b[0m\u001b[0m\n",
      "\u001b[1;31mIndexError\u001b[0m: string index out of range"
     ]
    }
   ],
   "source": [
    "#B. s[-100], s[100]은 값이 나오는지 에러가 나오는지 확인하고 그 결과에 대한 이유를 나름대로 설명해 보시오.\n",
    "print(s[-100])\n",
    "print(s[100])"
   ]
  },
  {
   "cell_type": "markdown",
   "metadata": {},
   "source": [
    "***\n",
    "s[-100]와 s[100]는 문자열의 범위 밖에 존재하기에 존재하지 않기에 에러가 발생한 것으로 추측된다.\n",
    "***"
   ]
  },
  {
   "cell_type": "code",
   "execution_count": 10,
   "metadata": {
    "scrolled": true
   },
   "outputs": [
    {
     "ename": "TypeError",
     "evalue": "string indices must be integers",
     "output_type": "error",
     "traceback": [
      "\u001b[1;31m---------------------------------------------------------------------------\u001b[0m",
      "\u001b[1;31mTypeError\u001b[0m                                 Traceback (most recent call last)",
      "\u001b[1;32m<ipython-input-10-3d45bd2db557>\u001b[0m in \u001b[0;36m<module>\u001b[1;34m()\u001b[0m\n\u001b[0;32m      1\u001b[0m \u001b[1;31m#C. s[-100, 100]은 값이 나오는지 에러가 나오는지 확인하고 그 결과에 대한 이유를 나름대로 설명해 보시오.\u001b[0m\u001b[1;33m\u001b[0m\u001b[1;33m\u001b[0m\u001b[0m\n\u001b[1;32m----> 2\u001b[1;33m \u001b[0mprint\u001b[0m\u001b[1;33m(\u001b[0m\u001b[0ms\u001b[0m\u001b[1;33m[\u001b[0m\u001b[1;33m-\u001b[0m\u001b[1;36m100\u001b[0m\u001b[1;33m,\u001b[0m\u001b[1;36m100\u001b[0m\u001b[1;33m]\u001b[0m\u001b[1;33m)\u001b[0m\u001b[1;33m\u001b[0m\u001b[0m\n\u001b[0m",
      "\u001b[1;31mTypeError\u001b[0m: string indices must be integers"
     ]
    }
   ],
   "source": [
    "#C. s[-100, 100]은 값이 나오는지 에러가 나오는지 확인하고 그 결과에 대한 이유를 나름대로 설명해 보시오.\n",
    "print(s[-100,100])"
   ]
  },
  {
   "cell_type": "markdown",
   "metadata": {},
   "source": [
    "***\n",
    "슬라이싱에 print(s[-100,100])는 존재하지 않는 문법이기에 print(s[-100:100])을 사용하려던 것으로 추측된다.\n",
    "\n",
    "만약 print(s[-100:100]) 사용했다면 문자열의 인덱스 범위를 초과하기에 모든 문자열이 출력된다.\n",
    "***"
   ]
  },
  {
   "cell_type": "code",
   "execution_count": 11,
   "metadata": {},
   "outputs": [
    {
     "name": "stdout",
     "output_type": "stream",
     "text": [
      "ytho\n"
     ]
    }
   ],
   "source": [
    "#D. s[1:-1]의 결과를 확인하고 그 결과에 대한 이유를 정확하게 설명하시오.\n",
    "print(s[1:-1])"
   ]
  },
  {
   "cell_type": "markdown",
   "metadata": {},
   "source": [
    "***\n",
    "print(s[1:-1])에서 start는 1번 인덱스이고 stop은 -1, 뒤에서 첫번째 인덱스로 5이다. 그렇기에 1이상 5미만인 범위의 인덱스가 출력된다.\n",
    "\n",
    "그렇기에 y이상 n미만의 범위들에 존재하는 문자열인 ytho이 출력된다.\n",
    "***"
   ]
  },
  {
   "cell_type": "code",
   "execution_count": 12,
   "metadata": {},
   "outputs": [
    {
     "name": "stdout",
     "output_type": "stream",
     "text": [
      "\n"
     ]
    }
   ],
   "source": [
    "#E. s[3:-3]의 결과를 확인하고 그 결과에 대한 이유를 정확하게 설명하시오.\n",
    "print(s[3:-3])"
   ]
  },
  {
   "cell_type": "markdown",
   "metadata": {},
   "source": [
    "***\n",
    "print(s[3:-3])에서 start는 3이기에 3번 인덱스이고 stop은 -3, 뒤에서부터 3번째 인덱스는 3번이다.\n",
    "\n",
    "start이상 stop미만이기에 3이상 3미만인 범위는 존재하지 않는다. 그렇기에 아무것도 출력되지 않는다.\n",
    "***"
   ]
  },
  {
   "cell_type": "markdown",
   "metadata": {},
   "source": [
    "### 문제5) for문을 활용하여 1부터 100사이의 홀수를 출력하시오."
   ]
  },
  {
   "cell_type": "code",
   "execution_count": 13,
   "metadata": {},
   "outputs": [
    {
     "name": "stdout",
     "output_type": "stream",
     "text": [
      "1\n",
      "3\n",
      "5\n",
      "7\n",
      "9\n",
      "11\n",
      "13\n",
      "15\n",
      "17\n",
      "19\n",
      "21\n",
      "23\n",
      "25\n",
      "27\n",
      "29\n",
      "31\n",
      "33\n",
      "35\n",
      "37\n",
      "39\n",
      "41\n",
      "43\n",
      "45\n",
      "47\n",
      "49\n",
      "51\n",
      "53\n",
      "55\n",
      "57\n",
      "59\n",
      "61\n",
      "63\n",
      "65\n",
      "67\n",
      "69\n",
      "71\n",
      "73\n",
      "75\n",
      "77\n",
      "79\n",
      "81\n",
      "83\n",
      "85\n",
      "87\n",
      "89\n",
      "91\n",
      "93\n",
      "95\n",
      "97\n",
      "99\n"
     ]
    }
   ],
   "source": [
    "for i in range(1,101):\n",
    "    if i%2 != 0 :\n",
    "        print(i)"
   ]
  },
  {
   "cell_type": "markdown",
   "metadata": {},
   "source": [
    "***\n",
    "for i in range(1,101):\n",
    "    if i%2 != 0 :\n",
    "        print(i)\n",
    "        \n",
    "를 분석하면 for i in range(1,101): 는 1부터 101미만의 수를 i에 대입한다.\n",
    "\n",
    "그리고 if문은 i%2!=0, 즉 i를 2로 나눈 나머지가 0이 아닐 경우(짝수가 아닐 경우) i를 출력한다.\n",
    "***"
   ]
  },
  {
   "cell_type": "markdown",
   "metadata": {},
   "source": [
    "### 문제6) while문을 활용하여 1부터 100사이의 짝수의 합을 계산하여 출력하시오."
   ]
  },
  {
   "cell_type": "code",
   "execution_count": 14,
   "metadata": {},
   "outputs": [
    {
     "name": "stdout",
     "output_type": "stream",
     "text": [
      "2550\n"
     ]
    }
   ],
   "source": [
    "result = 0\n",
    "i = 1\n",
    "while i <= 100 :\n",
    "    if i%2==0:\n",
    "        result += i\n",
    "    i += 1\n",
    "print(result)"
   ]
  },
  {
   "cell_type": "markdown",
   "metadata": {},
   "source": [
    "***\n",
    "정수형 변수 result를 0으로 초기화하며 선언하고\n",
    "\n",
    "while(1 <= 100 )을 통해서 1부터 100까지의 수를 모두 i에 대입하고 i%2=0, i가 짝수 일 경우 result에 더한 후 result를 출력한다.\n",
    "***"
   ]
  },
  {
   "cell_type": "markdown",
   "metadata": {},
   "source": [
    "### 문제7) 사용자로 부터 임의의 정수를 입력받고, 해당 숫자를 역순으로 출력하는 프로그램을 작성하시오.\n",
    "\n",
    "#### [실행 예]\n",
    "\n",
    "####  정수를 입력하세요: 3125\n",
    "####  숫자 역순은 5213 입니다."
   ]
  },
  {
   "cell_type": "code",
   "execution_count": 15,
   "metadata": {},
   "outputs": [
    {
     "name": "stdout",
     "output_type": "stream",
     "text": [
      "3125\n",
      "5213\n"
     ]
    }
   ],
   "source": [
    "x =  input()\n",
    "print(x[::-1])"
   ]
  },
  {
   "cell_type": "markdown",
   "metadata": {},
   "source": [
    "***\n",
    "우선 사용자로부터 정수를 x에 입력받고, sliicing을 사용하여 처음부터 끝까지의 범위의 수들을 역순으로 출력한다.\n",
    "\n",
    "x는 문자열을 출력해도 문제가 없기에 형변환을 하지 않아도 된다.\n",
    "***"
   ]
  },
  {
   "cell_type": "markdown",
   "metadata": {},
   "source": [
    "### 문제8) 사용자로 부터 정수를 입력받아서 1부터 그 사이에 존재하는 소수 (Prime number)를 출력하는 파이썬 프로그램을 작성하시오."
   ]
  },
  {
   "cell_type": "code",
   "execution_count": 16,
   "metadata": {},
   "outputs": [
    {
     "name": "stdout",
     "output_type": "stream",
     "text": [
      "100\n",
      "2\n",
      "3\n",
      "5\n",
      "7\n",
      "11\n",
      "13\n",
      "17\n",
      "19\n",
      "23\n",
      "29\n",
      "31\n",
      "37\n",
      "41\n",
      "43\n",
      "47\n",
      "53\n",
      "59\n",
      "61\n",
      "67\n",
      "71\n",
      "73\n",
      "79\n",
      "83\n",
      "89\n",
      "97\n"
     ]
    }
   ],
   "source": [
    "x = int(input())\n",
    "for i in range(2,x):\n",
    "    cnt = 0\n",
    "    for j in range(1,i):\n",
    "        if i%j==0:\n",
    "            cnt += 1\n",
    "        if (j==i-1) and (cnt == 1):\n",
    "            print(i)"
   ]
  },
  {
   "cell_type": "markdown",
   "metadata": {},
   "source": [
    "***\n",
    "1부터 입력 받은 정수 사이기에 첫번째 for문 i의 범위는 2 이상 x 미만이 된다.\n",
    "\n",
    "그리고 첫번째 for문의 수를 나누는 두번째 for문 j의 범위는 1부터 i까지가 된다.\n",
    "\n",
    "i를 j로 나눈 나머지가 0일 때 cnt가 오르게 설정하면\n",
    "\n",
    "그리고 j가 i-1번째 항까지 cnt가 1이라는 것은 i의 약수는 1과 자기자신뿐이라는 뜻이 된다.\n",
    "\n",
    "그렇기에 i는 소수기에 i를 출력한다.\n",
    "***"
   ]
  },
  {
   "cell_type": "markdown",
   "metadata": {},
   "source": [
    "### 문제9) [ACM-ICPC 문제 2441번] 별찍기-4"
   ]
  },
  {
   "cell_type": "code",
   "execution_count": 17,
   "metadata": {},
   "outputs": [
    {
     "name": "stdout",
     "output_type": "stream",
     "text": [
      "10\n",
      "**********\n",
      " *********\n",
      "  ********\n",
      "   *******\n",
      "    ******\n",
      "     *****\n",
      "      ****\n",
      "       ***\n",
      "        **\n",
      "         *\n"
     ]
    }
   ],
   "source": [
    "n = int(input())\n",
    "k = n\n",
    "while k>0:\n",
    "    for i in range (0,n-k):\n",
    "        print(' ',end='')\n",
    "    for i in range (0,k):\n",
    "        print('*',end='')   \n",
    "    print('\\n',end='')\n",
    "    k -= 1"
   ]
  },
  {
   "cell_type": "markdown",
   "metadata": {},
   "source": [
    "***\n",
    "![!](https://t1.daumcdn.net/cfile/tistory/99953D3E5BAFBB5808)\n",
    "우선 사용자로부터 정수 n을 입력 받고 변수 k에 n값을 저장한다\n",
    "\n",
    "while문과 이중 for문을 사용하고\n",
    "\n",
    "n-k를 띄어쓰기 수, k를 출력할 별의 수로 한 뒤, 각각 띄어쓰기와 별을 출력한다.\n",
    "\n",
    "여기에서 print(내용,end='')를 하여서 파이썬3에서 print함수 호출 후 자동으로 개행되는것을 없애고 c에서의 printf처럼 사용한다.\n",
    "\n",
    "그리고 한줄이 끝나면 개행문자 '\\n'를 출력하여 문제가 요구하는 출력형식을 완성한다.\n",
    "***"
   ]
  },
  {
   "cell_type": "markdown",
   "metadata": {},
   "source": [
    "### 문제10) [ACM-ICPC 문제 11721번] 열 개씩 끊어 출력하기"
   ]
  },
  {
   "cell_type": "code",
   "execution_count": 18,
   "metadata": {},
   "outputs": [
    {
     "name": "stdout",
     "output_type": "stream",
     "text": [
      "0123456789012345678901234567890123456789012345678901234567890123456789\n",
      "0123456789\n",
      "0123456789\n",
      "0123456789\n",
      "0123456789\n",
      "0123456789\n",
      "0123456789\n",
      "0123456789\n"
     ]
    }
   ],
   "source": [
    "s = input()\n",
    "while s != '':\n",
    "    print(s[0:10],end = '\\n')\n",
    "    s = s[10:]"
   ]
  },
  {
   "cell_type": "markdown",
   "metadata": {},
   "source": [
    "***\n",
    "![!](https://t1.daumcdn.net/cfile/tistory/9996F03E5BAFBB5808)\n",
    "\n",
    "주어지는 단어는 소문자와 대문자로만 이루어져 있다. 그렇기에 띄어쓰기나 개행문자등의 예외처리를 할 필요없이 문자들을\n",
    "\n",
    "10개씩 끊어서 출력하다가 더 이상 출력할 문자가 없으면 while문을 탈출하고 프로그램이 종료된다.\n",
    "***"
   ]
  },
  {
   "cell_type": "markdown",
   "metadata": {},
   "source": [
    "### 문제11) [ACM-ICPC 문제 2839번] 설탕배달"
   ]
  },
  {
   "cell_type": "code",
   "execution_count": 19,
   "metadata": {},
   "outputs": [
    {
     "name": "stdout",
     "output_type": "stream",
     "text": [
      "17\n",
      "5\n"
     ]
    }
   ],
   "source": [
    "t = 0 # 3의 개수\n",
    "f = 0 # 5의 개수 \n",
    "\n",
    "n = int(input())\n",
    "sugar = n\n",
    "\n",
    "for f in range (0,int(n/5)+1):\n",
    "    for t in range (0,int(n/3)+1):\n",
    "        if ((t*3) + (f*5)) == n:\n",
    "            if (t+f) < sugar:\n",
    "                sugar = t+f\n",
    "if sugar != n:\n",
    "    print(sugar)\n",
    "else:\n",
    "    print(\"-1\")"
   ]
  },
  {
   "cell_type": "markdown",
   "metadata": {},
   "source": [
    "***\n",
    "![!](https://t1.daumcdn.net/cfile/tistory/9996E73E5BAFBB5808)\n",
    "t와f를 각각 3과 5의 개수로 두고 사용자로부터 설탕의 그램 수를 입력 받는다. 그리고 그 그램 수를 sugar라는 변수에 저장한다.\n",
    "\n",
    "그리고 3t+5f가 n가 같을 경우 sugar에 저장된 수와 비교해서 작을 경우에 sugar에 t+f값을 저장해서 설탕배달에 필요한 최소 포대 수를 구한다.\n",
    "\n",
    "그리고 3t+5f가 n가 같은 경우가 아예 없을 경우 sugar는 n과 같기에 그럴 경우에는 -1을 출력한다.\n",
    "***"
   ]
  }
 ],
 "metadata": {
  "kernelspec": {
   "display_name": "Python 3",
   "language": "python",
   "name": "python3"
  },
  "language_info": {
   "codemirror_mode": {
    "name": "ipython",
    "version": 3
   },
   "file_extension": ".py",
   "mimetype": "text/x-python",
   "name": "python",
   "nbconvert_exporter": "python",
   "pygments_lexer": "ipython3",
   "version": "3.6.5"
  }
 },
 "nbformat": 4,
 "nbformat_minor": 2
}
