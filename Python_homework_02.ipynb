{
 "cells": [
  {
   "cell_type": "markdown",
   "metadata": {},
   "source": [
    "### 문제 1) 다음 6 개의 Expression에 대해 Evaluation 결과 값을 출력하고, 해당 결과가 나온 이유에 대해 설명하시오"
   ]
  },
  {
   "cell_type": "code",
   "execution_count": 1,
   "metadata": {},
   "outputs": [
    {
     "name": "stdout",
     "output_type": "stream",
     "text": [
      "4\n"
     ]
    }
   ],
   "source": [
    "print(1 and 2 and 3 and 4)"
   ]
  },
  {
   "cell_type": "markdown",
   "metadata": {},
   "source": [
    "***\n",
    "논리 연산은 최종적으로 평가된 값을 출력하기에 and는 참이 나오면 계속 평가하기에 1,2,3가 참값을 가져서 4가 마지막으로 평가된다.\n",
    "\n",
    "그렇기에 4가 출력된다\n",
    "***"
   ]
  },
  {
   "cell_type": "code",
   "execution_count": 2,
   "metadata": {
    "scrolled": false
   },
   "outputs": [
    {
     "name": "stdout",
     "output_type": "stream",
     "text": [
      "1\n"
     ]
    }
   ],
   "source": [
    "print(1 or 2 or 3 or 4)"
   ]
  },
  {
   "cell_type": "markdown",
   "metadata": {},
   "source": [
    "***\n",
    "or 연산의 경우는 참값이 나오면 평가를 멈춘다. 그렇기에 1이 출력된다.\n",
    "***"
   ]
  },
  {
   "cell_type": "code",
   "execution_count": 3,
   "metadata": {
    "scrolled": true
   },
   "outputs": [
    {
     "name": "stdout",
     "output_type": "stream",
     "text": [
      "2\n"
     ]
    }
   ],
   "source": [
    "print(1 and 2 or 3 and 4)"
   ]
  },
  {
   "cell_type": "markdown",
   "metadata": {},
   "source": [
    "***\n",
    "논리연산자들끼리의 우선 순위는 not, and, or 순이다.\n",
    "\n",
    "그렇기에 1 and 2의 결과가 True 여서 True or 3 and 4 에서 or 뒤의 값은 중요하지 않기에 2를 마지막으로 평가가 끝난다.\n",
    "***"
   ]
  },
  {
   "cell_type": "code",
   "execution_count": 4,
   "metadata": {},
   "outputs": [
    {
     "name": "stdout",
     "output_type": "stream",
     "text": [
      "2\n"
     ]
    }
   ],
   "source": [
    "print( (1 and 2) or (3 and 4) )"
   ]
  },
  {
   "cell_type": "markdown",
   "metadata": {},
   "source": [
    "***\n",
    "1 and 2가 True 이므로 True or (3 and 4 ) 는 or의 뒤에 값은 평가할 필요가 없다. 그렇기에 2가 출력된다.\n",
    "***"
   ]
  },
  {
   "cell_type": "code",
   "execution_count": 5,
   "metadata": {},
   "outputs": [
    {
     "name": "stdout",
     "output_type": "stream",
     "text": [
      "1\n"
     ]
    }
   ],
   "source": [
    "print(1 or 2 and 3 or 4)"
   ]
  },
  {
   "cell_type": "markdown",
   "metadata": {},
   "source": [
    "***\n",
    "우선 2 and 3을 평가한 뒤에 1 or True or 4 가 된다. 거기서 1이 참이므로 뒤에 값은 평가할 필요가 없기에\n",
    "\n",
    "1이 마지막으로 평가한 값이 되어 출력된다.\n",
    "***"
   ]
  },
  {
   "cell_type": "code",
   "execution_count": 6,
   "metadata": {},
   "outputs": [
    {
     "name": "stdout",
     "output_type": "stream",
     "text": [
      "3\n"
     ]
    }
   ],
   "source": [
    "print( (1 or 2) and (3 or 4) )"
   ]
  },
  {
   "cell_type": "markdown",
   "metadata": {},
   "source": [
    "***\n",
    "우선순위에 따라서 1 or 2가 연산되어 True가 나오고 3 or 4 에서는 3이 True 이므로 4는 평가되지 않는다.\n",
    "\n",
    "그리고 True and True는 평가할 값이 없기에 3이 마지막으로 평가한 값이 된다. 그러므로 3이 출력된다.\n",
    "***"
   ]
  },
  {
   "cell_type": "markdown",
   "metadata": {},
   "source": [
    "### 문제2) 경로에 해당하는 문자열 1개를 입력 받아 그 안에 디렉토리 경로명과 파일명을 분리하여 리스트로 반환하는 함수 div_path(s)를 작성하시오."
   ]
  },
  {
   "cell_type": "code",
   "execution_count": 7,
   "metadata": {
    "scrolled": false
   },
   "outputs": [
    {
     "name": "stdout",
     "output_type": "stream",
     "text": [
      "'/usr/local/bin/python'\n",
      "['/usr/local/bin', 'python']\n"
     ]
    }
   ],
   "source": [
    "def div_path(s):\n",
    "    result = []\n",
    "    l = s.split('/')\n",
    "    \n",
    "    s = l[-1] # 파일명' 추출\n",
    "    s = s[:-1] #  ' 제거\n",
    "    \n",
    "    l = l[:-1] # 경로에서 파일명 제거\n",
    "    \n",
    "    j = '/'\n",
    "    l = j.join(l) # 리스트 l의 원소 사이에 /을 삽입해서 문자열로 변경\n",
    "    l = l[1:] # 맨 앞의 '제거\n",
    "    \n",
    "    result.append(l)\n",
    "    result.append(s)\n",
    "    \n",
    "    return result\n",
    "\n",
    "s = input()\n",
    "print(div_path(s))"
   ]
  },
  {
   "cell_type": "markdown",
   "metadata": {},
   "source": [
    "***\n",
    "우선 사용자로부터 문자열 s에 경로를 입력받고, 그 문자열을 /를 기준으로 분리하여 리스트 l에 저장한다.\n",
    "\n",
    "그리고 l의 마지막 원소가 파일명이므로 그것을 문자열s에 저장하고 슬라이싱으로 '를 제거한다.\n",
    "\n",
    "그리고 슬라이싱으로 l의 마지막 원소인 파일명을 제거하고 리스트 join을 쓰기위해서 j ='/'를 한다.\n",
    "\n",
    "그리고 l = j.join(l)을 하면 l의 원소들이 /가 붙은 채 문자열이 된다. 그리고 맨 앞의 문자가 '이므로 슬라이싱을 그것으로 없앤다.\n",
    "\n",
    "그리고 result에 append로 l과 s를 차례차례 더하면 경로명과 파일명을 분리해서 가진 result 리스트가 반환된다.\n",
    "\n",
    "그리고 그것을 print함수를 이용해서 출력해서 확인했다.\n",
    "***"
   ]
  },
  {
   "cell_type": "markdown",
   "metadata": {},
   "source": [
    "### 문제3) 두 개의 리스트를 인자로 받아서 그 두 개의 리스트에 대한 '합집합'을 반환하는 함수 list_union(lista, listb)를 작성하시오."
   ]
  },
  {
   "cell_type": "code",
   "execution_count": 8,
   "metadata": {},
   "outputs": [
    {
     "name": "stdout",
     "output_type": "stream",
     "text": [
      "[0, 1, 2, 4, 5, 8]\n",
      "[1, 2, 3, 4]\n",
      "[-10, -5, -1, 0, 9, 100]\n",
      "[0, 1, 2]\n"
     ]
    }
   ],
   "source": [
    "def list_union(lista, listb):\n",
    "    listx = []\n",
    "    for i in lista:\n",
    "        if((i in listx) != True):\n",
    "            listx.append(i)\n",
    "    for i in listb:\n",
    "        if((i in listx) != True):\n",
    "            listx.append(i)\n",
    "            \n",
    "    listx.sort()\n",
    "    return listx\n",
    "    \n",
    "lista = [0, 5, 8]\n",
    "listb = [1, 2, 4]\n",
    "print(list_union(lista, listb))\n",
    "print(list_union([1, 2, 3], [1, 2, 4]))\n",
    "print(list_union([-10, -5, 0, -1], [100, 9, 0, 9]))\n",
    "print(list_union([0, 1, 2], [0, 1, 2]))"
   ]
  },
  {
   "cell_type": "markdown",
   "metadata": {},
   "source": [
    "***\n",
    "우선 코드를 분석해보면 빈 리스트 listx를 만들고, for i in listb: 를 사용해서 i가 lista의 모든 원소들을 한번씩 가지게 했다.\n",
    "\n",
    "그리고 if((i in listx) != True): 에서 listb의 현재 값이 listx에 없을 경우에는 lista에 추가했다.\n",
    "\n",
    "listb도 마찬가지로 진행하면 중복된 요소는 없기에 sort를 사용해서 순서대로 정렬하고 반환한다.\n",
    "***"
   ]
  },
  {
   "cell_type": "markdown",
   "metadata": {},
   "source": [
    "### 문제4) [ACM-ICPC 문제 10809번] 알파벳 찾기"
   ]
  },
  {
   "cell_type": "code",
   "execution_count": 9,
   "metadata": {},
   "outputs": [
    {
     "name": "stdout",
     "output_type": "stream",
     "text": [
      "baekjoon\n",
      "1\n",
      "0\n",
      "-1\n",
      "-1\n",
      "2\n",
      "-1\n",
      "-1\n",
      "-1\n",
      "-1\n",
      "4\n",
      "3\n",
      "-1\n",
      "-1\n",
      "7\n",
      "5\n",
      "-1\n",
      "-1\n",
      "-1\n",
      "-1\n",
      "-1\n",
      "-1\n",
      "-1\n",
      "-1\n",
      "-1\n",
      "-1\n",
      "-1\n"
     ]
    }
   ],
   "source": [
    "s = input()\n",
    "alphabet = [-1] * 26\n",
    "for i in range(0,27):\n",
    "    c = chr(97+i)\n",
    "    if(c in s):\n",
    "        alphabet[i] = s.index(c)\n",
    "for i in alphabet:\n",
    "    print(i)"
   ]
  },
  {
   "cell_type": "markdown",
   "metadata": {},
   "source": [
    "***\n",
    "사용자로부터 단어 s를 입력 받고 alphabet를 모든 요소가 -1이고 크기가 26인 리스트로 초기화한다.\n",
    "\n",
    "그리고 i를 0부터 26까지 저장하고 c의 값을 chr(97+i)로 하여 아스키코드를 이용하여 소문자 a 부터 z까지를 단어 s에서 검색할 수 있다.\n",
    "\n",
    "그리고 index() 함수를 써서 해당 알파벳이 처음 나오는 위치를 alphabet 리스트에 저장한고 나오지 않을 경우에는 넘어가서 -1이\n",
    "\n",
    "그대로 남아 있게된다. 그리고 출력을 하게 되면 알파벳의 첫 위치가 출력된다.\n",
    "\n",
    "![!](https://t1.daumcdn.net/cfile/tistory/9996C43F5BC8C3B701)\n",
    "***"
   ]
  },
  {
   "cell_type": "markdown",
   "metadata": {},
   "source": [
    "### 문제5) [ACM-ICPC 문제 2675번] 문자열 반복"
   ]
  },
  {
   "cell_type": "code",
   "execution_count": 10,
   "metadata": {},
   "outputs": [
    {
     "name": "stdout",
     "output_type": "stream",
     "text": [
      "3\n",
      "2 abc\n",
      "aabbcc\n",
      "7 korea\n",
      "kkkkkkkooooooorrrrrrreeeeeeeaaaaaaa\n",
      "2 china\n",
      "cchhiinnaa\n"
     ]
    }
   ],
   "source": [
    "T = int(input())\n",
    "P = \"\"\n",
    "while (T > 0):\n",
    "    R, S =input().split()\n",
    "    for i in S:\n",
    "        P = P + i*int(R)\n",
    "    print(P)\n",
    "    P = \"\"\n",
    "    T = T - 1"
   ]
  },
  {
   "cell_type": "markdown",
   "metadata": {},
   "source": [
    "***\n",
    "테스트 케이스 T를 입력 받고 T를 이용하여 while문을 돌린다. while문 에서는 반복할 횟수 R과 반복될 문자열 S를\n",
    "\n",
    "intput().split()함수를 이용해서 받는다. 해당 함수는 공백을 기준으로 여러 입력을 동시에 받기에 실행시간을 줄여준다.\n",
    "\n",
    "그리고 for문을 써서 S의 모든 문자들을 R번씩 곱한 값을 P에 저장하고 P를 출력한 뒤에 다음 테스트 케이스로 넘어가기 위해서\n",
    "\n",
    "P값을 \"\"로 해준뒤 T를 감소 시키면 프로그램이 완성된다.\n",
    "![!](https://t1.daumcdn.net/cfile/tistory/9997293F5BC8C3B701)\n",
    "***"
   ]
  },
  {
   "cell_type": "markdown",
   "metadata": {},
   "source": [
    "### 문제6) Incremental Project 문제 \n",
    "#### 1) 웹 URL로 지정된 웹페이지를 문자열로 가져와\n",
    "#### 2) 모든 HTML 태그를 제외한 순수 텍스트 문자열만을 걸러내고,\n",
    "#### 3) 그 순수 텍스트 문자열 안에 존재하는 단어가 총 몇개인지 출력하는 프로그램을 작성하시오.\n",
    "\n",
    "HTML 태그는 다음 조건을 가지는 것이다.\n",
    "\n",
    "< 로 시작하여 >로 끝난다.\n",
    "예를 들어, 아래와 같은 HTML 내용 내에 한 줄이 있다고 가정하자.\n",
    "<label for=\"keep_signed\">로그인 유지</label>\n",
    "위 소스에서 HTML 태그를 제외한 순수 텍스트 문자열은 아래와 같다.\n",
    "로그인 유지\n",
    "한편, 아래와 같은 HTML 한 줄이 있다고 가정하자.\n",
    "<link rel=\"stylesheet\" href=\"/common/css/xe.min.css?20150910092654\" />\n",
    "위 한 줄은 HTML 태그로만 구성된 것이며 걸러낼 수 있는 순수 텍스 문자열은 존재하지 않는다.\n",
    "단어를 나누는 기준은 오로지 공백문자 (whitespace)이다.\n",
    "\n",
    "즉, 위 순수 텍스트 문자열인 \"로그인 유지\"에서 분리한 단어는 \"로그인\"과 \"유지\"이다.\n",
    "중복을 고려하지 않고 무조건 모든 단어의 개수를 세어서 출력한다.\n",
    "본 숙제를 위하여 HTML 파싱과 관련된 모듈 (예. BeautifulSoup) 사용 금지\n",
    "다음은 URL로 지정된 웹페이지를 특정 문자열로 가져오는 코드이다.\n",
    "즉, 숙제 코드는 아래 코드로 부터 시작해야 한다.\n",
    "아래 코드 수행시 requests 모듈이 존재하지 않는 에러가 발생하면 command 창에서 다음 코드 입력하여 requests 모듈 설치후 아래 코드 수행\n",
    "> pip install requests"
   ]
  },
  {
   "cell_type": "code",
   "execution_count": 11,
   "metadata": {},
   "outputs": [],
   "source": [
    "import requests\n",
    "\n",
    "req = requests.get('http://cse.koreatech.ac.kr')\n",
    "\n",
    "source = req.text"
   ]
  },
  {
   "cell_type": "code",
   "execution_count": 12,
   "metadata": {},
   "outputs": [
    {
     "name": "stdout",
     "output_type": "stream",
     "text": [
      "506\n"
     ]
    }
   ],
   "source": [
    "def puresource(source):\n",
    "    word  = \"\"\n",
    "    start = 0\n",
    "    end = 0\n",
    "    for i in source:\n",
    "        if i == '<' and start == 0:\n",
    "            start = 1\n",
    "            end = 0\n",
    "        elif i == '>' and start == 1:\n",
    "            end = 1\n",
    "            start = 0\n",
    "        elif end == 1 and start == 0:\n",
    "            word += i          \n",
    "    return word\n",
    "word = puresource(source).split()\n",
    "print(len(word))"
   ]
  },
  {
   "cell_type": "markdown",
   "metadata": {},
   "source": [
    "***\n",
    "주어진 주소의 html 코드에서 순수 텍스트 문자열만 추출하기 위해서 puresource라는 함수를 정의했다.\n",
    "\n",
    "해당 함수는 문자열 source를 매개변수로 받고 함수 내에서 word라는 문자열 변수를 만든다. 그리고 <와 >가 있는지를 확인하기 위해서\n",
    "\n",
    "'<'를 만났는지 확인하는 변수 start와 '>'를 만났는지 확인하는 변수 end를 선언했다.\n",
    "\n",
    "그리고 for in source를 사용해서 source의 모든 문자를 대입하면서 \"start == 0\" (아직 '<'기호가 나오지 않음) 상태일때\n",
    "\n",
    "'<'기호를 만나면 start는 1이되고 다음에 나오는 '>'기호를 만나기 전까지 아무 변화도 없다가 '>'기호를 만나면 end는 1, start는 0이 되어\n",
    "\n",
    "HTML 태그가 끝났음을 알려준다. 그 상태 (end == 1 and start == 0)에서 <를 만나기 전까지는 순수 텍스트 문자열이기에 문자열 word에 저장한다.\n",
    "\n",
    "그렇게 계속 저장하다가 다시 '<'기호를 만나면 if문을 반복한다. 그리고 return값으로 word를 반환하고\n",
    "\n",
    "word를 .split()를 사용해서 공백, 개행문자등으로 구분하여 리스트에 저장한다. 그렇게 되면 띄어쓰기 단위로 순수 텍스트가 분리되기에\n",
    "\n",
    "source 문자열 안에 존재하는 단어의 수를 구할 수 있다.\n",
    "\n",
    "***"
   ]
  },
  {
   "cell_type": "markdown",
   "metadata": {},
   "source": [
    "## 느낀점\n",
    "우선 대부분의 변수에 *가 적용되는 것을 보고 신기했습니다. 해당 문자를 R번 곱해볼까? 되나? 하고 해봤던 것이 실제로 가능해서 놀라웠습니다.\n",
    "\n",
    "그리고 마지막 문제인 Incremental Project 문제에서 while문도 써보고 재귀함수도 써봤는데 계속 *표시가 나서 \n",
    "\n",
    "파이썬이라는 언어가 c나 java에 비해서 메모리 관리 능력이 부족해서 다른 언어처럼 코딩을 하게 되면\n",
    "\n",
    "런타임에러가 엄청나게 발생하는 것을 느꼈습니다. 수업시간에 파이썬의 이러한 기능을 보충하기위해서 Jython등 파생 언어도 많다는 것이\n",
    "\n",
    "격렬하게 이해가 갔습니다."
   ]
  },
  {
   "cell_type": "code",
   "execution_count": null,
   "metadata": {},
   "outputs": [],
   "source": []
  }
 ],
 "metadata": {
  "kernelspec": {
   "display_name": "Python 3",
   "language": "python",
   "name": "python3"
  },
  "language_info": {
   "codemirror_mode": {
    "name": "ipython",
    "version": 3
   },
   "file_extension": ".py",
   "mimetype": "text/x-python",
   "name": "python",
   "nbconvert_exporter": "python",
   "pygments_lexer": "ipython3",
   "version": "3.6.5"
  }
 },
 "nbformat": 4,
 "nbformat_minor": 2
}
